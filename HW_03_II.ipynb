{
  "nbformat": 4,
  "nbformat_minor": 0,
  "metadata": {
    "colab": {
      "provenance": [],
      "gpuType": "T4"
    },
    "kernelspec": {
      "display_name": "Python 3",
      "name": "python3"
    },
    "language_info": {
      "codemirror_mode": {
        "name": "ipython",
        "version": 3
      },
      "file_extension": ".py",
      "mimetype": "text/x-python",
      "name": "python",
      "nbconvert_exporter": "python",
      "pygments_lexer": "ipython3",
      "version": "3.7.7"
    },
    "accelerator": "GPU"
  },
  "cells": [
    {
      "cell_type": "markdown",
      "source": [
        "1. Попробуйте улучшить работу нейронной сети (разобранную на уроке), обучавшейся на датасет Fashion-MNIST. Напишите в комментариях к уроку, какого результата вы добились от нейросети и что помогло улучшить её точность.\n",
        "2. Попробуйте найти полезные команды TensorFlow, неразобранные на уроке"
      ],
      "metadata": {
        "id": "lEqoFtjkDiyu"
      }
    },
    {
      "cell_type": "code",
      "source": [
        "!pip install -q -U keras-tuner"
      ],
      "metadata": {
        "colab": {
          "base_uri": "https://localhost:8080/"
        },
        "id": "1GvsEQ_eEk0S",
        "outputId": "76d47a68-b136-4e89-d033-e6604dc89fc9"
      },
      "execution_count": null,
      "outputs": [
        {
          "output_type": "stream",
          "name": "stdout",
          "text": [
            "\u001b[?25l     \u001b[90m━━━━━━━━━━━━━━━━━━━━━━━━━━━━━━━━━━━━━━━━\u001b[0m \u001b[32m0.0/176.1 kB\u001b[0m \u001b[31m?\u001b[0m eta \u001b[36m-:--:--\u001b[0m\r\u001b[2K     \u001b[91m━━━━━━━━━━━━━━━━━━━━━━━━━━━━━━━━━━━━━━\u001b[0m\u001b[91m╸\u001b[0m \u001b[32m174.1/176.1 kB\u001b[0m \u001b[31m6.1 MB/s\u001b[0m eta \u001b[36m0:00:01\u001b[0m\r\u001b[2K     \u001b[90m━━━━━━━━━━━━━━━━━━━━━━━━━━━━━━━━━━━━━━━\u001b[0m \u001b[32m176.1/176.1 kB\u001b[0m \u001b[31m4.6 MB/s\u001b[0m eta \u001b[36m0:00:00\u001b[0m\n",
            "\u001b[?25h"
          ]
        }
      ]
    },
    {
      "cell_type": "markdown",
      "source": [
        "План по улучшению:\n",
        " - Составить несколько моделей с разными параметрами;\n",
        " - Поискать оптимальные варианты;\n",
        " - Применить несколько разных оптимайзеров;\n",
        " - Применить callback;\n",
        " - Сделать сборку предсказаний из нескольких моделей (Идея обучить одну из моделей на обратном векторе);"
      ],
      "metadata": {
        "id": "9Csocstn8NN6"
      }
    },
    {
      "cell_type": "code",
      "source": [
        "# from __future__ import absolute_import,division, print_function, unicode_literals\n",
        "\n",
        "#TensorFlow and tf.keras\n",
        "import tensorflow as tf\n",
        "tf.random.set_seed(5)\n",
        "from tensorflow import keras\n",
        "from tensorflow.keras import callbacks\n",
        "from tensorflow.keras.utils import to_categorical, to_ordinal\n",
        "from tensorflow.keras.models import load_model\n",
        "#Helper libraries\n",
        "import numpy as np\n",
        "import matplotlib.pyplot as plt\n",
        "%matplotlib inline\n",
        "# import keras_tuner as kt\n",
        "from sklearn.metrics import confusion_matrix, precision_score, recall_score, ConfusionMatrixDisplay, accuracy_score\n",
        "\n",
        "print(tf.__version__)"
      ],
      "metadata": {
        "id": "7Kbg0P0Q_qbY",
        "colab": {
          "base_uri": "https://localhost:8080/"
        },
        "outputId": "9afcc094-b48b-497d-cd4a-9fdd75a76722"
      },
      "execution_count": 1,
      "outputs": [
        {
          "output_type": "stream",
          "name": "stdout",
          "text": [
            "2.15.0\n"
          ]
        }
      ]
    },
    {
      "cell_type": "markdown",
      "metadata": {
        "id": "yR0EdgrLCaWR"
      },
      "source": [
        "## Импортируем Fashion MNIST датасет"
      ]
    },
    {
      "cell_type": "code",
      "metadata": {
        "id": "7MqDQO0KCaWS",
        "outputId": "a4e80748-2bb0-45f0-9b51-b6dbfdc0f68d",
        "colab": {
          "base_uri": "https://localhost:8080/"
        }
      },
      "source": [
        "from keras.datasets import fashion_mnist\n",
        "\n",
        "(train_images, train_labels), (test_images, test_labels) = fashion_mnist.load_data()\n",
        "\n",
        "# Normalize.\n",
        "train_images = (train_images / 255)\n",
        "test_images = (test_images / 255)\n",
        "\n",
        "# Flatten.\n",
        "# train_images = train_images.reshape((-1, 784)) # можно использовать np.ravel()\n",
        "# test_images = test_images.reshape((-1, 784))"
      ],
      "execution_count": 2,
      "outputs": [
        {
          "output_type": "stream",
          "name": "stdout",
          "text": [
            "Downloading data from https://storage.googleapis.com/tensorflow/tf-keras-datasets/train-labels-idx1-ubyte.gz\n",
            "29515/29515 [==============================] - 0s 0us/step\n",
            "Downloading data from https://storage.googleapis.com/tensorflow/tf-keras-datasets/train-images-idx3-ubyte.gz\n",
            "26421880/26421880 [==============================] - 1s 0us/step\n",
            "Downloading data from https://storage.googleapis.com/tensorflow/tf-keras-datasets/t10k-labels-idx1-ubyte.gz\n",
            "5148/5148 [==============================] - 0s 0us/step\n",
            "Downloading data from https://storage.googleapis.com/tensorflow/tf-keras-datasets/t10k-images-idx3-ubyte.gz\n",
            "4422102/4422102 [==============================] - 0s 0us/step\n"
          ]
        }
      ]
    },
    {
      "cell_type": "code",
      "source": [
        "plt.figure(figsize=(6,3))\n",
        "plt.subplot(1,2,1)\n",
        "plt.imshow(train_images[0], cmap='gray')\n",
        "plt.subplot(1,2,2)\n",
        "plt.imshow(train_images[1], cmap='gray')"
      ],
      "metadata": {
        "colab": {
          "base_uri": "https://localhost:8080/",
          "height": 290
        },
        "id": "Ov0xQn3iCSZm",
        "outputId": "1e850c41-d3a6-43c2-f795-eb265644e51c"
      },
      "execution_count": 3,
      "outputs": [
        {
          "output_type": "execute_result",
          "data": {
            "text/plain": [
              "<matplotlib.image.AxesImage at 0x7b9f0c85d630>"
            ]
          },
          "metadata": {},
          "execution_count": 3
        },
        {
          "output_type": "display_data",
          "data": {
            "text/plain": [
              "<Figure size 600x300 with 2 Axes>"
            ],
            "image/png": "[encoded data removed]"
          },
          "metadata": {}
        }
      ]
    },
    {
      "cell_type": "markdown",
      "metadata": {
        "id": "t9FDsUlxCaWW"
      },
      "source": [
        "Датасет содержит следующие классы:\n",
        "\n",
        "<table>\n",
        "  <tr>\n",
        "    <th>Label</th>\n",
        "    <th>Class</th>\n",
        "  </tr>\n",
        "  <tr>\n",
        "    <td>0</td>\n",
        "    <td>T-shirt/top</td>\n",
        "  </tr>\n",
        "  <tr>\n",
        "    <td>1</td>\n",
        "    <td>Trouser</td>\n",
        "  </tr>\n",
        "    <tr>\n",
        "    <td>2</td>\n",
        "    <td>Pullover</td>\n",
        "  </tr>\n",
        "    <tr>\n",
        "    <td>3</td>\n",
        "    <td>Dress</td>\n",
        "  </tr>\n",
        "    <tr>\n",
        "    <td>4</td>\n",
        "    <td>Coat</td>\n",
        "  </tr>\n",
        "    <tr>\n",
        "    <td>5</td>\n",
        "    <td>Sandal</td>\n",
        "  </tr>\n",
        "    <tr>\n",
        "    <td>6</td>\n",
        "    <td>Shirt</td>\n",
        "  </tr>\n",
        "    <tr>\n",
        "    <td>7</td>\n",
        "    <td>Sneaker</td>\n",
        "  </tr>\n",
        "    <tr>\n",
        "    <td>8</td>\n",
        "    <td>Bag</td>\n",
        "  </tr>\n",
        "    <tr>\n",
        "    <td>9</td>\n",
        "    <td>Ankle boot</td>\n",
        "  </tr>\n",
        "</table>\n",
        "\n",
        "Каждому классу обозначенному цифрой мы можем присвоить текстовое значение -"
      ]
    },
    {
      "cell_type": "code",
      "metadata": {
        "id": "IjnLH5S2CaWx"
      },
      "source": [
        "class_names = ['T-shirt/top', 'Trouser', 'Pullover', 'Dress', 'Coat',\n",
        "               'Sandal', 'Shirt', 'Sneaker', 'Bag', 'Ankle boot']"
      ],
      "execution_count": 4,
      "outputs": []
    },
    {
      "cell_type": "markdown",
      "metadata": {
        "id": "Wz7l27Lz9S1P"
      },
      "source": [
        "Для процесса обучения нейронной сети нам важно перевести данные из диапазона от 0 до 255 в диапазон от 0 до 1:"
      ]
    },
    {
      "cell_type": "markdown",
      "metadata": {
        "id": "Gxg1XGm0eOBy"
      },
      "source": [
        "### Определение слоев\n",
        "\n",
        "Давайте создадим 3 слоя нейронной сети с помощью функционала Keras.layers"
      ]
    },
    {
      "cell_type": "code",
      "source": [
        "model = keras.Sequential([\n",
        "    keras.layers.Flatten(input_shape=(28, 28), name='input'),\n",
        "    keras.layers.Dense(256, activation='relu', name='hiden_one'),\n",
        "    keras.layers.Dense(128, activation='relu', name='hiden_two'),\n",
        "    keras.layers.Dense(64, activation='tanh', name='hiden_three'),\n",
        "    keras.layers.Dense(64, activation='relu', name='hiden_four'),\n",
        "    keras.layers.Dense(10, name='output')\n",
        "])\n",
        "config = model.get_config()\n",
        "model.save_weights('fashion_weights.h5')"
      ],
      "metadata": {
        "id": "ckcddyf_ARaB"
      },
      "execution_count": 5,
      "outputs": []
    },
    {
      "cell_type": "code",
      "metadata": {
        "id": "Lhan11blCaW7",
        "colab": {
          "base_uri": "https://localhost:8080/",
          "height": 534
        },
        "outputId": "4313e336-7633-4aa4-ec5b-02204fe18f57"
      },
      "source": [
        "model = model.from_config(config)\n",
        "model.load_weights('fashion_weights.h5')\n",
        "\n",
        "\n",
        "model.compile(optimizer=tf.keras.optimizers.Adam(learning_rate=0.001), loss=tf.keras.losses.SparseCategoricalCrossentropy(from_logits=True), metrics=['accuracy'])\n",
        "model.fit(train_images, train_labels, batch_size = 250, epochs=25, verbose=0)\n",
        "  # model.fit(train_images, train_labels, batch_size = 250, epochs=el, verbose=0, validation_data=(test_images, test_labels))\n",
        "  # model.fit(train_images, train_labels, batch_size = 10, epochs=10, verbose=0, validation_data=(test_images, test_labels), callbacks=[reduce_lr])\n",
        "test_loss, test_acc = model.evaluate(test_images,  test_labels, verbose=2)\n",
        "\n",
        "print('\\nTest accuracy:', test_acc)\n",
        "  # Получим предсказания\n",
        "probability_model = tf.keras.Sequential([model,\n",
        "                                         tf.keras.layers.Softmax()])\n",
        "predictions = probability_model.predict(test_images)\n",
        "y_pred = np.argmax(predictions, axis=1)\n",
        "# Посмотрим на результаты\n",
        "ConfusionMatrixDisplay.from_predictions(test_labels, y_pred)"
      ],
      "execution_count": 6,
      "outputs": [
        {
          "output_type": "stream",
          "name": "stdout",
          "text": [
            "313/313 - 1s - loss: 0.3481 - accuracy: 0.8917 - 735ms/epoch - 2ms/step\n",
            "\n",
            "Test accuracy: 0.891700029373169\n",
            "313/313 [==============================] - 1s 2ms/step\n"
          ]
        },
        {
          "output_type": "execute_result",
          "data": {
            "text/plain": [
              "<sklearn.metrics._plot.confusion_matrix.ConfusionMatrixDisplay at 0x7b9ee02b5a80>"
            ]
          },
          "metadata": {},
          "execution_count": 6
        },
        {
          "output_type": "display_data",
          "data": {
            "text/plain": [
              "<Figure size 640x480 with 2 Axes>"
            ],
            "image/png": "[encoded data removed]"
          },
          "metadata": {}
        }
      ]
    },
    {
      "cell_type": "code",
      "source": [
        "def recall_precision(y_true, y_pred, labels=[0, 1, 2, 3, 4, 5, 6, 7, 8, 9]):\n",
        "  precision = precision_score(y_true, y_pred, labels=labels, average=None)\n",
        "  recall = recall_score(y_true, y_pred, labels=labels, average=None)\n",
        "  for i, el in enumerate(zip(precision, recall)):\n",
        "    print(f'Класс - {i}, точность - {el[0]:.3f}, полнота - {el[1]:.3f}')"
      ],
      "metadata": {
        "id": "XtlOdBOW-2IH"
      },
      "execution_count": 7,
      "outputs": []
    },
    {
      "cell_type": "code",
      "source": [
        "recall_precision(test_labels, y_pred)"
      ],
      "metadata": {
        "colab": {
          "base_uri": "https://localhost:8080/"
        },
        "id": "wAUIx35VDK0y",
        "outputId": "3bf34e93-2087-4bed-f508-f493a628d096"
      },
      "execution_count": 8,
      "outputs": [
        {
          "output_type": "stream",
          "name": "stdout",
          "text": [
            "Класс - 0, точность - 0.848, полнота - 0.831\n",
            "Класс - 1, точность - 0.991, полнота - 0.977\n",
            "Класс - 2, точность - 0.827, полнота - 0.794\n",
            "Класс - 3, точность - 0.923, полнота - 0.875\n",
            "Класс - 4, точность - 0.814, полнота - 0.816\n",
            "Класс - 5, точность - 0.979, полнота - 0.964\n",
            "Класс - 6, точность - 0.685, полнота - 0.765\n",
            "Класс - 7, точность - 0.949, полнота - 0.958\n",
            "Класс - 8, точность - 0.972, полнота - 0.972\n",
            "Класс - 9, точность - 0.954, полнота - 0.965\n"
          ]
        }
      ]
    },
    {
      "cell_type": "markdown",
      "source": [
        "После перебора всех параметров нейросети, созданной на уроке можно уверенно заключить:\n",
        "- Улучшить ее работу только изменяя параметры невозможно.\n",
        "\n",
        "- Не улучшает ситуацию последовательное обучение с использованием различных входных пакетов.\n",
        "\n",
        "- Не удалось также создать сеть с другим количеством слоёв существенно превосходящую образец.\n",
        "\n",
        "- Не оправдала себя идея использовать для обучения зеркально (горизонтально или вертикально) отраженные изображения.\n",
        "\n",
        "**-Единственный вариант давший небольшие улучшения это использование комбинации 2х сетей, сети образца и сети с параметрами, которая \"заточена\" максимально хорошо предсказывать самый плохо определяемый класс.**"
      ],
      "metadata": {
        "id": "2ApaTraTD5Fr"
      }
    },
    {
      "cell_type": "code",
      "source": [
        "# Создаем словарь который будет содержать модель сети и параметры для обучения\n",
        "models = dict()\n",
        "models[0] = [keras.Sequential([\n",
        "    keras.layers.Flatten(input_shape=(28, 28), name='input'),\n",
        "    keras.layers.Dense(256, activation='relu', name='hiden_one'),\n",
        "    keras.layers.Dense(128, activation='relu', name='hiden_two'),\n",
        "    keras.layers.Dense(64, activation='tanh', name='hiden_three'),\n",
        "    keras.layers.Dense(64, activation='relu', name='hiden_four'),\n",
        "    keras.layers.Dense(10, name='output')\n",
        "]), tf.keras.optimizers.Adam(learning_rate=0.001), 250]\n",
        "models[1] = [keras.Sequential([\n",
        "    keras.layers.Flatten(input_shape=(28, 28), name='input'),\n",
        "    keras.layers.Dense(256, activation='relu', name='hiden_one'),\n",
        "    keras.layers.Dense(128, activation='gelu', name='hiden_two'),\n",
        "    keras.layers.Dense(64, activation='sigmoid', name='hiden_three'),\n",
        "    keras.layers.Dense(64, activation='selu', name='hiden_four'),\n",
        "    keras.layers.Dense(10, name='output')]), tf.keras.optimizers.AdamW(learning_rate=0.001), 450]\n",
        "# Список для сохранения результатов\n",
        "result = list()\n",
        "# Формируем сеть.\n",
        "for key, param in models.items():\n",
        "  # Загружаем параметры\n",
        "  model, opt, batch = param[0], param[1], param[2]\n",
        "  # Загружаем входные веса, чтобы хоть как-то \"уравнять\" результаты работы\n",
        "  model.load_weights('fashion_weights.h5')\n",
        "  model.compile(optimizer=opt, loss=tf.keras.losses.SparseCategoricalCrossentropy(from_logits=True), metrics=['accuracy'])\n",
        "  model.fit(train_images, train_labels, batch_size=batch, epochs=25, verbose=0)\n",
        "  # Получаем предварительную метрику\n",
        "  test_loss, test_acc = model.evaluate(test_images,  test_labels, verbose=2)\n",
        "  print('\\nTest accuracy:', test_acc)\n",
        "  probability_model = tf.keras.Sequential([model,\n",
        "                                         tf.keras.layers.Softmax()])\n",
        "  # Сохраняем массив с вероятностями\n",
        "  result.append(probability_model.predict(test_images))\n",
        "# Получаем финишное предсказание суммируя два массива с вероятностями\n",
        "y_pred = np.argmax(sum(result), axis=1)\n",
        "# Окончательная метрика качества\n",
        "print(accuracy_score(test_labels, y_pred))\n",
        "# Распределение предсказаний по классам\n",
        "print(recall_precision(test_labels, y_pred))\n",
        "ConfusionMatrixDisplay.from_predictions(test_labels, y_pred)\n"
      ],
      "metadata": {
        "colab": {
          "base_uri": "https://localhost:8080/",
          "height": 806
        },
        "id": "ijGscA5l2qhd",
        "outputId": "a7f44fd1-a30b-4eb4-c1a3-ae40721622c7"
      },
      "execution_count": 9,
      "outputs": [
        {
          "output_type": "stream",
          "name": "stdout",
          "text": [
            "313/313 - 1s - loss: 0.3521 - accuracy: 0.8914 - 655ms/epoch - 2ms/step\n",
            "\n",
            "Test accuracy: 0.8913999795913696\n",
            "313/313 [==============================] - 1s 2ms/step\n",
            "313/313 - 1s - loss: 0.3353 - accuracy: 0.8932 - 660ms/epoch - 2ms/step\n",
            "\n",
            "Test accuracy: 0.8931999802589417\n",
            "313/313 [==============================] - 1s 2ms/step\n",
            "0.8991\n",
            "Класс - 0, точность - 0.832, полнота - 0.869\n",
            "Класс - 1, точность - 0.993, полнота - 0.980\n",
            "Класс - 2, точность - 0.839, полнота - 0.796\n",
            "Класс - 3, точность - 0.921, полнота - 0.893\n",
            "Класс - 4, точность - 0.807, полнота - 0.851\n",
            "Класс - 5, точность - 0.979, полнота - 0.964\n",
            "Класс - 6, точность - 0.744, полнота - 0.735\n",
            "Класс - 7, точность - 0.949, полнота - 0.961\n",
            "Класс - 8, точность - 0.977, полнота - 0.976\n",
            "Класс - 9, точность - 0.955, полнота - 0.966\n",
            "None\n"
          ]
        },
        {
          "output_type": "execute_result",
          "data": {
            "text/plain": [
              "<sklearn.metrics._plot.confusion_matrix.ConfusionMatrixDisplay at 0x7b9e6cec7a30>"
            ]
          },
          "metadata": {},
          "execution_count": 9
        },
        {
          "output_type": "display_data",
          "data": {
            "text/plain": [
              "<Figure size 640x480 with 2 Axes>"
            ],
            "image/png": "[encoded data removed]"
          },
          "metadata": {}
        }
      ]
    },
    {
      "cell_type": "markdown",
      "source": [
        "Интересным показался модуль Keras-tuner, для подбора оптимальных параметорв сети. Правда я не разобрался как можно с его помощью искать оптимальное число слоёв сети."
      ],
      "metadata": {
        "id": "7iIdVVXIJQcR"
      }
    },
    {
      "cell_type": "code",
      "source": [
        "!pip install keras-tuner"
      ],
      "metadata": {
        "id": "w2Y2VZRI6--Q",
        "outputId": "9e16855d-0f4e-4656-e63f-e2accae3adcd",
        "colab": {
          "base_uri": "https://localhost:8080/"
        }
      },
      "execution_count": 14,
      "outputs": [
        {
          "output_type": "stream",
          "name": "stdout",
          "text": [
            "Collecting keras-tuner\n",
            "  Downloading keras_tuner-1.4.7-py3-none-any.whl (129 kB)\n",
            "\u001b[?25l     \u001b[90m━━━━━━━━━━━━━━━━━━━━━━━━━━━━━━━━━━━━━━━━\u001b[0m \u001b[32m0.0/129.1 kB\u001b[0m \u001b[31m?\u001b[0m eta \u001b[36m-:--:--\u001b[0m\r\u001b[2K     \u001b[90m━━━━━━━━━━━━━━━━━━━━━━━━━━━━━━━━━━━━━━━━\u001b[0m \u001b[32m129.1/129.1 kB\u001b[0m \u001b[31m4.5 MB/s\u001b[0m eta \u001b[36m0:00:00\u001b[0m\n",
            "\u001b[?25hRequirement already satisfied: keras in /usr/local/lib/python3.10/dist-packages (from keras-tuner) (2.15.0)\n",
            "Requirement already satisfied: packaging in /usr/local/lib/python3.10/dist-packages (from keras-tuner) (24.0)\n",
            "Requirement already satisfied: requests in /usr/local/lib/python3.10/dist-packages (from keras-tuner) (2.31.0)\n",
            "Collecting kt-legacy (from keras-tuner)\n",
            "  Downloading kt_legacy-1.0.5-py3-none-any.whl (9.6 kB)\n",
            "Requirement already satisfied: charset-normalizer<4,>=2 in /usr/local/lib/python3.10/dist-packages (from requests->keras-tuner) (3.3.2)\n",
            "Requirement already satisfied: idna<4,>=2.5 in /usr/local/lib/python3.10/dist-packages (from requests->keras-tuner) (3.6)\n",
            "Requirement already satisfied: urllib3<3,>=1.21.1 in /usr/local/lib/python3.10/dist-packages (from requests->keras-tuner) (2.0.7)\n",
            "Requirement already satisfied: certifi>=2017.4.17 in /usr/local/lib/python3.10/dist-packages (from requests->keras-tuner) (2024.2.2)\n",
            "Installing collected packages: kt-legacy, keras-tuner\n",
            "Successfully installed keras-tuner-1.4.7 kt-legacy-1.0.5\n"
          ]
        }
      ]
    },
    {
      "cell_type": "code",
      "source": [
        "import keras_tuner as kt"
      ],
      "metadata": {
        "id": "Ah4CnNgI6nIp"
      },
      "execution_count": 15,
      "outputs": []
    },
    {
      "cell_type": "code",
      "source": [
        "def model_builder(hp):\n",
        "  model = keras.Sequential()\n",
        "  model.add(keras.layers.Flatten(input_shape=(28, 28)))\n",
        "\n",
        "  # Tune the number of units in the first Dense layer\n",
        "  # Choose an optimal value between 32-512\n",
        "  hp_units = hp.Int('units', min_value=10, max_value=256, step=25)\n",
        "  model.add(keras.layers.Dense(units=hp_units, activation='relu'))\n",
        "  model.add(keras.layers.Dense(10))\n",
        "\n",
        "  # Tune the learning rate for the optimizer\n",
        "  # Choose an optimal value from 0.01, 0.001, or 0.0001\n",
        "  model.compile(optimizer=keras.optimizers.Adam(learning_rate=0.001),\n",
        "                loss=keras.losses.SparseCategoricalCrossentropy(from_logits=True),\n",
        "                metrics=['accuracy'])\n",
        "\n",
        "  return model\n",
        "\n",
        "tuner = kt.Hyperband(model_builder,\n",
        "                     objective='val_accuracy',\n",
        "                     max_epochs=10,\n",
        "                     factor=3)\n",
        "\n",
        "stop_early = tf.keras.callbacks.EarlyStopping(monitor='val_loss', patience=2)\n"
      ],
      "metadata": {
        "id": "n3VHWw5hFJv4"
      },
      "execution_count": 16,
      "outputs": []
    },
    {
      "cell_type": "code",
      "source": [
        "tuner.search(train_images, train_labels, epochs=25, validation_split=0.2, callbacks=[stop_early])\n",
        "best_hps=tuner.get_best_hyperparameters(num_trials=1)[0]\n",
        "print(f' layer is {best_hps.get(\"units\")}')\n",
        "\n",
        "\n"
      ],
      "metadata": {
        "id": "lEFflzBXFuik",
        "outputId": "b3ad7fe6-dd6a-430d-bc42-2d303b7aad35",
        "colab": {
          "base_uri": "https://localhost:8080/"
        }
      },
      "execution_count": 17,
      "outputs": [
        {
          "output_type": "stream",
          "name": "stdout",
          "text": [
            "Trial 9 Complete [00h 00m 12s]\n",
            "val_accuracy: 0.8694999814033508\n",
            "\n",
            "Best val_accuracy So Far: 0.8697500228881836\n",
            "Total elapsed time: 00h 02m 26s\n",
            " layer is 185\n"
          ]
        }
      ]
    },
    {
      "cell_type": "markdown",
      "source": [
        "# ДОМАШНЕЕ ЗАДАНИЕ"
      ],
      "metadata": {
        "id": "hFETUWLp8qq3"
      }
    },
    {
      "cell_type": "code",
      "source": [
        "import tensorflow as tf\n",
        "from tensorflow import keras\n",
        "import kerastuner as kt\n",
        "\n",
        "# Функция для построения модели\n",
        "def model_builder(hp):\n",
        "    model = keras.Sequential()\n",
        "    model.add(keras.layers.Flatten(input_shape=(28, 28)))  # Входной слой\n",
        "\n",
        "    # Настройка количества слоев\n",
        "    hp_layers = hp.Int('num_layers', min_value=1, max_value=5, step=1)  # Гиперпараметр для количества слоев\n",
        "    for i in range(hp_layers):\n",
        "        hp_units = hp.Int(f'units_{i}', min_value=32, max_value=512, step=32)  # Гиперпараметр для количества нейронов в слое\n",
        "        model.add(keras.layers.Dense(units=hp_units, activation='relu'))  # Добавление Dense слоя с ReLU активацией\n",
        "\n",
        "    model.add(keras.layers.Dense(10, activation='softmax'))  # Выходной слой с функцией активации softmax\n",
        "\n",
        "    # Настройка скорости обучения для оптимизатора\n",
        "    hp_learning_rate = hp.Choice('learning_rate', values=[1e-2, 1e-3, 1e-4])  # Гиперпараметр для скорости обучения\n",
        "\n",
        "    model.compile(optimizer=keras.optimizers.Adam(learning_rate=hp_learning_rate),  # Компиляция модели\n",
        "                  loss='sparse_categorical_crossentropy',  # Функция потерь\n",
        "                  metrics=['accuracy'])  # Метрика точности\n",
        "\n",
        "    return model\n",
        "\n",
        "# Создание объекта для поиска гиперпараметров\n",
        "tuner = kt.Hyperband(model_builder,\n",
        "                     objective='val_accuracy',  # Оптимизируем по точности на валидационном наборе данных\n",
        "                     max_epochs=10,  # Максимальное количество эпох\n",
        "                     factor=3,  # Фактор уменьшения для пропуска моделей\n",
        "                     directory='my_dir',  # Директория для сохранения результатов поиска\n",
        "                     project_name='intro_to_kt')  # Название проекта\n",
        "\n",
        "# Остановка раннего обучения\n",
        "stop_early = tf.keras.callbacks.EarlyStopping(monitor='val_loss', patience=5)\n",
        "\n",
        "# Поиск оптимальных гиперпараметров\n",
        "tuner.search(train_images, train_labels, epochs=50, validation_split=0.2, callbacks=[stop_early])\n",
        "\n",
        "# Получение оптимальных гиперпараметров\n",
        "best_hps = tuner.get_best_hyperparameters(num_trials=1)[0]\n",
        "print(f\"Оптимальное количество слоев: {best_hps.get('num_layers')}\")\n"
      ],
      "metadata": {
        "id": "Tcq3HPFx8e8w",
        "outputId": "3a42130b-017d-4b56-b617-2df917055d20",
        "colab": {
          "base_uri": "https://localhost:8080/"
        }
      },
      "execution_count": 18,
      "outputs": [
        {
          "output_type": "stream",
          "name": "stdout",
          "text": [
            "Trial 30 Complete [00h 00m 52s]\n",
            "val_accuracy: 0.8629166483879089\n",
            "\n",
            "Best val_accuracy So Far: 0.8922500014305115\n",
            "Total elapsed time: 00h 16m 15s\n",
            "Оптимальное количество слоев: 1\n"
          ]
        }
      ]
    },
    {
      "cell_type": "markdown",
      "source": [
        "Поиск оптимальной архитектуры НС для классификации изображений. После обучения и подбора гиперпараметров мы достигли улучшения точности на валидационном наборе данных:\n",
        "- использовали поиск по сетке гиперпараметров с помощью библиотеки Keras Tuner для оптимизации архитектуры НС.\n",
        "- Для оценки качества модели использовалась точность на валидационном наборе данных (val_accuracy).\n",
        "- После поиска оптимальных гиперпараметров мы получили информацию о наилучшей архитектуре сети и её параметрах.\n",
        "- Результаты обучения и поиска гиперпараметров были сохранены в директории 'my_dir' под названием 'intro_to_kt'."
      ],
      "metadata": {
        "id": "IEh7moODG1_8"
      }
    },
    {
      "cell_type": "markdown",
      "source": [
        "# Попробуйте обучить нейронную сеть на TensorFlow 2 на датасете imdb_reviews."
      ],
      "metadata": {
        "id": "tPhg2am6AqYc"
      }
    },
    {
      "cell_type": "code",
      "source": [
        "import tensorflow as tf\n",
        "from tensorflow.keras.datasets import imdb\n",
        "from tensorflow.keras.preprocessing.sequence import pad_sequences\n",
        "\n",
        "# Загрузка данных\n",
        "(train_data, train_labels), (test_data, test_labels) = imdb.load_data(num_words=10000)\n",
        "\n",
        "# Предварительная обработка данных\n",
        "maxlen = 200  # Максимальная длина последовательности слов\n",
        "train_data = pad_sequences(train_data, maxlen=maxlen)\n",
        "test_data = pad_sequences(test_data, maxlen=maxlen)\n",
        "\n",
        "# Создание модели\n",
        "model = tf.keras.Sequential([\n",
        "    tf.keras.layers.Embedding(input_dim=10000, output_dim=16, input_length=maxlen),\n",
        "    tf.keras.layers.Flatten(),\n",
        "    tf.keras.layers.Dense(32, activation='relu'),\n",
        "    tf.keras.layers.Dense(1, activation='sigmoid')\n",
        "])\n",
        "\n",
        "# Компиляция модели\n",
        "model.compile(optimizer='adam', loss='binary_crossentropy', metrics=['accuracy'])\n",
        "\n",
        "# Обучение модели\n",
        "history = model.fit(train_data, train_labels, epochs=10, batch_size=128, validation_split=0.2)\n",
        "\n",
        "# Оценка модели на тестовых данных\n",
        "loss, accuracy = model.evaluate(test_data, test_labels)\n",
        "print(\"Test Accuracy:\", accuracy)\n"
      ],
      "metadata": {
        "id": "FqZS5kXNAzvY",
        "outputId": "2e69709e-a07b-4d26-d32c-bebca94007bb",
        "colab": {
          "base_uri": "https://localhost:8080/"
        }
      },
      "execution_count": 19,
      "outputs": [
        {
          "output_type": "stream",
          "name": "stdout",
          "text": [
            "Downloading data from https://storage.googleapis.com/tensorflow/tf-keras-datasets/imdb.npz\n",
            "17464789/17464789 [==============================] - 0s 0us/step\n",
            "Epoch 1/10\n",
            "157/157 [==============================] - 23s 135ms/step - loss: 0.5565 - accuracy: 0.6996 - val_loss: 0.3330 - val_accuracy: 0.8610\n",
            "Epoch 2/10\n",
            "157/157 [==============================] - 12s 78ms/step - loss: 0.2202 - accuracy: 0.9154 - val_loss: 0.3061 - val_accuracy: 0.8710\n",
            "Epoch 3/10\n",
            "157/157 [==============================] - 7s 45ms/step - loss: 0.0964 - accuracy: 0.9735 - val_loss: 0.3334 - val_accuracy: 0.8742\n",
            "Epoch 4/10\n",
            "157/157 [==============================] - 5s 34ms/step - loss: 0.0317 - accuracy: 0.9954 - val_loss: 0.3893 - val_accuracy: 0.8664\n",
            "Epoch 5/10\n",
            "157/157 [==============================] - 4s 25ms/step - loss: 0.0113 - accuracy: 0.9992 - val_loss: 0.4198 - val_accuracy: 0.8690\n",
            "Epoch 6/10\n",
            "157/157 [==============================] - 2s 16ms/step - loss: 0.0048 - accuracy: 0.9998 - val_loss: 0.4518 - val_accuracy: 0.8684\n",
            "Epoch 7/10\n",
            "157/157 [==============================] - 3s 16ms/step - loss: 0.0027 - accuracy: 1.0000 - val_loss: 0.4781 - val_accuracy: 0.8692\n",
            "Epoch 8/10\n",
            "157/157 [==============================] - 4s 26ms/step - loss: 0.0017 - accuracy: 1.0000 - val_loss: 0.4979 - val_accuracy: 0.8704\n",
            "Epoch 9/10\n",
            "157/157 [==============================] - 3s 17ms/step - loss: 0.0012 - accuracy: 1.0000 - val_loss: 0.5166 - val_accuracy: 0.8698\n",
            "Epoch 10/10\n",
            "157/157 [==============================] - 2s 13ms/step - loss: 9.0612e-04 - accuracy: 1.0000 - val_loss: 0.5300 - val_accuracy: 0.8708\n",
            "782/782 [==============================] - 2s 2ms/step - loss: 0.5212 - accuracy: 0.8670\n",
            "Test Accuracy: 0.8669999837875366\n"
          ]
        }
      ]
    },
    {
      "cell_type": "markdown",
      "source": [
        "Результаты:\n",
        "Точность на тестовом наборе данных составляет примерно 86,7%.\n"
      ],
      "metadata": {
        "id": "IhfsABWeCNjg"
      }
    },
    {
      "cell_type": "code",
      "source": [],
      "metadata": {
        "id": "gBVPhcG9CdFO"
      },
      "execution_count": null,
      "outputs": []
    }
  ]
}