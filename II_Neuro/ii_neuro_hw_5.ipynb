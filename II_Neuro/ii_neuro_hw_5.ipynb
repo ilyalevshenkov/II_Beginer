{
  "cells": [
    {
      "cell_type": "markdown",
      "source": [
        "Урок 5. Рекуррентные нейронные сети"
      ],
      "metadata": {
        "id": "eVOjWX8Ro9rt"
      }
    },
    {
      "cell_type": "markdown",
      "source": [
        "Рекуррентная нейроная сеть обученная складывать числа."
      ],
      "metadata": {
        "id": "je59XdugKYiV"
      }
    },
    {
      "cell_type": "code",
      "source": [
        "import copy, numpy as np\n",
        "np.random.seed(5)\n",
        "\n",
        "# Сигмоида\n",
        "def sigmoid(x):\n",
        "\toutput = 1/(1 + np.exp(-x))\n",
        "\treturn output\n",
        "# Конвертируем значение функции сигмоиды в ее производную\n",
        "def sigmoid_to_derivative(output):\n",
        "\treturn output*(1 - output)"
      ],
      "metadata": {
        "id": "-xnHnUzZKUm0"
      },
      "execution_count": null,
      "outputs": []
    },
    {
      "cell_type": "code",
      "source": [
        "int2binary = {}\n",
        "binary_dim = 8\n",
        "\n",
        "# Генерация тренировочного датасета\n",
        "largest_number = pow(2, binary_dim)\n",
        "binary = np.unpackbits(np.array([list(range(largest_number))], dtype=np.uint8).T, axis=1)\n",
        "\n",
        "print(binary.shape)\n",
        "print(binary[255])\n",
        "largest_number"
      ],
      "metadata": {
        "colab": {
          "base_uri": "https://localhost:8080/"
        },
        "id": "CdbCIvZFq_7_",
        "outputId": "49f3045f-64b3-4349-f763-cf9fc02b7312"
      },
      "execution_count": null,
      "outputs": [
        {
          "output_type": "stream",
          "name": "stdout",
          "text": [
            "(256, 8)\n",
            "[1 1 1 1 1 1 1 1]\n"
          ]
        },
        {
          "output_type": "execute_result",
          "data": {
            "text/plain": [
              "256"
            ]
          },
          "metadata": {},
          "execution_count": 2
        }
      ]
    },
    {
      "cell_type": "code",
      "source": [
        "# входные переменные\n",
        "alpha = 0.1\n",
        "input_dim = 2\n",
        "hidden_dim = 16\n",
        "output_dim = 1"
      ],
      "metadata": {
        "id": "GmDRXk630J6o"
      },
      "execution_count": null,
      "outputs": []
    },
    {
      "cell_type": "code",
      "source": [
        "# инициализация весов нейронной сети\n",
        "synapse_0 = 2*np.random.random((input_dim,hidden_dim)) - 1\n",
        "synapse_1 = 2*np.random.random((hidden_dim,output_dim)) - 1\n",
        "synapse_h = 2*np.random.random((hidden_dim,hidden_dim)) - 1\n",
        "synapse_0_update = np.zeros_like(synapse_0)\n",
        "synapse_1_update = np.zeros_like(synapse_1)\n",
        "synapse_h_update = np.zeros_like(synapse_h)"
      ],
      "metadata": {
        "id": "4HIRoP6O0O9W"
      },
      "execution_count": null,
      "outputs": []
    },
    {
      "cell_type": "code",
      "source": [
        "a[1], b[2]"
      ],
      "metadata": {
        "colab": {
          "base_uri": "https://localhost:8080/",
          "height": 141
        },
        "id": "QAgb33rC_5Lw",
        "outputId": "5adf8cd1-4841-4cf1-9145-51750ec7cb68"
      },
      "execution_count": null,
      "outputs": [
        {
          "output_type": "error",
          "ename": "NameError",
          "evalue": "name 'a' is not defined",
          "traceback": [
            "\u001b[0;31m---------------------------------------------------------------------------\u001b[0m",
            "\u001b[0;31mNameError\u001b[0m                                 Traceback (most recent call last)",
            "\u001b[0;32m<ipython-input-3-2c2d758d84f0>\u001b[0m in \u001b[0;36m<cell line: 1>\u001b[0;34m()\u001b[0m\n\u001b[0;32m----> 1\u001b[0;31m \u001b[0ma\u001b[0m\u001b[0;34m[\u001b[0m\u001b[0;36m1\u001b[0m\u001b[0;34m]\u001b[0m\u001b[0;34m,\u001b[0m \u001b[0mb\u001b[0m\u001b[0;34m[\u001b[0m\u001b[0;36m2\u001b[0m\u001b[0;34m]\u001b[0m\u001b[0;34m\u001b[0m\u001b[0;34m\u001b[0m\u001b[0m\n\u001b[0m",
            "\u001b[0;31mNameError\u001b[0m: name 'a' is not defined"
          ]
        }
      ]
    },
    {
      "cell_type": "code",
      "source": [
        "print('synapse_0', synapse_0.shape)\n",
        "print('synapse_1', synapse_1.shape)\n",
        "print('synapse_h', synapse_h.shape)\n",
        "\n",
        "print(synapse_0_update.shape)\n",
        "print(synapse_1_update.shape)\n",
        "print(synapse_h_update.shape)\n",
        "binary_dim"
      ],
      "metadata": {
        "colab": {
          "base_uri": "https://localhost:8080/"
        },
        "id": "zxcEzMmApvb-",
        "outputId": "f86bf11f-f719-48dd-d350-662caec4a8d2"
      },
      "execution_count": null,
      "outputs": [
        {
          "output_type": "stream",
          "name": "stdout",
          "text": [
            "synapse_0 (2, 16)\n",
            "synapse_1 (16, 1)\n",
            "synapse_h (16, 16)\n",
            "(2, 16)\n",
            "(16, 1)\n",
            "(16, 16)\n"
          ]
        },
        {
          "output_type": "execute_result",
          "data": {
            "text/plain": [
              "8"
            ]
          },
          "metadata": {},
          "execution_count": 5
        }
      ]
    },
    {
      "cell_type": "code",
      "source": [
        "binary_dim = 8\n",
        "#int2binary = np.array([])\n",
        "\n",
        "# Генерация тренировочного датасета\n",
        "largest_number = pow(2, binary_dim)\n",
        "binary = np.unpackbits(np.array([list(range(largest_number))], dtype=np.uint8).T, axis=1)\n",
        "print(type(binary))\n",
        "#for i in range(largest_number):\n",
        "#\tint2binary[i] = binary[i]\n",
        "\n",
        "int2binary = binary\n",
        "print(binary)\n",
        "# Входные переменные\n",
        "alpha = 0.1\n",
        "input_dim = 2\n",
        "hidden_dim = 16\n",
        "output_dim = 1\n",
        "\n",
        "# Инициализация весов нейронной сети\n",
        "synapse_0 = 2*np.random.random((input_dim, hidden_dim)) - 1\n",
        "synapse_1 = 2*np.random.random((hidden_dim, output_dim)) - 1\n",
        "synapse_h = 2*np.random.random((hidden_dim, hidden_dim)) - 1\n",
        "\n",
        "synapse_0_update = np.zeros_like(synapse_0)\n",
        "synapse_1_update = np.zeros_like(synapse_1)\n",
        "synapse_h_update = np.zeros_like(synapse_h)"
      ],
      "metadata": {
        "id": "ZmQsYxj4KUxZ",
        "colab": {
          "base_uri": "https://localhost:8080/"
        },
        "outputId": "2702b7b0-fb42-490c-80e1-83d475e14ddf"
      },
      "execution_count": null,
      "outputs": [
        {
          "output_type": "stream",
          "name": "stdout",
          "text": [
            "<class 'numpy.ndarray'>\n",
            "[[0 0 0 ... 0 0 0]\n",
            " [0 0 0 ... 0 0 1]\n",
            " [0 0 0 ... 0 1 0]\n",
            " ...\n",
            " [1 1 1 ... 1 0 1]\n",
            " [1 1 1 ... 1 1 0]\n",
            " [1 1 1 ... 1 1 1]]\n"
          ]
        }
      ]
    },
    {
      "cell_type": "code",
      "source": [
        "# Генерация тренировочного датасета\n",
        "largest_number = pow(2, binary_dim)\n",
        "binary = np.unpackbits(np.array([list(range(largest_number))], dtype=np.uint8).T, axis=1)\n",
        "for i in range(largest_number):\n",
        "\tint2binary[i] = binary[i]\n",
        "\n",
        "# Входные переменные\n",
        "alpha = 0.1\n",
        "input_dim = 2\n",
        "hidden_dim = 16\n",
        "output_dim = 1\n",
        "\n",
        "# Инициализация весов нейронной сети\n",
        "synapse_0 = 2*np.random.random((input_dim, hidden_dim)) - 1\n",
        "synapse_1 = 2*np.random.random((hidden_dim, output_dim)) - 1\n",
        "synapse_h = 2*np.random.random((hidden_dim, hidden_dim)) - 1\n",
        "\n",
        "synapse_0_update = np.zeros_like(synapse_0)\n",
        "synapse_1_update = np.zeros_like(synapse_1)\n",
        "synapse_h_update = np.zeros_like(synapse_h)"
      ],
      "metadata": {
        "id": "z0-N3Ive444j"
      },
      "execution_count": null,
      "outputs": []
    },
    {
      "cell_type": "code",
      "source": [
        "# Тренировочная логика\n",
        "for j in range(10000):\n",
        "\t# Генерация простой проблемы сложения (a + b = c)\n",
        "  a_int = np.random.randint(largest_number / 2) # int version\n",
        "  a = int2binary[a_int] # Бинарное кодирование\n",
        "\n",
        "  b_int = np.random.randint(largest_number/2) # int version\n",
        "  b = int2binary[b_int] # Бинарное кодирование\n",
        "\n",
        "  # Правильный ответ\n",
        "  c_int = a_int + b_int\n",
        "  c = int2binary[c_int]\n",
        "\n",
        "  # Место где мы располагаем наши лучшие результаты (бинарно закодированные)\n",
        "  d = np.zeros_like(c)\n",
        "  overallError = 0\n",
        "  layer_2_deltas = list()\n",
        "  layer_1_values = list()\n",
        "  layer_1_values.append(np.zeros(hidden_dim))\n",
        "\n",
        "  # Движение вдоль позиции бинарной кодировки (идем вдоль последовательности)\n",
        "  for position in range(binary_dim):\n",
        "    # input and output generation\n",
        "    X = np.array([[a[binary_dim - position - 1], b[binary_dim - position - 1]]])\n",
        "    y = np.array([[c[binary_dim - position -1]]]).T\n",
        "\n",
        "    # Внутренний слой (input + предыдущий внутренний)\n",
        "    layer_1 = sigmoid(np.dot(X, synapse_0) + np.dot(layer_1_values[-1], synapse_h))\n",
        "\n",
        "    # Output layer (новое бинарное представление)\n",
        "    layer_2 = sigmoid(np.dot(layer_1, synapse_1))\n",
        "\n",
        "    # Проверка упустили ли мы что-то и если, да то как много\n",
        "    layer_2_error = y - layer_2\n",
        "    layer_2_deltas.append((layer_2_error) * sigmoid_to_derivative(layer_2))\n",
        "    overallError += np.abs(layer_2_error[0])\n",
        "\n",
        "    # Декодируем оценку чтобы мы могли ее вывести на экран\n",
        "    d[binary_dim - position - 1] = np.round(layer_2[0][0])\n",
        "\n",
        "    # Сохраняем внутренний слой, чтобы мы могли его использовать в след. timestep\n",
        "    layer_1_values.append(copy.deepcopy(layer_1))\n",
        "\n",
        "  future_layer_1_delta = np.zeros(hidden_dim)\n",
        "\n",
        "  for position in range(binary_dim):\n",
        "\t  X = np.array([[a[position], b[position]]])\n",
        "\t  layer_1 = layer_1_values[-position - 1]\n",
        "\t  prev_layer_1 = layer_1_values[-position - 2]\n",
        "\n",
        "\t  # Величина ошибки в output layer\n",
        "\t  layer_2_delta = layer_2_deltas[-position - 1]\n",
        "\t  # Величина ошибки в hidden layer\n",
        "\t  layer_1_delta = (future_layer_1_delta.dot(synapse_h.T) + layer_2_delta.dot(synapse_1.T)) * sigmoid_to_derivative(layer_1)\n",
        "\t  # Обновление всех весов и пробуем заново\n",
        "\t  synapse_1_update += np.atleast_2d(layer_1).T.dot(layer_2_delta)\n",
        "\t  synapse_h_update += np.atleast_2d(prev_layer_1).T.dot(layer_1_delta)\n",
        "\t  synapse_0_update += X.T.dot(layer_1_delta)\n",
        "\n",
        "\t  future_layer_1_delta = layer_1_delta\n",
        "\n",
        "  synapse_0 += synapse_0_update * alpha\n",
        "  synapse_1 += synapse_1_update * alpha\n",
        "  synapse_h += synapse_h_update * alpha\n",
        "\n",
        "  synapse_0_update *= 0\n",
        "  synapse_1_update *= 0\n",
        "  synapse_h_update *= 0\n",
        "\n",
        "  # Вывод на экран процесса обучения\n",
        "  if (j % 500 == 0):\n",
        "    print('Error:' + str(overallError) + ' step number - ' + str(j))\n",
        "    print('Pred:' + str(d))\n",
        "    print('True:' + str(c))\n",
        "    out = 0\n",
        "    for index, x in enumerate(reversed(d)):\n",
        "      out += x * pow(2, index)\n",
        "    print(str(a_int) + ' + ' + str(b_int) + ' = ' + str(out) + ' (' + str(c_int) + ')')\n",
        "    print('------------------')"
      ],
      "metadata": {
        "id": "AG3yVa3-KU63",
        "outputId": "6fa2b721-1752-4546-ab44-c9cf9dc5476c",
        "colab": {
          "base_uri": "https://localhost:8080/"
        }
      },
      "execution_count": null,
      "outputs": [
        {
          "output_type": "stream",
          "name": "stdout",
          "text": [
            "Error:[4.13657696] step number - 0\n",
            "Pred:[1 1 1 1 1 1 1 0]\n",
            "True:[1 0 0 0 0 1 1 1]\n",
            "16 + 119 = 254 (135)\n",
            "------------------\n",
            "Error:[4.01253469] step number - 500\n",
            "Pred:[1 0 1 0 0 0 1 0]\n",
            "True:[0 1 0 1 0 1 1 0]\n",
            "1 + 85 = 162 (86)\n",
            "------------------\n",
            "Error:[3.92709191] step number - 1000\n",
            "Pred:[0 1 1 0 1 0 0 1]\n",
            "True:[0 1 1 1 0 1 0 1]\n",
            "84 + 33 = 105 (117)\n",
            "------------------\n",
            "Error:[3.99377356] step number - 1500\n",
            "Pred:[0 0 1 1 1 1 1 1]\n",
            "True:[0 0 1 0 0 0 1 0]\n",
            "19 + 15 = 63 (34)\n",
            "------------------\n",
            "Error:[3.56358919] step number - 2000\n",
            "Pred:[1 0 0 1 1 1 0 1]\n",
            "True:[1 0 0 1 0 1 1 1]\n",
            "73 + 78 = 157 (151)\n",
            "------------------\n",
            "Error:[3.53543702] step number - 2500\n",
            "Pred:[1 1 0 1 1 1 0 0]\n",
            "True:[1 1 0 1 1 0 0 0]\n",
            "114 + 102 = 220 (216)\n",
            "------------------\n",
            "Error:[3.85826392] step number - 3000\n",
            "Pred:[0 1 1 0 1 1 1 0]\n",
            "True:[0 1 0 1 0 0 0 0]\n",
            "55 + 25 = 110 (80)\n",
            "------------------\n",
            "Error:[2.80869365] step number - 3500\n",
            "Pred:[1 1 0 0 1 0 1 1]\n",
            "True:[1 0 0 0 1 0 1 1]\n",
            "87 + 52 = 203 (139)\n",
            "------------------\n",
            "Error:[1.35924372] step number - 4000\n",
            "Pred:[0 0 1 0 0 1 1 0]\n",
            "True:[0 0 1 0 0 1 1 0]\n",
            "5 + 33 = 38 (38)\n",
            "------------------\n",
            "Error:[2.24717247] step number - 4500\n",
            "Pred:[1 1 0 1 0 1 0 0]\n",
            "True:[1 1 0 1 0 1 0 0]\n",
            "87 + 125 = 212 (212)\n",
            "------------------\n",
            "Error:[2.43904744] step number - 5000\n",
            "Pred:[1 0 0 0 1 1 1 1]\n",
            "True:[1 0 0 0 1 1 1 1]\n",
            "85 + 58 = 143 (143)\n",
            "------------------\n",
            "Error:[2.64525512] step number - 5500\n",
            "Pred:[1 0 1 0 0 0 0 0]\n",
            "True:[1 1 0 0 0 0 0 0]\n",
            "117 + 75 = 160 (192)\n",
            "------------------\n",
            "Error:[0.45875706] step number - 6000\n",
            "Pred:[0 1 0 0 0 0 1 0]\n",
            "True:[0 1 0 0 0 0 1 0]\n",
            "66 + 0 = 66 (66)\n",
            "------------------\n",
            "Error:[0.795964] step number - 6500\n",
            "Pred:[0 1 0 1 0 0 0 0]\n",
            "True:[0 1 0 1 0 0 0 0]\n",
            "1 + 79 = 80 (80)\n",
            "------------------\n",
            "Error:[0.84624062] step number - 7000\n",
            "Pred:[0 1 1 1 0 0 0 1]\n",
            "True:[0 1 1 1 0 0 0 1]\n",
            "8 + 105 = 113 (113)\n",
            "------------------\n",
            "Error:[0.63278453] step number - 7500\n",
            "Pred:[1 0 1 0 1 1 1 0]\n",
            "True:[1 0 1 0 1 1 1 0]\n",
            "91 + 83 = 174 (174)\n",
            "------------------\n",
            "Error:[0.55036871] step number - 8000\n",
            "Pred:[0 1 1 1 0 0 0 1]\n",
            "True:[0 1 1 1 0 0 0 1]\n",
            "5 + 108 = 113 (113)\n",
            "------------------\n",
            "Error:[0.20466192] step number - 8500\n",
            "Pred:[0 1 1 1 1 1 1 0]\n",
            "True:[0 1 1 1 1 1 1 0]\n",
            "3 + 123 = 126 (126)\n",
            "------------------\n",
            "Error:[0.98354396] step number - 9000\n",
            "Pred:[1 0 1 0 0 0 0 0]\n",
            "True:[1 0 1 0 0 0 0 0]\n",
            "94 + 66 = 160 (160)\n",
            "------------------\n",
            "Error:[0.34043679] step number - 9500\n",
            "Pred:[0 0 0 1 0 0 1 1]\n",
            "True:[0 0 0 1 0 0 1 1]\n",
            "12 + 7 = 19 (19)\n",
            "------------------\n"
          ]
        }
      ]
    },
    {
      "cell_type": "code",
      "source": [
        "a_int = int(input('Первое число ?'))\n",
        "a = int2binary[a_int] # Бинарное кодирование\n",
        "b_int = int(input('Второе число ?'))\n",
        "b = int2binary[b_int] # Бинарное кодирование\n",
        "# c_int = a_int + b_int\n",
        "# c = int2binary[c_int]\n",
        "d = np.zeros_like(a)\n",
        "layer_2_deltas = list()\n",
        "layer_1_values = list()\n",
        "layer_1_values.append(np.zeros(hidden_dim))\n",
        "\n",
        "for position in range(binary_dim):\n",
        "\t# input and output generation\n",
        "\tX = np.array([[a[binary_dim - position - 1], b[binary_dim - position - 1]]])\n",
        "\n",
        "\t# Внутренний слой (input + предыдущий внутренний)\n",
        "\tlayer_1 = sigmoid(np.dot(X, synapse_0) + np.dot(layer_1_values[-1], synapse_h))\n",
        "\n",
        "\t# Output layer (новое бинарное представление)\n",
        "\tlayer_2 = sigmoid(np.dot(layer_1, synapse_1))\n",
        "\n",
        "\t# Декодируем оценку чтобы мы могли ее вывести на экран\n",
        "\td[binary_dim - position - 1] = np.round(layer_2[0][0])\n",
        "\tlayer_1_values.append(copy.deepcopy(layer_1))\n",
        "\n",
        "out = 0\n",
        "for index, x in enumerate(reversed(d)):\n",
        "\tout += x * pow(2, index)\n",
        "print(f'Ответ - {out}')"
      ],
      "metadata": {
        "id": "BuqKJ2rSeDAD",
        "colab": {
          "base_uri": "https://localhost:8080/"
        },
        "outputId": "66c5b81c-836f-4e5e-9096-9210746d0ec4"
      },
      "execution_count": null,
      "outputs": [
        {
          "output_type": "stream",
          "name": "stdout",
          "text": [
            "Первое число ?4\n",
            "Второе число ?67\n",
            "Ответ - 71\n"
          ]
        }
      ]
    },
    {
      "cell_type": "markdown",
      "source": [
        "Второй учебный пример реализации LSTM"
      ],
      "metadata": {
        "id": "P2E1IQ2ULZl3"
      }
    },
    {
      "cell_type": "code",
      "source": [
        "!pip install tensorflow"
      ],
      "metadata": {
        "colab": {
          "base_uri": "https://localhost:8080/"
        },
        "id": "z4SUsgMF1dks",
        "outputId": "5a48a33a-d181-4635-f1c3-1950f29d9e1f"
      },
      "execution_count": null,
      "outputs": [
        {
          "output_type": "stream",
          "name": "stdout",
          "text": [
            "Requirement already satisfied: tensorflow in /usr/local/lib/python3.10/dist-packages (2.15.0)\n",
            "Requirement already satisfied: absl-py>=1.0.0 in /usr/local/lib/python3.10/dist-packages (from tensorflow) (1.4.0)\n",
            "Requirement already satisfied: astunparse>=1.6.0 in /usr/local/lib/python3.10/dist-packages (from tensorflow) (1.6.3)\n",
            "Requirement already satisfied: flatbuffers>=23.5.26 in /usr/local/lib/python3.10/dist-packages (from tensorflow) (24.3.7)\n",
            "Requirement already satisfied: gast!=0.5.0,!=0.5.1,!=0.5.2,>=0.2.1 in /usr/local/lib/python3.10/dist-packages (from tensorflow) (0.5.4)\n",
            "Requirement already satisfied: google-pasta>=0.1.1 in /usr/local/lib/python3.10/dist-packages (from tensorflow) (0.2.0)\n",
            "Requirement already satisfied: h5py>=2.9.0 in /usr/local/lib/python3.10/dist-packages (from tensorflow) (3.9.0)\n",
            "Requirement already satisfied: libclang>=13.0.0 in /usr/local/lib/python3.10/dist-packages (from tensorflow) (16.0.6)\n",
            "Requirement already satisfied: ml-dtypes~=0.2.0 in /usr/local/lib/python3.10/dist-packages (from tensorflow) (0.2.0)\n",
            "Requirement already satisfied: numpy<2.0.0,>=1.23.5 in /usr/local/lib/python3.10/dist-packages (from tensorflow) (1.25.2)\n",
            "Requirement already satisfied: opt-einsum>=2.3.2 in /usr/local/lib/python3.10/dist-packages (from tensorflow) (3.3.0)\n",
            "Requirement already satisfied: packaging in /usr/local/lib/python3.10/dist-packages (from tensorflow) (24.0)\n",
            "Requirement already satisfied: protobuf!=4.21.0,!=4.21.1,!=4.21.2,!=4.21.3,!=4.21.4,!=4.21.5,<5.0.0dev,>=3.20.3 in /usr/local/lib/python3.10/dist-packages (from tensorflow) (3.20.3)\n",
            "Requirement already satisfied: setuptools in /usr/local/lib/python3.10/dist-packages (from tensorflow) (67.7.2)\n",
            "Requirement already satisfied: six>=1.12.0 in /usr/local/lib/python3.10/dist-packages (from tensorflow) (1.16.0)\n",
            "Requirement already satisfied: termcolor>=1.1.0 in /usr/local/lib/python3.10/dist-packages (from tensorflow) (2.4.0)\n",
            "Requirement already satisfied: typing-extensions>=3.6.6 in /usr/local/lib/python3.10/dist-packages (from tensorflow) (4.10.0)\n",
            "Requirement already satisfied: wrapt<1.15,>=1.11.0 in /usr/local/lib/python3.10/dist-packages (from tensorflow) (1.14.1)\n",
            "Requirement already satisfied: tensorflow-io-gcs-filesystem>=0.23.1 in /usr/local/lib/python3.10/dist-packages (from tensorflow) (0.36.0)\n",
            "Requirement already satisfied: grpcio<2.0,>=1.24.3 in /usr/local/lib/python3.10/dist-packages (from tensorflow) (1.62.1)\n",
            "Requirement already satisfied: tensorboard<2.16,>=2.15 in /usr/local/lib/python3.10/dist-packages (from tensorflow) (2.15.2)\n",
            "Requirement already satisfied: tensorflow-estimator<2.16,>=2.15.0 in /usr/local/lib/python3.10/dist-packages (from tensorflow) (2.15.0)\n",
            "Requirement already satisfied: keras<2.16,>=2.15.0 in /usr/local/lib/python3.10/dist-packages (from tensorflow) (2.15.0)\n",
            "Requirement already satisfied: wheel<1.0,>=0.23.0 in /usr/local/lib/python3.10/dist-packages (from astunparse>=1.6.0->tensorflow) (0.43.0)\n",
            "Requirement already satisfied: google-auth<3,>=1.6.3 in /usr/local/lib/python3.10/dist-packages (from tensorboard<2.16,>=2.15->tensorflow) (2.27.0)\n",
            "Requirement already satisfied: google-auth-oauthlib<2,>=0.5 in /usr/local/lib/python3.10/dist-packages (from tensorboard<2.16,>=2.15->tensorflow) (1.2.0)\n",
            "Requirement already satisfied: markdown>=2.6.8 in /usr/local/lib/python3.10/dist-packages (from tensorboard<2.16,>=2.15->tensorflow) (3.5.2)\n",
            "Requirement already satisfied: requests<3,>=2.21.0 in /usr/local/lib/python3.10/dist-packages (from tensorboard<2.16,>=2.15->tensorflow) (2.31.0)\n",
            "Requirement already satisfied: tensorboard-data-server<0.8.0,>=0.7.0 in /usr/local/lib/python3.10/dist-packages (from tensorboard<2.16,>=2.15->tensorflow) (0.7.2)\n",
            "Requirement already satisfied: werkzeug>=1.0.1 in /usr/local/lib/python3.10/dist-packages (from tensorboard<2.16,>=2.15->tensorflow) (3.0.1)\n",
            "Requirement already satisfied: cachetools<6.0,>=2.0.0 in /usr/local/lib/python3.10/dist-packages (from google-auth<3,>=1.6.3->tensorboard<2.16,>=2.15->tensorflow) (5.3.3)\n",
            "Requirement already satisfied: pyasn1-modules>=0.2.1 in /usr/local/lib/python3.10/dist-packages (from google-auth<3,>=1.6.3->tensorboard<2.16,>=2.15->tensorflow) (0.3.0)\n",
            "Requirement already satisfied: rsa<5,>=3.1.4 in /usr/local/lib/python3.10/dist-packages (from google-auth<3,>=1.6.3->tensorboard<2.16,>=2.15->tensorflow) (4.9)\n",
            "Requirement already satisfied: requests-oauthlib>=0.7.0 in /usr/local/lib/python3.10/dist-packages (from google-auth-oauthlib<2,>=0.5->tensorboard<2.16,>=2.15->tensorflow) (1.4.0)\n",
            "Requirement already satisfied: charset-normalizer<4,>=2 in /usr/local/lib/python3.10/dist-packages (from requests<3,>=2.21.0->tensorboard<2.16,>=2.15->tensorflow) (3.3.2)\n",
            "Requirement already satisfied: idna<4,>=2.5 in /usr/local/lib/python3.10/dist-packages (from requests<3,>=2.21.0->tensorboard<2.16,>=2.15->tensorflow) (3.6)\n",
            "Requirement already satisfied: urllib3<3,>=1.21.1 in /usr/local/lib/python3.10/dist-packages (from requests<3,>=2.21.0->tensorboard<2.16,>=2.15->tensorflow) (2.0.7)\n",
            "Requirement already satisfied: certifi>=2017.4.17 in /usr/local/lib/python3.10/dist-packages (from requests<3,>=2.21.0->tensorboard<2.16,>=2.15->tensorflow) (2024.2.2)\n",
            "Requirement already satisfied: MarkupSafe>=2.1.1 in /usr/local/lib/python3.10/dist-packages (from werkzeug>=1.0.1->tensorboard<2.16,>=2.15->tensorflow) (2.1.5)\n",
            "Requirement already satisfied: pyasn1<0.6.0,>=0.4.6 in /usr/local/lib/python3.10/dist-packages (from pyasn1-modules>=0.2.1->google-auth<3,>=1.6.3->tensorboard<2.16,>=2.15->tensorflow) (0.5.1)\n",
            "Requirement already satisfied: oauthlib>=3.0.0 in /usr/local/lib/python3.10/dist-packages (from requests-oauthlib>=0.7.0->google-auth-oauthlib<2,>=0.5->tensorboard<2.16,>=2.15->tensorflow) (3.2.2)\n"
          ]
        }
      ]
    },
    {
      "cell_type": "code",
      "source": [
        "from tensorflow.keras.models import Model\n",
        "from tensorflow.keras.datasets import mnist\n",
        "from tensorflow.keras.layers import Input, GRU, SimpleRNN, LSTM, concatenate, Activation, MaxPooling2D, Conv2D, BatchNormalization, Dense\n",
        "from tensorflow.keras import backend as K\n",
        "from tensorflow.keras.optimizers import Adam\n",
        "from tensorflow.keras import utils\n",
        "from google.colab import files\n",
        "import matplotlib.pyplot as plt\n",
        "from tensorflow.keras.preprocessing import image\n",
        "import numpy as np\n",
        "from PIL import Image\n",
        "import tensorflow as tf"
      ],
      "metadata": {
        "id": "Bvjont4NLZMx"
      },
      "execution_count": null,
      "outputs": []
    },
    {
      "cell_type": "code",
      "source": [
        "xLen = 10 # длина истории\n",
        "n=5 # длина вектора данных\n",
        "\n",
        "x = Input(shape = (xLen, n,))\n",
        "y = LSTM(32, return_sequences = True)(x)\n",
        "y1 = LSTM(32, return_sequences = False)(y)"
      ],
      "metadata": {
        "id": "iGCloUBZLg3s"
      },
      "execution_count": null,
      "outputs": []
    },
    {
      "cell_type": "code",
      "source": [
        "y"
      ],
      "metadata": {
        "colab": {
          "base_uri": "https://localhost:8080/"
        },
        "id": "p64APEqWuhV8",
        "outputId": "6cc288f7-7476-40a9-f2b3-d5535baf5f30"
      },
      "execution_count": null,
      "outputs": [
        {
          "output_type": "execute_result",
          "data": {
            "text/plain": [
              "<KerasTensor: shape=(None, 10, 32) dtype=float32 (created by layer 'lstm')>"
            ]
          },
          "metadata": {},
          "execution_count": 16
        }
      ]
    },
    {
      "cell_type": "code",
      "source": [
        "y1"
      ],
      "metadata": {
        "colab": {
          "base_uri": "https://localhost:8080/"
        },
        "id": "xM4Arkc8uXdz",
        "outputId": "812bc26c-5b0b-4577-e8e2-55a16f789866"
      },
      "execution_count": null,
      "outputs": [
        {
          "output_type": "execute_result",
          "data": {
            "text/plain": [
              "<KerasTensor: shape=(None, 32) dtype=float32 (created by layer 'lstm_1')>"
            ]
          },
          "metadata": {},
          "execution_count": 17
        }
      ]
    },
    {
      "cell_type": "code",
      "source": [
        "model = Model(x, y1)\n",
        "model.compile(loss = 'mse', optimizer = 'Adam', metrics = ['mse'])"
      ],
      "metadata": {
        "id": "JOnYj4KrLl7o"
      },
      "execution_count": null,
      "outputs": []
    },
    {
      "cell_type": "code",
      "source": [
        "xx = np.random.randn(1, xLen, n)\n",
        "y.shape, xx.shape\n",
        "yy = model.predict(xx)"
      ],
      "metadata": {
        "colab": {
          "base_uri": "https://localhost:8080/"
        },
        "id": "n8rvXReHNiko",
        "outputId": "58ad4726-3e91-413e-ea7d-b7e1d753afa1"
      },
      "execution_count": null,
      "outputs": [
        {
          "output_type": "stream",
          "name": "stdout",
          "text": [
            "1/1 [==============================] - 1s 982ms/step\n"
          ]
        }
      ]
    },
    {
      "cell_type": "code",
      "source": [
        "yy.shape"
      ],
      "metadata": {
        "colab": {
          "base_uri": "https://localhost:8080/"
        },
        "id": "6ZpLVn2RvEVL",
        "outputId": "49fd163c-f3bf-48a6-edd0-2585851254b6"
      },
      "execution_count": null,
      "outputs": [
        {
          "output_type": "execute_result",
          "data": {
            "text/plain": [
              "(1, 32)"
            ]
          },
          "metadata": {},
          "execution_count": 20
        }
      ]
    },
    {
      "cell_type": "code",
      "source": [
        "xx.shape"
      ],
      "metadata": {
        "colab": {
          "base_uri": "https://localhost:8080/"
        },
        "id": "cEzW21CwXhdF",
        "outputId": "c6ac5688-07e0-422a-9ebc-019ff68ebde9"
      },
      "execution_count": null,
      "outputs": [
        {
          "output_type": "execute_result",
          "data": {
            "text/plain": [
              "(1, 10, 5)"
            ]
          },
          "metadata": {},
          "execution_count": 21
        }
      ]
    },
    {
      "cell_type": "markdown",
      "source": [
        "более прагматичный вариант"
      ],
      "metadata": {
        "id": "5ySmFipcvMXS"
      }
    },
    {
      "cell_type": "code",
      "source": [
        "N = 300\n",
        "t = np.linspace(0, 30, N).reshape((N, 1))\n",
        "x = np.sin(t) + t*0.2\n",
        "n = 2\n",
        "xLen = 15\n",
        "\n",
        "plt.plot(t[0:xLen], x[0:xLen], '.-b')\n",
        "\n",
        "h = 1 #горизонт прогноза\n",
        "xx = []\n",
        "y = []\n",
        "for i in range(N-xLen - h):\n",
        "\txx.append(np.concatenate((t[i:xLen + i], x[i:xLen + i])).reshape((xLen, 2)))\n",
        "\ty.append(x[i + h + xLen - 1])\n",
        "xx = np.array(xx)\n",
        "y = np.array(y)\n",
        "\n",
        "plt.plot(t[xLen + h -1], y[0], '.r')\n",
        "plt.show()\n",
        "y.shape, xx.shape"
      ],
      "metadata": {
        "colab": {
          "base_uri": "https://localhost:8080/",
          "height": 448
        },
        "id": "MI7_ruDaN8tG",
        "outputId": "58c2bb2f-9081-4b1a-cbac-a26810db3e37"
      },
      "execution_count": null,
      "outputs": [
        {
          "output_type": "display_data",
          "data": {
            "text/plain": [
              "<Figure size 640x480 with 1 Axes>"
            ],
            "image/png": "[encoded data removed]"
          },
          "metadata": {}
        },
        {
          "output_type": "execute_result",
          "data": {
            "text/plain": [
              "((284, 1), (284, 15, 2))"
            ]
          },
          "metadata": {},
          "execution_count": 13
        }
      ]
    },
    {
      "cell_type": "code",
      "source": [
        "x_in = Input(shape = (xLen, n, ))\n",
        "y_out = LSTM(164, return_sequences = False)(x_in)\n",
        "y_out = Dense(1, activation = 'linear')(y_out)\n",
        "\n",
        "model = Model(x_in, y_out)\n",
        "model.compile(loss = 'mse', optimizer = 'Adam', metrics = ['mse'])"
      ],
      "metadata": {
        "id": "b_UAqfhPbJLA"
      },
      "execution_count": null,
      "outputs": []
    },
    {
      "cell_type": "code",
      "source": [
        "x_in"
      ],
      "metadata": {
        "colab": {
          "base_uri": "https://localhost:8080/"
        },
        "id": "QJ966d7xbNXz",
        "outputId": "e4af4d8f-a19a-4a62-bcea-56b81d6077fa"
      },
      "execution_count": null,
      "outputs": [
        {
          "output_type": "execute_result",
          "data": {
            "text/plain": [
              "<KerasTensor: shape=(None, 15, 2) dtype=float32 (created by layer 'input_3')>"
            ]
          },
          "metadata": {},
          "execution_count": 15
        }
      ]
    },
    {
      "cell_type": "code",
      "source": [
        "xx.shape"
      ],
      "metadata": {
        "colab": {
          "base_uri": "https://localhost:8080/"
        },
        "id": "B_oA_q-GgihK",
        "outputId": "6dc1be38-6108-4a33-fdde-9db6c352d1b0"
      },
      "execution_count": null,
      "outputs": [
        {
          "output_type": "execute_result",
          "data": {
            "text/plain": [
              "(284, 15, 2)"
            ]
          },
          "metadata": {},
          "execution_count": 16
        }
      ]
    },
    {
      "cell_type": "code",
      "source": [
        "test_n = 200\n",
        "model.fit(xx[:test_n, :, :], y[:test_n], epochs = 20)"
      ],
      "metadata": {
        "colab": {
          "base_uri": "https://localhost:8080/"
        },
        "id": "UqJGfNiibKXN",
        "outputId": "4db0f518-3c9a-42e1-a67b-5d024120765e"
      },
      "execution_count": null,
      "outputs": [
        {
          "output_type": "stream",
          "name": "stdout",
          "text": [
            "Epoch 1/20\n",
            "7/7 [==============================] - 3s 12ms/step - loss: 3.1498 - mse: 3.1498\n",
            "Epoch 2/20\n",
            "7/7 [==============================] - 0s 6ms/step - loss: 0.7501 - mse: 0.7501\n",
            "Epoch 3/20\n",
            "7/7 [==============================] - 0s 5ms/step - loss: 0.5046 - mse: 0.5046\n",
            "Epoch 4/20\n",
            "7/7 [==============================] - 0s 5ms/step - loss: 0.2669 - mse: 0.2669\n",
            "Epoch 5/20\n",
            "7/7 [==============================] - 0s 5ms/step - loss: 0.2329 - mse: 0.2329\n",
            "Epoch 6/20\n",
            "7/7 [==============================] - 0s 5ms/step - loss: 0.1751 - mse: 0.1751\n",
            "Epoch 7/20\n",
            "7/7 [==============================] - 0s 5ms/step - loss: 0.1661 - mse: 0.1661\n",
            "Epoch 8/20\n",
            "7/7 [==============================] - 0s 5ms/step - loss: 0.1418 - mse: 0.1418\n",
            "Epoch 9/20\n",
            "7/7 [==============================] - 0s 5ms/step - loss: 0.1342 - mse: 0.1342\n",
            "Epoch 10/20\n",
            "7/7 [==============================] - 0s 5ms/step - loss: 0.1211 - mse: 0.1211\n",
            "Epoch 11/20\n",
            "7/7 [==============================] - 0s 5ms/step - loss: 0.1113 - mse: 0.1113\n",
            "Epoch 12/20\n",
            "7/7 [==============================] - 0s 5ms/step - loss: 0.1042 - mse: 0.1042\n",
            "Epoch 13/20\n",
            "7/7 [==============================] - 0s 5ms/step - loss: 0.0893 - mse: 0.0893\n",
            "Epoch 14/20\n",
            "7/7 [==============================] - 0s 5ms/step - loss: 0.0779 - mse: 0.0779\n",
            "Epoch 15/20\n",
            "7/7 [==============================] - 0s 5ms/step - loss: 0.0707 - mse: 0.0707\n",
            "Epoch 16/20\n",
            "7/7 [==============================] - 0s 5ms/step - loss: 0.0773 - mse: 0.0773\n",
            "Epoch 17/20\n",
            "7/7 [==============================] - 0s 5ms/step - loss: 0.0655 - mse: 0.0655\n",
            "Epoch 18/20\n",
            "7/7 [==============================] - 0s 5ms/step - loss: 0.0481 - mse: 0.0481\n",
            "Epoch 19/20\n",
            "7/7 [==============================] - 0s 5ms/step - loss: 0.0412 - mse: 0.0412\n",
            "Epoch 20/20\n",
            "7/7 [==============================] - 0s 5ms/step - loss: 0.0339 - mse: 0.0339\n"
          ]
        },
        {
          "output_type": "execute_result",
          "data": {
            "text/plain": [
              "<keras.src.callbacks.History at 0x7defc03a4b80>"
            ]
          },
          "metadata": {},
          "execution_count": 17
        }
      ]
    },
    {
      "cell_type": "code",
      "source": [
        "ypred = model.predict(xx[test_n:, :, :])"
      ],
      "metadata": {
        "colab": {
          "base_uri": "https://localhost:8080/"
        },
        "id": "r05QEhCrcNoY",
        "outputId": "e98bcd05-cd14-451f-a5af-d01d85347d03"
      },
      "execution_count": null,
      "outputs": [
        {
          "output_type": "stream",
          "name": "stdout",
          "text": [
            "3/3 [==============================] - 0s 6ms/step\n"
          ]
        }
      ]
    },
    {
      "cell_type": "code",
      "source": [
        "plt.plot(ypred, '.r', label = 'predict')\n",
        "plt.plot(y[test_n:], 'g', label = 'true')\n",
        "plt.xlabel('t')\n",
        "plt.ylabel('y')\n",
        "plt.legend()\n",
        "plt.grid()\n",
        "plt.show()"
      ],
      "metadata": {
        "colab": {
          "base_uri": "https://localhost:8080/",
          "height": 449
        },
        "id": "wD_Pidx5bdiK",
        "outputId": "b3e05e03-d191-4523-a972-4fe2f2bff528"
      },
      "execution_count": null,
      "outputs": [
        {
          "output_type": "display_data",
          "data": {
            "text/plain": [
              "<Figure size 640x480 with 1 Axes>"
            ],
            "image/png": "[encoded data removed]"
          },
          "metadata": {}
        }
      ]
    },
    {
      "cell_type": "markdown",
      "source": [
        "более прикладное - генерация текста"
      ],
      "metadata": {
        "id": "s2Fgb99Qv1pK"
      }
    },
    {
      "cell_type": "code",
      "source": [
        "!pip install tensorflow"
      ],
      "metadata": {
        "colab": {
          "base_uri": "https://localhost:8080/"
        },
        "id": "tc_fhF4A2bJg",
        "outputId": "6c77809f-c7f6-4545-b112-ff1a90fac096"
      },
      "execution_count": null,
      "outputs": [
        {
          "output_type": "stream",
          "name": "stdout",
          "text": [
            "Requirement already satisfied: tensorflow in /usr/local/lib/python3.10/dist-packages (2.15.0)\n",
            "Requirement already satisfied: absl-py>=1.0.0 in /usr/local/lib/python3.10/dist-packages (from tensorflow) (1.4.0)\n",
            "Requirement already satisfied: astunparse>=1.6.0 in /usr/local/lib/python3.10/dist-packages (from tensorflow) (1.6.3)\n",
            "Requirement already satisfied: flatbuffers>=23.5.26 in /usr/local/lib/python3.10/dist-packages (from tensorflow) (24.3.7)\n",
            "Requirement already satisfied: gast!=0.5.0,!=0.5.1,!=0.5.2,>=0.2.1 in /usr/local/lib/python3.10/dist-packages (from tensorflow) (0.5.4)\n",
            "Requirement already satisfied: google-pasta>=0.1.1 in /usr/local/lib/python3.10/dist-packages (from tensorflow) (0.2.0)\n",
            "Requirement already satisfied: h5py>=2.9.0 in /usr/local/lib/python3.10/dist-packages (from tensorflow) (3.9.0)\n",
            "Requirement already satisfied: libclang>=13.0.0 in /usr/local/lib/python3.10/dist-packages (from tensorflow) (16.0.6)\n",
            "Requirement already satisfied: ml-dtypes~=0.2.0 in /usr/local/lib/python3.10/dist-packages (from tensorflow) (0.2.0)\n",
            "Requirement already satisfied: numpy<2.0.0,>=1.23.5 in /usr/local/lib/python3.10/dist-packages (from tensorflow) (1.25.2)\n",
            "Requirement already satisfied: opt-einsum>=2.3.2 in /usr/local/lib/python3.10/dist-packages (from tensorflow) (3.3.0)\n",
            "Requirement already satisfied: packaging in /usr/local/lib/python3.10/dist-packages (from tensorflow) (24.0)\n",
            "Requirement already satisfied: protobuf!=4.21.0,!=4.21.1,!=4.21.2,!=4.21.3,!=4.21.4,!=4.21.5,<5.0.0dev,>=3.20.3 in /usr/local/lib/python3.10/dist-packages (from tensorflow) (3.20.3)\n",
            "Requirement already satisfied: setuptools in /usr/local/lib/python3.10/dist-packages (from tensorflow) (67.7.2)\n",
            "Requirement already satisfied: six>=1.12.0 in /usr/local/lib/python3.10/dist-packages (from tensorflow) (1.16.0)\n",
            "Requirement already satisfied: termcolor>=1.1.0 in /usr/local/lib/python3.10/dist-packages (from tensorflow) (2.4.0)\n",
            "Requirement already satisfied: typing-extensions>=3.6.6 in /usr/local/lib/python3.10/dist-packages (from tensorflow) (4.10.0)\n",
            "Requirement already satisfied: wrapt<1.15,>=1.11.0 in /usr/local/lib/python3.10/dist-packages (from tensorflow) (1.14.1)\n",
            "Requirement already satisfied: tensorflow-io-gcs-filesystem>=0.23.1 in /usr/local/lib/python3.10/dist-packages (from tensorflow) (0.36.0)\n",
            "Requirement already satisfied: grpcio<2.0,>=1.24.3 in /usr/local/lib/python3.10/dist-packages (from tensorflow) (1.62.1)\n",
            "Requirement already satisfied: tensorboard<2.16,>=2.15 in /usr/local/lib/python3.10/dist-packages (from tensorflow) (2.15.2)\n",
            "Requirement already satisfied: tensorflow-estimator<2.16,>=2.15.0 in /usr/local/lib/python3.10/dist-packages (from tensorflow) (2.15.0)\n",
            "Requirement already satisfied: keras<2.16,>=2.15.0 in /usr/local/lib/python3.10/dist-packages (from tensorflow) (2.15.0)\n",
            "Requirement already satisfied: wheel<1.0,>=0.23.0 in /usr/local/lib/python3.10/dist-packages (from astunparse>=1.6.0->tensorflow) (0.43.0)\n",
            "Requirement already satisfied: google-auth<3,>=1.6.3 in /usr/local/lib/python3.10/dist-packages (from tensorboard<2.16,>=2.15->tensorflow) (2.27.0)\n",
            "Requirement already satisfied: google-auth-oauthlib<2,>=0.5 in /usr/local/lib/python3.10/dist-packages (from tensorboard<2.16,>=2.15->tensorflow) (1.2.0)\n",
            "Requirement already satisfied: markdown>=2.6.8 in /usr/local/lib/python3.10/dist-packages (from tensorboard<2.16,>=2.15->tensorflow) (3.5.2)\n",
            "Requirement already satisfied: requests<3,>=2.21.0 in /usr/local/lib/python3.10/dist-packages (from tensorboard<2.16,>=2.15->tensorflow) (2.31.0)\n",
            "Requirement already satisfied: tensorboard-data-server<0.8.0,>=0.7.0 in /usr/local/lib/python3.10/dist-packages (from tensorboard<2.16,>=2.15->tensorflow) (0.7.2)\n",
            "Requirement already satisfied: werkzeug>=1.0.1 in /usr/local/lib/python3.10/dist-packages (from tensorboard<2.16,>=2.15->tensorflow) (3.0.1)\n",
            "Requirement already satisfied: cachetools<6.0,>=2.0.0 in /usr/local/lib/python3.10/dist-packages (from google-auth<3,>=1.6.3->tensorboard<2.16,>=2.15->tensorflow) (5.3.3)\n",
            "Requirement already satisfied: pyasn1-modules>=0.2.1 in /usr/local/lib/python3.10/dist-packages (from google-auth<3,>=1.6.3->tensorboard<2.16,>=2.15->tensorflow) (0.3.0)\n",
            "Requirement already satisfied: rsa<5,>=3.1.4 in /usr/local/lib/python3.10/dist-packages (from google-auth<3,>=1.6.3->tensorboard<2.16,>=2.15->tensorflow) (4.9)\n",
            "Requirement already satisfied: requests-oauthlib>=0.7.0 in /usr/local/lib/python3.10/dist-packages (from google-auth-oauthlib<2,>=0.5->tensorboard<2.16,>=2.15->tensorflow) (1.4.0)\n",
            "Requirement already satisfied: charset-normalizer<4,>=2 in /usr/local/lib/python3.10/dist-packages (from requests<3,>=2.21.0->tensorboard<2.16,>=2.15->tensorflow) (3.3.2)\n",
            "Requirement already satisfied: idna<4,>=2.5 in /usr/local/lib/python3.10/dist-packages (from requests<3,>=2.21.0->tensorboard<2.16,>=2.15->tensorflow) (3.6)\n",
            "Requirement already satisfied: urllib3<3,>=1.21.1 in /usr/local/lib/python3.10/dist-packages (from requests<3,>=2.21.0->tensorboard<2.16,>=2.15->tensorflow) (2.0.7)\n",
            "Requirement already satisfied: certifi>=2017.4.17 in /usr/local/lib/python3.10/dist-packages (from requests<3,>=2.21.0->tensorboard<2.16,>=2.15->tensorflow) (2024.2.2)\n",
            "Requirement already satisfied: MarkupSafe>=2.1.1 in /usr/local/lib/python3.10/dist-packages (from werkzeug>=1.0.1->tensorboard<2.16,>=2.15->tensorflow) (2.1.5)\n",
            "Requirement already satisfied: pyasn1<0.6.0,>=0.4.6 in /usr/local/lib/python3.10/dist-packages (from pyasn1-modules>=0.2.1->google-auth<3,>=1.6.3->tensorboard<2.16,>=2.15->tensorflow) (0.5.1)\n",
            "Requirement already satisfied: oauthlib>=3.0.0 in /usr/local/lib/python3.10/dist-packages (from requests-oauthlib>=0.7.0->google-auth-oauthlib<2,>=0.5->tensorboard<2.16,>=2.15->tensorflow) (3.2.2)\n"
          ]
        }
      ]
    },
    {
      "cell_type": "code",
      "source": [
        "from tensorflow.keras.preprocessing.sequence import pad_sequences\n",
        "from tensorflow.keras.layers import Embedding, LSTM, Dense, Dropout, Bidirectional\n",
        "from tensorflow.keras.preprocessing.text import Tokenizer\n",
        "from tensorflow.keras.models import Sequential\n",
        "from tensorflow.keras.optimizers import Adam\n",
        "from tensorflow.keras import regularizers\n",
        "import tensorflow.keras.utils as ku\n",
        "import numpy as np\n",
        "from tensorflow.keras.callbacks import EarlyStopping\n",
        "import matplotlib.pyplot as plt\n"
      ],
      "metadata": {
        "id": "O1zXT1Izo_6c"
      },
      "execution_count": null,
      "outputs": []
    },
    {
      "cell_type": "markdown",
      "source": [
        "Разбор текста токенизация"
      ],
      "metadata": {
        "id": "Dnf_g7AIp_58"
      }
    },
    {
      "cell_type": "code",
      "source": [
        "\n",
        "!wget https://gbcdn.mrgcdn.ru/uploads/asset/3196055/attachment/e4a02940fc8d378330731ae4f7eb7dd4.txt -O alice.txt"
      ],
      "metadata": {
        "colab": {
          "base_uri": "https://localhost:8080/"
        },
        "id": "9Mdpvb8KqDom",
        "outputId": "2c1addf7-b9ed-4ce6-b870-b13873eed3c4"
      },
      "execution_count": null,
      "outputs": [
        {
          "output_type": "stream",
          "name": "stdout",
          "text": [
            "--2024-04-11 14:33:50--  https://gbcdn.mrgcdn.ru/uploads/asset/3196055/attachment/e4a02940fc8d378330731ae4f7eb7dd4.txt\n",
            "Resolving gbcdn.mrgcdn.ru (gbcdn.mrgcdn.ru)... 5.181.61.0\n",
            "Connecting to gbcdn.mrgcdn.ru (gbcdn.mrgcdn.ru)|5.181.61.0|:443... connected.\n",
            "HTTP request sent, awaiting response... 200 OK\n",
            "Length: 169855 (166K) [text/plain]\n",
            "Saving to: ‘alice.txt’\n",
            "\n",
            "alice.txt           100%[===================>] 165.87K   478KB/s    in 0.3s    \n",
            "\n",
            "2024-04-11 14:33:51 (478 KB/s) - ‘alice.txt’ saved [169855/169855]\n",
            "\n"
          ]
        }
      ]
    },
    {
      "cell_type": "code",
      "source": [
        "tokenizer = Tokenizer(num_words=10000)\n",
        "data = open('alice.txt').read()\n",
        "corpus = data[711:].lower().split('\\n')"
      ],
      "metadata": {
        "id": "ha3WqI9Z0IrR"
      },
      "execution_count": null,
      "outputs": []
    },
    {
      "cell_type": "code",
      "source": [
        "tokenizer.fit_on_texts(corpus)\n",
        "total_words = len(tokenizer.word_index) + 1\n",
        "\n",
        "# create input sequences using list of tokens\n",
        "input_sequences = []\n",
        "for line in corpus:\n",
        "\ttoken_list = tokenizer.texts_to_sequences([line])[0]\n",
        "\tfor i in range(1, len(token_list)):\n",
        "\t\tn_gram_sequence = token_list[:i + 1]\n",
        "\t\tinput_sequences.append(n_gram_sequence)\n",
        "\n",
        "# pad sequences\n",
        "max_sequence_len = max([len(x) for x in input_sequences])\n",
        "input_sequences = np.array(pad_sequences(input_sequences, maxlen=max_sequence_len, padding='pre'))\n",
        "\n",
        "# create predictors and label\n",
        "predictors, label = input_sequences[:, :-1], input_sequences[:, -1]\n",
        "label = ku.to_categorical(label, num_classes=total_words)\n"
      ],
      "metadata": {
        "id": "ZDTOVxHR1TwY"
      },
      "execution_count": null,
      "outputs": []
    },
    {
      "cell_type": "code",
      "source": [
        "token_list"
      ],
      "metadata": {
        "colab": {
          "base_uri": "https://localhost:8080/"
        },
        "id": "uutFhdBZ4yg6",
        "outputId": "8af51d66-aaf1-4472-8323-4e42e81b4afe"
      },
      "execution_count": null,
      "outputs": [
        {
          "output_type": "execute_result",
          "data": {
            "text/plain": [
              "[3382, 4, 364, 1299, 3383, 4, 276, 38, 493, 619]"
            ]
          },
          "metadata": {},
          "execution_count": 23
        }
      ]
    },
    {
      "cell_type": "code",
      "source": [
        "tokenizer.index_word[12]"
      ],
      "metadata": {
        "colab": {
          "base_uri": "https://localhost:8080/",
          "height": 36
        },
        "id": "v-35g9Dl43S_",
        "outputId": "29e971d3-efd6-4e8c-a586-97b74b4ee94c"
      },
      "execution_count": null,
      "outputs": [
        {
          "output_type": "execute_result",
          "data": {
            "text/plain": [
              "'alice'"
            ],
            "application/vnd.google.colaboratory.intrinsic+json": {
              "type": "string"
            }
          },
          "metadata": {},
          "execution_count": 24
        }
      ]
    },
    {
      "cell_type": "code",
      "source": [
        "tokenizer.word_index['love']"
      ],
      "metadata": {
        "colab": {
          "base_uri": "https://localhost:8080/"
        },
        "id": "mOOmy0C143ce",
        "outputId": "5af84889-8c19-4f07-ca56-f7455cf07773"
      },
      "execution_count": null,
      "outputs": [
        {
          "output_type": "execute_result",
          "data": {
            "text/plain": [
              "1054"
            ]
          },
          "metadata": {},
          "execution_count": 25
        }
      ]
    },
    {
      "cell_type": "code",
      "source": [
        "input_sequences[5:15,:]"
      ],
      "metadata": {
        "colab": {
          "base_uri": "https://localhost:8080/"
        },
        "id": "y9dAh0Ro43mt",
        "outputId": "a66a714f-25ac-468b-f164-d6a889aa38df"
      },
      "execution_count": null,
      "outputs": [
        {
          "output_type": "execute_result",
          "data": {
            "text/plain": [
              "array([[  0,   0,   0,   0,   0,   0,   0,   0,   0,   0,   0,   0,   0,\n",
              "          0,   0,   0,  12,  13],\n",
              "       [  0,   0,   0,   0,   0,   0,   0,   0,   0,   0,   0,   0,   0,\n",
              "          0,   0,  12,  13, 275],\n",
              "       [  0,   0,   0,   0,   0,   0,   0,   0,   0,   0,   0,   0,   0,\n",
              "          0,  12,  13, 275,   4],\n",
              "       [  0,   0,   0,   0,   0,   0,   0,   0,   0,   0,   0,   0,   0,\n",
              "         12,  13, 275,   4, 116],\n",
              "       [  0,   0,   0,   0,   0,   0,   0,   0,   0,   0,   0,   0,  12,\n",
              "         13, 275,   4, 116,  29],\n",
              "       [  0,   0,   0,   0,   0,   0,   0,   0,   0,   0,   0,  12,  13,\n",
              "        275,   4, 116,  29, 550],\n",
              "       [  0,   0,   0,   0,   0,   0,   0,   0,   0,   0,  12,  13, 275,\n",
              "          4, 116,  29, 550,   6],\n",
              "       [  0,   0,   0,   0,   0,   0,   0,   0,   0,  12,  13, 275,   4,\n",
              "        116,  29, 550,   6, 405],\n",
              "       [  0,   0,   0,   0,   0,   0,   0,   0,  12,  13, 275,   4, 116,\n",
              "         29, 550,   6, 405,  59],\n",
              "       [  0,   0,   0,   0,   0,   0,   0,  12,  13, 275,   4, 116,  29,\n",
              "        550,   6, 405,  59,  17]], dtype=int32)"
            ]
          },
          "metadata": {},
          "execution_count": 26
        }
      ]
    },
    {
      "cell_type": "code",
      "source": [
        "label.shape"
      ],
      "metadata": {
        "colab": {
          "base_uri": "https://localhost:8080/"
        },
        "id": "ut-_i8u-yQuz",
        "outputId": "c375e33c-1af4-4c2c-b436-a8f93d202b45"
      },
      "execution_count": null,
      "outputs": [
        {
          "output_type": "execute_result",
          "data": {
            "text/plain": [
              "(28138, 3384)"
            ]
          },
          "metadata": {},
          "execution_count": 27
        }
      ]
    },
    {
      "cell_type": "code",
      "source": [
        "# label.shape\n",
        "total_words"
      ],
      "metadata": {
        "colab": {
          "base_uri": "https://localhost:8080/"
        },
        "id": "ByQ411mi4832",
        "outputId": "9161e65b-5610-4c4b-bf43-df587e6a9a2e"
      },
      "execution_count": null,
      "outputs": [
        {
          "output_type": "execute_result",
          "data": {
            "text/plain": [
              "3384"
            ]
          },
          "metadata": {},
          "execution_count": 28
        }
      ]
    },
    {
      "cell_type": "code",
      "source": [
        "callback = EarlyStopping(monitor = 'val_accuracy', patience = 15)"
      ],
      "metadata": {
        "id": "QY47yNnB_hVr"
      },
      "execution_count": null,
      "outputs": []
    },
    {
      "cell_type": "code",
      "source": [
        "\n",
        "model = Sequential()\n",
        "model.add(Embedding(total_words, 256, input_length = max_sequence_len-1)) # вложение тренируемое для перехода от слова к его векторному коды\n",
        "# на вход вложения (эмбединга) передаем вектор словарь (длина равна словарю, вектор разреженный)), на выход строим вектор из n (тут 256) координат - он плотный\n",
        "\n",
        "model.add(Bidirectional(LSTM(50, return_sequences = True)))\n",
        "\n",
        "model.add(LSTM(128))\n",
        "# model.add(Dropout(0.2))\n",
        "model.add(Dense(total_words/2, activation = 'relu', kernel_regularizer = regularizers.l2(0.01)))\n",
        "model.add(Dense(total_words, activation = 'softmax'))\n",
        "model.compile(loss = 'categorical_crossentropy', optimizer = 'adam', metrics = ['accuracy'])\n",
        "print(model.summary())"
      ],
      "metadata": {
        "id": "jlLty6qF_gA2",
        "colab": {
          "base_uri": "https://localhost:8080/"
        },
        "outputId": "4ac40540-bb99-43c4-c0df-84a3f04bab54"
      },
      "execution_count": null,
      "outputs": [
        {
          "output_type": "stream",
          "name": "stdout",
          "text": [
            "Model: \"sequential\"\n",
            "_________________________________________________________________\n",
            " Layer (type)                Output Shape              Param #   \n",
            "=================================================================\n",
            " embedding (Embedding)       (None, 17, 256)           866304    \n",
            "                                                                 \n",
            " bidirectional (Bidirection  (None, 17, 100)           122800    \n",
            " al)                                                             \n",
            "                                                                 \n",
            " lstm_5 (LSTM)               (None, 128)               117248    \n",
            "                                                                 \n",
            " dense_1 (Dense)             (None, 1692)              218268    \n",
            "                                                                 \n",
            " dense_2 (Dense)             (None, 3384)              5729112   \n",
            "                                                                 \n",
            "=================================================================\n",
            "Total params: 7053732 (26.91 MB)\n",
            "Trainable params: 7053732 (26.91 MB)\n",
            "Non-trainable params: 0 (0.00 Byte)\n",
            "_________________________________________________________________\n",
            "None\n"
          ]
        }
      ]
    },
    {
      "cell_type": "code",
      "source": [
        "history = model.fit(predictors, label, epochs = 5, validation_split=0.2, callbacks=[callback], verbose=1)"
      ],
      "metadata": {
        "colab": {
          "base_uri": "https://localhost:8080/"
        },
        "id": "rfA8lp60AxwS",
        "outputId": "1bc00a2f-b90d-4bc7-ef42-975b13c2040c"
      },
      "execution_count": null,
      "outputs": [
        {
          "output_type": "stream",
          "name": "stdout",
          "text": [
            "Epoch 1/5\n",
            "704/704 [==============================] - 23s 24ms/step - loss: 6.2784 - accuracy: 0.0530 - val_loss: 7.1850 - val_accuracy: 0.0721\n",
            "Epoch 2/5\n",
            "704/704 [==============================] - 9s 12ms/step - loss: 5.8096 - accuracy: 0.0656 - val_loss: 7.4416 - val_accuracy: 0.0732\n",
            "Epoch 3/5\n",
            "704/704 [==============================] - 8s 12ms/step - loss: 5.5570 - accuracy: 0.0893 - val_loss: 7.5673 - val_accuracy: 0.0791\n",
            "Epoch 4/5\n",
            "704/704 [==============================] - 9s 13ms/step - loss: 5.3420 - accuracy: 0.1005 - val_loss: 7.7560 - val_accuracy: 0.0816\n",
            "Epoch 5/5\n",
            "704/704 [==============================] - 8s 12ms/step - loss: 5.1550 - accuracy: 0.1148 - val_loss: 8.0311 - val_accuracy: 0.0938\n"
          ]
        }
      ]
    },
    {
      "cell_type": "code",
      "source": [
        "acc = history.history['accuracy']\n",
        "acc_v = history.history['val_accuracy']\n",
        "loss = history.history['loss']\n",
        "loss_v = history.history['val_loss']\n",
        "\n",
        "epochs = range(len(acc))\n",
        "\n",
        "plt.plot(epochs, acc, 'b', label = 'Train')\n",
        "plt.plot(epochs, acc_v, 'r', label = 'Test')\n",
        "plt.legend()\n",
        "plt.title('accuracy')\n",
        "plt.xlabel('eppch')\n",
        "plt.ylabel('acc')\n",
        "plt.grid()\n",
        "plt.figure()\n",
        "\n",
        "plt.plot(epochs, loss, 'b', label = 'Train')\n",
        "plt.plot(epochs, loss_v, 'r', label = 'Test')\n",
        "plt.title('loss')\n",
        "plt.xlabel('eppch')\n",
        "plt.ylabel('loss')\n",
        "plt.legend()\n",
        "plt.grid()\n",
        "plt.show()"
      ],
      "metadata": {
        "colab": {
          "base_uri": "https://localhost:8080/",
          "height": 927
        },
        "id": "XEaRJGr8A0by",
        "outputId": "7e5a3f68-6ecc-4955-dfab-1c1339a377a0"
      },
      "execution_count": null,
      "outputs": [
        {
          "output_type": "display_data",
          "data": {
            "text/plain": [
              "<Figure size 640x480 with 1 Axes>"
            ],
            "image/png": "[encoded data removed]"
          },
          "metadata": {}
        },
        {
          "output_type": "display_data",
          "data": {
            "text/plain": [
              "<Figure size 640x480 with 1 Axes>"
            ],
            "image/png": "[encoded data removed]"
          },
          "metadata": {}
        }
      ]
    },
    {
      "cell_type": "markdown",
      "source": [
        "Строим тест генератора\n"
      ],
      "metadata": {
        "id": "lD4YMlKACKzj"
      }
    },
    {
      "cell_type": "code",
      "source": [
        "# Начальная строка\n",
        "seed_text = 'He set down every evil thought he had and renounced it'\n",
        "next_words = 10\n",
        "# строим последовательность и новое предсказание\n",
        "for _ in range(next_words):\n",
        "\t# Текущая последовательность (токенизация и дополнение)\n",
        "\ttoken_list = tokenizer.texts_to_sequences([seed_text])[0]\n",
        "\tprint(token_list)\n",
        "\ttoken_list = pad_sequences([token_list], maxlen = max_sequence_len -1, padding = 'pre')\n",
        "\t# Делаем предсказание (сразу как индекс класса - у нас 1 из 3384....)\n",
        "\tpredicted = model.predict(token_list, verbose=0)\n",
        "\tpredict_ = np.argmax(predicted)\n",
        "\toutput_word = ''\n",
        "\tprint(predict_)\n",
        "\t# Добавим новое слово в последовательность\n",
        "\tfor word, index in tokenizer.word_index.items():\n",
        "\t\tif index == predict_:\n",
        "\t\t\toutput_word = word\n",
        "\t\t\tbreak\n",
        "\tseed_text += ' ' + output_word\n",
        "\tprint(seed_text)"
      ],
      "metadata": {
        "colab": {
          "base_uri": "https://localhost:8080/"
        },
        "id": "od5yem3dCOD8",
        "outputId": "c9c7cc4c-ee87-4441-f770-f16c33c1d4b5"
      },
      "execution_count": null,
      "outputs": [
        {
          "output_type": "stream",
          "name": "stdout",
          "text": [
            "[36, 206, 37, 347, 62, 36, 22, 3, 8]\n",
            "13\n",
            "He set down every evil thought he had and renounced it was\n",
            "[36, 206, 37, 347, 62, 36, 22, 3, 8, 13]\n",
            "1\n",
            "He set down every evil thought he had and renounced it was the\n",
            "[36, 206, 37, 347, 62, 36, 22, 3, 8, 13, 1]\n",
            "32\n",
            "He set down every evil thought he had and renounced it was the little\n",
            "[36, 206, 37, 347, 62, 36, 22, 3, 8, 13, 1, 32]\n",
            "32\n",
            "He set down every evil thought he had and renounced it was the little little\n",
            "[36, 206, 37, 347, 62, 36, 22, 3, 8, 13, 1, 32, 32]\n",
            "32\n",
            "He set down every evil thought he had and renounced it was the little little little\n",
            "[36, 206, 37, 347, 62, 36, 22, 3, 8, 13, 1, 32, 32, 32]\n",
            "32\n",
            "He set down every evil thought he had and renounced it was the little little little little\n",
            "[36, 206, 37, 347, 62, 36, 22, 3, 8, 13, 1, 32, 32, 32, 32]\n",
            "32\n",
            "He set down every evil thought he had and renounced it was the little little little little little\n",
            "[36, 206, 37, 347, 62, 36, 22, 3, 8, 13, 1, 32, 32, 32, 32, 32]\n",
            "32\n",
            "He set down every evil thought he had and renounced it was the little little little little little little\n",
            "[36, 206, 37, 347, 62, 36, 22, 3, 8, 13, 1, 32, 32, 32, 32, 32, 32]\n",
            "32\n",
            "He set down every evil thought he had and renounced it was the little little little little little little little\n",
            "[36, 206, 37, 347, 62, 36, 22, 3, 8, 13, 1, 32, 32, 32, 32, 32, 32, 32]\n",
            "32\n",
            "He set down every evil thought he had and renounced it was the little little little little little little little little\n"
          ]
        }
      ]
    },
    {
      "cell_type": "code",
      "source": [
        "y_p = model.predict(token_list)"
      ],
      "metadata": {
        "id": "aRo3hrgwh5pp",
        "colab": {
          "base_uri": "https://localhost:8080/"
        },
        "outputId": "8de3d367-c966-45ac-9db6-49aa166d8962"
      },
      "execution_count": null,
      "outputs": [
        {
          "output_type": "stream",
          "name": "stdout",
          "text": [
            "1/1 [==============================] - 0s 20ms/step\n"
          ]
        }
      ]
    },
    {
      "cell_type": "code",
      "source": [
        "plt.figure(figsize=(16,4))\n",
        "plt.plot(y_p[0,:])\n",
        "plt.xlabel('Номер слова')\n",
        "plt.ylabel('Вероятность слова')\n",
        "plt.title('Вероятность по словам')\n",
        "plt.grid('on')\n",
        "plt.show()"
      ],
      "metadata": {
        "id": "wUm1uqtJh5-C",
        "colab": {
          "base_uri": "https://localhost:8080/",
          "height": 299
        },
        "outputId": "ad070aa6-f114-43c4-c21a-eee5e86d0952"
      },
      "execution_count": null,
      "outputs": [
        {
          "output_type": "display_data",
          "data": {
            "text/plain": [
              "<Figure size 1600x400 with 1 Axes>"
            ],
            "image/png": "[encoded data removed]"
          },
          "metadata": {}
        }
      ]
    },
    {
      "cell_type": "markdown",
      "source": [
        "## Временные ряды"
      ],
      "metadata": {
        "id": "AIaqUCQZj8uC"
      }
    },
    {
      "cell_type": "code",
      "source": [
        "!pip install tensorflow"
      ],
      "metadata": {
        "colab": {
          "base_uri": "https://localhost:8080/"
        },
        "id": "DCCJ7vo63qEP",
        "outputId": "96c0c85d-5ae3-4056-f731-b29dbf18db35"
      },
      "execution_count": null,
      "outputs": [
        {
          "output_type": "stream",
          "name": "stdout",
          "text": [
            "Requirement already satisfied: tensorflow in /usr/local/lib/python3.10/dist-packages (2.15.0)\n",
            "Requirement already satisfied: absl-py>=1.0.0 in /usr/local/lib/python3.10/dist-packages (from tensorflow) (1.4.0)\n",
            "Requirement already satisfied: astunparse>=1.6.0 in /usr/local/lib/python3.10/dist-packages (from tensorflow) (1.6.3)\n",
            "Requirement already satisfied: flatbuffers>=23.5.26 in /usr/local/lib/python3.10/dist-packages (from tensorflow) (24.3.25)\n",
            "Requirement already satisfied: gast!=0.5.0,!=0.5.1,!=0.5.2,>=0.2.1 in /usr/local/lib/python3.10/dist-packages (from tensorflow) (0.5.4)\n",
            "Requirement already satisfied: google-pasta>=0.1.1 in /usr/local/lib/python3.10/dist-packages (from tensorflow) (0.2.0)\n",
            "Requirement already satisfied: h5py>=2.9.0 in /usr/local/lib/python3.10/dist-packages (from tensorflow) (3.9.0)\n",
            "Requirement already satisfied: libclang>=13.0.0 in /usr/local/lib/python3.10/dist-packages (from tensorflow) (18.1.1)\n",
            "Requirement already satisfied: ml-dtypes~=0.2.0 in /usr/local/lib/python3.10/dist-packages (from tensorflow) (0.2.0)\n",
            "Requirement already satisfied: numpy<2.0.0,>=1.23.5 in /usr/local/lib/python3.10/dist-packages (from tensorflow) (1.25.2)\n",
            "Requirement already satisfied: opt-einsum>=2.3.2 in /usr/local/lib/python3.10/dist-packages (from tensorflow) (3.3.0)\n",
            "Requirement already satisfied: packaging in /usr/local/lib/python3.10/dist-packages (from tensorflow) (24.0)\n",
            "Requirement already satisfied: protobuf!=4.21.0,!=4.21.1,!=4.21.2,!=4.21.3,!=4.21.4,!=4.21.5,<5.0.0dev,>=3.20.3 in /usr/local/lib/python3.10/dist-packages (from tensorflow) (3.20.3)\n",
            "Requirement already satisfied: setuptools in /usr/local/lib/python3.10/dist-packages (from tensorflow) (67.7.2)\n",
            "Requirement already satisfied: six>=1.12.0 in /usr/local/lib/python3.10/dist-packages (from tensorflow) (1.16.0)\n",
            "Requirement already satisfied: termcolor>=1.1.0 in /usr/local/lib/python3.10/dist-packages (from tensorflow) (2.4.0)\n",
            "Requirement already satisfied: typing-extensions>=3.6.6 in /usr/local/lib/python3.10/dist-packages (from tensorflow) (4.10.0)\n",
            "Requirement already satisfied: wrapt<1.15,>=1.11.0 in /usr/local/lib/python3.10/dist-packages (from tensorflow) (1.14.1)\n",
            "Requirement already satisfied: tensorflow-io-gcs-filesystem>=0.23.1 in /usr/local/lib/python3.10/dist-packages (from tensorflow) (0.36.0)\n",
            "Requirement already satisfied: grpcio<2.0,>=1.24.3 in /usr/local/lib/python3.10/dist-packages (from tensorflow) (1.62.1)\n",
            "Requirement already satisfied: tensorboard<2.16,>=2.15 in /usr/local/lib/python3.10/dist-packages (from tensorflow) (2.15.2)\n",
            "Requirement already satisfied: tensorflow-estimator<2.16,>=2.15.0 in /usr/local/lib/python3.10/dist-packages (from tensorflow) (2.15.0)\n",
            "Requirement already satisfied: keras<2.16,>=2.15.0 in /usr/local/lib/python3.10/dist-packages (from tensorflow) (2.15.0)\n",
            "Requirement already satisfied: wheel<1.0,>=0.23.0 in /usr/local/lib/python3.10/dist-packages (from astunparse>=1.6.0->tensorflow) (0.43.0)\n",
            "Requirement already satisfied: google-auth<3,>=1.6.3 in /usr/local/lib/python3.10/dist-packages (from tensorboard<2.16,>=2.15->tensorflow) (2.27.0)\n",
            "Requirement already satisfied: google-auth-oauthlib<2,>=0.5 in /usr/local/lib/python3.10/dist-packages (from tensorboard<2.16,>=2.15->tensorflow) (1.2.0)\n",
            "Requirement already satisfied: markdown>=2.6.8 in /usr/local/lib/python3.10/dist-packages (from tensorboard<2.16,>=2.15->tensorflow) (3.6)\n",
            "Requirement already satisfied: requests<3,>=2.21.0 in /usr/local/lib/python3.10/dist-packages (from tensorboard<2.16,>=2.15->tensorflow) (2.31.0)\n",
            "Requirement already satisfied: tensorboard-data-server<0.8.0,>=0.7.0 in /usr/local/lib/python3.10/dist-packages (from tensorboard<2.16,>=2.15->tensorflow) (0.7.2)\n",
            "Requirement already satisfied: werkzeug>=1.0.1 in /usr/local/lib/python3.10/dist-packages (from tensorboard<2.16,>=2.15->tensorflow) (3.0.2)\n",
            "Requirement already satisfied: cachetools<6.0,>=2.0.0 in /usr/local/lib/python3.10/dist-packages (from google-auth<3,>=1.6.3->tensorboard<2.16,>=2.15->tensorflow) (5.3.3)\n",
            "Requirement already satisfied: pyasn1-modules>=0.2.1 in /usr/local/lib/python3.10/dist-packages (from google-auth<3,>=1.6.3->tensorboard<2.16,>=2.15->tensorflow) (0.4.0)\n",
            "Requirement already satisfied: rsa<5,>=3.1.4 in /usr/local/lib/python3.10/dist-packages (from google-auth<3,>=1.6.3->tensorboard<2.16,>=2.15->tensorflow) (4.9)\n",
            "Requirement already satisfied: requests-oauthlib>=0.7.0 in /usr/local/lib/python3.10/dist-packages (from google-auth-oauthlib<2,>=0.5->tensorboard<2.16,>=2.15->tensorflow) (1.3.1)\n",
            "Requirement already satisfied: charset-normalizer<4,>=2 in /usr/local/lib/python3.10/dist-packages (from requests<3,>=2.21.0->tensorboard<2.16,>=2.15->tensorflow) (3.3.2)\n",
            "Requirement already satisfied: idna<4,>=2.5 in /usr/local/lib/python3.10/dist-packages (from requests<3,>=2.21.0->tensorboard<2.16,>=2.15->tensorflow) (3.6)\n",
            "Requirement already satisfied: urllib3<3,>=1.21.1 in /usr/local/lib/python3.10/dist-packages (from requests<3,>=2.21.0->tensorboard<2.16,>=2.15->tensorflow) (2.0.7)\n",
            "Requirement already satisfied: certifi>=2017.4.17 in /usr/local/lib/python3.10/dist-packages (from requests<3,>=2.21.0->tensorboard<2.16,>=2.15->tensorflow) (2024.2.2)\n",
            "Requirement already satisfied: MarkupSafe>=2.1.1 in /usr/local/lib/python3.10/dist-packages (from werkzeug>=1.0.1->tensorboard<2.16,>=2.15->tensorflow) (2.1.5)\n",
            "Requirement already satisfied: pyasn1<0.7.0,>=0.4.6 in /usr/local/lib/python3.10/dist-packages (from pyasn1-modules>=0.2.1->google-auth<3,>=1.6.3->tensorboard<2.16,>=2.15->tensorflow) (0.6.0)\n",
            "Requirement already satisfied: oauthlib>=3.0.0 in /usr/local/lib/python3.10/dist-packages (from requests-oauthlib>=0.7.0->google-auth-oauthlib<2,>=0.5->tensorboard<2.16,>=2.15->tensorflow) (3.2.2)\n"
          ]
        }
      ]
    },
    {
      "cell_type": "code",
      "source": [
        "%matplotlib inline\n",
        "import pandas as pd\n",
        "import matplotlib.pyplot as plt\n",
        "from tensorflow.keras import utils\n",
        "import numpy as np\n",
        "import tensorflow.keras as keras\n",
        "from tensorflow.keras.optimizers import Adam\n",
        "from tensorflow.keras.models import Sequential, Model\n",
        "from tensorflow.keras.layers import concatenate, Input, Dense, Dropout, BatchNormalization, Flatten, Conv1D, Conv2D, LSTM\n",
        "from google.colab import files\n",
        "from sklearn.preprocessing import StandardScaler, MinMaxScaler\n",
        "from tensorflow.keras.callbacks import EarlyStopping\n",
        "import os\n",
        "import datetime"
      ],
      "metadata": {
        "id": "P5Il0_JLh6PZ"
      },
      "execution_count": null,
      "outputs": []
    },
    {
      "cell_type": "code",
      "source": [
        "!wget https://gbcdn.mrgcdn.ru/uploads/asset/3196056/attachment/49718b914b30dae0983f1be37c32ec9d.csv -O airplane.csv\n",
        "# data = open('airplane.csv').r"
      ],
      "metadata": {
        "colab": {
          "base_uri": "https://localhost:8080/"
        },
        "id": "djwvZygsh6kH",
        "outputId": "df862806-7d82-4037-f742-14bafd8e404f"
      },
      "execution_count": null,
      "outputs": [
        {
          "output_type": "stream",
          "name": "stdout",
          "text": [
            "--2024-04-11 14:36:51--  https://gbcdn.mrgcdn.ru/uploads/asset/3196056/attachment/49718b914b30dae0983f1be37c32ec9d.csv\n",
            "Resolving gbcdn.mrgcdn.ru (gbcdn.mrgcdn.ru)... 5.181.61.0\n",
            "Connecting to gbcdn.mrgcdn.ru (gbcdn.mrgcdn.ru)|5.181.61.0|:443... connected.\n",
            "HTTP request sent, awaiting response... 200 OK\n",
            "Length: 2037 (2.0K) [text/csv]\n",
            "Saving to: ‘airplane.csv’\n",
            "\n",
            "airplane.csv        100%[===================>]   1.99K  --.-KB/s    in 0s      \n",
            "\n",
            "2024-04-11 14:36:52 (963 MB/s) - ‘airplane.csv’ saved [2037/2037]\n",
            "\n"
          ]
        }
      ]
    },
    {
      "cell_type": "code",
      "source": [
        "data = pd.read_csv('airplane.csv')\n",
        "data.index = data.Month\n",
        "data.drop(['Month'], axis=1, inplace=True)\n",
        "data.head(7)"
      ],
      "metadata": {
        "colab": {
          "base_uri": "https://localhost:8080/",
          "height": 297
        },
        "id": "Kgjj5yQ9k5B9",
        "outputId": "e6cf665e-a522-4005-f210-3d547b15d55f"
      },
      "execution_count": null,
      "outputs": [
        {
          "output_type": "execute_result",
          "data": {
            "text/plain": [
              "         Passengers\n",
              "Month              \n",
              "1949-01         112\n",
              "1949-02         118\n",
              "1949-03         132\n",
              "1949-04         129\n",
              "1949-05         121\n",
              "1949-06         135\n",
              "1949-07         148"
            ],
            "text/html": [
              "\n",
              "  <div id=\"df-d8ab6d60-0bd8-433d-8e5d-84081cd245b1\" class=\"colab-df-container\">\n",
              "    <div>\n",
              "<style scoped>\n",
              "    .dataframe tbody tr th:only-of-type {\n",
              "        vertical-align: middle;\n",
              "    }\n",
              "\n",
              "    .dataframe tbody tr th {\n",
              "        vertical-align: top;\n",
              "    }\n",
              "\n",
              "    .dataframe thead th {\n",
              "        text-align: right;\n",
              "    }\n",
              "</style>\n",
              "<table border=\"1\" class=\"dataframe\">\n",
              "  <thead>\n",
              "    <tr style=\"text-align: right;\">\n",
              "      <th></th>\n",
              "      <th>Passengers</th>\n",
              "    </tr>\n",
              "    <tr>\n",
              "      <th>Month</th>\n",
              "      <th></th>\n",
              "    </tr>\n",
              "  </thead>\n",
              "  <tbody>\n",
              "    <tr>\n",
              "      <th>1949-01</th>\n",
              "      <td>112</td>\n",
              "    </tr>\n",
              "    <tr>\n",
              "      <th>1949-02</th>\n",
              "      <td>118</td>\n",
              "    </tr>\n",
              "    <tr>\n",
              "      <th>1949-03</th>\n",
              "      <td>132</td>\n",
              "    </tr>\n",
              "    <tr>\n",
              "      <th>1949-04</th>\n",
              "      <td>129</td>\n",
              "    </tr>\n",
              "    <tr>\n",
              "      <th>1949-05</th>\n",
              "      <td>121</td>\n",
              "    </tr>\n",
              "    <tr>\n",
              "      <th>1949-06</th>\n",
              "      <td>135</td>\n",
              "    </tr>\n",
              "    <tr>\n",
              "      <th>1949-07</th>\n",
              "      <td>148</td>\n",
              "    </tr>\n",
              "  </tbody>\n",
              "</table>\n",
              "</div>\n",
              "    <div class=\"colab-df-buttons\">\n",
              "\n",
              "  <div class=\"colab-df-container\">\n",
              "    <button class=\"colab-df-convert\" onclick=\"convertToInteractive('df-d8ab6d60-0bd8-433d-8e5d-84081cd245b1')\"\n",
              "            title=\"Convert this dataframe to an interactive table.\"\n",
              "            style=\"display:none;\">\n",
              "\n",
              "  <svg xmlns=\"http://www.w3.org/2000/svg\" height=\"24px\" viewBox=\"0 -960 960 960\">\n",
              "    <path d=\"M120-120v-720h720v720H120Zm60-500h600v-160H180v160Zm220 220h160v-160H400v160Zm0 220h160v-160H400v160ZM180-400h160v-160H180v160Zm440 0h160v-160H620v160ZM180-180h160v-160H180v160Zm440 0h160v-160H620v160Z\"/>\n",
              "  </svg>\n",
              "    </button>\n",
              "\n",
              "  <style>\n",
              "    .colab-df-container {\n",
              "      display:flex;\n",
              "      gap: 12px;\n",
              "    }\n",
              "\n",
              "    .colab-df-convert {\n",
              "      background-color: #E8F0FE;\n",
              "      border: none;\n",
              "      border-radius: 50%;\n",
              "      cursor: pointer;\n",
              "      display: none;\n",
              "      fill: #1967D2;\n",
              "      height: 32px;\n",
              "      padding: 0 0 0 0;\n",
              "      width: 32px;\n",
              "    }\n",
              "\n",
              "    .colab-df-convert:hover {\n",
              "      background-color: #E2EBFA;\n",
              "      box-shadow: 0px 1px 2px rgba(60, 64, 67, 0.3), 0px 1px 3px 1px rgba(60, 64, 67, 0.15);\n",
              "      fill: #174EA6;\n",
              "    }\n",
              "\n",
              "    .colab-df-buttons div {\n",
              "      margin-bottom: 4px;\n",
              "    }\n",
              "\n",
              "    [theme=dark] .colab-df-convert {\n",
              "      background-color: #3B4455;\n",
              "      fill: #D2E3FC;\n",
              "    }\n",
              "\n",
              "    [theme=dark] .colab-df-convert:hover {\n",
              "      background-color: #434B5C;\n",
              "      box-shadow: 0px 1px 3px 1px rgba(0, 0, 0, 0.15);\n",
              "      filter: drop-shadow(0px 1px 2px rgba(0, 0, 0, 0.3));\n",
              "      fill: #FFFFFF;\n",
              "    }\n",
              "  </style>\n",
              "\n",
              "    <script>\n",
              "      const buttonEl =\n",
              "        document.querySelector('#df-d8ab6d60-0bd8-433d-8e5d-84081cd245b1 button.colab-df-convert');\n",
              "      buttonEl.style.display =\n",
              "        google.colab.kernel.accessAllowed ? 'block' : 'none';\n",
              "\n",
              "      async function convertToInteractive(key) {\n",
              "        const element = document.querySelector('#df-d8ab6d60-0bd8-433d-8e5d-84081cd245b1');\n",
              "        const dataTable =\n",
              "          await google.colab.kernel.invokeFunction('convertToInteractive',\n",
              "                                                    [key], {});\n",
              "        if (!dataTable) return;\n",
              "\n",
              "        const docLinkHtml = 'Like what you see? Visit the ' +\n",
              "          '<a target=\"_blank\" href=https://colab.research.google.com/notebooks/data_table.ipynb>data table notebook</a>'\n",
              "          + ' to learn more about interactive tables.';\n",
              "        element.innerHTML = '';\n",
              "        dataTable['output_type'] = 'display_data';\n",
              "        await google.colab.output.renderOutput(dataTable, element);\n",
              "        const docLink = document.createElement('div');\n",
              "        docLink.innerHTML = docLinkHtml;\n",
              "        element.appendChild(docLink);\n",
              "      }\n",
              "    </script>\n",
              "  </div>\n",
              "\n",
              "\n",
              "<div id=\"df-ec2e10b3-f9b8-499b-a42e-4b1238a175a8\">\n",
              "  <button class=\"colab-df-quickchart\" onclick=\"quickchart('df-ec2e10b3-f9b8-499b-a42e-4b1238a175a8')\"\n",
              "            title=\"Suggest charts\"\n",
              "            style=\"display:none;\">\n",
              "\n",
              "<svg xmlns=\"http://www.w3.org/2000/svg\" height=\"24px\"viewBox=\"0 0 24 24\"\n",
              "     width=\"24px\">\n",
              "    <g>\n",
              "        <path d=\"M19 3H5c-1.1 0-2 .9-2 2v14c0 1.1.9 2 2 2h14c1.1 0 2-.9 2-2V5c0-1.1-.9-2-2-2zM9 17H7v-7h2v7zm4 0h-2V7h2v10zm4 0h-2v-4h2v4z\"/>\n",
              "    </g>\n",
              "</svg>\n",
              "  </button>\n",
              "\n",
              "<style>\n",
              "  .colab-df-quickchart {\n",
              "      --bg-color: #E8F0FE;\n",
              "      --fill-color: #1967D2;\n",
              "      --hover-bg-color: #E2EBFA;\n",
              "      --hover-fill-color: #174EA6;\n",
              "      --disabled-fill-color: #AAA;\n",
              "      --disabled-bg-color: #DDD;\n",
              "  }\n",
              "\n",
              "  [theme=dark] .colab-df-quickchart {\n",
              "      --bg-color: #3B4455;\n",
              "      --fill-color: #D2E3FC;\n",
              "      --hover-bg-color: #434B5C;\n",
              "      --hover-fill-color: #FFFFFF;\n",
              "      --disabled-bg-color: #3B4455;\n",
              "      --disabled-fill-color: #666;\n",
              "  }\n",
              "\n",
              "  .colab-df-quickchart {\n",
              "    background-color: var(--bg-color);\n",
              "    border: none;\n",
              "    border-radius: 50%;\n",
              "    cursor: pointer;\n",
              "    display: none;\n",
              "    fill: var(--fill-color);\n",
              "    height: 32px;\n",
              "    padding: 0;\n",
              "    width: 32px;\n",
              "  }\n",
              "\n",
              "  .colab-df-quickchart:hover {\n",
              "    background-color: var(--hover-bg-color);\n",
              "    box-shadow: 0 1px 2px rgba(60, 64, 67, 0.3), 0 1px 3px 1px rgba(60, 64, 67, 0.15);\n",
              "    fill: var(--button-hover-fill-color);\n",
              "  }\n",
              "\n",
              "  .colab-df-quickchart-complete:disabled,\n",
              "  .colab-df-quickchart-complete:disabled:hover {\n",
              "    background-color: var(--disabled-bg-color);\n",
              "    fill: var(--disabled-fill-color);\n",
              "    box-shadow: none;\n",
              "  }\n",
              "\n",
              "  .colab-df-spinner {\n",
              "    border: 2px solid var(--fill-color);\n",
              "    border-color: transparent;\n",
              "    border-bottom-color: var(--fill-color);\n",
              "    animation:\n",
              "      spin 1s steps(1) infinite;\n",
              "  }\n",
              "\n",
              "  @keyframes spin {\n",
              "    0% {\n",
              "      border-color: transparent;\n",
              "      border-bottom-color: var(--fill-color);\n",
              "      border-left-color: var(--fill-color);\n",
              "    }\n",
              "    20% {\n",
              "      border-color: transparent;\n",
              "      border-left-color: var(--fill-color);\n",
              "      border-top-color: var(--fill-color);\n",
              "    }\n",
              "    30% {\n",
              "      border-color: transparent;\n",
              "      border-left-color: var(--fill-color);\n",
              "      border-top-color: var(--fill-color);\n",
              "      border-right-color: var(--fill-color);\n",
              "    }\n",
              "    40% {\n",
              "      border-color: transparent;\n",
              "      border-right-color: var(--fill-color);\n",
              "      border-top-color: var(--fill-color);\n",
              "    }\n",
              "    60% {\n",
              "      border-color: transparent;\n",
              "      border-right-color: var(--fill-color);\n",
              "    }\n",
              "    80% {\n",
              "      border-color: transparent;\n",
              "      border-right-color: var(--fill-color);\n",
              "      border-bottom-color: var(--fill-color);\n",
              "    }\n",
              "    90% {\n",
              "      border-color: transparent;\n",
              "      border-bottom-color: var(--fill-color);\n",
              "    }\n",
              "  }\n",
              "</style>\n",
              "\n",
              "  <script>\n",
              "    async function quickchart(key) {\n",
              "      const quickchartButtonEl =\n",
              "        document.querySelector('#' + key + ' button');\n",
              "      quickchartButtonEl.disabled = true;  // To prevent multiple clicks.\n",
              "      quickchartButtonEl.classList.add('colab-df-spinner');\n",
              "      try {\n",
              "        const charts = await google.colab.kernel.invokeFunction(\n",
              "            'suggestCharts', [key], {});\n",
              "      } catch (error) {\n",
              "        console.error('Error during call to suggestCharts:', error);\n",
              "      }\n",
              "      quickchartButtonEl.classList.remove('colab-df-spinner');\n",
              "      quickchartButtonEl.classList.add('colab-df-quickchart-complete');\n",
              "    }\n",
              "    (() => {\n",
              "      let quickchartButtonEl =\n",
              "        document.querySelector('#df-ec2e10b3-f9b8-499b-a42e-4b1238a175a8 button');\n",
              "      quickchartButtonEl.style.display =\n",
              "        google.colab.kernel.accessAllowed ? 'block' : 'none';\n",
              "    })();\n",
              "  </script>\n",
              "</div>\n",
              "    </div>\n",
              "  </div>\n"
            ],
            "application/vnd.google.colaboratory.intrinsic+json": {
              "type": "dataframe",
              "variable_name": "data",
              "summary": "{\n  \"name\": \"data\",\n  \"rows\": 144,\n  \"fields\": [\n    {\n      \"column\": \"Month\",\n      \"properties\": {\n        \"dtype\": \"object\",\n        \"num_unique_values\": 144,\n        \"samples\": [\n          \"1958-10\",\n          \"1950-08\",\n          \"1955-11\"\n        ],\n        \"semantic_type\": \"\",\n        \"description\": \"\"\n      }\n    },\n    {\n      \"column\": \"Passengers\",\n      \"properties\": {\n        \"dtype\": \"number\",\n        \"std\": 119,\n        \"min\": 104,\n        \"max\": 622,\n        \"num_unique_values\": 118,\n        \"samples\": [\n          293,\n          340,\n          121\n        ],\n        \"semantic_type\": \"\",\n        \"description\": \"\"\n      }\n    }\n  ]\n}"
            }
          },
          "metadata": {},
          "execution_count": 39
        }
      ]
    },
    {
      "cell_type": "code",
      "source": [
        "data.plot(figsize = (16, 5))\n",
        "plt.grid('On')"
      ],
      "metadata": {
        "colab": {
          "base_uri": "https://localhost:8080/",
          "height": 346
        },
        "id": "BR4YbSwZk5GA",
        "outputId": "fbc35a62-64f6-4d02-f78c-d7a7a1a8dd03"
      },
      "execution_count": null,
      "outputs": [
        {
          "output_type": "display_data",
          "data": {
            "text/plain": [
              "<Figure size 1600x500 with 1 Axes>"
            ],
            "image/png": "[encoded data removed]"
          },
          "metadata": {}
        }
      ]
    },
    {
      "cell_type": "code",
      "source": [
        "data.describe()"
      ],
      "metadata": {
        "colab": {
          "base_uri": "https://localhost:8080/",
          "height": 297
        },
        "id": "QcZmhiLgn4Zn",
        "outputId": "6b3e9cb3-c882-4ec6-b374-e6bf07b2ee39"
      },
      "execution_count": null,
      "outputs": [
        {
          "output_type": "execute_result",
          "data": {
            "text/plain": [
              "       Passengers\n",
              "count  144.000000\n",
              "mean   280.298611\n",
              "std    119.966317\n",
              "min    104.000000\n",
              "25%    180.000000\n",
              "50%    265.500000\n",
              "75%    360.500000\n",
              "max    622.000000"
            ],
            "text/html": [
              "\n",
              "  <div id=\"df-8c8fb914-481f-4f47-9943-06ff127a1c97\" class=\"colab-df-container\">\n",
              "    <div>\n",
              "<style scoped>\n",
              "    .dataframe tbody tr th:only-of-type {\n",
              "        vertical-align: middle;\n",
              "    }\n",
              "\n",
              "    .dataframe tbody tr th {\n",
              "        vertical-align: top;\n",
              "    }\n",
              "\n",
              "    .dataframe thead th {\n",
              "        text-align: right;\n",
              "    }\n",
              "</style>\n",
              "<table border=\"1\" class=\"dataframe\">\n",
              "  <thead>\n",
              "    <tr style=\"text-align: right;\">\n",
              "      <th></th>\n",
              "      <th>Passengers</th>\n",
              "    </tr>\n",
              "  </thead>\n",
              "  <tbody>\n",
              "    <tr>\n",
              "      <th>count</th>\n",
              "      <td>144.000000</td>\n",
              "    </tr>\n",
              "    <tr>\n",
              "      <th>mean</th>\n",
              "      <td>280.298611</td>\n",
              "    </tr>\n",
              "    <tr>\n",
              "      <th>std</th>\n",
              "      <td>119.966317</td>\n",
              "    </tr>\n",
              "    <tr>\n",
              "      <th>min</th>\n",
              "      <td>104.000000</td>\n",
              "    </tr>\n",
              "    <tr>\n",
              "      <th>25%</th>\n",
              "      <td>180.000000</td>\n",
              "    </tr>\n",
              "    <tr>\n",
              "      <th>50%</th>\n",
              "      <td>265.500000</td>\n",
              "    </tr>\n",
              "    <tr>\n",
              "      <th>75%</th>\n",
              "      <td>360.500000</td>\n",
              "    </tr>\n",
              "    <tr>\n",
              "      <th>max</th>\n",
              "      <td>622.000000</td>\n",
              "    </tr>\n",
              "  </tbody>\n",
              "</table>\n",
              "</div>\n",
              "    <div class=\"colab-df-buttons\">\n",
              "\n",
              "  <div class=\"colab-df-container\">\n",
              "    <button class=\"colab-df-convert\" onclick=\"convertToInteractive('df-8c8fb914-481f-4f47-9943-06ff127a1c97')\"\n",
              "            title=\"Convert this dataframe to an interactive table.\"\n",
              "            style=\"display:none;\">\n",
              "\n",
              "  <svg xmlns=\"http://www.w3.org/2000/svg\" height=\"24px\" viewBox=\"0 -960 960 960\">\n",
              "    <path d=\"M120-120v-720h720v720H120Zm60-500h600v-160H180v160Zm220 220h160v-160H400v160Zm0 220h160v-160H400v160ZM180-400h160v-160H180v160Zm440 0h160v-160H620v160ZM180-180h160v-160H180v160Zm440 0h160v-160H620v160Z\"/>\n",
              "  </svg>\n",
              "    </button>\n",
              "\n",
              "  <style>\n",
              "    .colab-df-container {\n",
              "      display:flex;\n",
              "      gap: 12px;\n",
              "    }\n",
              "\n",
              "    .colab-df-convert {\n",
              "      background-color: #E8F0FE;\n",
              "      border: none;\n",
              "      border-radius: 50%;\n",
              "      cursor: pointer;\n",
              "      display: none;\n",
              "      fill: #1967D2;\n",
              "      height: 32px;\n",
              "      padding: 0 0 0 0;\n",
              "      width: 32px;\n",
              "    }\n",
              "\n",
              "    .colab-df-convert:hover {\n",
              "      background-color: #E2EBFA;\n",
              "      box-shadow: 0px 1px 2px rgba(60, 64, 67, 0.3), 0px 1px 3px 1px rgba(60, 64, 67, 0.15);\n",
              "      fill: #174EA6;\n",
              "    }\n",
              "\n",
              "    .colab-df-buttons div {\n",
              "      margin-bottom: 4px;\n",
              "    }\n",
              "\n",
              "    [theme=dark] .colab-df-convert {\n",
              "      background-color: #3B4455;\n",
              "      fill: #D2E3FC;\n",
              "    }\n",
              "\n",
              "    [theme=dark] .colab-df-convert:hover {\n",
              "      background-color: #434B5C;\n",
              "      box-shadow: 0px 1px 3px 1px rgba(0, 0, 0, 0.15);\n",
              "      filter: drop-shadow(0px 1px 2px rgba(0, 0, 0, 0.3));\n",
              "      fill: #FFFFFF;\n",
              "    }\n",
              "  </style>\n",
              "\n",
              "    <script>\n",
              "      const buttonEl =\n",
              "        document.querySelector('#df-8c8fb914-481f-4f47-9943-06ff127a1c97 button.colab-df-convert');\n",
              "      buttonEl.style.display =\n",
              "        google.colab.kernel.accessAllowed ? 'block' : 'none';\n",
              "\n",
              "      async function convertToInteractive(key) {\n",
              "        const element = document.querySelector('#df-8c8fb914-481f-4f47-9943-06ff127a1c97');\n",
              "        const dataTable =\n",
              "          await google.colab.kernel.invokeFunction('convertToInteractive',\n",
              "                                                    [key], {});\n",
              "        if (!dataTable) return;\n",
              "\n",
              "        const docLinkHtml = 'Like what you see? Visit the ' +\n",
              "          '<a target=\"_blank\" href=https://colab.research.google.com/notebooks/data_table.ipynb>data table notebook</a>'\n",
              "          + ' to learn more about interactive tables.';\n",
              "        element.innerHTML = '';\n",
              "        dataTable['output_type'] = 'display_data';\n",
              "        await google.colab.output.renderOutput(dataTable, element);\n",
              "        const docLink = document.createElement('div');\n",
              "        docLink.innerHTML = docLinkHtml;\n",
              "        element.appendChild(docLink);\n",
              "      }\n",
              "    </script>\n",
              "  </div>\n",
              "\n",
              "\n",
              "<div id=\"df-36118601-f7b0-4465-a7ba-5a35f1011583\">\n",
              "  <button class=\"colab-df-quickchart\" onclick=\"quickchart('df-36118601-f7b0-4465-a7ba-5a35f1011583')\"\n",
              "            title=\"Suggest charts\"\n",
              "            style=\"display:none;\">\n",
              "\n",
              "<svg xmlns=\"http://www.w3.org/2000/svg\" height=\"24px\"viewBox=\"0 0 24 24\"\n",
              "     width=\"24px\">\n",
              "    <g>\n",
              "        <path d=\"M19 3H5c-1.1 0-2 .9-2 2v14c0 1.1.9 2 2 2h14c1.1 0 2-.9 2-2V5c0-1.1-.9-2-2-2zM9 17H7v-7h2v7zm4 0h-2V7h2v10zm4 0h-2v-4h2v4z\"/>\n",
              "    </g>\n",
              "</svg>\n",
              "  </button>\n",
              "\n",
              "<style>\n",
              "  .colab-df-quickchart {\n",
              "      --bg-color: #E8F0FE;\n",
              "      --fill-color: #1967D2;\n",
              "      --hover-bg-color: #E2EBFA;\n",
              "      --hover-fill-color: #174EA6;\n",
              "      --disabled-fill-color: #AAA;\n",
              "      --disabled-bg-color: #DDD;\n",
              "  }\n",
              "\n",
              "  [theme=dark] .colab-df-quickchart {\n",
              "      --bg-color: #3B4455;\n",
              "      --fill-color: #D2E3FC;\n",
              "      --hover-bg-color: #434B5C;\n",
              "      --hover-fill-color: #FFFFFF;\n",
              "      --disabled-bg-color: #3B4455;\n",
              "      --disabled-fill-color: #666;\n",
              "  }\n",
              "\n",
              "  .colab-df-quickchart {\n",
              "    background-color: var(--bg-color);\n",
              "    border: none;\n",
              "    border-radius: 50%;\n",
              "    cursor: pointer;\n",
              "    display: none;\n",
              "    fill: var(--fill-color);\n",
              "    height: 32px;\n",
              "    padding: 0;\n",
              "    width: 32px;\n",
              "  }\n",
              "\n",
              "  .colab-df-quickchart:hover {\n",
              "    background-color: var(--hover-bg-color);\n",
              "    box-shadow: 0 1px 2px rgba(60, 64, 67, 0.3), 0 1px 3px 1px rgba(60, 64, 67, 0.15);\n",
              "    fill: var(--button-hover-fill-color);\n",
              "  }\n",
              "\n",
              "  .colab-df-quickchart-complete:disabled,\n",
              "  .colab-df-quickchart-complete:disabled:hover {\n",
              "    background-color: var(--disabled-bg-color);\n",
              "    fill: var(--disabled-fill-color);\n",
              "    box-shadow: none;\n",
              "  }\n",
              "\n",
              "  .colab-df-spinner {\n",
              "    border: 2px solid var(--fill-color);\n",
              "    border-color: transparent;\n",
              "    border-bottom-color: var(--fill-color);\n",
              "    animation:\n",
              "      spin 1s steps(1) infinite;\n",
              "  }\n",
              "\n",
              "  @keyframes spin {\n",
              "    0% {\n",
              "      border-color: transparent;\n",
              "      border-bottom-color: var(--fill-color);\n",
              "      border-left-color: var(--fill-color);\n",
              "    }\n",
              "    20% {\n",
              "      border-color: transparent;\n",
              "      border-left-color: var(--fill-color);\n",
              "      border-top-color: var(--fill-color);\n",
              "    }\n",
              "    30% {\n",
              "      border-color: transparent;\n",
              "      border-left-color: var(--fill-color);\n",
              "      border-top-color: var(--fill-color);\n",
              "      border-right-color: var(--fill-color);\n",
              "    }\n",
              "    40% {\n",
              "      border-color: transparent;\n",
              "      border-right-color: var(--fill-color);\n",
              "      border-top-color: var(--fill-color);\n",
              "    }\n",
              "    60% {\n",
              "      border-color: transparent;\n",
              "      border-right-color: var(--fill-color);\n",
              "    }\n",
              "    80% {\n",
              "      border-color: transparent;\n",
              "      border-right-color: var(--fill-color);\n",
              "      border-bottom-color: var(--fill-color);\n",
              "    }\n",
              "    90% {\n",
              "      border-color: transparent;\n",
              "      border-bottom-color: var(--fill-color);\n",
              "    }\n",
              "  }\n",
              "</style>\n",
              "\n",
              "  <script>\n",
              "    async function quickchart(key) {\n",
              "      const quickchartButtonEl =\n",
              "        document.querySelector('#' + key + ' button');\n",
              "      quickchartButtonEl.disabled = true;  // To prevent multiple clicks.\n",
              "      quickchartButtonEl.classList.add('colab-df-spinner');\n",
              "      try {\n",
              "        const charts = await google.colab.kernel.invokeFunction(\n",
              "            'suggestCharts', [key], {});\n",
              "      } catch (error) {\n",
              "        console.error('Error during call to suggestCharts:', error);\n",
              "      }\n",
              "      quickchartButtonEl.classList.remove('colab-df-spinner');\n",
              "      quickchartButtonEl.classList.add('colab-df-quickchart-complete');\n",
              "    }\n",
              "    (() => {\n",
              "      let quickchartButtonEl =\n",
              "        document.querySelector('#df-36118601-f7b0-4465-a7ba-5a35f1011583 button');\n",
              "      quickchartButtonEl.style.display =\n",
              "        google.colab.kernel.accessAllowed ? 'block' : 'none';\n",
              "    })();\n",
              "  </script>\n",
              "</div>\n",
              "    </div>\n",
              "  </div>\n"
            ],
            "application/vnd.google.colaboratory.intrinsic+json": {
              "type": "dataframe",
              "summary": "{\n  \"name\": \"data\",\n  \"rows\": 8,\n  \"fields\": [\n    {\n      \"column\": \"Passengers\",\n      \"properties\": {\n        \"dtype\": \"number\",\n        \"std\": 171.29182373876262,\n        \"min\": 104.0,\n        \"max\": 622.0,\n        \"num_unique_values\": 8,\n        \"samples\": [\n          280.2986111111111,\n          265.5,\n          144.0\n        ],\n        \"semantic_type\": \"\",\n        \"description\": \"\"\n      }\n    }\n  ]\n}"
            }
          },
          "metadata": {},
          "execution_count": 41
        }
      ]
    },
    {
      "cell_type": "code",
      "source": [
        "# Добавим дату как признаки как месяц года /12  и год - 1949\n",
        "data['month'] = pd.to_datetime(data.index).month / 12\n",
        "data['year'] = (pd.to_datetime(data.index).year - 1949) / 11\n",
        "data.head()"
      ],
      "metadata": {
        "colab": {
          "base_uri": "https://localhost:8080/",
          "height": 235
        },
        "id": "juSD_Rv9n4lg",
        "outputId": "0f284a63-3b25-4f07-be53-d59b4e87ba73"
      },
      "execution_count": null,
      "outputs": [
        {
          "output_type": "execute_result",
          "data": {
            "text/plain": [
              "         Passengers     month  year\n",
              "Month                              \n",
              "1949-01         112  0.083333   0.0\n",
              "1949-02         118  0.166667   0.0\n",
              "1949-03         132  0.250000   0.0\n",
              "1949-04         129  0.333333   0.0\n",
              "1949-05         121  0.416667   0.0"
            ],
            "text/html": [
              "\n",
              "  <div id=\"df-167c9982-a56b-453b-b6d0-6765871dd3d1\" class=\"colab-df-container\">\n",
              "    <div>\n",
              "<style scoped>\n",
              "    .dataframe tbody tr th:only-of-type {\n",
              "        vertical-align: middle;\n",
              "    }\n",
              "\n",
              "    .dataframe tbody tr th {\n",
              "        vertical-align: top;\n",
              "    }\n",
              "\n",
              "    .dataframe thead th {\n",
              "        text-align: right;\n",
              "    }\n",
              "</style>\n",
              "<table border=\"1\" class=\"dataframe\">\n",
              "  <thead>\n",
              "    <tr style=\"text-align: right;\">\n",
              "      <th></th>\n",
              "      <th>Passengers</th>\n",
              "      <th>month</th>\n",
              "      <th>year</th>\n",
              "    </tr>\n",
              "    <tr>\n",
              "      <th>Month</th>\n",
              "      <th></th>\n",
              "      <th></th>\n",
              "      <th></th>\n",
              "    </tr>\n",
              "  </thead>\n",
              "  <tbody>\n",
              "    <tr>\n",
              "      <th>1949-01</th>\n",
              "      <td>112</td>\n",
              "      <td>0.083333</td>\n",
              "      <td>0.0</td>\n",
              "    </tr>\n",
              "    <tr>\n",
              "      <th>1949-02</th>\n",
              "      <td>118</td>\n",
              "      <td>0.166667</td>\n",
              "      <td>0.0</td>\n",
              "    </tr>\n",
              "    <tr>\n",
              "      <th>1949-03</th>\n",
              "      <td>132</td>\n",
              "      <td>0.250000</td>\n",
              "      <td>0.0</td>\n",
              "    </tr>\n",
              "    <tr>\n",
              "      <th>1949-04</th>\n",
              "      <td>129</td>\n",
              "      <td>0.333333</td>\n",
              "      <td>0.0</td>\n",
              "    </tr>\n",
              "    <tr>\n",
              "      <th>1949-05</th>\n",
              "      <td>121</td>\n",
              "      <td>0.416667</td>\n",
              "      <td>0.0</td>\n",
              "    </tr>\n",
              "  </tbody>\n",
              "</table>\n",
              "</div>\n",
              "    <div class=\"colab-df-buttons\">\n",
              "\n",
              "  <div class=\"colab-df-container\">\n",
              "    <button class=\"colab-df-convert\" onclick=\"convertToInteractive('df-167c9982-a56b-453b-b6d0-6765871dd3d1')\"\n",
              "            title=\"Convert this dataframe to an interactive table.\"\n",
              "            style=\"display:none;\">\n",
              "\n",
              "  <svg xmlns=\"http://www.w3.org/2000/svg\" height=\"24px\" viewBox=\"0 -960 960 960\">\n",
              "    <path d=\"M120-120v-720h720v720H120Zm60-500h600v-160H180v160Zm220 220h160v-160H400v160Zm0 220h160v-160H400v160ZM180-400h160v-160H180v160Zm440 0h160v-160H620v160ZM180-180h160v-160H180v160Zm440 0h160v-160H620v160Z\"/>\n",
              "  </svg>\n",
              "    </button>\n",
              "\n",
              "  <style>\n",
              "    .colab-df-container {\n",
              "      display:flex;\n",
              "      gap: 12px;\n",
              "    }\n",
              "\n",
              "    .colab-df-convert {\n",
              "      background-color: #E8F0FE;\n",
              "      border: none;\n",
              "      border-radius: 50%;\n",
              "      cursor: pointer;\n",
              "      display: none;\n",
              "      fill: #1967D2;\n",
              "      height: 32px;\n",
              "      padding: 0 0 0 0;\n",
              "      width: 32px;\n",
              "    }\n",
              "\n",
              "    .colab-df-convert:hover {\n",
              "      background-color: #E2EBFA;\n",
              "      box-shadow: 0px 1px 2px rgba(60, 64, 67, 0.3), 0px 1px 3px 1px rgba(60, 64, 67, 0.15);\n",
              "      fill: #174EA6;\n",
              "    }\n",
              "\n",
              "    .colab-df-buttons div {\n",
              "      margin-bottom: 4px;\n",
              "    }\n",
              "\n",
              "    [theme=dark] .colab-df-convert {\n",
              "      background-color: #3B4455;\n",
              "      fill: #D2E3FC;\n",
              "    }\n",
              "\n",
              "    [theme=dark] .colab-df-convert:hover {\n",
              "      background-color: #434B5C;\n",
              "      box-shadow: 0px 1px 3px 1px rgba(0, 0, 0, 0.15);\n",
              "      filter: drop-shadow(0px 1px 2px rgba(0, 0, 0, 0.3));\n",
              "      fill: #FFFFFF;\n",
              "    }\n",
              "  </style>\n",
              "\n",
              "    <script>\n",
              "      const buttonEl =\n",
              "        document.querySelector('#df-167c9982-a56b-453b-b6d0-6765871dd3d1 button.colab-df-convert');\n",
              "      buttonEl.style.display =\n",
              "        google.colab.kernel.accessAllowed ? 'block' : 'none';\n",
              "\n",
              "      async function convertToInteractive(key) {\n",
              "        const element = document.querySelector('#df-167c9982-a56b-453b-b6d0-6765871dd3d1');\n",
              "        const dataTable =\n",
              "          await google.colab.kernel.invokeFunction('convertToInteractive',\n",
              "                                                    [key], {});\n",
              "        if (!dataTable) return;\n",
              "\n",
              "        const docLinkHtml = 'Like what you see? Visit the ' +\n",
              "          '<a target=\"_blank\" href=https://colab.research.google.com/notebooks/data_table.ipynb>data table notebook</a>'\n",
              "          + ' to learn more about interactive tables.';\n",
              "        element.innerHTML = '';\n",
              "        dataTable['output_type'] = 'display_data';\n",
              "        await google.colab.output.renderOutput(dataTable, element);\n",
              "        const docLink = document.createElement('div');\n",
              "        docLink.innerHTML = docLinkHtml;\n",
              "        element.appendChild(docLink);\n",
              "      }\n",
              "    </script>\n",
              "  </div>\n",
              "\n",
              "\n",
              "<div id=\"df-529c2808-3f3f-471a-aace-5c3cec139f89\">\n",
              "  <button class=\"colab-df-quickchart\" onclick=\"quickchart('df-529c2808-3f3f-471a-aace-5c3cec139f89')\"\n",
              "            title=\"Suggest charts\"\n",
              "            style=\"display:none;\">\n",
              "\n",
              "<svg xmlns=\"http://www.w3.org/2000/svg\" height=\"24px\"viewBox=\"0 0 24 24\"\n",
              "     width=\"24px\">\n",
              "    <g>\n",
              "        <path d=\"M19 3H5c-1.1 0-2 .9-2 2v14c0 1.1.9 2 2 2h14c1.1 0 2-.9 2-2V5c0-1.1-.9-2-2-2zM9 17H7v-7h2v7zm4 0h-2V7h2v10zm4 0h-2v-4h2v4z\"/>\n",
              "    </g>\n",
              "</svg>\n",
              "  </button>\n",
              "\n",
              "<style>\n",
              "  .colab-df-quickchart {\n",
              "      --bg-color: #E8F0FE;\n",
              "      --fill-color: #1967D2;\n",
              "      --hover-bg-color: #E2EBFA;\n",
              "      --hover-fill-color: #174EA6;\n",
              "      --disabled-fill-color: #AAA;\n",
              "      --disabled-bg-color: #DDD;\n",
              "  }\n",
              "\n",
              "  [theme=dark] .colab-df-quickchart {\n",
              "      --bg-color: #3B4455;\n",
              "      --fill-color: #D2E3FC;\n",
              "      --hover-bg-color: #434B5C;\n",
              "      --hover-fill-color: #FFFFFF;\n",
              "      --disabled-bg-color: #3B4455;\n",
              "      --disabled-fill-color: #666;\n",
              "  }\n",
              "\n",
              "  .colab-df-quickchart {\n",
              "    background-color: var(--bg-color);\n",
              "    border: none;\n",
              "    border-radius: 50%;\n",
              "    cursor: pointer;\n",
              "    display: none;\n",
              "    fill: var(--fill-color);\n",
              "    height: 32px;\n",
              "    padding: 0;\n",
              "    width: 32px;\n",
              "  }\n",
              "\n",
              "  .colab-df-quickchart:hover {\n",
              "    background-color: var(--hover-bg-color);\n",
              "    box-shadow: 0 1px 2px rgba(60, 64, 67, 0.3), 0 1px 3px 1px rgba(60, 64, 67, 0.15);\n",
              "    fill: var(--button-hover-fill-color);\n",
              "  }\n",
              "\n",
              "  .colab-df-quickchart-complete:disabled,\n",
              "  .colab-df-quickchart-complete:disabled:hover {\n",
              "    background-color: var(--disabled-bg-color);\n",
              "    fill: var(--disabled-fill-color);\n",
              "    box-shadow: none;\n",
              "  }\n",
              "\n",
              "  .colab-df-spinner {\n",
              "    border: 2px solid var(--fill-color);\n",
              "    border-color: transparent;\n",
              "    border-bottom-color: var(--fill-color);\n",
              "    animation:\n",
              "      spin 1s steps(1) infinite;\n",
              "  }\n",
              "\n",
              "  @keyframes spin {\n",
              "    0% {\n",
              "      border-color: transparent;\n",
              "      border-bottom-color: var(--fill-color);\n",
              "      border-left-color: var(--fill-color);\n",
              "    }\n",
              "    20% {\n",
              "      border-color: transparent;\n",
              "      border-left-color: var(--fill-color);\n",
              "      border-top-color: var(--fill-color);\n",
              "    }\n",
              "    30% {\n",
              "      border-color: transparent;\n",
              "      border-left-color: var(--fill-color);\n",
              "      border-top-color: var(--fill-color);\n",
              "      border-right-color: var(--fill-color);\n",
              "    }\n",
              "    40% {\n",
              "      border-color: transparent;\n",
              "      border-right-color: var(--fill-color);\n",
              "      border-top-color: var(--fill-color);\n",
              "    }\n",
              "    60% {\n",
              "      border-color: transparent;\n",
              "      border-right-color: var(--fill-color);\n",
              "    }\n",
              "    80% {\n",
              "      border-color: transparent;\n",
              "      border-right-color: var(--fill-color);\n",
              "      border-bottom-color: var(--fill-color);\n",
              "    }\n",
              "    90% {\n",
              "      border-color: transparent;\n",
              "      border-bottom-color: var(--fill-color);\n",
              "    }\n",
              "  }\n",
              "</style>\n",
              "\n",
              "  <script>\n",
              "    async function quickchart(key) {\n",
              "      const quickchartButtonEl =\n",
              "        document.querySelector('#' + key + ' button');\n",
              "      quickchartButtonEl.disabled = true;  // To prevent multiple clicks.\n",
              "      quickchartButtonEl.classList.add('colab-df-spinner');\n",
              "      try {\n",
              "        const charts = await google.colab.kernel.invokeFunction(\n",
              "            'suggestCharts', [key], {});\n",
              "      } catch (error) {\n",
              "        console.error('Error during call to suggestCharts:', error);\n",
              "      }\n",
              "      quickchartButtonEl.classList.remove('colab-df-spinner');\n",
              "      quickchartButtonEl.classList.add('colab-df-quickchart-complete');\n",
              "    }\n",
              "    (() => {\n",
              "      let quickchartButtonEl =\n",
              "        document.querySelector('#df-529c2808-3f3f-471a-aace-5c3cec139f89 button');\n",
              "      quickchartButtonEl.style.display =\n",
              "        google.colab.kernel.accessAllowed ? 'block' : 'none';\n",
              "    })();\n",
              "  </script>\n",
              "</div>\n",
              "    </div>\n",
              "  </div>\n"
            ],
            "application/vnd.google.colaboratory.intrinsic+json": {
              "type": "dataframe",
              "variable_name": "data",
              "summary": "{\n  \"name\": \"data\",\n  \"rows\": 144,\n  \"fields\": [\n    {\n      \"column\": \"Month\",\n      \"properties\": {\n        \"dtype\": \"object\",\n        \"num_unique_values\": 144,\n        \"samples\": [\n          \"1958-10\",\n          \"1950-08\",\n          \"1955-11\"\n        ],\n        \"semantic_type\": \"\",\n        \"description\": \"\"\n      }\n    },\n    {\n      \"column\": \"Passengers\",\n      \"properties\": {\n        \"dtype\": \"number\",\n        \"std\": 119,\n        \"min\": 104,\n        \"max\": 622,\n        \"num_unique_values\": 118,\n        \"samples\": [\n          293,\n          340,\n          121\n        ],\n        \"semantic_type\": \"\",\n        \"description\": \"\"\n      }\n    },\n    {\n      \"column\": \"month\",\n      \"properties\": {\n        \"dtype\": \"number\",\n        \"std\": 0.2886751345948129,\n        \"min\": 0.08333333333333333,\n        \"max\": 1.0,\n        \"num_unique_values\": 12,\n        \"samples\": [\n          0.9166666666666666,\n          0.8333333333333334,\n          0.08333333333333333\n        ],\n        \"semantic_type\": \"\",\n        \"description\": \"\"\n      }\n    },\n    {\n      \"column\": \"year\",\n      \"properties\": {\n        \"dtype\": \"number\",\n        \"std\": 0.3149183286488868,\n        \"min\": 0.0,\n        \"max\": 1.0,\n        \"num_unique_values\": 12,\n        \"samples\": [\n          0.9090909090909091,\n          0.8181818181818182,\n          0.0\n        ],\n        \"semantic_type\": \"\",\n        \"description\": \"\"\n      }\n    }\n  ]\n}"
            }
          },
          "metadata": {},
          "execution_count": 42
        }
      ]
    },
    {
      "cell_type": "code",
      "source": [
        "# Делаем нормализацию\n",
        "df = data.copy()\n",
        "scaler = StandardScaler()\n",
        "df['Passengers'] = scaler.fit_transform(df.Passengers.array.reshape((-1, 1)))\n",
        "df"
      ],
      "metadata": {
        "colab": {
          "base_uri": "https://localhost:8080/",
          "height": 450
        },
        "id": "H0nrp0_cn4pv",
        "outputId": "4165ff1e-a894-4437-b8b6-b8028de77e79"
      },
      "execution_count": null,
      "outputs": [
        {
          "output_type": "execute_result",
          "data": {
            "text/plain": [
              "         Passengers     month  year\n",
              "Month                              \n",
              "1949-01   -1.407779  0.083333   0.0\n",
              "1949-02   -1.357590  0.166667   0.0\n",
              "1949-03   -1.240483  0.250000   0.0\n",
              "1949-04   -1.265578  0.333333   0.0\n",
              "1949-05   -1.332496  0.416667   0.0\n",
              "...             ...       ...   ...\n",
              "1960-08    2.724417  0.666667   1.0\n",
              "1960-09    1.904669  0.750000   1.0\n",
              "1960-10    1.511525  0.833333   1.0\n",
              "1960-11    0.917627  0.916667   1.0\n",
              "1960-12    1.268947  1.000000   1.0\n",
              "\n",
              "[144 rows x 3 columns]"
            ],
            "text/html": [
              "\n",
              "  <div id=\"df-9cf2aaa8-c21a-4c9e-b778-4dbdee6bf888\" class=\"colab-df-container\">\n",
              "    <div>\n",
              "<style scoped>\n",
              "    .dataframe tbody tr th:only-of-type {\n",
              "        vertical-align: middle;\n",
              "    }\n",
              "\n",
              "    .dataframe tbody tr th {\n",
              "        vertical-align: top;\n",
              "    }\n",
              "\n",
              "    .dataframe thead th {\n",
              "        text-align: right;\n",
              "    }\n",
              "</style>\n",
              "<table border=\"1\" class=\"dataframe\">\n",
              "  <thead>\n",
              "    <tr style=\"text-align: right;\">\n",
              "      <th></th>\n",
              "      <th>Passengers</th>\n",
              "      <th>month</th>\n",
              "      <th>year</th>\n",
              "    </tr>\n",
              "    <tr>\n",
              "      <th>Month</th>\n",
              "      <th></th>\n",
              "      <th></th>\n",
              "      <th></th>\n",
              "    </tr>\n",
              "  </thead>\n",
              "  <tbody>\n",
              "    <tr>\n",
              "      <th>1949-01</th>\n",
              "      <td>-1.407779</td>\n",
              "      <td>0.083333</td>\n",
              "      <td>0.0</td>\n",
              "    </tr>\n",
              "    <tr>\n",
              "      <th>1949-02</th>\n",
              "      <td>-1.357590</td>\n",
              "      <td>0.166667</td>\n",
              "      <td>0.0</td>\n",
              "    </tr>\n",
              "    <tr>\n",
              "      <th>1949-03</th>\n",
              "      <td>-1.240483</td>\n",
              "      <td>0.250000</td>\n",
              "      <td>0.0</td>\n",
              "    </tr>\n",
              "    <tr>\n",
              "      <th>1949-04</th>\n",
              "      <td>-1.265578</td>\n",
              "      <td>0.333333</td>\n",
              "      <td>0.0</td>\n",
              "    </tr>\n",
              "    <tr>\n",
              "      <th>1949-05</th>\n",
              "      <td>-1.332496</td>\n",
              "      <td>0.416667</td>\n",
              "      <td>0.0</td>\n",
              "    </tr>\n",
              "    <tr>\n",
              "      <th>...</th>\n",
              "      <td>...</td>\n",
              "      <td>...</td>\n",
              "      <td>...</td>\n",
              "    </tr>\n",
              "    <tr>\n",
              "      <th>1960-08</th>\n",
              "      <td>2.724417</td>\n",
              "      <td>0.666667</td>\n",
              "      <td>1.0</td>\n",
              "    </tr>\n",
              "    <tr>\n",
              "      <th>1960-09</th>\n",
              "      <td>1.904669</td>\n",
              "      <td>0.750000</td>\n",
              "      <td>1.0</td>\n",
              "    </tr>\n",
              "    <tr>\n",
              "      <th>1960-10</th>\n",
              "      <td>1.511525</td>\n",
              "      <td>0.833333</td>\n",
              "      <td>1.0</td>\n",
              "    </tr>\n",
              "    <tr>\n",
              "      <th>1960-11</th>\n",
              "      <td>0.917627</td>\n",
              "      <td>0.916667</td>\n",
              "      <td>1.0</td>\n",
              "    </tr>\n",
              "    <tr>\n",
              "      <th>1960-12</th>\n",
              "      <td>1.268947</td>\n",
              "      <td>1.000000</td>\n",
              "      <td>1.0</td>\n",
              "    </tr>\n",
              "  </tbody>\n",
              "</table>\n",
              "<p>144 rows × 3 columns</p>\n",
              "</div>\n",
              "    <div class=\"colab-df-buttons\">\n",
              "\n",
              "  <div class=\"colab-df-container\">\n",
              "    <button class=\"colab-df-convert\" onclick=\"convertToInteractive('df-9cf2aaa8-c21a-4c9e-b778-4dbdee6bf888')\"\n",
              "            title=\"Convert this dataframe to an interactive table.\"\n",
              "            style=\"display:none;\">\n",
              "\n",
              "  <svg xmlns=\"http://www.w3.org/2000/svg\" height=\"24px\" viewBox=\"0 -960 960 960\">\n",
              "    <path d=\"M120-120v-720h720v720H120Zm60-500h600v-160H180v160Zm220 220h160v-160H400v160Zm0 220h160v-160H400v160ZM180-400h160v-160H180v160Zm440 0h160v-160H620v160ZM180-180h160v-160H180v160Zm440 0h160v-160H620v160Z\"/>\n",
              "  </svg>\n",
              "    </button>\n",
              "\n",
              "  <style>\n",
              "    .colab-df-container {\n",
              "      display:flex;\n",
              "      gap: 12px;\n",
              "    }\n",
              "\n",
              "    .colab-df-convert {\n",
              "      background-color: #E8F0FE;\n",
              "      border: none;\n",
              "      border-radius: 50%;\n",
              "      cursor: pointer;\n",
              "      display: none;\n",
              "      fill: #1967D2;\n",
              "      height: 32px;\n",
              "      padding: 0 0 0 0;\n",
              "      width: 32px;\n",
              "    }\n",
              "\n",
              "    .colab-df-convert:hover {\n",
              "      background-color: #E2EBFA;\n",
              "      box-shadow: 0px 1px 2px rgba(60, 64, 67, 0.3), 0px 1px 3px 1px rgba(60, 64, 67, 0.15);\n",
              "      fill: #174EA6;\n",
              "    }\n",
              "\n",
              "    .colab-df-buttons div {\n",
              "      margin-bottom: 4px;\n",
              "    }\n",
              "\n",
              "    [theme=dark] .colab-df-convert {\n",
              "      background-color: #3B4455;\n",
              "      fill: #D2E3FC;\n",
              "    }\n",
              "\n",
              "    [theme=dark] .colab-df-convert:hover {\n",
              "      background-color: #434B5C;\n",
              "      box-shadow: 0px 1px 3px 1px rgba(0, 0, 0, 0.15);\n",
              "      filter: drop-shadow(0px 1px 2px rgba(0, 0, 0, 0.3));\n",
              "      fill: #FFFFFF;\n",
              "    }\n",
              "  </style>\n",
              "\n",
              "    <script>\n",
              "      const buttonEl =\n",
              "        document.querySelector('#df-9cf2aaa8-c21a-4c9e-b778-4dbdee6bf888 button.colab-df-convert');\n",
              "      buttonEl.style.display =\n",
              "        google.colab.kernel.accessAllowed ? 'block' : 'none';\n",
              "\n",
              "      async function convertToInteractive(key) {\n",
              "        const element = document.querySelector('#df-9cf2aaa8-c21a-4c9e-b778-4dbdee6bf888');\n",
              "        const dataTable =\n",
              "          await google.colab.kernel.invokeFunction('convertToInteractive',\n",
              "                                                    [key], {});\n",
              "        if (!dataTable) return;\n",
              "\n",
              "        const docLinkHtml = 'Like what you see? Visit the ' +\n",
              "          '<a target=\"_blank\" href=https://colab.research.google.com/notebooks/data_table.ipynb>data table notebook</a>'\n",
              "          + ' to learn more about interactive tables.';\n",
              "        element.innerHTML = '';\n",
              "        dataTable['output_type'] = 'display_data';\n",
              "        await google.colab.output.renderOutput(dataTable, element);\n",
              "        const docLink = document.createElement('div');\n",
              "        docLink.innerHTML = docLinkHtml;\n",
              "        element.appendChild(docLink);\n",
              "      }\n",
              "    </script>\n",
              "  </div>\n",
              "\n",
              "\n",
              "<div id=\"df-76f1117b-239b-4cdc-9040-6e652d6157e9\">\n",
              "  <button class=\"colab-df-quickchart\" onclick=\"quickchart('df-76f1117b-239b-4cdc-9040-6e652d6157e9')\"\n",
              "            title=\"Suggest charts\"\n",
              "            style=\"display:none;\">\n",
              "\n",
              "<svg xmlns=\"http://www.w3.org/2000/svg\" height=\"24px\"viewBox=\"0 0 24 24\"\n",
              "     width=\"24px\">\n",
              "    <g>\n",
              "        <path d=\"M19 3H5c-1.1 0-2 .9-2 2v14c0 1.1.9 2 2 2h14c1.1 0 2-.9 2-2V5c0-1.1-.9-2-2-2zM9 17H7v-7h2v7zm4 0h-2V7h2v10zm4 0h-2v-4h2v4z\"/>\n",
              "    </g>\n",
              "</svg>\n",
              "  </button>\n",
              "\n",
              "<style>\n",
              "  .colab-df-quickchart {\n",
              "      --bg-color: #E8F0FE;\n",
              "      --fill-color: #1967D2;\n",
              "      --hover-bg-color: #E2EBFA;\n",
              "      --hover-fill-color: #174EA6;\n",
              "      --disabled-fill-color: #AAA;\n",
              "      --disabled-bg-color: #DDD;\n",
              "  }\n",
              "\n",
              "  [theme=dark] .colab-df-quickchart {\n",
              "      --bg-color: #3B4455;\n",
              "      --fill-color: #D2E3FC;\n",
              "      --hover-bg-color: #434B5C;\n",
              "      --hover-fill-color: #FFFFFF;\n",
              "      --disabled-bg-color: #3B4455;\n",
              "      --disabled-fill-color: #666;\n",
              "  }\n",
              "\n",
              "  .colab-df-quickchart {\n",
              "    background-color: var(--bg-color);\n",
              "    border: none;\n",
              "    border-radius: 50%;\n",
              "    cursor: pointer;\n",
              "    display: none;\n",
              "    fill: var(--fill-color);\n",
              "    height: 32px;\n",
              "    padding: 0;\n",
              "    width: 32px;\n",
              "  }\n",
              "\n",
              "  .colab-df-quickchart:hover {\n",
              "    background-color: var(--hover-bg-color);\n",
              "    box-shadow: 0 1px 2px rgba(60, 64, 67, 0.3), 0 1px 3px 1px rgba(60, 64, 67, 0.15);\n",
              "    fill: var(--button-hover-fill-color);\n",
              "  }\n",
              "\n",
              "  .colab-df-quickchart-complete:disabled,\n",
              "  .colab-df-quickchart-complete:disabled:hover {\n",
              "    background-color: var(--disabled-bg-color);\n",
              "    fill: var(--disabled-fill-color);\n",
              "    box-shadow: none;\n",
              "  }\n",
              "\n",
              "  .colab-df-spinner {\n",
              "    border: 2px solid var(--fill-color);\n",
              "    border-color: transparent;\n",
              "    border-bottom-color: var(--fill-color);\n",
              "    animation:\n",
              "      spin 1s steps(1) infinite;\n",
              "  }\n",
              "\n",
              "  @keyframes spin {\n",
              "    0% {\n",
              "      border-color: transparent;\n",
              "      border-bottom-color: var(--fill-color);\n",
              "      border-left-color: var(--fill-color);\n",
              "    }\n",
              "    20% {\n",
              "      border-color: transparent;\n",
              "      border-left-color: var(--fill-color);\n",
              "      border-top-color: var(--fill-color);\n",
              "    }\n",
              "    30% {\n",
              "      border-color: transparent;\n",
              "      border-left-color: var(--fill-color);\n",
              "      border-top-color: var(--fill-color);\n",
              "      border-right-color: var(--fill-color);\n",
              "    }\n",
              "    40% {\n",
              "      border-color: transparent;\n",
              "      border-right-color: var(--fill-color);\n",
              "      border-top-color: var(--fill-color);\n",
              "    }\n",
              "    60% {\n",
              "      border-color: transparent;\n",
              "      border-right-color: var(--fill-color);\n",
              "    }\n",
              "    80% {\n",
              "      border-color: transparent;\n",
              "      border-right-color: var(--fill-color);\n",
              "      border-bottom-color: var(--fill-color);\n",
              "    }\n",
              "    90% {\n",
              "      border-color: transparent;\n",
              "      border-bottom-color: var(--fill-color);\n",
              "    }\n",
              "  }\n",
              "</style>\n",
              "\n",
              "  <script>\n",
              "    async function quickchart(key) {\n",
              "      const quickchartButtonEl =\n",
              "        document.querySelector('#' + key + ' button');\n",
              "      quickchartButtonEl.disabled = true;  // To prevent multiple clicks.\n",
              "      quickchartButtonEl.classList.add('colab-df-spinner');\n",
              "      try {\n",
              "        const charts = await google.colab.kernel.invokeFunction(\n",
              "            'suggestCharts', [key], {});\n",
              "      } catch (error) {\n",
              "        console.error('Error during call to suggestCharts:', error);\n",
              "      }\n",
              "      quickchartButtonEl.classList.remove('colab-df-spinner');\n",
              "      quickchartButtonEl.classList.add('colab-df-quickchart-complete');\n",
              "    }\n",
              "    (() => {\n",
              "      let quickchartButtonEl =\n",
              "        document.querySelector('#df-76f1117b-239b-4cdc-9040-6e652d6157e9 button');\n",
              "      quickchartButtonEl.style.display =\n",
              "        google.colab.kernel.accessAllowed ? 'block' : 'none';\n",
              "    })();\n",
              "  </script>\n",
              "</div>\n",
              "    </div>\n",
              "  </div>\n"
            ],
            "application/vnd.google.colaboratory.intrinsic+json": {
              "type": "dataframe",
              "variable_name": "df",
              "summary": "{\n  \"name\": \"df\",\n  \"rows\": 144,\n  \"fields\": [\n    {\n      \"column\": \"Month\",\n      \"properties\": {\n        \"dtype\": \"object\",\n        \"num_unique_values\": 144,\n        \"samples\": [\n          \"1958-10\",\n          \"1950-08\",\n          \"1955-11\"\n        ],\n        \"semantic_type\": \"\",\n        \"description\": \"\"\n      }\n    },\n    {\n      \"column\": \"Passengers\",\n      \"properties\": {\n        \"dtype\": \"number\",\n        \"std\": 1.003490412008509,\n        \"min\": -1.474696985025874,\n        \"max\": 2.8582528517823356,\n        \"num_unique_values\": 118,\n        \"samples\": [\n          0.10624417164739156,\n          0.4993882688095264,\n          -1.3324959286055273\n        ],\n        \"semantic_type\": \"\",\n        \"description\": \"\"\n      }\n    },\n    {\n      \"column\": \"month\",\n      \"properties\": {\n        \"dtype\": \"number\",\n        \"std\": 0.2886751345948129,\n        \"min\": 0.08333333333333333,\n        \"max\": 1.0,\n        \"num_unique_values\": 12,\n        \"samples\": [\n          0.9166666666666666,\n          0.8333333333333334,\n          0.08333333333333333\n        ],\n        \"semantic_type\": \"\",\n        \"description\": \"\"\n      }\n    },\n    {\n      \"column\": \"year\",\n      \"properties\": {\n        \"dtype\": \"number\",\n        \"std\": 0.3149183286488868,\n        \"min\": 0.0,\n        \"max\": 1.0,\n        \"num_unique_values\": 12,\n        \"samples\": [\n          0.9090909090909091,\n          0.8181818181818182,\n          0.0\n        ],\n        \"semantic_type\": \"\",\n        \"description\": \"\"\n      }\n    }\n  ]\n}"
            }
          },
          "metadata": {},
          "execution_count": 43
        }
      ]
    },
    {
      "cell_type": "code",
      "source": [
        "df = df.reset_index()\n",
        "df.drop(['Month'], axis=1, inplace=True)"
      ],
      "metadata": {
        "id": "K0Qd-r6KFOiZ"
      },
      "execution_count": null,
      "outputs": []
    },
    {
      "cell_type": "code",
      "source": [
        "df.head()"
      ],
      "metadata": {
        "colab": {
          "base_uri": "https://localhost:8080/",
          "height": 206
        },
        "id": "t_UfdEKdFbXh",
        "outputId": "b8124704-12d2-4ed0-b581-ba2ed846d0c2"
      },
      "execution_count": null,
      "outputs": [
        {
          "output_type": "execute_result",
          "data": {
            "text/plain": [
              "   Passengers     month  year\n",
              "0   -1.407779  0.083333   0.0\n",
              "1   -1.357590  0.166667   0.0\n",
              "2   -1.240483  0.250000   0.0\n",
              "3   -1.265578  0.333333   0.0\n",
              "4   -1.332496  0.416667   0.0"
            ],
            "text/html": [
              "\n",
              "  <div id=\"df-cfbb033c-75d7-4fc9-b267-be6ae3ef588c\" class=\"colab-df-container\">\n",
              "    <div>\n",
              "<style scoped>\n",
              "    .dataframe tbody tr th:only-of-type {\n",
              "        vertical-align: middle;\n",
              "    }\n",
              "\n",
              "    .dataframe tbody tr th {\n",
              "        vertical-align: top;\n",
              "    }\n",
              "\n",
              "    .dataframe thead th {\n",
              "        text-align: right;\n",
              "    }\n",
              "</style>\n",
              "<table border=\"1\" class=\"dataframe\">\n",
              "  <thead>\n",
              "    <tr style=\"text-align: right;\">\n",
              "      <th></th>\n",
              "      <th>Passengers</th>\n",
              "      <th>month</th>\n",
              "      <th>year</th>\n",
              "    </tr>\n",
              "  </thead>\n",
              "  <tbody>\n",
              "    <tr>\n",
              "      <th>0</th>\n",
              "      <td>-1.407779</td>\n",
              "      <td>0.083333</td>\n",
              "      <td>0.0</td>\n",
              "    </tr>\n",
              "    <tr>\n",
              "      <th>1</th>\n",
              "      <td>-1.357590</td>\n",
              "      <td>0.166667</td>\n",
              "      <td>0.0</td>\n",
              "    </tr>\n",
              "    <tr>\n",
              "      <th>2</th>\n",
              "      <td>-1.240483</td>\n",
              "      <td>0.250000</td>\n",
              "      <td>0.0</td>\n",
              "    </tr>\n",
              "    <tr>\n",
              "      <th>3</th>\n",
              "      <td>-1.265578</td>\n",
              "      <td>0.333333</td>\n",
              "      <td>0.0</td>\n",
              "    </tr>\n",
              "    <tr>\n",
              "      <th>4</th>\n",
              "      <td>-1.332496</td>\n",
              "      <td>0.416667</td>\n",
              "      <td>0.0</td>\n",
              "    </tr>\n",
              "  </tbody>\n",
              "</table>\n",
              "</div>\n",
              "    <div class=\"colab-df-buttons\">\n",
              "\n",
              "  <div class=\"colab-df-container\">\n",
              "    <button class=\"colab-df-convert\" onclick=\"convertToInteractive('df-cfbb033c-75d7-4fc9-b267-be6ae3ef588c')\"\n",
              "            title=\"Convert this dataframe to an interactive table.\"\n",
              "            style=\"display:none;\">\n",
              "\n",
              "  <svg xmlns=\"http://www.w3.org/2000/svg\" height=\"24px\" viewBox=\"0 -960 960 960\">\n",
              "    <path d=\"M120-120v-720h720v720H120Zm60-500h600v-160H180v160Zm220 220h160v-160H400v160Zm0 220h160v-160H400v160ZM180-400h160v-160H180v160Zm440 0h160v-160H620v160ZM180-180h160v-160H180v160Zm440 0h160v-160H620v160Z\"/>\n",
              "  </svg>\n",
              "    </button>\n",
              "\n",
              "  <style>\n",
              "    .colab-df-container {\n",
              "      display:flex;\n",
              "      gap: 12px;\n",
              "    }\n",
              "\n",
              "    .colab-df-convert {\n",
              "      background-color: #E8F0FE;\n",
              "      border: none;\n",
              "      border-radius: 50%;\n",
              "      cursor: pointer;\n",
              "      display: none;\n",
              "      fill: #1967D2;\n",
              "      height: 32px;\n",
              "      padding: 0 0 0 0;\n",
              "      width: 32px;\n",
              "    }\n",
              "\n",
              "    .colab-df-convert:hover {\n",
              "      background-color: #E2EBFA;\n",
              "      box-shadow: 0px 1px 2px rgba(60, 64, 67, 0.3), 0px 1px 3px 1px rgba(60, 64, 67, 0.15);\n",
              "      fill: #174EA6;\n",
              "    }\n",
              "\n",
              "    .colab-df-buttons div {\n",
              "      margin-bottom: 4px;\n",
              "    }\n",
              "\n",
              "    [theme=dark] .colab-df-convert {\n",
              "      background-color: #3B4455;\n",
              "      fill: #D2E3FC;\n",
              "    }\n",
              "\n",
              "    [theme=dark] .colab-df-convert:hover {\n",
              "      background-color: #434B5C;\n",
              "      box-shadow: 0px 1px 3px 1px rgba(0, 0, 0, 0.15);\n",
              "      filter: drop-shadow(0px 1px 2px rgba(0, 0, 0, 0.3));\n",
              "      fill: #FFFFFF;\n",
              "    }\n",
              "  </style>\n",
              "\n",
              "    <script>\n",
              "      const buttonEl =\n",
              "        document.querySelector('#df-cfbb033c-75d7-4fc9-b267-be6ae3ef588c button.colab-df-convert');\n",
              "      buttonEl.style.display =\n",
              "        google.colab.kernel.accessAllowed ? 'block' : 'none';\n",
              "\n",
              "      async function convertToInteractive(key) {\n",
              "        const element = document.querySelector('#df-cfbb033c-75d7-4fc9-b267-be6ae3ef588c');\n",
              "        const dataTable =\n",
              "          await google.colab.kernel.invokeFunction('convertToInteractive',\n",
              "                                                    [key], {});\n",
              "        if (!dataTable) return;\n",
              "\n",
              "        const docLinkHtml = 'Like what you see? Visit the ' +\n",
              "          '<a target=\"_blank\" href=https://colab.research.google.com/notebooks/data_table.ipynb>data table notebook</a>'\n",
              "          + ' to learn more about interactive tables.';\n",
              "        element.innerHTML = '';\n",
              "        dataTable['output_type'] = 'display_data';\n",
              "        await google.colab.output.renderOutput(dataTable, element);\n",
              "        const docLink = document.createElement('div');\n",
              "        docLink.innerHTML = docLinkHtml;\n",
              "        element.appendChild(docLink);\n",
              "      }\n",
              "    </script>\n",
              "  </div>\n",
              "\n",
              "\n",
              "<div id=\"df-be28df91-3b93-4ef9-a9a1-cd5635a7df9c\">\n",
              "  <button class=\"colab-df-quickchart\" onclick=\"quickchart('df-be28df91-3b93-4ef9-a9a1-cd5635a7df9c')\"\n",
              "            title=\"Suggest charts\"\n",
              "            style=\"display:none;\">\n",
              "\n",
              "<svg xmlns=\"http://www.w3.org/2000/svg\" height=\"24px\"viewBox=\"0 0 24 24\"\n",
              "     width=\"24px\">\n",
              "    <g>\n",
              "        <path d=\"M19 3H5c-1.1 0-2 .9-2 2v14c0 1.1.9 2 2 2h14c1.1 0 2-.9 2-2V5c0-1.1-.9-2-2-2zM9 17H7v-7h2v7zm4 0h-2V7h2v10zm4 0h-2v-4h2v4z\"/>\n",
              "    </g>\n",
              "</svg>\n",
              "  </button>\n",
              "\n",
              "<style>\n",
              "  .colab-df-quickchart {\n",
              "      --bg-color: #E8F0FE;\n",
              "      --fill-color: #1967D2;\n",
              "      --hover-bg-color: #E2EBFA;\n",
              "      --hover-fill-color: #174EA6;\n",
              "      --disabled-fill-color: #AAA;\n",
              "      --disabled-bg-color: #DDD;\n",
              "  }\n",
              "\n",
              "  [theme=dark] .colab-df-quickchart {\n",
              "      --bg-color: #3B4455;\n",
              "      --fill-color: #D2E3FC;\n",
              "      --hover-bg-color: #434B5C;\n",
              "      --hover-fill-color: #FFFFFF;\n",
              "      --disabled-bg-color: #3B4455;\n",
              "      --disabled-fill-color: #666;\n",
              "  }\n",
              "\n",
              "  .colab-df-quickchart {\n",
              "    background-color: var(--bg-color);\n",
              "    border: none;\n",
              "    border-radius: 50%;\n",
              "    cursor: pointer;\n",
              "    display: none;\n",
              "    fill: var(--fill-color);\n",
              "    height: 32px;\n",
              "    padding: 0;\n",
              "    width: 32px;\n",
              "  }\n",
              "\n",
              "  .colab-df-quickchart:hover {\n",
              "    background-color: var(--hover-bg-color);\n",
              "    box-shadow: 0 1px 2px rgba(60, 64, 67, 0.3), 0 1px 3px 1px rgba(60, 64, 67, 0.15);\n",
              "    fill: var(--button-hover-fill-color);\n",
              "  }\n",
              "\n",
              "  .colab-df-quickchart-complete:disabled,\n",
              "  .colab-df-quickchart-complete:disabled:hover {\n",
              "    background-color: var(--disabled-bg-color);\n",
              "    fill: var(--disabled-fill-color);\n",
              "    box-shadow: none;\n",
              "  }\n",
              "\n",
              "  .colab-df-spinner {\n",
              "    border: 2px solid var(--fill-color);\n",
              "    border-color: transparent;\n",
              "    border-bottom-color: var(--fill-color);\n",
              "    animation:\n",
              "      spin 1s steps(1) infinite;\n",
              "  }\n",
              "\n",
              "  @keyframes spin {\n",
              "    0% {\n",
              "      border-color: transparent;\n",
              "      border-bottom-color: var(--fill-color);\n",
              "      border-left-color: var(--fill-color);\n",
              "    }\n",
              "    20% {\n",
              "      border-color: transparent;\n",
              "      border-left-color: var(--fill-color);\n",
              "      border-top-color: var(--fill-color);\n",
              "    }\n",
              "    30% {\n",
              "      border-color: transparent;\n",
              "      border-left-color: var(--fill-color);\n",
              "      border-top-color: var(--fill-color);\n",
              "      border-right-color: var(--fill-color);\n",
              "    }\n",
              "    40% {\n",
              "      border-color: transparent;\n",
              "      border-right-color: var(--fill-color);\n",
              "      border-top-color: var(--fill-color);\n",
              "    }\n",
              "    60% {\n",
              "      border-color: transparent;\n",
              "      border-right-color: var(--fill-color);\n",
              "    }\n",
              "    80% {\n",
              "      border-color: transparent;\n",
              "      border-right-color: var(--fill-color);\n",
              "      border-bottom-color: var(--fill-color);\n",
              "    }\n",
              "    90% {\n",
              "      border-color: transparent;\n",
              "      border-bottom-color: var(--fill-color);\n",
              "    }\n",
              "  }\n",
              "</style>\n",
              "\n",
              "  <script>\n",
              "    async function quickchart(key) {\n",
              "      const quickchartButtonEl =\n",
              "        document.querySelector('#' + key + ' button');\n",
              "      quickchartButtonEl.disabled = true;  // To prevent multiple clicks.\n",
              "      quickchartButtonEl.classList.add('colab-df-spinner');\n",
              "      try {\n",
              "        const charts = await google.colab.kernel.invokeFunction(\n",
              "            'suggestCharts', [key], {});\n",
              "      } catch (error) {\n",
              "        console.error('Error during call to suggestCharts:', error);\n",
              "      }\n",
              "      quickchartButtonEl.classList.remove('colab-df-spinner');\n",
              "      quickchartButtonEl.classList.add('colab-df-quickchart-complete');\n",
              "    }\n",
              "    (() => {\n",
              "      let quickchartButtonEl =\n",
              "        document.querySelector('#df-be28df91-3b93-4ef9-a9a1-cd5635a7df9c button');\n",
              "      quickchartButtonEl.style.display =\n",
              "        google.colab.kernel.accessAllowed ? 'block' : 'none';\n",
              "    })();\n",
              "  </script>\n",
              "</div>\n",
              "    </div>\n",
              "  </div>\n"
            ],
            "application/vnd.google.colaboratory.intrinsic+json": {
              "type": "dataframe",
              "variable_name": "df",
              "summary": "{\n  \"name\": \"df\",\n  \"rows\": 144,\n  \"fields\": [\n    {\n      \"column\": \"Passengers\",\n      \"properties\": {\n        \"dtype\": \"number\",\n        \"std\": 1.003490412008509,\n        \"min\": -1.474696985025874,\n        \"max\": 2.8582528517823356,\n        \"num_unique_values\": 118,\n        \"samples\": [\n          0.10624417164739156,\n          0.4993882688095264,\n          -1.3324959286055273\n        ],\n        \"semantic_type\": \"\",\n        \"description\": \"\"\n      }\n    },\n    {\n      \"column\": \"month\",\n      \"properties\": {\n        \"dtype\": \"number\",\n        \"std\": 0.2886751345948129,\n        \"min\": 0.08333333333333333,\n        \"max\": 1.0,\n        \"num_unique_values\": 12,\n        \"samples\": [\n          0.9166666666666666,\n          0.8333333333333334,\n          0.08333333333333333\n        ],\n        \"semantic_type\": \"\",\n        \"description\": \"\"\n      }\n    },\n    {\n      \"column\": \"year\",\n      \"properties\": {\n        \"dtype\": \"number\",\n        \"std\": 0.3149183286488868,\n        \"min\": 0.0,\n        \"max\": 1.0,\n        \"num_unique_values\": 12,\n        \"samples\": [\n          0.9090909090909091,\n          0.8181818181818182,\n          0.0\n        ],\n        \"semantic_type\": \"\",\n        \"description\": \"\"\n      }\n    }\n  ]\n}"
            }
          },
          "metadata": {},
          "execution_count": 58
        }
      ]
    },
    {
      "cell_type": "code",
      "source": [
        "# Список признаков\n",
        "channelIndexes = [0, 1, 2]\n",
        "# Длина трейна\n",
        "trainLen = 116\n",
        "# Длина истории для работы\n",
        "xLen = 6\n",
        "# Отступ тестов от тренировок\n",
        "bias = 10\n",
        "\n",
        "# Делим\n",
        "train_data = df.iloc[0:trainLen, channelIndexes]\n",
        "# train_data = df.iloc[0:trainLen - bias, channelIndexes]\n",
        "val_data = df.iloc[trainLen:, channelIndexes]"
      ],
      "metadata": {
        "id": "KkviYBubtKff"
      },
      "execution_count": null,
      "outputs": []
    },
    {
      "cell_type": "code",
      "source": [
        "# Формируем параметры для генерации выборки\n",
        "\n",
        "# Шаг по данным для построения обучающих примеров\n",
        "step = 1\n",
        "\n",
        "# Длина прошлого\n",
        "past = xLen\n",
        "p = past\n",
        "\n",
        "# горизонт предсказания\n",
        "future = 1\n",
        "h = future\n",
        "\n",
        "# параметры модели для обучения\n",
        "learning_rate = 0.001\n",
        "batch_size = 32\n",
        "epochs = 10"
      ],
      "metadata": {
        "id": "EWB1TNIwDJG5"
      },
      "execution_count": null,
      "outputs": []
    },
    {
      "cell_type": "markdown",
      "source": [
        "Выделяем части на обучение и проверку"
      ],
      "metadata": {
        "id": "Y0D6PniFC2ad"
      }
    },
    {
      "cell_type": "code",
      "source": [
        "Chanel_numb = len(channelIndexes) # 3\n",
        "start = xLen + future # 14+1=15\n",
        "end = start + trainLen - 1 # 15 + 116 -1 = 131\n",
        "xTrain_df = train_data.iloc[:- future - xLen + 1, :] # сдвиг по времени для предсказания (закончить чуть раньше)\n",
        "xTrain = xTrain_df[[train_data.columns[i] for i in range(Chanel_numb)]].values\n",
        "yTrain = train_data.iloc[future + xLen -1:, 0].values # Сдвиг по времени для предсказания (начать чуть позднее)\n",
        "xVal_df = val_data.iloc[: - future - xLen +1, :] # сдвиг по времени для предсказания (закончить чуть раньше)\n",
        "xVal = xVal_df[[val_data.columns[i] for i in range(Chanel_numb)]].values\n",
        "yVal = val_data.iloc[future + xLen -1:, 0].values # Сдвиг по времени для предсказания (начать чуть позднее)\n",
        "\n",
        "xTrain.shape, yTrain.shape"
      ],
      "metadata": {
        "colab": {
          "base_uri": "https://localhost:8080/"
        },
        "id": "wZX1X1unn4tz",
        "outputId": "6b36e55b-d789-4eca-d876-01a928dd620f"
      },
      "execution_count": null,
      "outputs": [
        {
          "output_type": "execute_result",
          "data": {
            "text/plain": [
              "((110, 3), (110,))"
            ]
          },
          "metadata": {},
          "execution_count": 46
        }
      ]
    },
    {
      "cell_type": "code",
      "source": [
        "xVal.shape, yVal.shape"
      ],
      "metadata": {
        "colab": {
          "base_uri": "https://localhost:8080/"
        },
        "id": "fr_jFg3RCz25",
        "outputId": "e9060062-fe20-420c-87d5-2cd66cccc6dc"
      },
      "execution_count": null,
      "outputs": [
        {
          "output_type": "execute_result",
          "data": {
            "text/plain": [
              "((22, 3), (22,))"
            ]
          },
          "metadata": {},
          "execution_count": 47
        }
      ]
    },
    {
      "cell_type": "code",
      "source": [
        "plt.figure(figsize = (20,5))\n",
        "plt.plot(df.index[xLen:yTrain.shape[0] + xLen], yTrain[:])\n",
        "# plt.plot(df.index[yTrain.shape[0] + bias + future + 2*xLen -1:], yVal[:])\n",
        "plt.plot(df.index[yTrain.shape[0] + future + 2*xLen -1:], yVal[:])\n",
        "plt.grid()\n",
        "plt.xlabel('t, месяцы')\n",
        "plt.ylabel('Пассажиры')\n",
        "plt.title('Airpassengers')"
      ],
      "metadata": {
        "colab": {
          "base_uri": "https://localhost:8080/",
          "height": 312
        },
        "id": "O8J5OjBkC0Va",
        "outputId": "6a8778bf-0891-4a13-8106-820936bad838"
      },
      "execution_count": null,
      "outputs": [
        {
          "output_type": "execute_result",
          "data": {
            "text/plain": [
              "Text(0.5, 1.0, 'Airpassengers')"
            ]
          },
          "metadata": {},
          "execution_count": 48
        },
        {
          "output_type": "display_data",
          "data": {
            "text/plain": [
              "<Figure size 2000x500 with 1 Axes>"
            ],
            "image/png": "[encoded data removed]"
          },
          "metadata": {}
        }
      ]
    },
    {
      "cell_type": "code",
      "source": [
        "dataset_train = keras.preprocessing.timeseries_dataset_from_array(\n",
        "    xTrain,\n",
        "    yTrain,\n",
        "    sequence_length = xLen,\n",
        "    sampling_rate = 1,\n",
        "    batch_size = batch_size,\n",
        ")\n",
        "dataset_val = keras.preprocessing.timeseries_dataset_from_array(\n",
        "    xVal,\n",
        "    yVal,\n",
        "    sequence_length = xLen,\n",
        "    sampling_rate = 1,\n",
        "    batch_size = batch_size,\n",
        ")"
      ],
      "metadata": {
        "id": "km1cJpj7I_MA"
      },
      "execution_count": null,
      "outputs": []
    },
    {
      "cell_type": "code",
      "source": [
        "# Проверим, что все верно (для X[i, xLen, :] y[i] - необходимо контролировать, что X[i, xLen, 0] не входи y[i]\n",
        "for batch in dataset_val.take(2):\n",
        "\tinputs, targets = batch\n",
        "print('Input shape:', inputs.numpy().shape)\n",
        "print('Target shape:', targets.numpy().shape)"
      ],
      "metadata": {
        "colab": {
          "base_uri": "https://localhost:8080/"
        },
        "id": "nUKmNN-zC0nX",
        "outputId": "d91b9b05-134e-4adf-9474-1b23afa6eddf"
      },
      "execution_count": null,
      "outputs": [
        {
          "output_type": "stream",
          "name": "stdout",
          "text": [
            "Input shape: (17, 6, 3)\n",
            "Target shape: (17,)\n"
          ]
        }
      ]
    },
    {
      "cell_type": "code",
      "source": [
        "callback = EarlyStopping(monitor='val_mae', patience=0)\n",
        "model = Sequential()\n",
        "model.add(LSTM(64, input_shape = (inputs.shape[1], inputs.shape[2]), return_sequences='True'))\n",
        "model.add(LSTM(64, return_sequences = 'True'))\n",
        "model.add(Conv1D(64, 3, activation = 'linear'))\n",
        "model.add(Flatten())\n",
        "model.add(Dense(3, activation = 'linear'))\n",
        "model.add(Dense(1, activation = 'linear'))\n",
        "model.compile(loss = 'mse', optimizer = 'adam', metrics = ['mae'])\n",
        "\n",
        "history = model.fit(dataset_train, epochs = epochs, validation_data = dataset_val, callbacks = [callback])"
      ],
      "metadata": {
        "colab": {
          "base_uri": "https://localhost:8080/"
        },
        "id": "67Bn4a65LO-Z",
        "outputId": "295af232-ee8c-48eb-bf6c-ce1481844ada"
      },
      "execution_count": null,
      "outputs": [
        {
          "output_type": "stream",
          "name": "stdout",
          "text": [
            "Epoch 1/10\n",
            "4/4 [==============================] - 7s 315ms/step - loss: 0.5326 - mae: 0.6090 - val_loss: 1.7712 - val_mae: 1.1841\n",
            "Epoch 2/10\n",
            "4/4 [==============================] - 0s 27ms/step - loss: 0.2712 - mae: 0.4263 - val_loss: 1.0974 - val_mae: 0.8498\n",
            "Epoch 3/10\n",
            "4/4 [==============================] - 0s 31ms/step - loss: 0.1598 - mae: 0.3295 - val_loss: 0.6568 - val_mae: 0.6877\n",
            "Epoch 4/10\n",
            "4/4 [==============================] - 0s 28ms/step - loss: 0.1621 - mae: 0.3405 - val_loss: 0.5897 - val_mae: 0.6458\n",
            "Epoch 5/10\n",
            "4/4 [==============================] - 0s 27ms/step - loss: 0.1277 - mae: 0.2980 - val_loss: 0.6975 - val_mae: 0.6616\n"
          ]
        }
      ]
    },
    {
      "cell_type": "code",
      "source": [
        "plt.plot(history.history['mae'][1:], label = 'Средняя абсолютная ошибка на обучающем наборе')\n",
        "plt.plot(history.history['val_mae'][1:], label = 'Средняя абсолютная ошибка на проверочном наборе')\n",
        "plt.ylabel('Средняя ошибка')\n",
        "plt.legend()\n",
        "plt.show()"
      ],
      "metadata": {
        "colab": {
          "base_uri": "https://localhost:8080/",
          "height": 430
        },
        "id": "IRvUCT3iA-sp",
        "outputId": "9860c4a3-87cd-4e20-be2d-687809be2ced"
      },
      "execution_count": null,
      "outputs": [
        {
          "output_type": "display_data",
          "data": {
            "text/plain": [
              "<Figure size 640x480 with 1 Axes>"
            ],
            "image/png": "[encoded data removed]"
          },
          "metadata": {}
        }
      ]
    },
    {
      "cell_type": "code",
      "source": [
        "callback = EarlyStopping(monitor = 'val_mae', patience = 5)\n",
        "\n",
        "model = Sequential()\n",
        "model.add(LSTM(64, input_shape = (inputs.shape[1], inputs.shape[2]), return_sequences = 'True'))\n",
        "model.add(Flatten())\n",
        "model.add(Dense(8, activation='linear'))\n",
        "model.add(Dense(1, activation='linear'))\n",
        "model.compile(loss = 'mse', optimizer = Adam(learning_rate=0.000175), metrics = ['mae'])\n",
        "\n",
        "history = model.fit(dataset_train, epochs=250, validation_data=dataset_val, callbacks=[callback])"
      ],
      "metadata": {
        "colab": {
          "base_uri": "https://localhost:8080/"
        },
        "id": "mAL204DiBAR9",
        "outputId": "ee62af95-8bb3-4cbd-9763-c18bf76dd03c"
      },
      "execution_count": null,
      "outputs": [
        {
          "output_type": "stream",
          "name": "stdout",
          "text": [
            "Epoch 1/250\n",
            "4/4 [==============================] - 3s 160ms/step - loss: 0.5375 - mae: 0.6264 - val_loss: 2.3097 - val_mae: 1.4134\n",
            "Epoch 2/250\n",
            "4/4 [==============================] - 0s 23ms/step - loss: 0.5003 - mae: 0.6029 - val_loss: 2.2253 - val_mae: 1.3828\n",
            "Epoch 3/250\n",
            "4/4 [==============================] - 0s 23ms/step - loss: 0.4706 - mae: 0.5830 - val_loss: 2.1387 - val_mae: 1.3505\n",
            "Epoch 4/250\n",
            "4/4 [==============================] - 0s 24ms/step - loss: 0.4430 - mae: 0.5638 - val_loss: 2.0525 - val_mae: 1.3175\n",
            "Epoch 5/250\n",
            "4/4 [==============================] - 0s 23ms/step - loss: 0.4169 - mae: 0.5454 - val_loss: 1.9677 - val_mae: 1.2841\n",
            "Epoch 6/250\n",
            "4/4 [==============================] - 0s 24ms/step - loss: 0.3921 - mae: 0.5274 - val_loss: 1.8848 - val_mae: 1.2506\n",
            "Epoch 7/250\n",
            "4/4 [==============================] - 0s 23ms/step - loss: 0.3684 - mae: 0.5100 - val_loss: 1.8040 - val_mae: 1.2168\n",
            "Epoch 8/250\n",
            "4/4 [==============================] - 0s 24ms/step - loss: 0.3458 - mae: 0.4932 - val_loss: 1.7254 - val_mae: 1.1831\n",
            "Epoch 9/250\n",
            "4/4 [==============================] - 0s 23ms/step - loss: 0.3243 - mae: 0.4765 - val_loss: 1.6491 - val_mae: 1.1492\n",
            "Epoch 10/250\n",
            "4/4 [==============================] - 0s 23ms/step - loss: 0.3038 - mae: 0.4600 - val_loss: 1.5753 - val_mae: 1.1154\n",
            "Epoch 11/250\n",
            "4/4 [==============================] - 0s 24ms/step - loss: 0.2845 - mae: 0.4437 - val_loss: 1.5040 - val_mae: 1.0816\n",
            "Epoch 12/250\n",
            "4/4 [==============================] - 0s 24ms/step - loss: 0.2662 - mae: 0.4276 - val_loss: 1.4352 - val_mae: 1.0479\n",
            "Epoch 13/250\n",
            "4/4 [==============================] - 0s 24ms/step - loss: 0.2489 - mae: 0.4119 - val_loss: 1.3692 - val_mae: 1.0143\n",
            "Epoch 14/250\n",
            "4/4 [==============================] - 0s 22ms/step - loss: 0.2328 - mae: 0.3965 - val_loss: 1.3059 - val_mae: 0.9809\n",
            "Epoch 15/250\n",
            "4/4 [==============================] - 0s 24ms/step - loss: 0.2178 - mae: 0.3819 - val_loss: 1.2455 - val_mae: 0.9531\n",
            "Epoch 16/250\n",
            "4/4 [==============================] - 0s 23ms/step - loss: 0.2039 - mae: 0.3686 - val_loss: 1.1880 - val_mae: 0.9257\n",
            "Epoch 17/250\n",
            "4/4 [==============================] - 0s 25ms/step - loss: 0.1912 - mae: 0.3558 - val_loss: 1.1337 - val_mae: 0.8987\n",
            "Epoch 18/250\n",
            "4/4 [==============================] - 0s 23ms/step - loss: 0.1796 - mae: 0.3438 - val_loss: 1.0826 - val_mae: 0.8723\n",
            "Epoch 19/250\n",
            "4/4 [==============================] - 0s 23ms/step - loss: 0.1692 - mae: 0.3332 - val_loss: 1.0348 - val_mae: 0.8466\n",
            "Epoch 20/250\n",
            "4/4 [==============================] - 0s 24ms/step - loss: 0.1599 - mae: 0.3236 - val_loss: 0.9903 - val_mae: 0.8218\n",
            "Epoch 21/250\n",
            "4/4 [==============================] - 0s 24ms/step - loss: 0.1517 - mae: 0.3150 - val_loss: 0.9493 - val_mae: 0.7979\n",
            "Epoch 22/250\n",
            "4/4 [==============================] - 0s 24ms/step - loss: 0.1446 - mae: 0.3072 - val_loss: 0.9117 - val_mae: 0.7752\n",
            "Epoch 23/250\n",
            "4/4 [==============================] - 0s 24ms/step - loss: 0.1385 - mae: 0.2998 - val_loss: 0.8774 - val_mae: 0.7539\n",
            "Epoch 24/250\n",
            "4/4 [==============================] - 0s 29ms/step - loss: 0.1333 - mae: 0.2932 - val_loss: 0.8465 - val_mae: 0.7349\n",
            "Epoch 25/250\n",
            "4/4 [==============================] - 0s 23ms/step - loss: 0.1289 - mae: 0.2875 - val_loss: 0.8188 - val_mae: 0.7196\n",
            "Epoch 26/250\n",
            "4/4 [==============================] - 0s 24ms/step - loss: 0.1253 - mae: 0.2824 - val_loss: 0.7942 - val_mae: 0.7073\n",
            "Epoch 27/250\n",
            "4/4 [==============================] - 0s 23ms/step - loss: 0.1223 - mae: 0.2780 - val_loss: 0.7725 - val_mae: 0.6974\n",
            "Epoch 28/250\n",
            "4/4 [==============================] - 0s 23ms/step - loss: 0.1198 - mae: 0.2742 - val_loss: 0.7535 - val_mae: 0.6901\n",
            "Epoch 29/250\n",
            "4/4 [==============================] - 0s 23ms/step - loss: 0.1178 - mae: 0.2711 - val_loss: 0.7370 - val_mae: 0.6835\n",
            "Epoch 30/250\n",
            "4/4 [==============================] - 0s 23ms/step - loss: 0.1161 - mae: 0.2687 - val_loss: 0.7228 - val_mae: 0.6776\n",
            "Epoch 31/250\n",
            "4/4 [==============================] - 0s 24ms/step - loss: 0.1146 - mae: 0.2664 - val_loss: 0.7105 - val_mae: 0.6723\n",
            "Epoch 32/250\n",
            "4/4 [==============================] - 0s 23ms/step - loss: 0.1134 - mae: 0.2646 - val_loss: 0.7001 - val_mae: 0.6677\n",
            "Epoch 33/250\n",
            "4/4 [==============================] - 0s 23ms/step - loss: 0.1122 - mae: 0.2629 - val_loss: 0.6912 - val_mae: 0.6636\n",
            "Epoch 34/250\n",
            "4/4 [==============================] - 0s 23ms/step - loss: 0.1112 - mae: 0.2615 - val_loss: 0.6836 - val_mae: 0.6600\n",
            "Epoch 35/250\n",
            "4/4 [==============================] - 0s 28ms/step - loss: 0.1102 - mae: 0.2602 - val_loss: 0.6771 - val_mae: 0.6568\n",
            "Epoch 36/250\n",
            "4/4 [==============================] - 0s 23ms/step - loss: 0.1093 - mae: 0.2589 - val_loss: 0.6715 - val_mae: 0.6540\n",
            "Epoch 37/250\n",
            "4/4 [==============================] - 0s 23ms/step - loss: 0.1084 - mae: 0.2577 - val_loss: 0.6668 - val_mae: 0.6515\n",
            "Epoch 38/250\n",
            "4/4 [==============================] - 0s 24ms/step - loss: 0.1076 - mae: 0.2565 - val_loss: 0.6626 - val_mae: 0.6492\n",
            "Epoch 39/250\n",
            "4/4 [==============================] - 0s 23ms/step - loss: 0.1067 - mae: 0.2554 - val_loss: 0.6588 - val_mae: 0.6471\n",
            "Epoch 40/250\n",
            "4/4 [==============================] - 0s 24ms/step - loss: 0.1059 - mae: 0.2542 - val_loss: 0.6554 - val_mae: 0.6452\n",
            "Epoch 41/250\n",
            "4/4 [==============================] - 0s 26ms/step - loss: 0.1051 - mae: 0.2531 - val_loss: 0.6523 - val_mae: 0.6433\n",
            "Epoch 42/250\n",
            "4/4 [==============================] - 0s 27ms/step - loss: 0.1043 - mae: 0.2520 - val_loss: 0.6493 - val_mae: 0.6415\n",
            "Epoch 43/250\n",
            "4/4 [==============================] - 0s 24ms/step - loss: 0.1035 - mae: 0.2508 - val_loss: 0.6464 - val_mae: 0.6398\n",
            "Epoch 44/250\n",
            "4/4 [==============================] - 0s 22ms/step - loss: 0.1027 - mae: 0.2497 - val_loss: 0.6436 - val_mae: 0.6381\n",
            "Epoch 45/250\n",
            "4/4 [==============================] - 0s 23ms/step - loss: 0.1019 - mae: 0.2485 - val_loss: 0.6408 - val_mae: 0.6363\n",
            "Epoch 46/250\n",
            "4/4 [==============================] - 0s 24ms/step - loss: 0.1011 - mae: 0.2473 - val_loss: 0.6380 - val_mae: 0.6346\n",
            "Epoch 47/250\n",
            "4/4 [==============================] - 0s 22ms/step - loss: 0.1003 - mae: 0.2461 - val_loss: 0.6352 - val_mae: 0.6329\n",
            "Epoch 48/250\n",
            "4/4 [==============================] - 0s 24ms/step - loss: 0.0995 - mae: 0.2450 - val_loss: 0.6324 - val_mae: 0.6311\n",
            "Epoch 49/250\n",
            "4/4 [==============================] - 0s 26ms/step - loss: 0.0987 - mae: 0.2438 - val_loss: 0.6295 - val_mae: 0.6294\n",
            "Epoch 50/250\n",
            "4/4 [==============================] - 0s 22ms/step - loss: 0.0979 - mae: 0.2427 - val_loss: 0.6266 - val_mae: 0.6276\n",
            "Epoch 51/250\n",
            "4/4 [==============================] - 0s 24ms/step - loss: 0.0972 - mae: 0.2415 - val_loss: 0.6236 - val_mae: 0.6258\n",
            "Epoch 52/250\n",
            "4/4 [==============================] - 0s 23ms/step - loss: 0.0964 - mae: 0.2403 - val_loss: 0.6207 - val_mae: 0.6239\n",
            "Epoch 53/250\n",
            "4/4 [==============================] - 0s 23ms/step - loss: 0.0956 - mae: 0.2391 - val_loss: 0.6177 - val_mae: 0.6221\n",
            "Epoch 54/250\n",
            "4/4 [==============================] - 0s 25ms/step - loss: 0.0948 - mae: 0.2379 - val_loss: 0.6146 - val_mae: 0.6202\n",
            "Epoch 55/250\n",
            "4/4 [==============================] - 0s 23ms/step - loss: 0.0941 - mae: 0.2367 - val_loss: 0.6116 - val_mae: 0.6183\n",
            "Epoch 56/250\n",
            "4/4 [==============================] - 0s 24ms/step - loss: 0.0933 - mae: 0.2355 - val_loss: 0.6086 - val_mae: 0.6164\n",
            "Epoch 57/250\n",
            "4/4 [==============================] - 0s 23ms/step - loss: 0.0925 - mae: 0.2343 - val_loss: 0.6055 - val_mae: 0.6145\n",
            "Epoch 58/250\n",
            "4/4 [==============================] - 0s 38ms/step - loss: 0.0918 - mae: 0.2330 - val_loss: 0.6024 - val_mae: 0.6126\n",
            "Epoch 59/250\n",
            "4/4 [==============================] - 0s 36ms/step - loss: 0.0910 - mae: 0.2319 - val_loss: 0.5993 - val_mae: 0.6110\n",
            "Epoch 60/250\n",
            "4/4 [==============================] - 0s 37ms/step - loss: 0.0903 - mae: 0.2307 - val_loss: 0.5962 - val_mae: 0.6095\n",
            "Epoch 61/250\n",
            "4/4 [==============================] - 0s 40ms/step - loss: 0.0895 - mae: 0.2295 - val_loss: 0.5931 - val_mae: 0.6079\n",
            "Epoch 62/250\n",
            "4/4 [==============================] - 0s 41ms/step - loss: 0.0888 - mae: 0.2283 - val_loss: 0.5900 - val_mae: 0.6063\n",
            "Epoch 63/250\n",
            "4/4 [==============================] - 0s 42ms/step - loss: 0.0881 - mae: 0.2271 - val_loss: 0.5869 - val_mae: 0.6047\n",
            "Epoch 64/250\n",
            "4/4 [==============================] - 0s 28ms/step - loss: 0.0873 - mae: 0.2260 - val_loss: 0.5838 - val_mae: 0.6031\n",
            "Epoch 65/250\n",
            "4/4 [==============================] - 0s 24ms/step - loss: 0.0866 - mae: 0.2248 - val_loss: 0.5806 - val_mae: 0.6015\n",
            "Epoch 66/250\n",
            "4/4 [==============================] - 0s 26ms/step - loss: 0.0859 - mae: 0.2236 - val_loss: 0.5775 - val_mae: 0.5999\n",
            "Epoch 67/250\n",
            "4/4 [==============================] - 0s 28ms/step - loss: 0.0852 - mae: 0.2225 - val_loss: 0.5743 - val_mae: 0.5985\n",
            "Epoch 68/250\n",
            "4/4 [==============================] - 0s 26ms/step - loss: 0.0845 - mae: 0.2213 - val_loss: 0.5711 - val_mae: 0.5974\n",
            "Epoch 69/250\n",
            "4/4 [==============================] - 0s 23ms/step - loss: 0.0837 - mae: 0.2201 - val_loss: 0.5679 - val_mae: 0.5964\n",
            "Epoch 70/250\n",
            "4/4 [==============================] - 0s 25ms/step - loss: 0.0830 - mae: 0.2188 - val_loss: 0.5647 - val_mae: 0.5953\n",
            "Epoch 71/250\n",
            "4/4 [==============================] - 0s 22ms/step - loss: 0.0823 - mae: 0.2176 - val_loss: 0.5614 - val_mae: 0.5942\n",
            "Epoch 72/250\n",
            "4/4 [==============================] - 0s 23ms/step - loss: 0.0816 - mae: 0.2165 - val_loss: 0.5581 - val_mae: 0.5931\n",
            "Epoch 73/250\n",
            "4/4 [==============================] - 0s 24ms/step - loss: 0.0810 - mae: 0.2153 - val_loss: 0.5548 - val_mae: 0.5920\n",
            "Epoch 74/250\n",
            "4/4 [==============================] - 0s 24ms/step - loss: 0.0803 - mae: 0.2141 - val_loss: 0.5515 - val_mae: 0.5909\n",
            "Epoch 75/250\n",
            "4/4 [==============================] - 0s 23ms/step - loss: 0.0796 - mae: 0.2128 - val_loss: 0.5482 - val_mae: 0.5898\n",
            "Epoch 76/250\n",
            "4/4 [==============================] - 0s 27ms/step - loss: 0.0789 - mae: 0.2116 - val_loss: 0.5448 - val_mae: 0.5886\n",
            "Epoch 77/250\n",
            "4/4 [==============================] - 0s 23ms/step - loss: 0.0783 - mae: 0.2104 - val_loss: 0.5415 - val_mae: 0.5874\n",
            "Epoch 78/250\n",
            "4/4 [==============================] - 0s 25ms/step - loss: 0.0776 - mae: 0.2091 - val_loss: 0.5380 - val_mae: 0.5862\n",
            "Epoch 79/250\n",
            "4/4 [==============================] - 0s 23ms/step - loss: 0.0770 - mae: 0.2079 - val_loss: 0.5346 - val_mae: 0.5850\n",
            "Epoch 80/250\n",
            "4/4 [==============================] - 0s 23ms/step - loss: 0.0763 - mae: 0.2067 - val_loss: 0.5312 - val_mae: 0.5837\n",
            "Epoch 81/250\n",
            "4/4 [==============================] - 0s 22ms/step - loss: 0.0757 - mae: 0.2055 - val_loss: 0.5277 - val_mae: 0.5825\n",
            "Epoch 82/250\n",
            "4/4 [==============================] - 0s 24ms/step - loss: 0.0751 - mae: 0.2043 - val_loss: 0.5242 - val_mae: 0.5812\n",
            "Epoch 83/250\n",
            "4/4 [==============================] - 0s 23ms/step - loss: 0.0744 - mae: 0.2031 - val_loss: 0.5206 - val_mae: 0.5799\n",
            "Epoch 84/250\n",
            "4/4 [==============================] - 0s 22ms/step - loss: 0.0738 - mae: 0.2020 - val_loss: 0.5171 - val_mae: 0.5785\n",
            "Epoch 85/250\n",
            "4/4 [==============================] - 0s 29ms/step - loss: 0.0732 - mae: 0.2009 - val_loss: 0.5135 - val_mae: 0.5772\n",
            "Epoch 86/250\n",
            "4/4 [==============================] - 0s 24ms/step - loss: 0.0726 - mae: 0.1998 - val_loss: 0.5099 - val_mae: 0.5758\n",
            "Epoch 87/250\n",
            "4/4 [==============================] - 0s 25ms/step - loss: 0.0721 - mae: 0.1988 - val_loss: 0.5063 - val_mae: 0.5744\n",
            "Epoch 88/250\n",
            "4/4 [==============================] - 0s 23ms/step - loss: 0.0715 - mae: 0.1977 - val_loss: 0.5026 - val_mae: 0.5729\n",
            "Epoch 89/250\n",
            "4/4 [==============================] - 0s 24ms/step - loss: 0.0709 - mae: 0.1967 - val_loss: 0.4989 - val_mae: 0.5714\n",
            "Epoch 90/250\n",
            "4/4 [==============================] - 0s 24ms/step - loss: 0.0704 - mae: 0.1957 - val_loss: 0.4952 - val_mae: 0.5699\n",
            "Epoch 91/250\n",
            "4/4 [==============================] - 0s 25ms/step - loss: 0.0698 - mae: 0.1948 - val_loss: 0.4915 - val_mae: 0.5684\n",
            "Epoch 92/250\n",
            "4/4 [==============================] - 0s 23ms/step - loss: 0.0693 - mae: 0.1939 - val_loss: 0.4877 - val_mae: 0.5668\n",
            "Epoch 93/250\n",
            "4/4 [==============================] - 0s 24ms/step - loss: 0.0688 - mae: 0.1930 - val_loss: 0.4840 - val_mae: 0.5652\n",
            "Epoch 94/250\n",
            "4/4 [==============================] - 0s 25ms/step - loss: 0.0682 - mae: 0.1922 - val_loss: 0.4802 - val_mae: 0.5636\n",
            "Epoch 95/250\n",
            "4/4 [==============================] - 0s 23ms/step - loss: 0.0677 - mae: 0.1914 - val_loss: 0.4764 - val_mae: 0.5619\n",
            "Epoch 96/250\n",
            "4/4 [==============================] - 0s 22ms/step - loss: 0.0672 - mae: 0.1906 - val_loss: 0.4725 - val_mae: 0.5603\n",
            "Epoch 97/250\n",
            "4/4 [==============================] - 0s 23ms/step - loss: 0.0668 - mae: 0.1899 - val_loss: 0.4687 - val_mae: 0.5585\n",
            "Epoch 98/250\n",
            "4/4 [==============================] - 0s 23ms/step - loss: 0.0663 - mae: 0.1892 - val_loss: 0.4648 - val_mae: 0.5568\n",
            "Epoch 99/250\n",
            "4/4 [==============================] - 0s 24ms/step - loss: 0.0658 - mae: 0.1886 - val_loss: 0.4609 - val_mae: 0.5550\n",
            "Epoch 100/250\n",
            "4/4 [==============================] - 0s 24ms/step - loss: 0.0654 - mae: 0.1879 - val_loss: 0.4570 - val_mae: 0.5531\n",
            "Epoch 101/250\n",
            "4/4 [==============================] - 0s 27ms/step - loss: 0.0649 - mae: 0.1873 - val_loss: 0.4531 - val_mae: 0.5513\n",
            "Epoch 102/250\n",
            "4/4 [==============================] - 0s 25ms/step - loss: 0.0645 - mae: 0.1867 - val_loss: 0.4492 - val_mae: 0.5494\n",
            "Epoch 103/250\n",
            "4/4 [==============================] - 0s 24ms/step - loss: 0.0640 - mae: 0.1862 - val_loss: 0.4452 - val_mae: 0.5474\n",
            "Epoch 104/250\n",
            "4/4 [==============================] - 0s 25ms/step - loss: 0.0636 - mae: 0.1856 - val_loss: 0.4413 - val_mae: 0.5454\n",
            "Epoch 105/250\n",
            "4/4 [==============================] - 0s 23ms/step - loss: 0.0632 - mae: 0.1850 - val_loss: 0.4373 - val_mae: 0.5434\n",
            "Epoch 106/250\n",
            "4/4 [==============================] - 0s 25ms/step - loss: 0.0628 - mae: 0.1844 - val_loss: 0.4333 - val_mae: 0.5414\n",
            "Epoch 107/250\n",
            "4/4 [==============================] - 0s 25ms/step - loss: 0.0624 - mae: 0.1838 - val_loss: 0.4294 - val_mae: 0.5393\n",
            "Epoch 108/250\n",
            "4/4 [==============================] - 0s 24ms/step - loss: 0.0620 - mae: 0.1833 - val_loss: 0.4254 - val_mae: 0.5372\n",
            "Epoch 109/250\n",
            "4/4 [==============================] - 0s 26ms/step - loss: 0.0617 - mae: 0.1828 - val_loss: 0.4214 - val_mae: 0.5350\n",
            "Epoch 110/250\n",
            "4/4 [==============================] - 0s 25ms/step - loss: 0.0613 - mae: 0.1823 - val_loss: 0.4174 - val_mae: 0.5329\n",
            "Epoch 111/250\n",
            "4/4 [==============================] - 0s 23ms/step - loss: 0.0609 - mae: 0.1818 - val_loss: 0.4135 - val_mae: 0.5306\n",
            "Epoch 112/250\n",
            "4/4 [==============================] - 0s 26ms/step - loss: 0.0606 - mae: 0.1814 - val_loss: 0.4095 - val_mae: 0.5284\n",
            "Epoch 113/250\n",
            "4/4 [==============================] - 0s 23ms/step - loss: 0.0602 - mae: 0.1809 - val_loss: 0.4055 - val_mae: 0.5261\n",
            "Epoch 114/250\n",
            "4/4 [==============================] - 0s 23ms/step - loss: 0.0599 - mae: 0.1805 - val_loss: 0.4015 - val_mae: 0.5238\n",
            "Epoch 115/250\n",
            "4/4 [==============================] - 0s 25ms/step - loss: 0.0595 - mae: 0.1801 - val_loss: 0.3976 - val_mae: 0.5214\n",
            "Epoch 116/250\n",
            "4/4 [==============================] - 0s 24ms/step - loss: 0.0592 - mae: 0.1797 - val_loss: 0.3936 - val_mae: 0.5191\n",
            "Epoch 117/250\n",
            "4/4 [==============================] - 0s 22ms/step - loss: 0.0588 - mae: 0.1793 - val_loss: 0.3896 - val_mae: 0.5167\n",
            "Epoch 118/250\n",
            "4/4 [==============================] - 0s 26ms/step - loss: 0.0585 - mae: 0.1789 - val_loss: 0.3857 - val_mae: 0.5142\n",
            "Epoch 119/250\n",
            "4/4 [==============================] - 0s 24ms/step - loss: 0.0582 - mae: 0.1785 - val_loss: 0.3818 - val_mae: 0.5117\n",
            "Epoch 120/250\n",
            "4/4 [==============================] - 0s 24ms/step - loss: 0.0578 - mae: 0.1781 - val_loss: 0.3779 - val_mae: 0.5093\n",
            "Epoch 121/250\n",
            "4/4 [==============================] - 0s 24ms/step - loss: 0.0575 - mae: 0.1776 - val_loss: 0.3740 - val_mae: 0.5067\n",
            "Epoch 122/250\n",
            "4/4 [==============================] - 0s 23ms/step - loss: 0.0572 - mae: 0.1772 - val_loss: 0.3701 - val_mae: 0.5042\n",
            "Epoch 123/250\n",
            "4/4 [==============================] - 0s 24ms/step - loss: 0.0569 - mae: 0.1768 - val_loss: 0.3662 - val_mae: 0.5016\n",
            "Epoch 124/250\n",
            "4/4 [==============================] - 0s 23ms/step - loss: 0.0566 - mae: 0.1763 - val_loss: 0.3623 - val_mae: 0.4990\n",
            "Epoch 125/250\n",
            "4/4 [==============================] - 0s 23ms/step - loss: 0.0562 - mae: 0.1758 - val_loss: 0.3585 - val_mae: 0.4964\n",
            "Epoch 126/250\n",
            "4/4 [==============================] - 0s 24ms/step - loss: 0.0559 - mae: 0.1754 - val_loss: 0.3547 - val_mae: 0.4937\n",
            "Epoch 127/250\n",
            "4/4 [==============================] - 0s 26ms/step - loss: 0.0556 - mae: 0.1749 - val_loss: 0.3509 - val_mae: 0.4911\n",
            "Epoch 128/250\n",
            "4/4 [==============================] - 0s 23ms/step - loss: 0.0553 - mae: 0.1744 - val_loss: 0.3471 - val_mae: 0.4884\n",
            "Epoch 129/250\n",
            "4/4 [==============================] - 0s 23ms/step - loss: 0.0550 - mae: 0.1739 - val_loss: 0.3433 - val_mae: 0.4857\n",
            "Epoch 130/250\n",
            "4/4 [==============================] - 0s 23ms/step - loss: 0.0546 - mae: 0.1736 - val_loss: 0.3396 - val_mae: 0.4829\n",
            "Epoch 131/250\n",
            "4/4 [==============================] - 0s 22ms/step - loss: 0.0543 - mae: 0.1732 - val_loss: 0.3358 - val_mae: 0.4802\n",
            "Epoch 132/250\n",
            "4/4 [==============================] - 0s 23ms/step - loss: 0.0540 - mae: 0.1728 - val_loss: 0.3321 - val_mae: 0.4774\n",
            "Epoch 133/250\n",
            "4/4 [==============================] - 0s 24ms/step - loss: 0.0537 - mae: 0.1724 - val_loss: 0.3284 - val_mae: 0.4746\n",
            "Epoch 134/250\n",
            "4/4 [==============================] - 0s 22ms/step - loss: 0.0533 - mae: 0.1720 - val_loss: 0.3248 - val_mae: 0.4718\n",
            "Epoch 135/250\n",
            "4/4 [==============================] - 0s 24ms/step - loss: 0.0530 - mae: 0.1716 - val_loss: 0.3211 - val_mae: 0.4690\n",
            "Epoch 136/250\n",
            "4/4 [==============================] - 0s 23ms/step - loss: 0.0527 - mae: 0.1711 - val_loss: 0.3175 - val_mae: 0.4662\n",
            "Epoch 137/250\n",
            "4/4 [==============================] - 0s 24ms/step - loss: 0.0524 - mae: 0.1707 - val_loss: 0.3139 - val_mae: 0.4633\n",
            "Epoch 138/250\n",
            "4/4 [==============================] - 0s 23ms/step - loss: 0.0520 - mae: 0.1702 - val_loss: 0.3103 - val_mae: 0.4605\n",
            "Epoch 139/250\n",
            "4/4 [==============================] - 0s 24ms/step - loss: 0.0517 - mae: 0.1698 - val_loss: 0.3068 - val_mae: 0.4576\n",
            "Epoch 140/250\n",
            "4/4 [==============================] - 0s 23ms/step - loss: 0.0514 - mae: 0.1693 - val_loss: 0.3032 - val_mae: 0.4547\n",
            "Epoch 141/250\n",
            "4/4 [==============================] - 0s 25ms/step - loss: 0.0511 - mae: 0.1688 - val_loss: 0.2997 - val_mae: 0.4518\n",
            "Epoch 142/250\n",
            "4/4 [==============================] - 0s 24ms/step - loss: 0.0507 - mae: 0.1683 - val_loss: 0.2962 - val_mae: 0.4488\n",
            "Epoch 143/250\n",
            "4/4 [==============================] - 0s 24ms/step - loss: 0.0504 - mae: 0.1678 - val_loss: 0.2928 - val_mae: 0.4459\n",
            "Epoch 144/250\n",
            "4/4 [==============================] - 0s 31ms/step - loss: 0.0501 - mae: 0.1673 - val_loss: 0.2893 - val_mae: 0.4429\n",
            "Epoch 145/250\n",
            "4/4 [==============================] - 0s 25ms/step - loss: 0.0497 - mae: 0.1668 - val_loss: 0.2859 - val_mae: 0.4400\n",
            "Epoch 146/250\n",
            "4/4 [==============================] - 0s 24ms/step - loss: 0.0494 - mae: 0.1663 - val_loss: 0.2825 - val_mae: 0.4370\n",
            "Epoch 147/250\n",
            "4/4 [==============================] - 0s 38ms/step - loss: 0.0491 - mae: 0.1657 - val_loss: 0.2791 - val_mae: 0.4340\n",
            "Epoch 148/250\n",
            "4/4 [==============================] - 0s 41ms/step - loss: 0.0487 - mae: 0.1652 - val_loss: 0.2758 - val_mae: 0.4310\n",
            "Epoch 149/250\n",
            "4/4 [==============================] - 0s 34ms/step - loss: 0.0484 - mae: 0.1647 - val_loss: 0.2724 - val_mae: 0.4280\n",
            "Epoch 150/250\n",
            "4/4 [==============================] - 0s 38ms/step - loss: 0.0480 - mae: 0.1642 - val_loss: 0.2691 - val_mae: 0.4249\n",
            "Epoch 151/250\n",
            "4/4 [==============================] - 0s 44ms/step - loss: 0.0477 - mae: 0.1637 - val_loss: 0.2658 - val_mae: 0.4219\n",
            "Epoch 152/250\n",
            "4/4 [==============================] - 0s 39ms/step - loss: 0.0474 - mae: 0.1632 - val_loss: 0.2625 - val_mae: 0.4188\n",
            "Epoch 153/250\n",
            "4/4 [==============================] - 0s 38ms/step - loss: 0.0470 - mae: 0.1627 - val_loss: 0.2593 - val_mae: 0.4157\n",
            "Epoch 154/250\n",
            "4/4 [==============================] - 0s 34ms/step - loss: 0.0467 - mae: 0.1621 - val_loss: 0.2560 - val_mae: 0.4127\n",
            "Epoch 155/250\n",
            "4/4 [==============================] - 0s 25ms/step - loss: 0.0463 - mae: 0.1616 - val_loss: 0.2528 - val_mae: 0.4096\n",
            "Epoch 156/250\n",
            "4/4 [==============================] - 0s 23ms/step - loss: 0.0460 - mae: 0.1611 - val_loss: 0.2496 - val_mae: 0.4064\n",
            "Epoch 157/250\n",
            "4/4 [==============================] - 0s 24ms/step - loss: 0.0457 - mae: 0.1605 - val_loss: 0.2464 - val_mae: 0.4033\n",
            "Epoch 158/250\n",
            "4/4 [==============================] - 0s 24ms/step - loss: 0.0453 - mae: 0.1600 - val_loss: 0.2433 - val_mae: 0.4002\n",
            "Epoch 159/250\n",
            "4/4 [==============================] - 0s 24ms/step - loss: 0.0450 - mae: 0.1594 - val_loss: 0.2401 - val_mae: 0.3970\n",
            "Epoch 160/250\n",
            "4/4 [==============================] - 0s 23ms/step - loss: 0.0446 - mae: 0.1589 - val_loss: 0.2370 - val_mae: 0.3939\n",
            "Epoch 161/250\n",
            "4/4 [==============================] - 0s 23ms/step - loss: 0.0443 - mae: 0.1583 - val_loss: 0.2339 - val_mae: 0.3907\n",
            "Epoch 162/250\n",
            "4/4 [==============================] - 0s 29ms/step - loss: 0.0440 - mae: 0.1578 - val_loss: 0.2308 - val_mae: 0.3875\n",
            "Epoch 163/250\n",
            "4/4 [==============================] - 0s 24ms/step - loss: 0.0436 - mae: 0.1572 - val_loss: 0.2278 - val_mae: 0.3843\n",
            "Epoch 164/250\n",
            "4/4 [==============================] - 0s 23ms/step - loss: 0.0433 - mae: 0.1567 - val_loss: 0.2247 - val_mae: 0.3811\n",
            "Epoch 165/250\n",
            "4/4 [==============================] - 0s 23ms/step - loss: 0.0429 - mae: 0.1561 - val_loss: 0.2217 - val_mae: 0.3778\n",
            "Epoch 166/250\n",
            "4/4 [==============================] - 0s 24ms/step - loss: 0.0426 - mae: 0.1555 - val_loss: 0.2187 - val_mae: 0.3746\n",
            "Epoch 167/250\n",
            "4/4 [==============================] - 0s 23ms/step - loss: 0.0423 - mae: 0.1550 - val_loss: 0.2157 - val_mae: 0.3713\n",
            "Epoch 168/250\n",
            "4/4 [==============================] - 0s 23ms/step - loss: 0.0419 - mae: 0.1544 - val_loss: 0.2127 - val_mae: 0.3680\n",
            "Epoch 169/250\n",
            "4/4 [==============================] - 0s 23ms/step - loss: 0.0416 - mae: 0.1538 - val_loss: 0.2098 - val_mae: 0.3648\n",
            "Epoch 170/250\n",
            "4/4 [==============================] - 0s 29ms/step - loss: 0.0413 - mae: 0.1533 - val_loss: 0.2068 - val_mae: 0.3614\n",
            "Epoch 171/250\n",
            "4/4 [==============================] - 0s 23ms/step - loss: 0.0409 - mae: 0.1527 - val_loss: 0.2039 - val_mae: 0.3581\n",
            "Epoch 172/250\n",
            "4/4 [==============================] - 0s 25ms/step - loss: 0.0406 - mae: 0.1521 - val_loss: 0.2010 - val_mae: 0.3550\n",
            "Epoch 173/250\n",
            "4/4 [==============================] - 0s 23ms/step - loss: 0.0402 - mae: 0.1515 - val_loss: 0.1981 - val_mae: 0.3521\n",
            "Epoch 174/250\n",
            "4/4 [==============================] - 0s 25ms/step - loss: 0.0399 - mae: 0.1510 - val_loss: 0.1953 - val_mae: 0.3491\n",
            "Epoch 175/250\n",
            "4/4 [==============================] - 0s 24ms/step - loss: 0.0396 - mae: 0.1504 - val_loss: 0.1924 - val_mae: 0.3462\n",
            "Epoch 176/250\n",
            "4/4 [==============================] - 0s 25ms/step - loss: 0.0392 - mae: 0.1499 - val_loss: 0.1896 - val_mae: 0.3432\n",
            "Epoch 177/250\n",
            "4/4 [==============================] - 0s 22ms/step - loss: 0.0389 - mae: 0.1493 - val_loss: 0.1868 - val_mae: 0.3402\n",
            "Epoch 178/250\n",
            "4/4 [==============================] - 0s 23ms/step - loss: 0.0386 - mae: 0.1488 - val_loss: 0.1840 - val_mae: 0.3372\n",
            "Epoch 179/250\n",
            "4/4 [==============================] - 0s 24ms/step - loss: 0.0383 - mae: 0.1483 - val_loss: 0.1812 - val_mae: 0.3342\n",
            "Epoch 180/250\n",
            "4/4 [==============================] - 0s 27ms/step - loss: 0.0379 - mae: 0.1477 - val_loss: 0.1785 - val_mae: 0.3313\n",
            "Epoch 181/250\n",
            "4/4 [==============================] - 0s 24ms/step - loss: 0.0376 - mae: 0.1472 - val_loss: 0.1757 - val_mae: 0.3286\n",
            "Epoch 182/250\n",
            "4/4 [==============================] - 0s 23ms/step - loss: 0.0373 - mae: 0.1466 - val_loss: 0.1730 - val_mae: 0.3259\n",
            "Epoch 183/250\n",
            "4/4 [==============================] - 0s 25ms/step - loss: 0.0369 - mae: 0.1461 - val_loss: 0.1703 - val_mae: 0.3231\n",
            "Epoch 184/250\n",
            "4/4 [==============================] - 0s 23ms/step - loss: 0.0366 - mae: 0.1456 - val_loss: 0.1677 - val_mae: 0.3204\n",
            "Epoch 185/250\n",
            "4/4 [==============================] - 0s 24ms/step - loss: 0.0363 - mae: 0.1450 - val_loss: 0.1650 - val_mae: 0.3176\n",
            "Epoch 186/250\n",
            "4/4 [==============================] - 0s 25ms/step - loss: 0.0360 - mae: 0.1444 - val_loss: 0.1624 - val_mae: 0.3148\n",
            "Epoch 187/250\n",
            "4/4 [==============================] - 0s 24ms/step - loss: 0.0356 - mae: 0.1439 - val_loss: 0.1598 - val_mae: 0.3120\n",
            "Epoch 188/250\n",
            "4/4 [==============================] - 0s 24ms/step - loss: 0.0353 - mae: 0.1434 - val_loss: 0.1572 - val_mae: 0.3092\n",
            "Epoch 189/250\n",
            "4/4 [==============================] - 0s 23ms/step - loss: 0.0350 - mae: 0.1428 - val_loss: 0.1546 - val_mae: 0.3064\n",
            "Epoch 190/250\n",
            "4/4 [==============================] - 0s 24ms/step - loss: 0.0347 - mae: 0.1423 - val_loss: 0.1520 - val_mae: 0.3035\n",
            "Epoch 191/250\n",
            "4/4 [==============================] - 0s 24ms/step - loss: 0.0344 - mae: 0.1417 - val_loss: 0.1495 - val_mae: 0.3006\n",
            "Epoch 192/250\n",
            "4/4 [==============================] - 0s 25ms/step - loss: 0.0340 - mae: 0.1412 - val_loss: 0.1470 - val_mae: 0.2977\n",
            "Epoch 193/250\n",
            "4/4 [==============================] - 0s 23ms/step - loss: 0.0337 - mae: 0.1407 - val_loss: 0.1445 - val_mae: 0.2948\n",
            "Epoch 194/250\n",
            "4/4 [==============================] - 0s 24ms/step - loss: 0.0334 - mae: 0.1401 - val_loss: 0.1420 - val_mae: 0.2919\n",
            "Epoch 195/250\n",
            "4/4 [==============================] - 0s 23ms/step - loss: 0.0331 - mae: 0.1396 - val_loss: 0.1396 - val_mae: 0.2890\n",
            "Epoch 196/250\n",
            "4/4 [==============================] - 0s 27ms/step - loss: 0.0328 - mae: 0.1391 - val_loss: 0.1372 - val_mae: 0.2860\n",
            "Epoch 197/250\n",
            "4/4 [==============================] - 0s 23ms/step - loss: 0.0325 - mae: 0.1386 - val_loss: 0.1348 - val_mae: 0.2830\n",
            "Epoch 198/250\n",
            "4/4 [==============================] - 0s 24ms/step - loss: 0.0322 - mae: 0.1381 - val_loss: 0.1324 - val_mae: 0.2800\n",
            "Epoch 199/250\n",
            "4/4 [==============================] - 0s 24ms/step - loss: 0.0318 - mae: 0.1375 - val_loss: 0.1300 - val_mae: 0.2770\n",
            "Epoch 200/250\n",
            "4/4 [==============================] - 0s 23ms/step - loss: 0.0315 - mae: 0.1370 - val_loss: 0.1277 - val_mae: 0.2739\n",
            "Epoch 201/250\n",
            "4/4 [==============================] - 0s 24ms/step - loss: 0.0312 - mae: 0.1365 - val_loss: 0.1254 - val_mae: 0.2709\n",
            "Epoch 202/250\n",
            "4/4 [==============================] - 0s 24ms/step - loss: 0.0309 - mae: 0.1359 - val_loss: 0.1231 - val_mae: 0.2678\n",
            "Epoch 203/250\n",
            "4/4 [==============================] - 0s 23ms/step - loss: 0.0306 - mae: 0.1354 - val_loss: 0.1209 - val_mae: 0.2649\n",
            "Epoch 204/250\n",
            "4/4 [==============================] - 0s 24ms/step - loss: 0.0303 - mae: 0.1348 - val_loss: 0.1186 - val_mae: 0.2621\n",
            "Epoch 205/250\n",
            "4/4 [==============================] - 0s 27ms/step - loss: 0.0300 - mae: 0.1343 - val_loss: 0.1164 - val_mae: 0.2593\n",
            "Epoch 206/250\n",
            "4/4 [==============================] - 0s 24ms/step - loss: 0.0297 - mae: 0.1338 - val_loss: 0.1142 - val_mae: 0.2565\n",
            "Epoch 207/250\n",
            "4/4 [==============================] - 0s 23ms/step - loss: 0.0294 - mae: 0.1332 - val_loss: 0.1121 - val_mae: 0.2536\n",
            "Epoch 208/250\n",
            "4/4 [==============================] - 0s 23ms/step - loss: 0.0291 - mae: 0.1327 - val_loss: 0.1100 - val_mae: 0.2508\n",
            "Epoch 209/250\n",
            "4/4 [==============================] - 0s 24ms/step - loss: 0.0288 - mae: 0.1321 - val_loss: 0.1079 - val_mae: 0.2479\n",
            "Epoch 210/250\n",
            "4/4 [==============================] - 0s 23ms/step - loss: 0.0285 - mae: 0.1316 - val_loss: 0.1058 - val_mae: 0.2450\n",
            "Epoch 211/250\n",
            "4/4 [==============================] - 0s 24ms/step - loss: 0.0283 - mae: 0.1310 - val_loss: 0.1038 - val_mae: 0.2421\n",
            "Epoch 212/250\n",
            "4/4 [==============================] - 0s 22ms/step - loss: 0.0280 - mae: 0.1305 - val_loss: 0.1017 - val_mae: 0.2394\n",
            "Epoch 213/250\n",
            "4/4 [==============================] - 0s 23ms/step - loss: 0.0277 - mae: 0.1300 - val_loss: 0.0998 - val_mae: 0.2370\n",
            "Epoch 214/250\n",
            "4/4 [==============================] - 0s 27ms/step - loss: 0.0274 - mae: 0.1294 - val_loss: 0.0978 - val_mae: 0.2346\n",
            "Epoch 215/250\n",
            "4/4 [==============================] - 0s 24ms/step - loss: 0.0271 - mae: 0.1289 - val_loss: 0.0959 - val_mae: 0.2323\n",
            "Epoch 216/250\n",
            "4/4 [==============================] - 0s 23ms/step - loss: 0.0268 - mae: 0.1283 - val_loss: 0.0940 - val_mae: 0.2299\n",
            "Epoch 217/250\n",
            "4/4 [==============================] - 0s 23ms/step - loss: 0.0266 - mae: 0.1278 - val_loss: 0.0921 - val_mae: 0.2275\n",
            "Epoch 218/250\n",
            "4/4 [==============================] - 0s 24ms/step - loss: 0.0263 - mae: 0.1273 - val_loss: 0.0903 - val_mae: 0.2250\n",
            "Epoch 219/250\n",
            "4/4 [==============================] - 0s 23ms/step - loss: 0.0260 - mae: 0.1267 - val_loss: 0.0885 - val_mae: 0.2226\n",
            "Epoch 220/250\n",
            "4/4 [==============================] - 0s 25ms/step - loss: 0.0257 - mae: 0.1262 - val_loss: 0.0867 - val_mae: 0.2202\n",
            "Epoch 221/250\n",
            "4/4 [==============================] - 0s 27ms/step - loss: 0.0255 - mae: 0.1257 - val_loss: 0.0849 - val_mae: 0.2177\n",
            "Epoch 222/250\n",
            "4/4 [==============================] - 0s 25ms/step - loss: 0.0252 - mae: 0.1251 - val_loss: 0.0832 - val_mae: 0.2155\n",
            "Epoch 223/250\n",
            "4/4 [==============================] - 0s 28ms/step - loss: 0.0249 - mae: 0.1246 - val_loss: 0.0816 - val_mae: 0.2136\n",
            "Epoch 224/250\n",
            "4/4 [==============================] - 0s 31ms/step - loss: 0.0247 - mae: 0.1240 - val_loss: 0.0799 - val_mae: 0.2116\n",
            "Epoch 225/250\n",
            "4/4 [==============================] - 0s 23ms/step - loss: 0.0244 - mae: 0.1235 - val_loss: 0.0783 - val_mae: 0.2096\n",
            "Epoch 226/250\n",
            "4/4 [==============================] - 0s 24ms/step - loss: 0.0242 - mae: 0.1229 - val_loss: 0.0767 - val_mae: 0.2076\n",
            "Epoch 227/250\n",
            "4/4 [==============================] - 0s 25ms/step - loss: 0.0239 - mae: 0.1224 - val_loss: 0.0752 - val_mae: 0.2056\n",
            "Epoch 228/250\n",
            "4/4 [==============================] - 0s 23ms/step - loss: 0.0237 - mae: 0.1218 - val_loss: 0.0737 - val_mae: 0.2036\n",
            "Epoch 229/250\n",
            "4/4 [==============================] - 0s 24ms/step - loss: 0.0234 - mae: 0.1213 - val_loss: 0.0722 - val_mae: 0.2016\n",
            "Epoch 230/250\n",
            "4/4 [==============================] - 0s 28ms/step - loss: 0.0232 - mae: 0.1208 - val_loss: 0.0707 - val_mae: 0.1996\n",
            "Epoch 231/250\n",
            "4/4 [==============================] - 0s 28ms/step - loss: 0.0229 - mae: 0.1202 - val_loss: 0.0693 - val_mae: 0.1975\n",
            "Epoch 232/250\n",
            "4/4 [==============================] - 0s 26ms/step - loss: 0.0227 - mae: 0.1197 - val_loss: 0.0680 - val_mae: 0.1955\n",
            "Epoch 233/250\n",
            "4/4 [==============================] - 0s 23ms/step - loss: 0.0224 - mae: 0.1192 - val_loss: 0.0666 - val_mae: 0.1934\n",
            "Epoch 234/250\n",
            "4/4 [==============================] - 0s 27ms/step - loss: 0.0222 - mae: 0.1187 - val_loss: 0.0653 - val_mae: 0.1913\n",
            "Epoch 235/250\n",
            "4/4 [==============================] - 0s 26ms/step - loss: 0.0220 - mae: 0.1182 - val_loss: 0.0640 - val_mae: 0.1893\n",
            "Epoch 236/250\n",
            "4/4 [==============================] - 0s 24ms/step - loss: 0.0218 - mae: 0.1177 - val_loss: 0.0628 - val_mae: 0.1873\n",
            "Epoch 237/250\n",
            "4/4 [==============================] - 0s 26ms/step - loss: 0.0215 - mae: 0.1172 - val_loss: 0.0616 - val_mae: 0.1854\n",
            "Epoch 238/250\n",
            "4/4 [==============================] - 0s 37ms/step - loss: 0.0213 - mae: 0.1166 - val_loss: 0.0604 - val_mae: 0.1835\n",
            "Epoch 239/250\n",
            "4/4 [==============================] - 0s 45ms/step - loss: 0.0211 - mae: 0.1161 - val_loss: 0.0593 - val_mae: 0.1816\n",
            "Epoch 240/250\n",
            "4/4 [==============================] - 0s 38ms/step - loss: 0.0209 - mae: 0.1156 - val_loss: 0.0582 - val_mae: 0.1797\n",
            "Epoch 241/250\n",
            "4/4 [==============================] - 0s 39ms/step - loss: 0.0207 - mae: 0.1151 - val_loss: 0.0572 - val_mae: 0.1778\n",
            "Epoch 242/250\n",
            "4/4 [==============================] - 0s 38ms/step - loss: 0.0204 - mae: 0.1146 - val_loss: 0.0561 - val_mae: 0.1759\n",
            "Epoch 243/250\n",
            "4/4 [==============================] - 0s 43ms/step - loss: 0.0202 - mae: 0.1141 - val_loss: 0.0552 - val_mae: 0.1739\n",
            "Epoch 244/250\n",
            "4/4 [==============================] - 0s 34ms/step - loss: 0.0200 - mae: 0.1136 - val_loss: 0.0542 - val_mae: 0.1720\n",
            "Epoch 245/250\n",
            "4/4 [==============================] - 0s 37ms/step - loss: 0.0198 - mae: 0.1131 - val_loss: 0.0533 - val_mae: 0.1701\n",
            "Epoch 246/250\n",
            "4/4 [==============================] - 0s 24ms/step - loss: 0.0196 - mae: 0.1126 - val_loss: 0.0524 - val_mae: 0.1692\n",
            "Epoch 247/250\n",
            "4/4 [==============================] - 0s 23ms/step - loss: 0.0194 - mae: 0.1121 - val_loss: 0.0516 - val_mae: 0.1686\n",
            "Epoch 248/250\n",
            "4/4 [==============================] - 0s 23ms/step - loss: 0.0193 - mae: 0.1116 - val_loss: 0.0508 - val_mae: 0.1679\n",
            "Epoch 249/250\n",
            "4/4 [==============================] - 0s 28ms/step - loss: 0.0191 - mae: 0.1111 - val_loss: 0.0500 - val_mae: 0.1673\n",
            "Epoch 250/250\n",
            "4/4 [==============================] - 0s 24ms/step - loss: 0.0189 - mae: 0.1106 - val_loss: 0.0492 - val_mae: 0.1667\n"
          ]
        }
      ]
    },
    {
      "cell_type": "code",
      "source": [
        "history = model.fit(dataset_train, epochs=50, batch_size=1, validation_data=dataset_val, callbacks=[callback])"
      ],
      "metadata": {
        "colab": {
          "base_uri": "https://localhost:8080/"
        },
        "id": "AB0oTOumHpZw",
        "outputId": "65642c21-cdf4-4f65-cbd4-13a3216c2143"
      },
      "execution_count": null,
      "outputs": [
        {
          "output_type": "stream",
          "name": "stdout",
          "text": [
            "Epoch 1/50\n",
            "4/4 [==============================] - 0s 23ms/step - loss: 0.0187 - mae: 0.1101 - val_loss: 0.0485 - val_mae: 0.1661\n",
            "Epoch 2/50\n",
            "4/4 [==============================] - 0s 27ms/step - loss: 0.0185 - mae: 0.1096 - val_loss: 0.0478 - val_mae: 0.1656\n",
            "Epoch 3/50\n",
            "4/4 [==============================] - 0s 23ms/step - loss: 0.0183 - mae: 0.1091 - val_loss: 0.0472 - val_mae: 0.1650\n",
            "Epoch 4/50\n",
            "4/4 [==============================] - 0s 24ms/step - loss: 0.0182 - mae: 0.1086 - val_loss: 0.0466 - val_mae: 0.1645\n",
            "Epoch 5/50\n",
            "4/4 [==============================] - 0s 23ms/step - loss: 0.0180 - mae: 0.1081 - val_loss: 0.0460 - val_mae: 0.1643\n",
            "Epoch 6/50\n",
            "4/4 [==============================] - 0s 25ms/step - loss: 0.0178 - mae: 0.1076 - val_loss: 0.0454 - val_mae: 0.1645\n",
            "Epoch 7/50\n",
            "4/4 [==============================] - 0s 25ms/step - loss: 0.0177 - mae: 0.1071 - val_loss: 0.0449 - val_mae: 0.1648\n",
            "Epoch 8/50\n",
            "4/4 [==============================] - 0s 23ms/step - loss: 0.0175 - mae: 0.1067 - val_loss: 0.0444 - val_mae: 0.1650\n",
            "Epoch 9/50\n",
            "4/4 [==============================] - 0s 24ms/step - loss: 0.0174 - mae: 0.1062 - val_loss: 0.0440 - val_mae: 0.1652\n",
            "Epoch 10/50\n",
            "4/4 [==============================] - 0s 26ms/step - loss: 0.0172 - mae: 0.1058 - val_loss: 0.0435 - val_mae: 0.1654\n"
          ]
        }
      ]
    },
    {
      "cell_type": "code",
      "source": [
        "pred = model.predict(dataset_train).flatten()\n",
        "predVal = model.predict(dataset_val).flatten()"
      ],
      "metadata": {
        "colab": {
          "base_uri": "https://localhost:8080/"
        },
        "id": "efEbRKyzFw80",
        "outputId": "0871562d-6d54-404d-ce25-081bd10b9b5b"
      },
      "execution_count": null,
      "outputs": [
        {
          "output_type": "stream",
          "name": "stdout",
          "text": [
            "4/4 [==============================] - 0s 4ms/step\n",
            "1/1 [==============================] - 0s 42ms/step\n"
          ]
        }
      ]
    },
    {
      "cell_type": "code",
      "source": [
        "predVal"
      ],
      "metadata": {
        "colab": {
          "base_uri": "https://localhost:8080/"
        },
        "id": "Q4Q7NBu6oHw8",
        "outputId": "76d7ed7f-4e55-4fff-d579-2597cd888eca"
      },
      "execution_count": null,
      "outputs": [
        {
          "output_type": "execute_result",
          "data": {
            "text/plain": [
              "array([0.9315111 , 1.1649737 , 1.4062018 , 1.8175497 , 2.2771568 ,\n",
              "       2.0163565 , 1.6743522 , 1.0479345 , 0.6560159 , 0.58742946,\n",
              "       0.7476086 , 0.98952466, 1.1519053 , 1.3861454 , 1.749887  ,\n",
              "       2.223857  , 2.6411328 ], dtype=float32)"
            ]
          },
          "metadata": {},
          "execution_count": 71
        }
      ]
    },
    {
      "cell_type": "code",
      "source": [
        "start = 10\n",
        "step = 100\n",
        "plt.figure(figsize=(10,5))\n",
        "plt.grid('on')\n",
        "plt.plot(predVal[start:start+step], label='Прогноз')\n",
        "plt.plot(yVal.flatten()[start:start+step], label = 'Базовый ряд')\n",
        "plt.xlabel('Время')\n",
        "plt.ylabel('Значение')\n",
        "plt.legend()\n",
        "plt.show()"
      ],
      "metadata": {
        "colab": {
          "base_uri": "https://localhost:8080/",
          "height": 465
        },
        "id": "SDUBFdMdFx20",
        "outputId": "2538a901-788b-42da-955c-2916a59b42f2"
      },
      "execution_count": null,
      "outputs": [
        {
          "output_type": "display_data",
          "data": {
            "text/plain": [
              "<Figure size 1000x500 with 1 Axes>"
            ],
            "image/png": "[encoded data removed]"
          },
          "metadata": {}
        }
      ]
    },
    {
      "cell_type": "markdown",
      "source": [
        "Проверим лаговые корреляции:"
      ],
      "metadata": {
        "id": "fnfYNsq-Hgew"
      }
    },
    {
      "cell_type": "code",
      "source": [
        "def correlate(a, b):\n",
        "\tma = a.mean()\n",
        "\tmb = b.mean()\n",
        "\tmab = (a*b).mean()\n",
        "\tsa = a.std()\n",
        "\tsb = b.std()\n",
        "\tval = 0\n",
        "\tif ((sa > 0) & (sb > 0)):\n",
        "\t\tval = (mab - ma*mb)/(sa*sb)\n",
        "\treturn val"
      ],
      "metadata": {
        "id": "KsfKY71UIbH7"
      },
      "execution_count": null,
      "outputs": []
    },
    {
      "cell_type": "code",
      "source": [
        "len(predVal[:]), len(yVal[5:])"
      ],
      "metadata": {
        "colab": {
          "base_uri": "https://localhost:8080/"
        },
        "id": "fICsZGsuL2vW",
        "outputId": "cd477831-89a5-4a62-abee-e58570f20c93"
      },
      "execution_count": null,
      "outputs": [
        {
          "output_type": "execute_result",
          "data": {
            "text/plain": [
              "(17, 17)"
            ]
          },
          "metadata": {},
          "execution_count": 74
        }
      ]
    },
    {
      "cell_type": "code",
      "source": [
        "corr = []\n",
        "start = 5 # Начальная точка для проверки корреляций рядов\n",
        "step = 150 # Число точек для проверки корреляций рядов\n",
        "h = 0\n",
        "yLen = yVal.shape[0]\n",
        "yValF = yVal[start:] # Ряд истинных значений\n",
        "yPredVal = predVal[:] # Ряд предсказаний\n",
        "# Смотрим лаговые корреляции yValF[:-i], yPredVal[i:] для лагов от 0 до 5\n",
        "for i in range(5):\n",
        "\tcorr.append(correlate(yValF[:-1-i], yPredVal[i:-1]))\n",
        "\n",
        "plt.plot(corr, label = 'Корреляция')\n",
        "plt.xlabel('Лаговое расстояние между рядами')\n",
        "plt.ylabel('Значение корреляции')\n",
        "plt.legend()\n",
        "plt.show()"
      ],
      "metadata": {
        "colab": {
          "base_uri": "https://localhost:8080/",
          "height": 449
        },
        "id": "bT6s3v9eHh4S",
        "outputId": "d953c3bf-fc64-4acb-9819-2519e300a758"
      },
      "execution_count": null,
      "outputs": [
        {
          "output_type": "display_data",
          "data": {
            "text/plain": [
              "<Figure size 640x480 with 1 Axes>"
            ],
            "image/png": "[encoded data removed]"
          },
          "metadata": {}
        }
      ]
    },
    {
      "cell_type": "markdown",
      "metadata": {
        "id": "OcJKO5sKEMeA"
      },
      "source": [
        "### Урок 5. Рекуррентные нейронные сети\n",
        "## Практическое задание\n",
        "\n",
        "<ol>\n",
        "    <li>Попробуйте изменить параметры нейронной сети, работающей с датасетом imdb, либо нейронной сети, работающей с airline-passengers (она прилагается вместе с датасетом к уроку в виде отдельного скрипта), так, чтобы улучшить ее точность. Приложите анализ.</li>\n",
        "    <li>Попробуйте изменить параметры нейронной сети, генерирующей текст, таким образом, чтобы добиться генерации как можно более осмысленного текста. Пришлите лучший получившийся у вас текст и опишите то, что вы предприняли, чтобы его получить. Можно использовать текст другого прозведения.</li>\n",
        "    <li>* Попробуйте на numpy реализовать нейронную сеть архитектуры. LSTM</li>\n",
        "    <li>* Предложите свои варианты решения проблемы исчезающего градиента в RNN.</li>\n",
        "</ol>"
      ]
    },
    {
      "cell_type": "code",
      "execution_count": null,
      "metadata": {
        "id": "vyPcVErxgwAu",
        "outputId": "a6aa93c2-f423-4fb7-d04b-950cb09df6be",
        "colab": {
          "base_uri": "https://localhost:8080/"
        }
      },
      "outputs": [
        {
          "output_type": "stream",
          "name": "stderr",
          "text": [
            "WARNING:tensorflow:Layer lstm_8 will not use cuDNN kernels since it doesn't meet the criteria. It will use a generic GPU kernel as fallback when running on GPU.\n"
          ]
        },
        {
          "output_type": "stream",
          "name": "stdout",
          "text": [
            "Построение модели...\n",
            "Загрузка данных...\n",
            "Downloading data from https://storage.googleapis.com/tensorflow/tf-keras-datasets/imdb.npz\n",
            "17464789/17464789 [==============================] - 0s 0us/step\n",
            "25000 тренировочные последовательности\n",
            "25000 тестовые последовательности\n",
            "Pad последовательности (примеров в x единицу времени)\n",
            "x_train shape: (25000, 100)\n",
            "x_test shape: (25000, 100)\n",
            "Процесс обучения...\n",
            "Epoch 1/10\n",
            "98/98 [==============================] - 50s 447ms/step - loss: 0.5495 - accuracy: 0.7077 - val_loss: 0.3614 - val_accuracy: 0.8420\n",
            "Epoch 2/10\n",
            "98/98 [==============================] - 38s 387ms/step - loss: 0.3172 - accuracy: 0.8763 - val_loss: 0.3446 - val_accuracy: 0.8494\n",
            "Epoch 3/10\n",
            "98/98 [==============================] - 38s 384ms/step - loss: 0.2568 - accuracy: 0.9055 - val_loss: 0.3976 - val_accuracy: 0.8472\n",
            "Epoch 4/10\n",
            "98/98 [==============================] - 38s 391ms/step - loss: 0.2078 - accuracy: 0.9254 - val_loss: 0.4495 - val_accuracy: 0.8421\n",
            "Epoch 5/10\n",
            "98/98 [==============================] - 35s 362ms/step - loss: 0.1719 - accuracy: 0.9410 - val_loss: 0.4966 - val_accuracy: 0.8388\n",
            "Epoch 6/10\n",
            "98/98 [==============================] - 35s 357ms/step - loss: 0.1360 - accuracy: 0.9518 - val_loss: 0.4593 - val_accuracy: 0.8337\n",
            "Epoch 7/10\n",
            "98/98 [==============================] - 36s 369ms/step - loss: 0.1134 - accuracy: 0.9609 - val_loss: 0.5701 - val_accuracy: 0.8284\n",
            "Epoch 8/10\n",
            "98/98 [==============================] - 37s 376ms/step - loss: 0.1089 - accuracy: 0.9610 - val_loss: 0.5559 - val_accuracy: 0.8257\n",
            "Epoch 9/10\n",
            "98/98 [==============================] - 36s 365ms/step - loss: 0.0885 - accuracy: 0.9700 - val_loss: 0.6776 - val_accuracy: 0.8282\n",
            "Epoch 10/10\n",
            "98/98 [==============================] - 34s 350ms/step - loss: 0.0699 - accuracy: 0.9756 - val_loss: 0.8032 - val_accuracy: 0.8231\n",
            "98/98 [==============================] - 3s 34ms/step - loss: 0.8032 - accuracy: 0.8231\n",
            "Результат при тестировании: 0.8032218813896179\n",
            "Тестовая точность: 0.8230800032615662\n"
          ]
        }
      ],
      "source": [
        "from __future__ import print_function\n",
        "\n",
        "from keras.preprocessing import sequence\n",
        "from keras.models import Sequential\n",
        "from keras.layers import Dense, Embedding\n",
        "from keras.layers import LSTM\n",
        "from keras.datasets import imdb\n",
        "from keras.utils import pad_sequences\n",
        "\n",
        "max_features = 10000\n",
        "\n",
        "# обрезание текстов после данного количества слов (среди top max_features наиболее используемые слова)\n",
        "maxlen = 100\n",
        "batch_size = 256 #128 # увеличьте значение для ускорения обучения\n",
        "def train_nn():\n",
        "  print('Построение модели...')\n",
        "  #model = Sequential()\n",
        "  #model.add(Embedding(max_features, 128))\n",
        "  #model.add(LSTM(128, dropout=0.4, recurrent_dropout=0.4))\n",
        "  #model.add(Dense(32, activation='relu'))\n",
        "  #model.add(Dense(1, activation='sigmoid'))\n",
        "\n",
        "  model = Sequential()\n",
        "  model.add(Embedding(max_features, 128))\n",
        "  model.add(LSTM(128, dropout=0.4, recurrent_dropout=0.4))\n",
        "  model.add(Dense(32, activation='relu'))\n",
        "  model.add(Dropout(0.4))\n",
        "  model.add(Dense(32, activation='LeakyReLU'))\n",
        "  model.add(Dropout(0.4))\n",
        "  model.add(Dense(16, activation='elu'))\n",
        "  model.add(Dropout(0.2))\n",
        "  model.add(Dense(1, activation='sigmoid'))\n",
        "\n",
        "\n",
        "  print('Загрузка данных...')\n",
        " #стоит попробовать использовать другие оптимайзер и другие конфигурации оптимайзеров\n",
        "  model.compile(loss='binary_crossentropy',\n",
        "                optimizer='Adam', # при использовании этого оптимайзера модель показывает наилучшие результаты.\n",
        "                metrics=['accuracy'])\n",
        "  (x_train, y_train), (x_test, y_test) = imdb.load_data(num_words=max_features)\n",
        "  print(len(x_train), 'тренировочные последовательности')\n",
        "  print(len(x_test), 'тестовые последовательности')\n",
        "\n",
        "  print('Pad последовательности (примеров в x единицу времени)')\n",
        "  x_train = pad_sequences(x_train, maxlen=maxlen)\n",
        "  x_test = pad_sequences(x_test, maxlen=maxlen)\n",
        "  print('x_train shape:', x_train.shape)\n",
        "  print('x_test shape:', x_test.shape)\n",
        "\n",
        "  print('Процесс обучения...')\n",
        "  model.fit(x_train, y_train,\n",
        "            batch_size=batch_size,\n",
        "            epochs=10, # увеличьте при необходимости\n",
        "            validation_data=(x_test, y_test))\n",
        "  score, acc = model.evaluate(x_test, y_test,\n",
        "                              batch_size=batch_size)\n",
        "  print('Результат при тестировании:', score)\n",
        "  print('Тестовая точность:', acc)\n",
        "\n",
        "\n",
        "\n",
        "train_nn()\n",
        "  #"
      ]
    },
    {
      "cell_type": "markdown",
      "source": [
        "Слои дропаут повышают качество модели."
      ],
      "metadata": {
        "id": "exQaG4a8u0qf"
      }
    },
    {
      "cell_type": "code",
      "source": [],
      "metadata": {
        "id": "fwQV-0riuyqq"
      },
      "execution_count": null,
      "outputs": []
    },
    {
      "cell_type": "code",
      "source": [
        "batch_size = 128\n",
        "maxlen = 128\n",
        "from keras.layers import Dropout, ConvLSTM1D"
      ],
      "metadata": {
        "id": "vIGXm9PGDZ3n"
      },
      "execution_count": null,
      "outputs": []
    },
    {
      "cell_type": "code",
      "source": [
        "batch_size = 256\n",
        "epochs = 20\n",
        "\n",
        "model = Sequential()\n",
        "model.add(Embedding(max_features, 128))\n",
        "model.add(LSTM(128, dropout=0.4, recurrent_dropout=0.4))\n",
        "model.add(Dense(32, activation='relu'))\n",
        "model.add(Dropout(0.4))\n",
        "model.add(Dense(32, activation='LeakyReLU'))\n",
        "model.add(Dropout(0.4))\n",
        "model.add(Dense(16, activation='elu'))\n",
        "model.add(Dropout(0.2))\n",
        "model.add(Dense(1, activation='sigmoid'))\n",
        "\n",
        "# Use a different optimizer\n",
        "model.compile(loss='binary_crossentropy',\n",
        "              optimizer='RMSprop',\n",
        "              metrics=['accuracy'])\n",
        "(x_train, y_train), (x_test, y_test) = imdb.load_data(num_words=max_features)\n",
        "x_train = pad_sequences(x_train, maxlen=maxlen)\n",
        "x_test = pad_sequences(x_test, maxlen=maxlen)\n",
        "# Train the model\n",
        "model.fit(x_train, y_train,\n",
        "            batch_size=batch_size,\n",
        "            epochs=epochs,\n",
        "            validation_data=(x_test, y_test))\n"
      ],
      "metadata": {
        "id": "GPeBDkufab_a",
        "colab": {
          "base_uri": "https://localhost:8080/"
        },
        "outputId": "ead425c5-65e8-47c1-8bce-e57a0702b578"
      },
      "execution_count": null,
      "outputs": [
        {
          "output_type": "stream",
          "name": "stderr",
          "text": [
            "WARNING:tensorflow:Layer lstm_10 will not use cuDNN kernels since it doesn't meet the criteria. It will use a generic GPU kernel as fallback when running on GPU.\n"
          ]
        },
        {
          "output_type": "stream",
          "name": "stdout",
          "text": [
            "Epoch 1/20\n",
            "98/98 [==============================] - 55s 525ms/step - loss: 0.6704 - accuracy: 0.5820 - val_loss: 0.5183 - val_accuracy: 0.7724\n",
            "Epoch 2/20\n",
            "98/98 [==============================] - 61s 620ms/step - loss: 0.4836 - accuracy: 0.7900 - val_loss: 0.4161 - val_accuracy: 0.8162\n",
            "Epoch 3/20\n",
            "98/98 [==============================] - 47s 484ms/step - loss: 0.3816 - accuracy: 0.8448 - val_loss: 0.4388 - val_accuracy: 0.8050\n",
            "Epoch 4/20\n",
            "98/98 [==============================] - 48s 486ms/step - loss: 0.3426 - accuracy: 0.8648 - val_loss: 0.5219 - val_accuracy: 0.7874\n",
            "Epoch 5/20\n",
            "98/98 [==============================] - 45s 464ms/step - loss: 0.3092 - accuracy: 0.8816 - val_loss: 0.3475 - val_accuracy: 0.8620\n",
            "Epoch 6/20\n",
            "98/98 [==============================] - 45s 456ms/step - loss: 0.2851 - accuracy: 0.8914 - val_loss: 0.4093 - val_accuracy: 0.8506\n",
            "Epoch 7/20\n",
            "98/98 [==============================] - 46s 470ms/step - loss: 0.2609 - accuracy: 0.9024 - val_loss: 0.3394 - val_accuracy: 0.8641\n",
            "Epoch 8/20\n",
            "98/98 [==============================] - 44s 454ms/step - loss: 0.2485 - accuracy: 0.9066 - val_loss: 0.3375 - val_accuracy: 0.8586\n",
            "Epoch 9/20\n",
            "98/98 [==============================] - 45s 462ms/step - loss: 0.2282 - accuracy: 0.9156 - val_loss: 0.3635 - val_accuracy: 0.8486\n",
            "Epoch 10/20\n",
            "98/98 [==============================] - 45s 458ms/step - loss: 0.2197 - accuracy: 0.9207 - val_loss: 0.3783 - val_accuracy: 0.8553\n",
            "Epoch 11/20\n",
            "98/98 [==============================] - 45s 458ms/step - loss: 0.2057 - accuracy: 0.9258 - val_loss: 0.4125 - val_accuracy: 0.8536\n",
            "Epoch 12/20\n",
            "98/98 [==============================] - 46s 470ms/step - loss: 0.1889 - accuracy: 0.9324 - val_loss: 0.4229 - val_accuracy: 0.8568\n",
            "Epoch 13/20\n",
            "98/98 [==============================] - 44s 454ms/step - loss: 0.1788 - accuracy: 0.9350 - val_loss: 0.4890 - val_accuracy: 0.8529\n",
            "Epoch 14/20\n",
            "98/98 [==============================] - 45s 457ms/step - loss: 0.1680 - accuracy: 0.9398 - val_loss: 0.4078 - val_accuracy: 0.8519\n",
            "Epoch 15/20\n",
            "98/98 [==============================] - 43s 441ms/step - loss: 0.1527 - accuracy: 0.9455 - val_loss: 0.5207 - val_accuracy: 0.8358\n",
            "Epoch 16/20\n",
            "98/98 [==============================] - 47s 486ms/step - loss: 0.1468 - accuracy: 0.9475 - val_loss: 0.4843 - val_accuracy: 0.8483\n",
            "Epoch 17/20\n",
            "98/98 [==============================] - 45s 457ms/step - loss: 0.1337 - accuracy: 0.9523 - val_loss: 0.5050 - val_accuracy: 0.8492\n",
            "Epoch 18/20\n",
            "98/98 [==============================] - 45s 459ms/step - loss: 0.1236 - accuracy: 0.9577 - val_loss: 0.5378 - val_accuracy: 0.8243\n",
            "Epoch 19/20\n",
            "98/98 [==============================] - 45s 458ms/step - loss: 0.1175 - accuracy: 0.9593 - val_loss: 0.6019 - val_accuracy: 0.8501\n",
            "Epoch 20/20\n",
            "98/98 [==============================] - 46s 465ms/step - loss: 0.1103 - accuracy: 0.9618 - val_loss: 0.5613 - val_accuracy: 0.8495\n"
          ]
        },
        {
          "output_type": "execute_result",
          "data": {
            "text/plain": [
              "<keras.src.callbacks.History at 0x78024b296350>"
            ]
          },
          "metadata": {},
          "execution_count": 79
        }
      ]
    },
    {
      "cell_type": "code",
      "source": [
        "from keras.backend import dropout\n",
        "def train_nn_1():\n",
        "  print('Загрузка данных...')\n",
        "  (x_train, y_train), (x_test, y_test) = imdb.load_data(num_words=max_features)\n",
        "  print(len(x_train), 'тренировочные последовательности')\n",
        "  print(len(x_test), 'тестовые последовательности')\n",
        "\n",
        "  print('Pad последовательности (примеров в x единицу времени)')\n",
        "  x_train = pad_sequences(x_train, maxlen=maxlen)\n",
        "  x_test = pad_sequences(x_test, maxlen=maxlen)\n",
        "  print('x_train shape:', x_train.shape)\n",
        "  print('x_test shape:', x_test.shape)\n",
        "\n",
        "  print('Построение модели...')\n",
        "  model = Sequential()\n",
        "  model.add(Embedding(max_features, 128))\n",
        "  model.add(LSTM(128, dropout=0.4, recurrent_dropout=0.4))\n",
        "  model.add(Dense(32, activation='relu'))\n",
        "  model.add(Dropout(0.4))\n",
        "  model.add(Dense(32, activation='LeakyReLU'))            # New line\n",
        "  model.add(Dropout(0.4))\n",
        "  model.add(Dense(16, activation='elu'))\n",
        "  model.add(Dropout(0.2))                                  # New line\n",
        "  model.add(Dense(1, activation='sigmoid'))\n",
        "\n",
        "  # стоит попробовать использовать другие оптимайзер и другие конфигурации оптимайзеров\n",
        "  model.compile(loss='binary_crossentropy',\n",
        "                optimizer='RMSprop', # при использовании этого оптимайзера модель показывает наилучшие результаты.\n",
        "                metrics=['accuracy'])\n",
        "\n",
        "  print('Процесс обучения...')\n",
        "  model.fit(x_train, y_train,\n",
        "            batch_size=batch_size,\n",
        "            epochs=10, # увеличьте при необходимости\n",
        "            validation_data=(x_test, y_test))\n",
        "  score, acc = model.evaluate(x_test, y_test,\n",
        "                              batch_size=batch_size)\n",
        "  print('Результат при тестировании:', score)\n",
        "  print('Тестовая точность:', acc)\n",
        "train_nn_1()"
      ],
      "metadata": {
        "colab": {
          "base_uri": "https://localhost:8080/"
        },
        "id": "XWHzc_8DCpe9",
        "outputId": "07559a15-4584-405f-c2c6-5366216e3afe"
      },
      "execution_count": null,
      "outputs": [
        {
          "output_type": "stream",
          "name": "stdout",
          "text": [
            "Загрузка данных...\n",
            "25000 тренировочные последовательности\n",
            "25000 тестовые последовательности\n",
            "Pad последовательности (примеров в x единицу времени)\n"
          ]
        },
        {
          "output_type": "stream",
          "name": "stderr",
          "text": [
            "WARNING:tensorflow:Layer lstm_11 will not use cuDNN kernels since it doesn't meet the criteria. It will use a generic GPU kernel as fallback when running on GPU.\n"
          ]
        },
        {
          "output_type": "stream",
          "name": "stdout",
          "text": [
            "x_train shape: (25000, 128)\n",
            "x_test shape: (25000, 128)\n",
            "Построение модели...\n",
            "Процесс обучения...\n",
            "Epoch 1/10\n",
            "98/98 [==============================] - 52s 486ms/step - loss: 0.6624 - accuracy: 0.5889 - val_loss: 0.5454 - val_accuracy: 0.7483\n",
            "Epoch 2/10\n",
            "98/98 [==============================] - 47s 482ms/step - loss: 0.4740 - accuracy: 0.7919 - val_loss: 0.3704 - val_accuracy: 0.8344\n",
            "Epoch 3/10\n",
            "98/98 [==============================] - 46s 465ms/step - loss: 0.3824 - accuracy: 0.8444 - val_loss: 0.3379 - val_accuracy: 0.8564\n",
            "Epoch 4/10\n",
            "98/98 [==============================] - 45s 458ms/step - loss: 0.3378 - accuracy: 0.8672 - val_loss: 0.4372 - val_accuracy: 0.8133\n",
            "Epoch 5/10\n",
            "98/98 [==============================] - 44s 453ms/step - loss: 0.3097 - accuracy: 0.8803 - val_loss: 0.4140 - val_accuracy: 0.8307\n",
            "Epoch 6/10\n",
            "98/98 [==============================] - 43s 443ms/step - loss: 0.2808 - accuracy: 0.8915 - val_loss: 0.3312 - val_accuracy: 0.8652\n",
            "Epoch 7/10\n",
            "98/98 [==============================] - 44s 448ms/step - loss: 0.2562 - accuracy: 0.9043 - val_loss: 0.4706 - val_accuracy: 0.8170\n",
            "Epoch 8/10\n",
            "98/98 [==============================] - 46s 469ms/step - loss: 0.2425 - accuracy: 0.9116 - val_loss: 0.3411 - val_accuracy: 0.8570\n",
            "Epoch 9/10\n",
            "98/98 [==============================] - 49s 504ms/step - loss: 0.2254 - accuracy: 0.9172 - val_loss: 0.3500 - val_accuracy: 0.8536\n",
            "Epoch 10/10\n",
            "98/98 [==============================] - 43s 441ms/step - loss: 0.2075 - accuracy: 0.9223 - val_loss: 0.3817 - val_accuracy: 0.8595\n",
            "98/98 [==============================] - 4s 37ms/step - loss: 0.3817 - accuracy: 0.8595\n",
            "Результат при тестировании: 0.3816945254802704\n",
            "Тестовая точность: 0.8595200181007385\n"
          ]
        }
      ]
    },
    {
      "cell_type": "code",
      "source": [
        "from keras.datasets import imdb"
      ],
      "metadata": {
        "id": "GCKm0rcQ8sYX"
      },
      "execution_count": null,
      "outputs": []
    },
    {
      "cell_type": "code",
      "source": [
        "(x_train, y_train), (x_test, y_test) = imdb.load_data(num_words=max_features)"
      ],
      "metadata": {
        "id": "wjtwMIdcEMqp"
      },
      "execution_count": null,
      "outputs": []
    },
    {
      "cell_type": "code",
      "source": [
        "x_train = pad_sequences(x_train, maxlen=maxlen)\n",
        "x_test = pad_sequences(x_test, maxlen=maxlen)"
      ],
      "metadata": {
        "id": "eI_PbcshnQhH"
      },
      "execution_count": null,
      "outputs": []
    },
    {
      "cell_type": "code",
      "source": [
        "X_train = x_train.reshape((x_train.shape[0], 1, 128, 1))\n",
        "X_test = x_test.reshape((x_test.shape[0], 1, 128, 1))\n"
      ],
      "metadata": {
        "id": "RaiyolPUpNnh"
      },
      "execution_count": null,
      "outputs": []
    },
    {
      "cell_type": "code",
      "source": [
        "def train_nn_2(X_train, y_train,X_test, y_test):\n",
        "  # print('Загрузка данных...')\n",
        "  # (x_train, y_train), (x_test, y_test) = imdb.load_data(num_words=max_features)\n",
        "  # print(len(x_train), 'тренировочные последовательности')\n",
        "  # print(len(x_test), 'тестовые последовательности')\n",
        "\n",
        "  # print('Pad последовательности (примеров в x единицу времени)')\n",
        "  # x_train = pad_sequences(x_train, maxlen=maxlen)\n",
        "  # x_test = pad_sequences(x_test, maxlen=maxlen)\n",
        "  # print('x_train shape:', x_train.shape)\n",
        "  # print('x_test shape:', x_test.shape)\n",
        "\n",
        "  print('Построение модели...')\n",
        "  model = Sequential()\n",
        "  #model.add(Embedding(max_features, 128))\n",
        "  model.add(ConvLSTM1D(128,kernel_size=32, dropout=0.4, recurrent_dropout=0.4))\n",
        "  model.add(Dense(32, activation='relu'))\n",
        "  model.add(Dropout(0.4))\n",
        "  model.add(Dense(32, activation='LeakyReLU'))            # New line\n",
        "  model.add(Dropout(0.4))\n",
        "  model.add(Dense(16, activation='elu'))\n",
        "  model.add(Dropout(0.2))                                  # New line\n",
        "  model.add(Dense(1, activation='sigmoid'))\n",
        "\n",
        "  # стоит попробовать использовать другие оптимайзер и другие конфигурации оптимайзеров\n",
        "  model.compile(loss='binary_crossentropy',\n",
        "                optimizer='Adam', # при использовании этого оптимайзера модель показывает наилучшие результаты.\n",
        "                metrics=['accuracy'])\n",
        "\n",
        "  print('Процесс обучения...')\n",
        "  model.fit(x_train, y_train,\n",
        "            batch_size=batch_size,\n",
        "            epochs=10, # увеличьте при необходимости\n",
        "            validation_data=(x_test, y_test))\n",
        "  score, acc = model.evaluate(x_test, y_test,\n",
        "                              batch_size=batch_size)\n",
        "  print('Результат при тестировании:', score)\n",
        "  print('Тестовая точность:', acc)\n"
      ],
      "metadata": {
        "id": "fqH7wDDbqd6a"
      },
      "execution_count": null,
      "outputs": []
    },
    {
      "cell_type": "code",
      "source": [
        "train_nn_2(X_train, y_train,X_test, y_test)"
      ],
      "metadata": {
        "colab": {
          "base_uri": "https://localhost:8080/",
          "height": 139
        },
        "id": "mVk1wvfnrYQC",
        "outputId": "1655e020-4995-416b-ca51-ae5bd96bb4ad"
      },
      "execution_count": null,
      "outputs": [
        {
          "output_type": "error",
          "ename": "NameError",
          "evalue": "name 'train_nn_2' is not defined",
          "traceback": [
            "\u001b[0;31m---------------------------------------------------------------------------\u001b[0m",
            "\u001b[0;31mNameError\u001b[0m                                 Traceback (most recent call last)",
            "\u001b[0;32m<ipython-input-1-d14c12c35076>\u001b[0m in \u001b[0;36m<cell line: 1>\u001b[0;34m()\u001b[0m\n\u001b[0;32m----> 1\u001b[0;31m \u001b[0mtrain_nn_2\u001b[0m\u001b[0;34m(\u001b[0m\u001b[0mX_train\u001b[0m\u001b[0;34m,\u001b[0m \u001b[0my_train\u001b[0m\u001b[0;34m,\u001b[0m\u001b[0mX_test\u001b[0m\u001b[0;34m,\u001b[0m \u001b[0my_test\u001b[0m\u001b[0;34m)\u001b[0m\u001b[0;34m\u001b[0m\u001b[0;34m\u001b[0m\u001b[0m\n\u001b[0m",
            "\u001b[0;31mNameError\u001b[0m: name 'train_nn_2' is not defined"
          ]
        }
      ]
    },
    {
      "cell_type": "markdown",
      "source": [
        "# Домашнее задание №5\n",
        "\n"
      ],
      "metadata": {
        "id": "rqKdw4DznlEw"
      }
    },
    {
      "cell_type": "markdown",
      "source": [
        "## Задание №1. Попробуйте починить сеть по словам."
      ],
      "metadata": {
        "id": "bXY1H_Kinw5t"
      }
    },
    {
      "cell_type": "code",
      "source": [
        "from keras.preprocessing import sequence\n",
        "from keras.models import Sequential\n",
        "from keras.layers import Dense, Embedding, LSTM, Dropout\n",
        "from keras.datasets import imdb\n",
        "from keras.optimizers import Adam\n",
        "\n",
        "max_features = 10000\n",
        "maxlen = 100\n",
        "batch_size = 256\n",
        "\n",
        "def train_nn():\n",
        "    print('Построение модели...')\n",
        "    model = Sequential()\n",
        "    model.add(Embedding(max_features, 128))\n",
        "    model.add(LSTM(128, dropout=0.4, recurrent_dropout=0.4))\n",
        "    model.add(Dense(64, activation='relu'))  # Увеличиваем количество нейронов для лучшей представительности\n",
        "    model.add(Dropout(0.5))  # Применяем Dropout после каждого слоя\n",
        "    model.add(Dense(1, activation='sigmoid'))\n",
        "\n",
        "    print('Загрузка данных...')\n",
        "    (x_train, y_train), (x_test, y_test) = imdb.load_data(num_words=max_features)\n",
        "\n",
        "    print(len(x_train), 'тренировочные последовательности')\n",
        "    print(len(x_test), 'тестовые последовательности')\n",
        "\n",
        "    print('Pad последовательности (примеров в x единицу времени)')\n",
        "    x_train = sequence.pad_sequences(x_train, maxlen=maxlen)\n",
        "    x_test = sequence.pad_sequences(x_test, maxlen=maxlen)\n",
        "\n",
        "    print('Процесс обучения...')\n",
        "    optimizer = Adam(lr=0.001)  # Используем оптимизатор Adam с настроенной скоростью обучения\n",
        "    model.compile(loss='binary_crossentropy', optimizer=optimizer, metrics=['accuracy'])\n",
        "    model.fit(x_train, y_train,\n",
        "              batch_size=batch_size,\n",
        "              epochs=10,\n",
        "              validation_data=(x_test, y_test))\n",
        "\n",
        "    score, acc = model.evaluate(x_test, y_test, batch_size=batch_size)\n",
        "    print('Результат при тестировании:', score)\n",
        "    print('Тестовая точность:', acc)\n",
        "\n",
        "train_nn()\n"
      ],
      "metadata": {
        "id": "CwkhewmMsO-_",
        "colab": {
          "base_uri": "https://localhost:8080/"
        },
        "outputId": "4ac0f85a-a934-46b2-9113-a8f3219b43d2"
      },
      "execution_count": null,
      "outputs": [
        {
          "output_type": "stream",
          "name": "stdout",
          "text": [
            "Построение модели...\n"
          ]
        },
        {
          "output_type": "stream",
          "name": "stderr",
          "text": [
            "WARNING:tensorflow:Layer lstm will not use cuDNN kernels since it doesn't meet the criteria. It will use a generic GPU kernel as fallback when running on GPU.\n"
          ]
        },
        {
          "output_type": "stream",
          "name": "stdout",
          "text": [
            "Загрузка данных...\n",
            "Downloading data from https://storage.googleapis.com/tensorflow/tf-keras-datasets/imdb.npz\n",
            "17464789/17464789 [==============================] - 0s 0us/step\n",
            "25000 тренировочные последовательности\n",
            "25000 тестовые последовательности\n",
            "Pad последовательности (примеров в x единицу времени)\n"
          ]
        },
        {
          "output_type": "stream",
          "name": "stderr",
          "text": [
            "WARNING:absl:`lr` is deprecated in Keras optimizer, please use `learning_rate` or use the legacy optimizer, e.g.,tf.keras.optimizers.legacy.Adam.\n"
          ]
        },
        {
          "output_type": "stream",
          "name": "stdout",
          "text": [
            "Процесс обучения...\n",
            "Epoch 1/10\n",
            "98/98 [==============================] - 49s 434ms/step - loss: 0.5072 - accuracy: 0.7342 - val_loss: 0.3472 - val_accuracy: 0.8478\n",
            "Epoch 2/10\n",
            "98/98 [==============================] - 40s 412ms/step - loss: 0.2963 - accuracy: 0.8802 - val_loss: 0.3393 - val_accuracy: 0.8500\n",
            "Epoch 3/10\n",
            "98/98 [==============================] - 37s 376ms/step - loss: 0.2439 - accuracy: 0.9064 - val_loss: 0.3762 - val_accuracy: 0.8308\n",
            "Epoch 4/10\n",
            "98/98 [==============================] - 39s 395ms/step - loss: 0.2107 - accuracy: 0.9197 - val_loss: 0.4263 - val_accuracy: 0.8408\n",
            "Epoch 5/10\n",
            "98/98 [==============================] - 36s 363ms/step - loss: 0.1747 - accuracy: 0.9333 - val_loss: 0.4596 - val_accuracy: 0.8386\n",
            "Epoch 6/10\n",
            "98/98 [==============================] - 35s 362ms/step - loss: 0.1289 - accuracy: 0.9530 - val_loss: 0.4711 - val_accuracy: 0.8340\n",
            "Epoch 7/10\n",
            "98/98 [==============================] - 35s 356ms/step - loss: 0.1119 - accuracy: 0.9597 - val_loss: 0.6151 - val_accuracy: 0.8326\n",
            "Epoch 8/10\n",
            "98/98 [==============================] - 35s 358ms/step - loss: 0.0935 - accuracy: 0.9663 - val_loss: 0.7437 - val_accuracy: 0.8257\n",
            "Epoch 9/10\n",
            "98/98 [==============================] - 34s 347ms/step - loss: 0.0924 - accuracy: 0.9670 - val_loss: 0.8277 - val_accuracy: 0.8291\n",
            "Epoch 10/10\n",
            "98/98 [==============================] - 34s 348ms/step - loss: 0.0664 - accuracy: 0.9765 - val_loss: 0.8417 - val_accuracy: 0.8232\n",
            "98/98 [==============================] - 4s 37ms/step - loss: 0.8417 - accuracy: 0.8232\n",
            "Результат при тестировании: 0.8416681885719299\n",
            "Тестовая точность: 0.823199987411499\n"
          ]
        }
      ]
    },
    {
      "cell_type": "markdown",
      "source": [],
      "metadata": {
        "id": "DMak1Mz5qit2"
      }
    },
    {
      "cell_type": "markdown",
      "source": [
        "Изменения:\n",
        "\n",
        "Увеличение количества нейронов в слое Dense до 64 для лучшей представительности данных.\n",
        "Добавлен слой Dropout после слоя Dense, чтобы уменьшить переобучение и повысить обобщающую способность модели.\n",
        "Используем оптимизатор Adam с настроенной скоростью обучения (lr=0.001) для лучшей сходимости модели.\n",
        "Вместо pad_sequences используем sequence.pad_sequences, так как pad_sequences - это функция модуля sequence."
      ],
      "metadata": {
        "id": "hshbC7UDquLZ"
      }
    },
    {
      "cell_type": "markdown",
      "source": [
        "## Задание №2.\n",
        "Попробуйте изменить параметры нейронной сети, генерирующей текст таким образом, чтобы добиться генерации как можно более осмысленного текста. Пришлите лучший текст из получившихся и опишите предпринятые для его получения действия. Можно использовать текст другого произведения."
      ],
      "metadata": {
        "id": "PaYfOj-urIuk"
      }
    },
    {
      "cell_type": "markdown",
      "source": [
        "НС с двумя слоями LSTM и двумя полносвязанными слоями. После обучения модели на данных IMDB выводится результат её оценки."
      ],
      "metadata": {
        "id": "AKKz4GzN8jCH"
      }
    },
    {
      "cell_type": "code",
      "source": [
        "from keras.preprocessing import sequence\n",
        "from keras.models import Sequential\n",
        "from keras.layers import Dense, Embedding, LSTM, Dropout\n",
        "from keras.datasets import imdb\n",
        "from keras.optimizers import Adam\n",
        "\n",
        "max_features = 10000  # Максимальное количество слов в словаре\n",
        "maxlen = 100  # Максимальная длина отзыва\n",
        "batch_size = 256  # Размер пакета для обучения\n",
        "\n",
        "def train_nn_modified():\n",
        "    print('Построение модели...')\n",
        "    model = Sequential()  # Создание последовательной модели\n",
        "    model.add(Embedding(max_features, 256))  # Добавление слоя эмбеддинга\n",
        "    model.add(LSTM(512, dropout=0.2, recurrent_dropout=0.2))  # Добавление слоя LSTM\n",
        "    model.add(Dense(256, activation='relu'))  # Добавление полносвязанного слоя с активацией ReLU\n",
        "    model.add(Dropout(0.5))  # Добавление Dropout для предотвращения переобучения\n",
        "    model.add(Dense(1, activation='sigmoid'))  # Добавление выходного слоя с активацией sigmoid\n",
        "\n",
        "    print('Загрузка данных...')\n",
        "    (x_train, y_train), (x_test, y_test) = imdb.load_data(num_words=max_features)  # Загрузка данных IMDB\n",
        "\n",
        "    print(len(x_train), 'тренировочные последовательности')\n",
        "    print(len(x_test), 'тестовые последовательности')\n",
        "\n",
        "    print('Pad последовательности (примеров в x единицу времени)')\n",
        "    x_train = sequence.pad_sequences(x_train, maxlen=maxlen)  # Дополнение или обрезание последовательностей до заданной длины\n",
        "    x_test = sequence.pad_sequences(x_test, maxlen=maxlen)\n",
        "\n",
        "    print('Процесс обучения...')\n",
        "    optimizer = Adam(lr=0.001)  # Использование оптимизатора Adam с настроенной скоростью обучения\n",
        "    model.compile(loss='binary_crossentropy', optimizer=optimizer, metrics=['accuracy'])  # Компиляция модели\n",
        "    model.fit(x_train, y_train,\n",
        "              batch_size=128,  # Размер пакета для обучения\n",
        "              epochs=15,  # Количество эпох обучения\n",
        "              validation_data=(x_test, y_test))  # Использование тестовых данных для валидации\n",
        "\n",
        "    score, acc = model.evaluate(x_test, y_test, batch_size=128)  # Оценка модели на тестовых данных\n",
        "    print('Результат при тестировании:', score)\n",
        "    print('Тестовая точность:', acc)\n",
        "\n",
        "train_nn_modified()  # Вызов функции для обучения модели\n"
      ],
      "metadata": {
        "colab": {
          "base_uri": "https://localhost:8080/"
        },
        "id": "CSYHwF5Q_34K",
        "outputId": "0c499b2b-b3e0-4378-f06f-5b1b69e0b1de"
      },
      "execution_count": 2,
      "outputs": [
        {
          "output_type": "stream",
          "name": "stdout",
          "text": [
            "Построение модели...\n"
          ]
        },
        {
          "output_type": "stream",
          "name": "stderr",
          "text": [
            "WARNING:tensorflow:Layer lstm will not use cuDNN kernels since it doesn't meet the criteria. It will use a generic GPU kernel as fallback when running on GPU.\n"
          ]
        },
        {
          "output_type": "stream",
          "name": "stdout",
          "text": [
            "Загрузка данных...\n",
            "Downloading data from https://storage.googleapis.com/tensorflow/tf-keras-datasets/imdb.npz\n",
            "17464789/17464789 [==============================] - 0s 0us/step\n",
            "25000 тренировочные последовательности\n",
            "25000 тестовые последовательности\n",
            "Pad последовательности (примеров в x единицу времени)\n"
          ]
        },
        {
          "output_type": "stream",
          "name": "stderr",
          "text": [
            "WARNING:absl:`lr` is deprecated in Keras optimizer, please use `learning_rate` or use the legacy optimizer, e.g.,tf.keras.optimizers.legacy.Adam.\n"
          ]
        },
        {
          "output_type": "stream",
          "name": "stdout",
          "text": [
            "Процесс обучения...\n",
            "Epoch 1/15\n",
            "196/196 [==============================] - 96s 455ms/step - loss: 0.5305 - accuracy: 0.7262 - val_loss: 0.3586 - val_accuracy: 0.8424\n",
            "Epoch 2/15\n",
            "196/196 [==============================] - 89s 453ms/step - loss: 0.2903 - accuracy: 0.8821 - val_loss: 0.3453 - val_accuracy: 0.8512\n",
            "Epoch 3/15\n",
            "196/196 [==============================] - 86s 439ms/step - loss: 0.2193 - accuracy: 0.9160 - val_loss: 0.3806 - val_accuracy: 0.8420\n",
            "Epoch 4/15\n",
            "196/196 [==============================] - 80s 407ms/step - loss: 0.1539 - accuracy: 0.9414 - val_loss: 0.4294 - val_accuracy: 0.8361\n",
            "Epoch 5/15\n",
            "196/196 [==============================] - 80s 410ms/step - loss: 0.1130 - accuracy: 0.9587 - val_loss: 0.5769 - val_accuracy: 0.8313\n",
            "Epoch 6/15\n",
            "196/196 [==============================] - 78s 400ms/step - loss: 0.0860 - accuracy: 0.9693 - val_loss: 0.5773 - val_accuracy: 0.8225\n",
            "Epoch 7/15\n",
            "196/196 [==============================] - 79s 404ms/step - loss: 0.0651 - accuracy: 0.9774 - val_loss: 0.7389 - val_accuracy: 0.8270\n",
            "Epoch 8/15\n",
            "196/196 [==============================] - 79s 402ms/step - loss: 0.0588 - accuracy: 0.9798 - val_loss: 0.7256 - val_accuracy: 0.8230\n",
            "Epoch 9/15\n",
            "196/196 [==============================] - 78s 400ms/step - loss: 0.0448 - accuracy: 0.9848 - val_loss: 0.8022 - val_accuracy: 0.8225\n",
            "Epoch 10/15\n",
            "196/196 [==============================] - 79s 404ms/step - loss: 0.0361 - accuracy: 0.9874 - val_loss: 1.0515 - val_accuracy: 0.8227\n",
            "Epoch 11/15\n",
            "196/196 [==============================] - 78s 400ms/step - loss: 0.0460 - accuracy: 0.9841 - val_loss: 0.8476 - val_accuracy: 0.8250\n",
            "Epoch 12/15\n",
            "196/196 [==============================] - 79s 403ms/step - loss: 0.0268 - accuracy: 0.9910 - val_loss: 0.9457 - val_accuracy: 0.8208\n",
            "Epoch 13/15\n",
            "196/196 [==============================] - 80s 407ms/step - loss: 0.0229 - accuracy: 0.9924 - val_loss: 0.9761 - val_accuracy: 0.8091\n",
            "Epoch 14/15\n",
            "196/196 [==============================] - 75s 380ms/step - loss: 0.0164 - accuracy: 0.9945 - val_loss: 1.1209 - val_accuracy: 0.8278\n",
            "Epoch 15/15\n",
            "196/196 [==============================] - 77s 394ms/step - loss: 0.0194 - accuracy: 0.9936 - val_loss: 1.1527 - val_accuracy: 0.8213\n",
            "196/196 [==============================] - 8s 40ms/step - loss: 1.1527 - accuracy: 0.8213\n",
            "Результат при тестировании: 1.1526542901992798\n",
            "Тестовая точность: 0.8213199973106384\n"
          ]
        }
      ]
    }
  ],
  "metadata": {
    "colab": {
      "provenance": [],
      "gpuType": "T4",
      "toc_visible": true
    },
    "kernelspec": {
      "display_name": "Python 3",
      "name": "python3"
    },
    "language_info": {
      "codemirror_mode": {
        "name": "ipython",
        "version": 3
      },
      "file_extension": ".py",
      "mimetype": "text/x-python",
      "name": "python",
      "nbconvert_exporter": "python",
      "pygments_lexer": "ipython3",
      "version": "3.7.7"
    },
    "accelerator": "GPU"
  },
  "nbformat": 4,
  "nbformat_minor": 0
}