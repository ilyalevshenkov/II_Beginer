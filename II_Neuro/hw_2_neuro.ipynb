{
  "cells": [
    {
      "cell_type": "code",
      "execution_count": null,
      "metadata": {
        "id": "Mrn7WhDjppOF"
      },
      "outputs": [],
      "source": [
        "!pip install scikeras[tensorflow] # уже установлен"
      ]
    },
    {
      "cell_type": "code",
      "source": [],
      "metadata": {
        "id": "MpjV1xhJaB0_"
      },
      "execution_count": null,
      "outputs": []
    },
    {
      "cell_type": "code",
      "execution_count": null,
      "metadata": {
        "id": "ULBgiDvquZKv"
      },
      "outputs": [],
      "source": [
        "!pip install mnist"
      ]
    },
    {
      "cell_type": "code",
      "execution_count": null,
      "metadata": {
        "id": "BdtNDP-W6TJi"
      },
      "outputs": [],
      "source": [
        "import numpy as np\n",
        "import pandas as pd\n",
        "import mnist\n",
        "import keras\n",
        "from keras.datasets import fashion_mnist\n",
        "from keras.models import Sequential\n",
        "from keras.layers import Dense, Flatten\n",
        "from keras.utils import to_categorical\n",
        "from scikeras.wrappers import KerasClassifier\n",
        "from sklearn.model_selection import GridSearchCV"
      ]
    },
    {
      "cell_type": "markdown",
      "metadata": {
        "id": "4nVS-PJkBfmC"
      },
      "source": []
    },
    {
      "cell_type": "code",
      "execution_count": null,
      "metadata": {
        "id": "pf6Pmdodye4q"
      },
      "outputs": [],
      "source": [
        "from scikeras.wrappers import KerasClassifier"
      ]
    },
    {
      "cell_type": "markdown",
      "metadata": {
        "id": "7mUHxbyoIDyA"
      },
      "source": [
        "### Building model for digit recognition"
      ]
    },
    {
      "cell_type": "code",
      "execution_count": null,
      "metadata": {
        "id": "AGaj-oayW29B"
      },
      "outputs": [],
      "source": [
        "# import images\n",
        "train_images = mnist.train_images()\n",
        "train_labels = mnist.train_labels()\n",
        "test_images = mnist.test_images()\n",
        "test_labels = mnist.test_labels()\n",
        "\n",
        "# Normalize the images.\n",
        "train_images = (train_images / 255)\n",
        "test_images = (test_images / 255)\n",
        "\n",
        "# Flatten the images.\n",
        "train_images = train_images.reshape((-1, 784))\n",
        "test_images = test_images.reshape((-1, 784))"
      ]
    },
    {
      "cell_type": "code",
      "execution_count": null,
      "metadata": {
        "id": "Zg4q7nst6lva"
      },
      "outputs": [],
      "source": [
        "import matplotlib.pyplot as plt\n",
        "plt.imshow(mnist.train_images()[0]/255)\n",
        "mnist.train_images()[1]/255\n",
        "to_categorical(train_labels)\n",
        "#train_labels"
      ]
    },
    {
      "cell_type": "code",
      "execution_count": null,
      "metadata": {
        "id": "z_EEVFIRcupN"
      },
      "outputs": [],
      "source": [
        "input_shape = (28, 28, 1)"
      ]
    },
    {
      "cell_type": "code",
      "execution_count": null,
      "metadata": {
        "id": "h2z59k90iFdD"
      },
      "outputs": [],
      "source": [
        "(x_train, y_train), (x_test, y_test) = keras.datasets.mnist.load_data()"
      ]
    },
    {
      "cell_type": "code",
      "execution_count": null,
      "metadata": {
        "id": "suqW3jfOjcqg"
      },
      "outputs": [],
      "source": [
        "x_train = x_train / 255\n",
        "x_test = x_test / 255"
      ]
    },
    {
      "cell_type": "code",
      "execution_count": null,
      "metadata": {
        "id": "cPfcJTy6k1by"
      },
      "outputs": [],
      "source": [
        "y_train_cat = keras.utils.to_categorical(y_train, 10)\n",
        "y_test_cat = keras.utils.to_categorical(y_test, 10)"
      ]
    },
    {
      "cell_type": "markdown",
      "metadata": {
        "id": "x--iwIAFGIOp"
      },
      "source": [
        "Создание модели"
      ]
    },
    {
      "cell_type": "code",
      "source": [
        "def create_model(optimizer='adam'):\n",
        "    model = Sequential()\n",
        "    model.add(Dense(64, activation='relu', input_shape=(784,)))\n",
        "    model.add(Dense(64, activation='relu'))\n",
        "    model.add(Dense(10, activation='softmax'))\n",
        "    model.compile(optimizer=optimizer, loss='categorical_crossentropy', metrics=['accuracy'])\n",
        "    return model"
      ],
      "metadata": {
        "id": "gsZpEg2crEl6"
      },
      "execution_count": null,
      "outputs": []
    },
    {
      "cell_type": "markdown",
      "source": [
        "Разделение данных на обучающую и тестовую выборки"
      ],
      "metadata": {
        "id": "rGhpvC4orcRF"
      }
    },
    {
      "cell_type": "code",
      "source": [
        "X_train, X_test, y_train, y_test = train_test_split(train_images, to_categorical(train_labels), test_size=0.2)"
      ],
      "metadata": {
        "id": "PCUlZLW5reBv"
      },
      "execution_count": null,
      "outputs": []
    },
    {
      "cell_type": "markdown",
      "source": [
        "Создание экземпляра модели KerasClassifier"
      ],
      "metadata": {
        "id": "jU8OH-TErq2u"
      }
    },
    {
      "cell_type": "code",
      "source": [
        "model = KerasClassifier(build_fn=create_model, verbose=0)"
      ],
      "metadata": {
        "id": "f5U0G2USrNAj"
      },
      "execution_count": null,
      "outputs": []
    },
    {
      "cell_type": "markdown",
      "source": [
        "Задание параметров для поиска"
      ],
      "metadata": {
        "id": "ZZJ4dLrIrzUV"
      }
    },
    {
      "cell_type": "code",
      "source": [
        "param_grid = {'batch_size': [64, 128, 256],\n",
        "              'epochs': [10, 15, 20],\n",
        "              'optimizer': ['adam', 'sgd', 'rmsprop']}"
      ],
      "metadata": {
        "id": "FBXXBay1r4rX"
      },
      "execution_count": null,
      "outputs": []
    },
    {
      "cell_type": "markdown",
      "source": [
        "Поиск лучших параметров с использованием GridSearchCV"
      ],
      "metadata": {
        "id": "i5XF6kyTr-Iv"
      }
    },
    {
      "cell_type": "code",
      "source": [],
      "metadata": {
        "id": "oxyq7JtBxkf1"
      },
      "execution_count": null,
      "outputs": []
    },
    {
      "cell_type": "markdown",
      "source": [
        "Вывод результатов"
      ],
      "metadata": {
        "id": "-bAj4yiKsPUV"
      }
    },
    {
      "cell_type": "code",
      "source": [
        "print(\"Best: %f using %s\" % (grid_result.best_score_, grid_result.best_params_))"
      ],
      "metadata": {
        "id": "M5mnTMBPsUbi"
      },
      "execution_count": null,
      "outputs": []
    },
    {
      "cell_type": "markdown",
      "source": [],
      "metadata": {
        "id": "Yt4zNBG-scyG"
      }
    },
    {
      "cell_type": "code",
      "execution_count": null,
      "metadata": {
        "id": "p9Jhmk5SjnAF"
      },
      "outputs": [],
      "source": [
        "model_2 = keras.Sequential([\n",
        "\n",
        "    keras.Input(shape=input_shape),\n",
        "    Flatten(),\n",
        "    Dense(90, activation = 'relu'),\n",
        "    Dense(60, activation = 'relu'),\n",
        "    Dense(10, activation = 'softmax')\n",
        "    ] )"
      ]
    },
    {
      "cell_type": "code",
      "execution_count": null,
      "metadata": {
        "id": "Md6Uo7mUjsOZ"
      },
      "outputs": [],
      "source": [
        "model_2.compile(optimizer='RMSprop',\n",
        "             loss='categorical_crossentropy',\n",
        "             metrics=['accuracy'])"
      ]
    },
    {
      "cell_type": "code",
      "execution_count": null,
      "metadata": {
        "id": "Yx0YHJ6xjwqg"
      },
      "outputs": [],
      "source": [
        "%%time\n",
        "\n",
        "history = model_2.fit(x_train, y_train_cat, batch_size=500, epochs=10)"
      ]
    },
    {
      "cell_type": "code",
      "execution_count": null,
      "metadata": {
        "id": "jDJppettvbY9"
      },
      "outputs": [],
      "source": [
        "plt.plot(history.history['accuracy'])\n",
        "plt.title('Точность модели')\n",
        "plt.ylabel('точность')\n",
        "plt.xlabel('количество эпох')\n",
        "plt.show()"
      ]
    },
    {
      "cell_type": "code",
      "execution_count": null,
      "metadata": {
        "id": "m5yR5Fk9vrn_"
      },
      "outputs": [],
      "source": [
        "plt.plot(history.history['loss'])\n",
        "plt.title('Потери модели')\n",
        "plt.ylabel('Потери')\n",
        "plt.xlabel('количество эпох')\n",
        "plt.show()"
      ]
    },
    {
      "cell_type": "code",
      "execution_count": null,
      "metadata": {
        "id": "ac-jdgFDv1P5"
      },
      "outputs": [],
      "source": [
        "model_2.evaluate(x_test, y_test_cat)"
      ]
    },
    {
      "cell_type": "code",
      "execution_count": null,
      "metadata": {
        "id": "cVWER4a0wPFW"
      },
      "outputs": [],
      "source": [
        "%%time\n",
        "\n",
        "history = model_2.fit(x_train, y_train_cat, batch_size=32, epochs=5, validation_data =(x_test, y_test_cat) )"
      ]
    },
    {
      "cell_type": "code",
      "execution_count": null,
      "metadata": {
        "id": "E_G9rNJ9wbJ8"
      },
      "outputs": [],
      "source": [
        "plt.plot(history.history['accuracy'])\n",
        "plt.plot(history.history['val_accuracy'])\n",
        "plt.title('Точность модели')\n",
        "plt.ylabel('точность')\n",
        "plt.xlabel('количество эпох')\n",
        "plt.legend(['train', 'test'], loc='upper left')\n",
        "plt.show()"
      ]
    },
    {
      "cell_type": "code",
      "execution_count": null,
      "metadata": {
        "id": "LTT06XMpwg7k"
      },
      "outputs": [],
      "source": [
        "plt.plot(history.history['loss'])\n",
        "plt.plot(history.history['val_loss'])\n",
        "plt.title('Потери модели')\n",
        "plt.ylabel('Потери')\n",
        "plt.xlabel('количество эпох')\n",
        "plt.legend(['train', 'test'], loc='upper left')\n",
        "plt.show()"
      ]
    },
    {
      "cell_type": "code",
      "execution_count": null,
      "metadata": {
        "id": "NV4rUD5OwpD1"
      },
      "outputs": [],
      "source": [
        "n_rec=35\n",
        "plt.imshow(x_test[n_rec].reshape(28, 28), cmap=plt.cm.binary)\n",
        "plt.show()\n",
        "x = x_test[n_rec]\n",
        "x = np.expand_dims(x, axis=0)\n",
        "\n",
        "prediction = model_2.predict(x)\n",
        "prediction = np.argmax(prediction[0])\n",
        "print(\"1:\", prediction)"
      ]
    },
    {
      "cell_type": "code",
      "execution_count": null,
      "metadata": {
        "id": "TyAghDELZOVL"
      },
      "outputs": [],
      "source": [
        "# Build the model.\n",
        "def create_model(optimizer='adam'):\n",
        "    model = Sequential([\n",
        "      Dense(64, input_shape=(784,), activation='relu'),\n",
        "      Dense(32, activation='relu'),\n",
        "      Dense(10, activation='softmax')\n",
        "    ])\n",
        "\n",
        "    # Compile the model.\n",
        "    model.compile(\n",
        "      optimizer=optimizer,\n",
        "      loss='categorical_crossentropy',\n",
        "      metrics=['accuracy'],\n",
        "    )\n",
        "    return model"
      ]
    },
    {
      "cell_type": "code",
      "execution_count": null,
      "metadata": {
        "id": "FQOY8_8mb_ZI"
      },
      "outputs": [],
      "source": [
        "model = create_model()\n",
        "\n",
        "# Train the model.\n",
        "model.fit(train_images, to_categorical(train_labels), epochs=5, batch_size=32)\n",
        "\n",
        "# Evaluate the model.\n",
        "loss,metrics = model.evaluate(test_images, to_categorical(test_labels))\n",
        "print('**************')\n",
        "print(f'Loss - {np.round(loss,2)}, Metrics - {np.round(metrics,3)}')"
      ]
    },
    {
      "cell_type": "code",
      "execution_count": null,
      "metadata": {
        "id": "o4mMjqT1IMoI"
      },
      "outputs": [],
      "source": [
        "# Predict on the first 10 test images.\n",
        "predictions = model.predict(test_images[:10])\n",
        "\n",
        "# Print our model's predictions.\n",
        "print(f'Predictions: {np.argmax(predictions, axis=1)}')\n",
        "\n",
        "# Check our predictions against the ground truths.\n",
        "print(f'True labels: {test_labels[:10]}')"
      ]
    },
    {
      "cell_type": "markdown",
      "metadata": {
        "id": "4wrbUL7ZrgRQ"
      },
      "source": [
        "#ДОМАШНЕЕ ЗАДАНИЕ\n"
      ]
    },
    {
      "cell_type": "markdown",
      "source": [
        "1.Определение архитектуры модели: Внутри функции создается экземпляр класса `Sequential` - последовательная 3-х слойная НС:\n",
        "1 слой `Dense` с 128 нейронами и функцией активации ReLU. Этот слой принимает входные данные размером `(784,)`, что соответствует плоскому изображению размером 28x28.\n",
        "2 слой `Dense` с 64 нейронами и функцией активации ReLU.\n",
        "3 слой `Dense` с 10 нейронами (по числу классов) и функцией активации softmax, который используется для прогнозирования вероятности принадлежности каждого из классов.\n",
        "2. После определения архитектуры модели она компилируется с помощью метода `compile`. В качестве параметров компиляции указывается оптимизатор (`optimizer`), функция потерь (`loss`) и метрика (`metrics`). Используется оптимизатор `'RMSprop'` (может быть изменен с помощью параметра `optimizer`), категориальная кросс-энтропия в качестве функции потерь и метрика точности (`'accuracy'`).\n",
        "Функция возвращает скомпилированную модель. Она будет использоваться при создании экземпляра `KerasClassifier` для обучения и оценки модели в дальнейшем."
      ],
      "metadata": {
        "id": "2ksPSru7nYEn"
      }
    },
    {
      "cell_type": "markdown",
      "source": [],
      "metadata": {
        "id": "-2wx_FeW57Sx"
      }
    },
    {
      "cell_type": "code",
      "execution_count": null,
      "metadata": {
        "id": "sZP_XxBW3xnE"
      },
      "outputs": [],
      "source": [
        "to_categorical(test_labels)"
      ]
    },
    {
      "cell_type": "code",
      "execution_count": null,
      "metadata": {
        "id": "yNvvg9f_sAGv"
      },
      "outputs": [],
      "source": [
        "\n",
        "dz_model.fit(train_images, to_categorical(train_labels), epochs=5, batch_size=32, validation_split=0.2)\n",
        "\n",
        "# Evaluate the model.\n",
        "loss,metrics = dz_model.evaluate(test_images, to_categorical(test_labels))\n",
        "print('**************')\n",
        "print(f'Loss - {np.round(loss,2)}, Metrics - {np.round(metrics,3)}')"
      ]
    },
    {
      "cell_type": "code",
      "execution_count": null,
      "metadata": {
        "id": "-iqSKKLpD92n"
      },
      "outputs": [],
      "source": [
        "model_2 = my_model()\n",
        "\n",
        "# Train the model.\n",
        "model.fit(train_images, to_categorical(train_labels), epochs=3, batch_size=64, validation_split=0.2)\n",
        "\n",
        "# Evaluate the model.\n",
        "loss,metrics = model.evaluate(test_images, to_categorical(test_labels))\n",
        "print('**************')\n",
        "print(f'Loss - {np.round(loss,2)}, Metrics - {np.round(metrics,3)}')"
      ]
    },
    {
      "cell_type": "code",
      "execution_count": null,
      "metadata": {
        "id": "d6-LwKj0FEBO"
      },
      "outputs": [],
      "source": []
    },
    {
      "cell_type": "code",
      "execution_count": null,
      "metadata": {
        "id": "ZE_3ezhyFE_j"
      },
      "outputs": [],
      "source": [
        "model_3 = my_model()\n",
        "\n",
        "# Train the model.\n",
        "model.fit(train_images, to_categorical(train_labels), epochs=7, batch_size=128, validation_split=0.2)\n",
        "\n",
        "# Evaluate the model.\n",
        "loss,metrics = model.evaluate(test_images, to_categorical(test_labels))\n",
        "print('**************')\n",
        "print(f'Loss - {np.round(loss,2)}, Metrics - {np.round(metrics,3)}')"
      ]
    },
    {
      "cell_type": "code",
      "execution_count": null,
      "metadata": {
        "id": "TIGcLJ8gsS8K"
      },
      "outputs": [],
      "source": [
        "# Predict on the first 10 test images.\n",
        "predictions = model.predict(test_images[:20])\n",
        "\n",
        "# Print our model's predictions.\n",
        "print(f'Predictions: {np.argmax(predictions, axis=1)}')\n",
        "\n",
        "# Check our predictions against the ground truths.\n",
        "print(f'True labels: {test_labels[:20]}')"
      ]
    },
    {
      "cell_type": "code",
      "execution_count": null,
      "metadata": {
        "id": "OFWSJM1NDXZo"
      },
      "outputs": [],
      "source": [
        "plt.figure(figsize=(10, 10))\n",
        "for i in range(25):\n",
        "    plt.subplot(5, 5, i + 1)\n",
        "    plt.xticks([])\n",
        "    plt.yticks([])\n",
        "    plt.grid(False)\n",
        "    plt.imshow(train_images[i], cmap=plt.cm.binary)\n",
        "    plt.xlabel(train_labels[i])\n",
        "plt.show()\n",
        "\n",
        "# Создание модели\n",
        "def create_model(optimizer='adam'):\n",
        "    model = Sequential()\n",
        "    model.add(Dense(64, activation='relu', input_shape=(784,)))\n",
        "    model.add(Dense(64, activation='relu'))\n",
        "    model.add(Dense(10, activation='softmax'))\n",
        "    model.compile(optimizer=optimizer, loss='categorical_crossentropy', metrics=['accuracy'])\n",
        "    return model\n",
        "\n",
        "# Разделение данных на обучающую и тестовую выборки\n",
        "X_train, X_test, y_train, y_test = train_test_split(train_images, to_categorical(train_labels), test_size=0.2)\n",
        "\n",
        "# Создание экземпляра модели KerasClassifier\n",
        "model = KerasClassifier(build_fn=create_model, verbose=0)\n",
        "\n",
        "# Задание параметров для поиска\n",
        "param_grid = {'batch_size': [64, 128, 256],\n",
        "              'epochs': [10, 15, 20],\n",
        "              'optimizer': ['adam', 'sgd', 'rmsprop']}\n",
        "\n",
        "# Поиск лучших параметров с использованием GridSearchCV\n",
        "grid = GridSearchCV(estimator=model, param_grid=param_grid, n_jobs=-1, cv=3, verbose=2)\n",
        "grid_result = grid.fit(X_train.reshape(X_train.shape[0], -1), y_train)\n",
        "\n",
        "# Вывод результатов\n",
        "print(\"Best: %f using %s\" % (grid_result.best_score_, grid_result.best_params_))"
      ]
    },
    {
      "cell_type": "code",
      "execution_count": null,
      "metadata": {
        "id": "od1ewmcMDbWA"
      },
      "outputs": [],
      "source": [
        "batch_size = [70, 80, 90]\n",
        "epochs = [18, 25]\n",
        "optimizer = ['RMSprop', 'Adam']"
      ]
    },
    {
      "cell_type": "code",
      "execution_count": null,
      "metadata": {
        "id": "OC4CZrmVDcs_"
      },
      "outputs": [],
      "source": []
    },
    {
      "cell_type": "code",
      "execution_count": null,
      "metadata": {
        "id": "TQl9xR6KDgnq"
      },
      "outputs": [],
      "source": [
        "model = KerasClassifier(my_model)\n",
        "params= dict(batch_size=batch_size, epochs=epochs, optimizer=optimizer)\n",
        "grid = GridSearchCV(model, params, refit=False, cv=3, scoring='accuracy')\n",
        "grid_result = grid.fit(train_images, to_categorical(train_labels))\n",
        "print(grid_result.best_score_, grid_result.best_params_)"
      ]
    },
    {
      "cell_type": "code",
      "execution_count": null,
      "metadata": {
        "id": "vY7bhe-cJTJy"
      },
      "outputs": [],
      "source": [
        "print(grid_result.best_score_, grid_result.best_params_)"
      ]
    },
    {
      "cell_type": "code",
      "execution_count": null,
      "metadata": {
        "id": "NJ8qDuFLJdxZ"
      },
      "outputs": [],
      "source": [
        "df = pd.DataFrame(grid_result.cv_results_)"
      ]
    },
    {
      "cell_type": "code",
      "execution_count": null,
      "metadata": {
        "id": "w4Mn0o-_Jl4d"
      },
      "outputs": [],
      "source": [
        "df.sort_values(['mean_test_score'],ascending=False)[['param_batch_size','param_epochs','param_optimizer','mean_test_score']].head(10)"
      ]
    },
    {
      "cell_type": "markdown",
      "metadata": {
        "id": "slal29tMKhpf"
      },
      "source": [
        "# Вывод:\n",
        "1 Введение дополнительного скрытого слоя улучшает показатель метрики.   \n",
        "2 Умеренное увеличение количества эпох улучшает показатель метрики.   \n",
        "3 Умеренное увеличение batch_size ускоряет обучение.      \n",
        "4 Наличие валидационной выборки препятствует переобучению.\n",
        "\n",
        "\n",
        "\n"
      ]
    },
    {
      "cell_type": "code",
      "execution_count": null,
      "metadata": {
        "id": "xd59o3f31Dr2"
      },
      "outputs": [],
      "source": [
        "from google.colab import drive\n",
        "drive.mount('/content/drive')"
      ]
    }
  ],
  "metadata": {
    "colab": {
      "provenance": [],
      "toc_visible": true
    },
    "kernelspec": {
      "display_name": "Python 3",
      "name": "python3"
    },
    "language_info": {
      "codemirror_mode": {
        "name": "ipython",
        "version": 3
      },
      "file_extension": ".py",
      "mimetype": "text/x-python",
      "name": "python",
      "nbconvert_exporter": "python",
      "pygments_lexer": "ipython3",
      "version": "3.7.7"
    }
  },
  "nbformat": 4,
  "nbformat_minor": 0
}