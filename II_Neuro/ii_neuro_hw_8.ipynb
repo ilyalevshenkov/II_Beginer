{
  "nbformat": 4,
  "nbformat_minor": 0,
  "metadata": {
    "colab": {
      "provenance": [],
      "toc_visible": true
    },
    "kernelspec": {
      "name": "python3",
      "display_name": "Python 3"
    },
    "language_info": {
      "name": "python"
    }
  },
  "cells": [
    {
      "cell_type": "markdown",
      "source": [
        "## Дз №8. GAN\n",
        "\n",
        "Обучите нейронную сеть любой архитектуры на каком-то производственном датасете. Сделайте анализ того, что вам помогло в улучшения работы нейронной сети.\n",
        "\n",
        "В конце, обязательно подвести вывод.\n",
        "\n",
        "Данная промежуточная аттестация оценивается по системе \"зачет\" / \"не зачет\" Зачет\" ставится, если слушатель успешно выполнил задание 1 или 2 задания \"Незачет\"\" ставится, если слушатель не выплнил 0 заданий"
      ],
      "metadata": {
        "id": "tbuUX7OIdaIz"
      }
    },
    {
      "cell_type": "markdown",
      "source": [
        "Генеративно-состязательная нейросеть (англ. Generative adversarial network, сокращённо GAN) – это модель машинного обучения, умеющая имитировать заданное распределение данных. Впервые модель была предложена в статье NeurIPS 2014 г. экспертом в глубоком обучении Яном Гудфеллоу и его коллегами.\n",
        "\n",
        "GAN состоят из двух нейронных сетей, одна из которых обучена генерировать данные, а другая – отличать смоделированные данные от реальных (отсюда и «состязательный» характер модели). Генеративно-состязательные нейросети показывают впечатляющие результаты в отношении генерации изображений и видео:\n",
        "\n",
        "\n"
      ],
      "metadata": {
        "id": "dUhkSmmMd9hy"
      }
    },
    {
      "cell_type": "markdown",
      "source": [
        "## Архитектура генеративно-состязательных нейросетей\n",
        "\n",
        "Генеративно-состязательная сеть, как мы уже поняли, – это не одна сеть, а две: генератор и дискриминатор. Роль генератора – сгенерировать на основе реальной выборки датасет, напоминающий реальные данные. Дискриминатор обучен оценивать вероятность того, что образец получен из реальных данных, а не предоставлен генератором. Две нейросети играют в кошки-мышки: генератор пытается обмануть дискриминатор, а дискриминатор старается лучше идентифицировать сгенерированные образцы."
      ],
      "metadata": {
        "id": "GL9K1hw4etPb"
      }
    },
    {
      "cell_type": "code",
      "source": [
        "import torch\n",
        "from torch import nn\n",
        "\n",
        "import math\n",
        "import matplotlib.pyplot as plt"
      ],
      "metadata": {
        "id": "XD7uAFrdfIfE"
      },
      "execution_count": 25,
      "outputs": []
    },
    {
      "cell_type": "markdown",
      "source": [
        "Импортируем библиотеку PyTorch (torch). Из библиотеки отдельно импортируем компонент nn для более компактного обращения. Встроенная библиотека math нужна для получения значения константы pi, а упомянутый выше инструмент matplotlib – для построения зависимостей.\n",
        "\n",
        "Генератор случайных чисел нужен, чтобы эксперимент можно было воспроизвести на другой машине. Чтобы сделать это в PyTorch, запустим следующий код:"
      ],
      "metadata": {
        "id": "qYxy5QRWfzXX"
      }
    },
    {
      "cell_type": "code",
      "source": [
        "torch.manual_seed(42)"
      ],
      "metadata": {
        "colab": {
          "base_uri": "https://localhost:8080/"
        },
        "id": "EVXploVXfrim",
        "outputId": "47ef69f4-65d7-466c-c087-b09cc7ad422f"
      },
      "execution_count": 26,
      "outputs": [
        {
          "output_type": "execute_result",
          "data": {
            "text/plain": [
              "<torch._C.Generator at 0x7c42887022b0>"
            ]
          },
          "metadata": {},
          "execution_count": 26
        }
      ]
    },
    {
      "cell_type": "markdown",
      "source": [
        "## Подготовка данных для обучения\n",
        "\n",
        "Обучающая выборка состоит из пар чисел  – таких, что  соответствует значению синуса  для  в интервале от до . Данные для обучения можно получить следующим образом:"
      ],
      "metadata": {
        "id": "rhfR3rRFgpnD"
      }
    },
    {
      "cell_type": "code",
      "source": [
        "train_data_length = 1024\n",
        "train_data = torch.zeros((train_data_length, 2))\n",
        "train_data[:, 0] = 2 * math.pi * torch.rand(train_data_length)\n",
        "train_data[:, 1] = torch.sin(train_data[:, 0])\n",
        "train_labels = torch.zeros(train_data_length)\n",
        "train_set = [\n",
        "    (train_data[i], train_labels[i]) for i in range(train_data_length)]"
      ],
      "metadata": {
        "id": "14JQFSUbgv3e"
      },
      "execution_count": 27,
      "outputs": []
    },
    {
      "cell_type": "markdown",
      "source": [
        "Здесь мы составляем набор данных для обучения, состоящий из 1024 пар (x1;x2). Затем инициализируем нулями train_data – матрицу из 1024 строк и 2 столбцов.\n",
        "\n",
        "Первый столбец train_data заполняем случайными значениями в интервале от 0 до 2Пи. Вычисляем значения второго столбца, как синус от первого.\n",
        "\n",
        "Затем нам формально потребуется массив меток train_labels, который мы передаем загрузчику данных PyTorch. Поскольку GAN реализует метод обучения без учителя, метки могут быть любыми.\n",
        "\n",
        "Наконец, мы создаем из train_data и train_labels список кортежей train_set.\n",
        "\n",
        "Отобразим данные для обучения, нанеся на график каждую точку (x1;x2):"
      ],
      "metadata": {
        "id": "CCZcNT11g-Qc"
      }
    },
    {
      "cell_type": "code",
      "source": [
        "plt.plot(train_data[:, 0], train_data[:, 1], \".\")"
      ],
      "metadata": {
        "colab": {
          "base_uri": "https://localhost:8080/",
          "height": 447
        },
        "id": "pbxMZicIhIte",
        "outputId": "ec8d4174-3b4e-4176-d014-8a6d4e70e147"
      },
      "execution_count": 28,
      "outputs": [
        {
          "output_type": "execute_result",
          "data": {
            "text/plain": [
              "[<matplotlib.lines.Line2D at 0x7c41b00deaa0>]"
            ]
          },
          "metadata": {},
          "execution_count": 28
        },
        {
          "output_type": "display_data",
          "data": {
            "text/plain": [
              "<Figure size 640x480 with 1 Axes>"
            ],
            "image/png": "[encoded data removed]"
          },
          "metadata": {}
        }
      ]
    },
    {
      "cell_type": "markdown",
      "source": [
        "Создадим загрузчик данных с именем train_loader, который будет перетасовывать данные из train_set, возвращая пакеты по 32 образца (batch_size), используемые для обучения нейросети:"
      ],
      "metadata": {
        "id": "tPsWGzBUh78a"
      }
    },
    {
      "cell_type": "code",
      "source": [
        "batch_size = 32\n",
        "train_loader = torch.utils.data.DataLoader(\n",
        "    train_set, batch_size=batch_size, shuffle=True)"
      ],
      "metadata": {
        "id": "mTVyJ7hTh9jo"
      },
      "execution_count": 29,
      "outputs": []
    },
    {
      "cell_type": "markdown",
      "source": [
        "Данные готовы, создаем нейронные сети дискриминатора и генератора GAN."
      ],
      "metadata": {
        "id": "CHLphAqMiFrJ"
      }
    },
    {
      "cell_type": "markdown",
      "source": [
        "## Реализация дискриминатора\n",
        "Дискриминатор – это модель с двумерным входом и одномерным выходом. Он получает выборку из реальных данных или от генератора и предоставляет вероятность того, что выборка относится к реальным обучающим данным. Код ниже показывает, как создать класс дискриминатора:"
      ],
      "metadata": {
        "id": "3GBALXzWiZI-"
      }
    },
    {
      "cell_type": "code",
      "source": [
        "class Discriminator(nn.Module):\n",
        "    def __init__(self):\n",
        "        super().__init__()\n",
        "        self.model = nn.Sequential(\n",
        "            nn.Linear(2, 256),\n",
        "            nn.ReLU(),\n",
        "            nn.Dropout(0.3),\n",
        "            nn.Linear(256, 128),\n",
        "            nn.ReLU(),\n",
        "            nn.Dropout(0.3),\n",
        "            nn.Linear(128, 64),\n",
        "            nn.ReLU(),\n",
        "            nn.Dropout(0.3),\n",
        "            nn.Linear(64, 1),\n",
        "            nn.Sigmoid())\n",
        "\n",
        "    def forward(self, x):\n",
        "        output = self.model(x)\n",
        "        return output"
      ],
      "metadata": {
        "id": "fWG738pziRBP"
      },
      "execution_count": 30,
      "outputs": []
    },
    {
      "cell_type": "markdown",
      "source": [
        "Для построения модели нейронной сети используется стандартный метод классов __init__() . Внутри этого метода мы сначала вызываем super().__init__() для запуска соответствующего метода __init__() наследуемого класса nn.Module. В качестве архитектуры нейросети используется многослойный перцептрон. Его структура послойно задается с помощью nn.Sequential(). Модель имеет следующие характеристики:\n",
        "\n",
        "двумерный вход;\n",
        "первый скрытый слой состоит из 256 нейронов и имеет функцию активации ReLU;\n",
        "в последующих слоях происходит уменьшение числа нейронов до 128 и 64. Вывод имеет сигмоидальную функцию активации, характерную для представления вероятности (Sigmoid);\n",
        "чтобы избежать переобучения, после первого, второго и третьего скрытых слоев, делается дропаут части нейронов (Dropout).\n",
        "Для удобства вывода в классе также создан метод forward(). Здесь x соответствует входу модели. В этой реализации выходные данные получаются путем подачи входных данных x в определенную нами модель без предобработки.\n",
        "\n",
        "После объявления класса дискриминатора создаем его экземпляр:"
      ],
      "metadata": {
        "id": "5wXG0GAOjADQ"
      }
    },
    {
      "cell_type": "code",
      "source": [
        "discriminator = Discriminator()"
      ],
      "metadata": {
        "id": "w7hTW8ZajIeZ"
      },
      "execution_count": 31,
      "outputs": []
    },
    {
      "cell_type": "markdown",
      "source": [
        "## Реализация генератора\n",
        "\n",
        "В генеративно-состязательных сетях генератор – это модель, которая берет в качестве входных данных некоторую выборку из пространства скрытых переменных, напоминающих данные в обучающем наборе. В нашем случае это модель с двумерным вводом, которая будет получать случайные точки (), и двумерный вывод, выдающий точки (), похожие на точки из обучающих данных.\n",
        "\n",
        "Реализация похожа на то, что мы написали для дискриминатора. Сначала нужно создать класс Generator, наследуемый от nn.Module, затем определить архитектуру нейронной сети, и, наконец, создать экземпляр объекта Generator:"
      ],
      "metadata": {
        "id": "P0bIXZTKjOY5"
      }
    },
    {
      "cell_type": "code",
      "source": [
        "class Generator(nn.Module):\n",
        "    def __init__(self):\n",
        "        super().__init__()\n",
        "        self.model = nn.Sequential(\n",
        "            nn.Linear(2, 16),\n",
        "            nn.ReLU(),\n",
        "            nn.Linear(16, 32),\n",
        "            nn.ReLU(),\n",
        "            nn.Linear(32, 2))\n",
        "\n",
        "    def forward(self, x):\n",
        "        output = self.model(x)\n",
        "        return output\n",
        "\n",
        "generator = Generator()"
      ],
      "metadata": {
        "id": "gRvMKOxyjXfy"
      },
      "execution_count": 32,
      "outputs": []
    },
    {
      "cell_type": "markdown",
      "source": [
        "Генератор включает два скрытых слоя с 16 и 32 нейронами с функцией активацией ReLU, а на выходе слой с двумя нейронами с линейной функцией активации. Таким образом, выходные данные будут состоять из двух элементов, имеющих значение в диапазоне от  до , которое будет представлять . То есть исходно мы не накладываем на генератор никакие ограничения – он должен «всему научиться сам».\n",
        "\n",
        "Теперь, когда мы определили модели для дискриминатора и генератора, мы готовы начать обучение."
      ],
      "metadata": {
        "id": "QwB3Kj5hjlVU"
      }
    },
    {
      "cell_type": "markdown",
      "source": [
        "## Обучение моделей\n",
        "\n",
        "Перед обучением моделей необходимо настроить параметры, которые будут использоваться в процессе обучения:"
      ],
      "metadata": {
        "id": "3toe7uoqjuDP"
      }
    },
    {
      "cell_type": "code",
      "source": [
        "lr = 0.001\n",
        "num_epochs = 300\n",
        "loss_function = nn.BCELoss()"
      ],
      "metadata": {
        "id": "4u7NMRpyjm0O"
      },
      "execution_count": 33,
      "outputs": []
    },
    {
      "cell_type": "markdown",
      "source": [
        "Задаем скорость обучения lr (learning rate), которую мы будем использовать для адаптации весов сети.\n",
        "Задаем количество эпох num_epochs, которое определяет, сколько повторений процесса обучения будет выполнено с использованием всего датасета.\n",
        "Переменной loss_function мы назначаем функцию логистической функции потерь (бинарной перекрестной энтропии) BCELoss(). Это та функция потерь, которую мы будем использовать для обучения моделей. Она подходит как для обучения дискриминатора (его задача сводится к бинарной классификации), так и для генератора, так как он подает свой вывод на вход дискриминатора.\n",
        "Правила обновления весов (обучения модели) в PyTorch реализованы в модуле torch.optim. Мы будем использовать для обучения моделей дискриминатора и генератора алгоритм стохастического градиентного спуска Аdam. Чтобы создать оптимизаторы с помощью torch.optim, запустим следующий код:"
      ],
      "metadata": {
        "id": "ganzvxDakS1P"
      }
    },
    {
      "cell_type": "code",
      "source": [
        "optimizer_discriminator = torch.optim.Adam(discriminator.parameters(), lr=lr)\n",
        "optimizer_generator = torch.optim.Adam(generator.parameters(), lr=lr)"
      ],
      "metadata": {
        "id": "fN-fIJ67kbSE"
      },
      "execution_count": 34,
      "outputs": []
    },
    {
      "cell_type": "markdown",
      "source": [
        "Рализуем обучающий цикл, в котором образцы обучающей выборки подаются на вход модели, а их веса обновляются, минимизируя функцию потерь:"
      ],
      "metadata": {
        "id": "2JJkSc3akmd0"
      }
    },
    {
      "cell_type": "code",
      "source": [
        "for epoch in range(num_epochs):\n",
        "    for n, (real_samples, _) in enumerate(train_loader):\n",
        "        # Данные для обучения дискриминатора\n",
        "        real_samples_labels = torch.ones((batch_size, 1))\n",
        "        latent_space_samples = torch.randn((batch_size, 2))\n",
        "        generated_samples = generator(latent_space_samples)\n",
        "        generated_samples_labels = torch.zeros((batch_size, 1))\n",
        "        all_samples = torch.cat((real_samples, generated_samples))\n",
        "        all_samples_labels = torch.cat(\n",
        "            (real_samples_labels, generated_samples_labels))\n",
        "\n",
        "        # Обучение дискриминатора\n",
        "        discriminator.zero_grad()\n",
        "        output_discriminator = discriminator(all_samples)\n",
        "        loss_discriminator = loss_function(\n",
        "            output_discriminator, all_samples_labels)\n",
        "        loss_discriminator.backward()\n",
        "        optimizer_discriminator.step()\n",
        "\n",
        "        # Данные для обучения генератора\n",
        "        latent_space_samples = torch.randn((batch_size, 2))\n",
        "\n",
        "        # Обучение генератора\n",
        "        generator.zero_grad()\n",
        "        generated_samples = generator(latent_space_samples)\n",
        "        output_discriminator_generated = discriminator(generated_samples)\n",
        "        loss_generator = loss_function(\n",
        "            output_discriminator_generated, real_samples_labels)\n",
        "        loss_generator.backward()\n",
        "        optimizer_generator.step()\n",
        "\n",
        "        # Выводим значения функций потерь\n",
        "        if epoch % 10 == 0 and n == batch_size - 1:\n",
        "            print(f\"Epoch: {epoch} Loss D.: {loss_discriminator}\")\n",
        "            print(f\"Epoch: {epoch} Loss G.: {loss_generator}\")"
      ],
      "metadata": {
        "colab": {
          "base_uri": "https://localhost:8080/"
        },
        "id": "vbG9tMHskoT6",
        "outputId": "69b716dc-bf80-45a9-f0f8-1c03e6439eea"
      },
      "execution_count": 20,
      "outputs": [
        {
          "output_type": "stream",
          "name": "stdout",
          "text": [
            "Epoch: 0 Loss D.: 0.08785366266965866\n",
            "Epoch: 0 Loss G.: 2.6136231422424316\n",
            "Epoch: 10 Loss D.: 0.5747854113578796\n",
            "Epoch: 10 Loss G.: 1.0368272066116333\n",
            "Epoch: 20 Loss D.: 0.6020129323005676\n",
            "Epoch: 20 Loss G.: 0.9719729423522949\n",
            "Epoch: 30 Loss D.: 0.7193511128425598\n",
            "Epoch: 30 Loss G.: 0.7410592436790466\n",
            "Epoch: 40 Loss D.: 0.6888236403465271\n",
            "Epoch: 40 Loss G.: 0.7364055514335632\n",
            "Epoch: 50 Loss D.: 0.6827205419540405\n",
            "Epoch: 50 Loss G.: 0.7755930423736572\n",
            "Epoch: 60 Loss D.: 0.7062445878982544\n",
            "Epoch: 60 Loss G.: 0.6951789259910583\n",
            "Epoch: 70 Loss D.: 0.6769972443580627\n",
            "Epoch: 70 Loss G.: 0.6815096139907837\n",
            "Epoch: 80 Loss D.: 0.6979103088378906\n",
            "Epoch: 80 Loss G.: 0.6745850443840027\n",
            "Epoch: 90 Loss D.: 0.7083138227462769\n",
            "Epoch: 90 Loss G.: 0.7205031514167786\n",
            "Epoch: 100 Loss D.: 0.576349675655365\n",
            "Epoch: 100 Loss G.: 1.1825348138809204\n",
            "Epoch: 110 Loss D.: 0.684785008430481\n",
            "Epoch: 110 Loss G.: 0.6968382000923157\n",
            "Epoch: 120 Loss D.: 0.6994572281837463\n",
            "Epoch: 120 Loss G.: 0.7992955446243286\n",
            "Epoch: 130 Loss D.: 0.662631630897522\n",
            "Epoch: 130 Loss G.: 0.7834529876708984\n",
            "Epoch: 140 Loss D.: 0.7002421021461487\n",
            "Epoch: 140 Loss G.: 0.686761200428009\n",
            "Epoch: 150 Loss D.: 0.6184552907943726\n",
            "Epoch: 150 Loss G.: 0.7155925035476685\n",
            "Epoch: 160 Loss D.: 0.7046806216239929\n",
            "Epoch: 160 Loss G.: 0.7063021659851074\n",
            "Epoch: 170 Loss D.: 0.7277030944824219\n",
            "Epoch: 170 Loss G.: 0.7193365693092346\n",
            "Epoch: 180 Loss D.: 0.6889139413833618\n",
            "Epoch: 180 Loss G.: 0.7492830753326416\n",
            "Epoch: 190 Loss D.: 0.7302551865577698\n",
            "Epoch: 190 Loss G.: 0.726380467414856\n",
            "Epoch: 200 Loss D.: 0.6498454213142395\n",
            "Epoch: 200 Loss G.: 0.7456287145614624\n",
            "Epoch: 210 Loss D.: 0.6508671045303345\n",
            "Epoch: 210 Loss G.: 0.7002748250961304\n",
            "Epoch: 220 Loss D.: 0.6572703123092651\n",
            "Epoch: 220 Loss G.: 0.8980107307434082\n",
            "Epoch: 230 Loss D.: 0.6559883952140808\n",
            "Epoch: 230 Loss G.: 0.7709532976150513\n",
            "Epoch: 240 Loss D.: 0.668006956577301\n",
            "Epoch: 240 Loss G.: 0.7753021121025085\n",
            "Epoch: 250 Loss D.: 0.6527236700057983\n",
            "Epoch: 250 Loss G.: 0.6981896758079529\n",
            "Epoch: 260 Loss D.: 0.7009717226028442\n",
            "Epoch: 260 Loss G.: 0.7416746616363525\n",
            "Epoch: 270 Loss D.: 0.6768797039985657\n",
            "Epoch: 270 Loss G.: 0.7253010272979736\n",
            "Epoch: 280 Loss D.: 0.7196172475814819\n",
            "Epoch: 280 Loss G.: 0.7242663502693176\n",
            "Epoch: 290 Loss D.: 0.6520311832427979\n",
            "Epoch: 290 Loss G.: 0.7528934478759766\n"
          ]
        }
      ]
    },
    {
      "cell_type": "markdown",
      "source": [
        "На каждой эпохе обучения мы обновляем параметры дискриминатора и генератора. Как это обычно делается для нейронных сетей, учебный процесс состоит из двух вложенных циклов: внешний – для эпох обучения, а внутренний – для пакетов внутри каждой эпохи. Во внутреннем цикле всё начинается с подготовки данных для обучения дискриминатора:\n",
        "\n",
        "Получаем реальные образцы текущей партии из загрузчика данных и назначаем их переменной real_samples. Обратите внимание, что первое измерение в размерности массива имеет количество элементов, равное batch_size. Это стандартный способ организации данных в PyTorch, где каждая строка тензора представляет один образец из пакета.\n",
        "Используем torch.ones() для создания меток со значением 1 для реальных образцов и назначаем метки переменной real_samples_labels.\n",
        "Генерируем образцы, сохраняя случайные данные в latent_space_samples, которые затем передаем в генератор для получения generate_samples. Для меток сгенерированных образцов мы используем нули torch.zeros(), которые сохраняем в generate_samples_labels.\n",
        "Остается объединить реальные и сгенерированные образцы и метки и сохранить соответственно в all_samples и all_samples_labels.\n"
      ],
      "metadata": {
        "id": "oOWaUdEWlMIO"
      }
    },
    {
      "cell_type": "markdown",
      "source": [
        "В следующем блоке мы обучаем дискриминатор:\n",
        "\n",
        "В PyTorch важно на каждом шаге обучения очищать значения градиентов. Мы делаем это с помощью метода zero_grad().\n",
        "Вычисляем выходные данные дискриминатора, используя обучающие данные all_samples.\n",
        "Вычисляем значение функции потерь, используя выходные данные в output_discriminator и метки all_samples_labels.\n",
        "Вычисляем градиенты для обновления весов с помощью loss_discriminator.backward().\n",
        "Находим обновленные веса дискриминатора, вызывая optimizer_discriminator.step().\n",
        "Подготавливаем данные для обучения генератора. Рандомизированные данные хранятся в latent_space_samples, количеством строк равно batch_size. Используем два столбца, чтобы данные соответствовали двумерным данным на входе генератора.\n"
      ],
      "metadata": {
        "id": "7S-a4Nv6lU1q"
      }
    },
    {
      "cell_type": "markdown",
      "source": [
        "Тренируем генератор:\n",
        "\n",
        "Очищаем градиенты с помощью метода zero_grad().\n",
        "Передаем генератору latent_space_samples и сохраняем его выходные данные в generate_samples.\n",
        "Передаем выходные данные генератора в дискриминатор и сохраняем его выходные данные в output_discriminator_generated, который будет использоваться в качестве выходных данных всей модели.\n",
        "Вычисляем функцию потерь, используя выходные данные системы классификации, сохраненные в output_discriminator_generated и метки real_samples_labels, равные 1.\n",
        "Рассчитываем градиенты и обновляем веса генератора. Помните, что когда мы обучаем генератор, мы сохраняем веса дискриминатора в замороженном состоянии.\n",
        "Наконец, в последних строчках цикла происходит вывод значения функций потерь дискриминатора и генератора в конце каждой десятой эпохи.\n",
        "\n"
      ],
      "metadata": {
        "id": "TFnkYAzGldPi"
      }
    },
    {
      "cell_type": "markdown",
      "source": [
        "##Проверка образцов, сгенерированных GAN\n",
        "\n",
        "Генеративно-состязательные сети предназначены для генерации данных, поэтому после того как процесс обучения завершен, мы можем вызвать генератор для получения новых данных:"
      ],
      "metadata": {
        "id": "J0G-v4mGlmgE"
      }
    },
    {
      "cell_type": "code",
      "source": [
        "latent_space_samples = torch.randn(100, 2)\n",
        "generated_samples = generator(latent_space_samples)"
      ],
      "metadata": {
        "id": "-Ii85Q_Al60J"
      },
      "execution_count": 23,
      "outputs": []
    },
    {
      "cell_type": "markdown",
      "source": [
        "Построим сгенерированные данные и проверим, насколько они похожи на обучающие данные. Перед построением графика для сгенерированных образцов необходимо применить .detach(), чтобы получить необходимые данные из вычислительного графа PyTorch:"
      ],
      "metadata": {
        "id": "6w8M14fYmBj1"
      }
    },
    {
      "cell_type": "code",
      "source": [
        "generated_samples = generated_samples.detach()\n",
        "plt.plot(generated_samples[:, 0], generated_samples[:, 1], \".\")"
      ],
      "metadata": {
        "colab": {
          "base_uri": "https://localhost:8080/",
          "height": 447
        },
        "id": "OPEPyamdmFXS",
        "outputId": "c79fc28e-8fa9-4c56-ecc4-7472f5bd75a7"
      },
      "execution_count": 24,
      "outputs": [
        {
          "output_type": "execute_result",
          "data": {
            "text/plain": [
              "[<matplotlib.lines.Line2D at 0x7c41b002d030>]"
            ]
          },
          "metadata": {},
          "execution_count": 24
        },
        {
          "output_type": "display_data",
          "data": {
            "text/plain": [
              "<Figure size 640x480 with 1 Axes>"
            ],
            "image/png": "[encoded data removed]"
          },
          "metadata": {}
        }
      ]
    },
    {
      "cell_type": "markdown",
      "source": [
        "Распределение сгенерированных данных очень напоминает реальные данные – исходный синус."
      ],
      "metadata": {
        "id": "mVIJ5Nuam_0E"
      }
    },
    {
      "cell_type": "markdown",
      "source": [
        "## Генератор рукописных цифр с GAN\n",
        "Когда мы реализовали первую модель генеративно-состязательной сети, мы можем перейти к практическому примеру с генерацией изображений.\n",
        "В\n",
        "оспользуемся GAN для генерации изображений рукописных цифр. Для этого мы обучим модели, используя набор данных MNIST), состоящий из рукописных цифр. Этот стандартный набор данных включен в пакет torchvision."
      ],
      "metadata": {
        "id": "_4gm8pY-nRVL"
      }
    },
    {
      "cell_type": "code",
      "source": [
        "import torchvision\n",
        "import torchvision.transforms as transforms\n",
        "\n",
        "torch.manual_seed(111)"
      ],
      "metadata": {
        "colab": {
          "base_uri": "https://localhost:8080/"
        },
        "id": "I2EwbNkIlzPg",
        "outputId": "9dc4de5e-3f84-4d63-fbad-258b0a22a698"
      },
      "execution_count": 35,
      "outputs": [
        {
          "output_type": "execute_result",
          "data": {
            "text/plain": [
              "<torch._C.Generator at 0x7c42887022b0>"
            ]
          },
          "metadata": {},
          "execution_count": 35
        }
      ]
    },
    {
      "cell_type": "code",
      "source": [
        "device = \"\"\n",
        "if torch.cuda.is_available():\n",
        "    device = torch.device(\"cuda\")\n",
        "else:\n",
        "    device = torch.device(\"cpu\")"
      ],
      "metadata": {
        "id": "eS3lXT0OnzQN"
      },
      "execution_count": 36,
      "outputs": []
    },
    {
      "cell_type": "markdown",
      "source": [
        "## Подготовка датасета MNIST\n",
        "\n",
        "Набор данных MNIST состоит из изображений написанных от руки цифр от 0 до 9. Изображения выполнены в градациях серого и имеют размер 28 × 28 пикселей. Чтобы использовать их с PyTorch, понадобится выполнить преобразования. Для этого определим функцию transform, используемую при загрузке данных:"
      ],
      "metadata": {
        "id": "HVyjpL9Qn6T-"
      }
    },
    {
      "cell_type": "code",
      "source": [
        "transform = transforms.Compose(\n",
        "    [transforms.ToTensor(), transforms.Normalize((0.5,), (0.5,))])"
      ],
      "metadata": {
        "id": "8Dd0BET7n98a"
      },
      "execution_count": 37,
      "outputs": []
    },
    {
      "cell_type": "markdown",
      "source": [
        "Функция состоит из двух частей:\n",
        "\n",
        "transforms.ToTensor() преобразует данные в тензор PyTorch.\n",
        "transforms.Normalize() преобразует диапазон тензорных коэффициентов.\n",
        "Исходные коэффициенты, заданные функцией transforms.ToTensor(), находятся в диапазоне от 0 до 1. Поскольку изображения имеют черный фон, большинство коэффициентов равны 0.\n",
        "\n"
      ],
      "metadata": {
        "id": "PoSaBQGQoRv1"
      }
    },
    {
      "cell_type": "markdown",
      "source": [
        "Функция transforms.Normalize() изменяет диапазон коэффициентов на , вычитая 0.5 из исходных коэффициентов и деля результат на 0.5. Преобразование сокращает количество элементов входных выборок, равных 0. Это помогает в обучении моделей.\n",
        "\n",
        "Теперь можно загрузить обучающие данные, вызвав torchvision.datasets.MNIST:"
      ],
      "metadata": {
        "id": "OidoydM0obJZ"
      }
    },
    {
      "cell_type": "code",
      "source": [
        "train_set = torchvision.datasets.MNIST(\n",
        "    root=\".\", train=True, download=True, transform=transform)"
      ],
      "metadata": {
        "colab": {
          "base_uri": "https://localhost:8080/"
        },
        "id": "U3yBQUJNocmN",
        "outputId": "6fb9c746-e525-4659-9dd7-44c4e64ca028"
      },
      "execution_count": 38,
      "outputs": [
        {
          "output_type": "stream",
          "name": "stdout",
          "text": [
            "Downloading http://yann.lecun.com/exdb/mnist/train-images-idx3-ubyte.gz\n",
            "Downloading http://yann.lecun.com/exdb/mnist/train-images-idx3-ubyte.gz to ./MNIST/raw/train-images-idx3-ubyte.gz\n",
            "Failed to download (trying next):\n",
            "HTTP Error 503: Service Unavailable\n",
            "\n",
            "Downloading https://ossci-datasets.s3.amazonaws.com/mnist/train-images-idx3-ubyte.gz\n",
            "Downloading https://ossci-datasets.s3.amazonaws.com/mnist/train-images-idx3-ubyte.gz to ./MNIST/raw/train-images-idx3-ubyte.gz\n"
          ]
        },
        {
          "output_type": "stream",
          "name": "stderr",
          "text": [
            "100%|██████████| 9912422/9912422 [00:00<00:00, 41443795.64it/s]\n"
          ]
        },
        {
          "output_type": "stream",
          "name": "stdout",
          "text": [
            "Extracting ./MNIST/raw/train-images-idx3-ubyte.gz to ./MNIST/raw\n",
            "\n",
            "Downloading http://yann.lecun.com/exdb/mnist/train-labels-idx1-ubyte.gz\n",
            "Failed to download (trying next):\n",
            "HTTP Error 503: Service Unavailable\n",
            "\n",
            "Downloading https://ossci-datasets.s3.amazonaws.com/mnist/train-labels-idx1-ubyte.gz\n",
            "Downloading https://ossci-datasets.s3.amazonaws.com/mnist/train-labels-idx1-ubyte.gz to ./MNIST/raw/train-labels-idx1-ubyte.gz\n"
          ]
        },
        {
          "output_type": "stream",
          "name": "stderr",
          "text": [
            "100%|██████████| 28881/28881 [00:00<00:00, 1081955.11it/s]\n"
          ]
        },
        {
          "output_type": "stream",
          "name": "stdout",
          "text": [
            "Extracting ./MNIST/raw/train-labels-idx1-ubyte.gz to ./MNIST/raw\n",
            "\n",
            "Downloading http://yann.lecun.com/exdb/mnist/t10k-images-idx3-ubyte.gz\n",
            "Downloading http://yann.lecun.com/exdb/mnist/t10k-images-idx3-ubyte.gz to ./MNIST/raw/t10k-images-idx3-ubyte.gz\n",
            "Failed to download (trying next):\n",
            "HTTP Error 503: Service Unavailable\n",
            "\n",
            "Downloading https://ossci-datasets.s3.amazonaws.com/mnist/t10k-images-idx3-ubyte.gz\n",
            "Downloading https://ossci-datasets.s3.amazonaws.com/mnist/t10k-images-idx3-ubyte.gz to ./MNIST/raw/t10k-images-idx3-ubyte.gz\n"
          ]
        },
        {
          "output_type": "stream",
          "name": "stderr",
          "text": [
            "100%|██████████| 1648877/1648877 [00:00<00:00, 9589688.28it/s]\n"
          ]
        },
        {
          "output_type": "stream",
          "name": "stdout",
          "text": [
            "Extracting ./MNIST/raw/t10k-images-idx3-ubyte.gz to ./MNIST/raw\n",
            "\n",
            "Downloading http://yann.lecun.com/exdb/mnist/t10k-labels-idx1-ubyte.gz\n",
            "Downloading http://yann.lecun.com/exdb/mnist/t10k-labels-idx1-ubyte.gz to ./MNIST/raw/t10k-labels-idx1-ubyte.gz\n"
          ]
        },
        {
          "output_type": "stream",
          "name": "stderr",
          "text": [
            "100%|██████████| 4542/4542 [00:00<00:00, 13520602.39it/s]"
          ]
        },
        {
          "output_type": "stream",
          "name": "stdout",
          "text": [
            "Extracting ./MNIST/raw/t10k-labels-idx1-ubyte.gz to ./MNIST/raw\n",
            "\n"
          ]
        },
        {
          "output_type": "stream",
          "name": "stderr",
          "text": [
            "\n"
          ]
        }
      ]
    },
    {
      "cell_type": "code",
      "source": [
        "batch_size = 32\n",
        "train_loader = torch.utils.data.DataLoader(\n",
        "    train_set, batch_size=batch_size, shuffle=True)"
      ],
      "metadata": {
        "id": "gq64s5xLosmy"
      },
      "execution_count": 39,
      "outputs": []
    },
    {
      "cell_type": "markdown",
      "source": [
        "Для избирательного построения данных воспользуемся matplotlib. В качестве палитры хорошо подходит cmap = gray_r. Цифры будут изображаться черным цветом на белом фоне:"
      ],
      "metadata": {
        "id": "x6Dohf2foz-O"
      }
    },
    {
      "cell_type": "code",
      "source": [
        "real_samples, mnist_labels = next(iter(train_loader))\n",
        "for i in range(16):\n",
        "    ax = plt.subplot(4, 4, i + 1)\n",
        "    plt.imshow(real_samples[i].reshape(28, 28), cmap=\"gray_r\")\n",
        "    plt.xticks([])\n",
        "    plt.yticks([])"
      ],
      "metadata": {
        "colab": {
          "base_uri": "https://localhost:8080/",
          "height": 406
        },
        "id": "eCWQQm2jo4fZ",
        "outputId": "946f6bf8-84e9-443b-e6c3-037d411876c1"
      },
      "execution_count": 41,
      "outputs": [
        {
          "output_type": "display_data",
          "data": {
            "text/plain": [
              "<Figure size 640x480 with 16 Axes>"
            ],
            "image/png": "[encoded data removed]"
          },
          "metadata": {}
        }
      ]
    },
    {
      "cell_type": "markdown",
      "source": [
        "##Реализация дискриминатора и генератора\n",
        "\n",
        "После подготовки обучающих данных, можно реализовать модели дискриминатора и генератора.\n",
        "В рассматриваемом случае дискриминатором является нейронная сеть многослойного перцептрона, которая принимает изображение размером 28 × 28 пикселей и находит вероятность того, что изображение принадлежит реальным обучающим данным.\n",
        "\n",
        "Модель можно определить с помощью следующего кода:"
      ],
      "metadata": {
        "id": "NiZEkkx3pNgf"
      }
    },
    {
      "cell_type": "code",
      "source": [
        "class Discriminator(nn.Module):\n",
        "    def __init__(self):\n",
        "        super().__init__()\n",
        "        self.model = nn.Sequential(\n",
        "            nn.Linear(784, 1024),\n",
        "            nn.ReLU(),\n",
        "            nn.Dropout(0.3),\n",
        "            nn.Linear(1024, 512),\n",
        "            nn.ReLU(),\n",
        "            nn.Dropout(0.3),\n",
        "            nn.Linear(512, 256),\n",
        "            nn.ReLU(),\n",
        "            nn.Dropout(0.3),\n",
        "            nn.Linear(256, 1),\n",
        "            nn.Sigmoid(),\n",
        "        )\n",
        "\n",
        "    def forward(self, x):\n",
        "        x = x.view(x.size(0), 784)\n",
        "        output = self.model(x)\n",
        "        return output"
      ],
      "metadata": {
        "id": "iV4fGuSBoup6"
      },
      "execution_count": 42,
      "outputs": []
    },
    {
      "cell_type": "markdown",
      "source": [
        "Чтобы ввести коэффициенты изображения в нейронную сеть перцептрона, необходимо их векторизовать так, чтобы нейронная сеть получала вектор, состоящий из 784 коэффициентов (28 × 28 = 784).\n",
        "\n",
        "Векторизация происходит в первой строке метода forward() – вызов x.view() преобразует форму входного тензора. Исходная форма тензора  – 32 × 1 × 28 × 28, где 32 – размер партии. После преобразования форма  становится равной 32 × 784, причем каждая строка представляет коэффициенты изображения обучающего набора.\n",
        "\n",
        "Чтобы запустить модель дискриминатора с использованием графического процессора, нужно создать его экземпляр и связать с объектом устройства с помощью метода .to():"
      ],
      "metadata": {
        "id": "OIWtA8z2pl8k"
      }
    },
    {
      "cell_type": "code",
      "source": [
        "discriminator = Discriminator().to(device=device)"
      ],
      "metadata": {
        "id": "otKn4OyOpuPz"
      },
      "execution_count": 43,
      "outputs": []
    },
    {
      "cell_type": "markdown",
      "source": [
        "Генератор будет создавать более сложные данные, чем в предыдущем примере. Поэтому необходимо увеличить размеры входных данных, используемых для инициализации. Здесь мы используем 100-мерный вход и выход с 784 коэффициентами. Результат организуется в виде тензора 28 × 28, представляющего изображение."
      ],
      "metadata": {
        "id": "cSat3Slzp0Ac"
      }
    },
    {
      "cell_type": "code",
      "source": [
        "class Generator(nn.Module):\n",
        "    def __init__(self):\n",
        "        super().__init__()\n",
        "        self.model = nn.Sequential(\n",
        "            nn.Linear(100, 256),\n",
        "            nn.ReLU(),\n",
        "            nn.Linear(256, 512),\n",
        "            nn.ReLU(),\n",
        "            nn.Linear(512, 1024),\n",
        "            nn.ReLU(),\n",
        "            nn.Linear(1024, 784),\n",
        "            nn.Tanh(),\n",
        "        )\n",
        "\n",
        "    def forward(self, x):\n",
        "        output = self.model(x)\n",
        "        output = output.view(x.size(0), 1, 28, 28)\n",
        "        return output\n",
        "\n",
        "generator = Generator().to(device=device)"
      ],
      "metadata": {
        "id": "oVTtoqyhp5fj"
      },
      "execution_count": 44,
      "outputs": []
    },
    {
      "cell_type": "markdown",
      "source": [
        "Выходные коэффициенты должны находиться в интервале от -1 до 1. Поэтому на выходе генератора мы используем гиперболическую функцию активации Tanh(). В последней строке мы создаем экземпляр генератора и связываем его с объектом устройства."
      ],
      "metadata": {
        "id": "4a9SriHzqI21"
      }
    },
    {
      "cell_type": "markdown",
      "source": [
        "##Обучение моделей\n",
        "\n",
        "Для обучения моделей нужно определить параметры обучения и оптимизаторы:"
      ],
      "metadata": {
        "id": "55wYWqFxqKQ7"
      }
    },
    {
      "cell_type": "code",
      "source": [
        "lr = 0.0001\n",
        "num_epochs = 100\n",
        "loss_function = nn.BCELoss()\n",
        "\n",
        "optimizer_discriminator = torch.optim.Adam(discriminator.parameters(), lr=lr)\n",
        "optimizer_generator = torch.optim.Adam(generator.parameters(), lr=lr)"
      ],
      "metadata": {
        "id": "wwbqRJdlqUQH"
      },
      "execution_count": 45,
      "outputs": []
    },
    {
      "cell_type": "markdown",
      "source": [
        "Чтобы получить лучший результат, мы уменьшаем скорость обучения по сравнению с предыдущим примером. Чтобы сократить время обучения, устанавливаем количество эпох равным 50."
      ],
      "metadata": {
        "id": "hJVMFKHgqaxJ"
      }
    },
    {
      "cell_type": "code",
      "source": [
        "for epoch in range(num_epochs):\n",
        "    for n, (real_samples, mnist_labels) in enumerate(train_loader):\n",
        "        # Данные для тренировки дискриминатора\n",
        "        real_samples = real_samples.to(device=device)\n",
        "        real_samples_labels = torch.ones((batch_size, 1)).to(\n",
        "            device=device)\n",
        "        latent_space_samples = torch.randn((batch_size, 100)).to(\n",
        "            device=device)\n",
        "        generated_samples = generator(latent_space_samples)\n",
        "        generated_samples_labels = torch.zeros((batch_size, 1)).to(\n",
        "            device=device)\n",
        "        all_samples = torch.cat((real_samples, generated_samples))\n",
        "        all_samples_labels = torch.cat(\n",
        "            (real_samples_labels, generated_samples_labels))\n",
        "\n",
        "        # Обучение дискриминатора\n",
        "        discriminator.zero_grad()\n",
        "        output_discriminator = discriminator(all_samples)\n",
        "        loss_discriminator = loss_function(\n",
        "            output_discriminator, all_samples_labels)\n",
        "        loss_discriminator.backward()\n",
        "        optimizer_discriminator.step()\n",
        "\n",
        "        # Данные для обучения генератора\n",
        "        latent_space_samples = torch.randn((batch_size, 100)).to(\n",
        "            device=device)\n",
        "\n",
        "        # Обучение генератора\n",
        "        generator.zero_grad()\n",
        "        generated_samples = generator(latent_space_samples)\n",
        "        output_discriminator_generated = discriminator(generated_samples)\n",
        "        loss_generator = loss_function(\n",
        "            output_discriminator_generated, real_samples_labels)\n",
        "        loss_generator.backward()\n",
        "        optimizer_generator.step()\n",
        "\n",
        "        # Показываем loss\n",
        "        if n == batch_size - 1:\n",
        "            print(f\"Epoch: {epoch} Loss D.: {loss_discriminator}\")\n",
        "            print(f\"Epoch: {epoch} Loss G.: {loss_generator}\")"
      ],
      "metadata": {
        "colab": {
          "base_uri": "https://localhost:8080/"
        },
        "id": "Xu_X5UPqqDN8",
        "outputId": "d93227ab-7c2f-4e4b-d974-380015f1bf86"
      },
      "execution_count": null,
      "outputs": [
        {
          "output_type": "stream",
          "name": "stdout",
          "text": [
            "Epoch: 0 Loss D.: 0.6093966364860535\n",
            "Epoch: 0 Loss G.: 0.44796624779701233\n",
            "Epoch: 1 Loss D.: 0.13803152740001678\n",
            "Epoch: 1 Loss G.: 3.8762338161468506\n",
            "Epoch: 2 Loss D.: 0.029784033074975014\n",
            "Epoch: 2 Loss G.: 3.668170690536499\n",
            "Epoch: 3 Loss D.: 0.013347405940294266\n",
            "Epoch: 3 Loss G.: 8.248342514038086\n",
            "Epoch: 4 Loss D.: 0.009162716567516327\n",
            "Epoch: 4 Loss G.: 4.895168781280518\n",
            "Epoch: 5 Loss D.: 0.11050840467214584\n",
            "Epoch: 5 Loss G.: 6.675764083862305\n",
            "Epoch: 6 Loss D.: 0.019904471933841705\n",
            "Epoch: 6 Loss G.: 5.134044647216797\n",
            "Epoch: 7 Loss D.: 0.0002651131362654269\n",
            "Epoch: 7 Loss G.: 7.995906829833984\n",
            "Epoch: 8 Loss D.: 0.0024874783121049404\n",
            "Epoch: 8 Loss G.: 6.514123916625977\n",
            "Epoch: 9 Loss D.: 1.1499541869852692e-05\n",
            "Epoch: 9 Loss G.: 11.648590087890625\n",
            "Epoch: 10 Loss D.: 1.8311386156710796e-05\n",
            "Epoch: 10 Loss G.: 12.048354148864746\n",
            "Epoch: 11 Loss D.: 0.00010330290388083085\n",
            "Epoch: 11 Loss G.: 8.835368156433105\n",
            "Epoch: 12 Loss D.: 0.0002411371242487803\n",
            "Epoch: 12 Loss G.: 8.92755126953125\n",
            "Epoch: 13 Loss D.: 4.849000833928585e-05\n",
            "Epoch: 13 Loss G.: 9.20225715637207\n",
            "Epoch: 14 Loss D.: 0.0011450093006715178\n",
            "Epoch: 14 Loss G.: 6.328410625457764\n",
            "Epoch: 15 Loss D.: 4.0551334677729756e-05\n",
            "Epoch: 15 Loss G.: 13.993408203125\n",
            "Epoch: 16 Loss D.: 8.543112926417962e-06\n",
            "Epoch: 16 Loss G.: 16.77692985534668\n",
            "Epoch: 17 Loss D.: 0.0002529703779146075\n",
            "Epoch: 17 Loss G.: 8.402006149291992\n",
            "Epoch: 18 Loss D.: 1.6737305486458354e-05\n",
            "Epoch: 18 Loss G.: 10.501625061035156\n",
            "Epoch: 19 Loss D.: 5.3463318181457e-06\n",
            "Epoch: 19 Loss G.: 11.739259719848633\n",
            "Epoch: 20 Loss D.: 2.0771399249497335e-06\n",
            "Epoch: 20 Loss G.: 13.176609992980957\n",
            "Epoch: 21 Loss D.: 4.55990266345907e-06\n",
            "Epoch: 21 Loss G.: 12.421211242675781\n",
            "Epoch: 22 Loss D.: 0.0002802142407745123\n",
            "Epoch: 22 Loss G.: 8.459700584411621\n",
            "Epoch: 23 Loss D.: 7.595658826176077e-05\n",
            "Epoch: 23 Loss G.: 9.297295570373535\n",
            "Epoch: 24 Loss D.: 7.074863242451102e-05\n",
            "Epoch: 24 Loss G.: 9.80698013305664\n",
            "Epoch: 25 Loss D.: 1.2743745401166962e-06\n",
            "Epoch: 25 Loss G.: 14.859073638916016\n",
            "Epoch: 26 Loss D.: 1.5140496998355957e-06\n",
            "Epoch: 26 Loss G.: 15.68799114227295\n",
            "Epoch: 27 Loss D.: 1.0956965752484393e-06\n",
            "Epoch: 27 Loss G.: 15.563478469848633\n",
            "Epoch: 28 Loss D.: 1.1876554708578624e-06\n",
            "Epoch: 28 Loss G.: 14.729002952575684\n",
            "Epoch: 29 Loss D.: 3.6457885244089994e-07\n",
            "Epoch: 29 Loss G.: 15.458985328674316\n",
            "Epoch: 30 Loss D.: 7.498016429963172e-08\n",
            "Epoch: 30 Loss G.: 16.502328872680664\n",
            "Epoch: 31 Loss D.: 1.710238350938198e-08\n",
            "Epoch: 31 Loss G.: 18.44158363342285\n",
            "Epoch: 32 Loss D.: 1.523693171634477e-08\n",
            "Epoch: 32 Loss G.: 19.22368812561035\n",
            "Epoch: 33 Loss D.: 2.0424474769242806e-06\n",
            "Epoch: 33 Loss G.: 14.58343505859375\n",
            "Epoch: 34 Loss D.: 1.7129609659605194e-06\n",
            "Epoch: 34 Loss G.: 17.12339973449707\n",
            "Epoch: 35 Loss D.: 4.897502776657348e-07\n",
            "Epoch: 35 Loss G.: 15.998678207397461\n",
            "Epoch: 36 Loss D.: 6.402772783076216e-07\n",
            "Epoch: 36 Loss G.: 16.47514533996582\n",
            "Epoch: 37 Loss D.: 1.0729826271926868e-06\n",
            "Epoch: 37 Loss G.: 14.551091194152832\n",
            "Epoch: 38 Loss D.: 2.505406428099377e-06\n",
            "Epoch: 38 Loss G.: 13.22691822052002\n",
            "Epoch: 39 Loss D.: 7.459173048118828e-07\n",
            "Epoch: 39 Loss G.: 13.80069637298584\n",
            "Epoch: 40 Loss D.: 2.0570564629451837e-06\n",
            "Epoch: 40 Loss G.: 13.455013275146484\n",
            "Epoch: 41 Loss D.: 1.2597712157003116e-05\n",
            "Epoch: 41 Loss G.: 11.757074356079102\n",
            "Epoch: 42 Loss D.: 1.4514786016661674e-05\n",
            "Epoch: 42 Loss G.: 11.073164939880371\n",
            "Epoch: 43 Loss D.: 0.0006406535394489765\n",
            "Epoch: 43 Loss G.: 8.67405891418457\n",
            "Epoch: 44 Loss D.: 7.656838533875998e-06\n",
            "Epoch: 44 Loss G.: 11.601435661315918\n",
            "Epoch: 45 Loss D.: 4.45669411419658e-06\n",
            "Epoch: 45 Loss G.: 12.702143669128418\n",
            "Epoch: 46 Loss D.: 5.781403615401359e-06\n",
            "Epoch: 46 Loss G.: 12.59363079071045\n",
            "Epoch: 47 Loss D.: 1.0874268809857313e-06\n",
            "Epoch: 47 Loss G.: 13.85560417175293\n",
            "Epoch: 48 Loss D.: 5.1969258493045345e-05\n",
            "Epoch: 48 Loss G.: 9.616998672485352\n",
            "Epoch: 49 Loss D.: 7.356176502071321e-05\n",
            "Epoch: 49 Loss G.: 9.713706016540527\n",
            "Epoch: 50 Loss D.: 8.57819031807594e-05\n",
            "Epoch: 50 Loss G.: 10.286632537841797\n",
            "Epoch: 51 Loss D.: 9.089407285500783e-06\n",
            "Epoch: 51 Loss G.: 11.539779663085938\n",
            "Epoch: 52 Loss D.: 7.217208349175053e-06\n",
            "Epoch: 52 Loss G.: 12.342245101928711\n",
            "Epoch: 53 Loss D.: 3.232779636164196e-05\n",
            "Epoch: 53 Loss G.: 12.99177360534668\n",
            "Epoch: 54 Loss D.: 2.845553126462619e-07\n",
            "Epoch: 54 Loss G.: 19.504304885864258\n",
            "Epoch: 55 Loss D.: 6.449678267017589e-07\n",
            "Epoch: 55 Loss G.: 18.287870407104492\n",
            "Epoch: 56 Loss D.: 5.066479502602306e-07\n",
            "Epoch: 56 Loss G.: 14.378223419189453\n",
            "Epoch: 57 Loss D.: 0.0001294099201913923\n",
            "Epoch: 57 Loss G.: 25.39459991455078\n",
            "Epoch: 58 Loss D.: 8.28641204861924e-05\n",
            "Epoch: 58 Loss G.: 11.251604080200195\n",
            "Epoch: 59 Loss D.: 9.902711326503777e-07\n",
            "Epoch: 59 Loss G.: 16.704710006713867\n",
            "Epoch: 60 Loss D.: 7.581572572235018e-05\n",
            "Epoch: 60 Loss G.: 9.591591835021973\n",
            "Epoch: 61 Loss D.: 4.855375664192252e-06\n",
            "Epoch: 61 Loss G.: 11.804229736328125\n",
            "Epoch: 62 Loss D.: 1.2267726106074406e-06\n",
            "Epoch: 62 Loss G.: 14.338129997253418\n",
            "Epoch: 63 Loss D.: 6.160791599540971e-06\n",
            "Epoch: 63 Loss G.: 12.486284255981445\n",
            "Epoch: 64 Loss D.: 1.7791715833936905e-07\n",
            "Epoch: 64 Loss G.: 15.390329360961914\n",
            "Epoch: 65 Loss D.: 1.4402984049866063e-07\n",
            "Epoch: 65 Loss G.: 20.41128158569336\n",
            "Epoch: 66 Loss D.: 2.321972942809225e-07\n",
            "Epoch: 66 Loss G.: 17.771955490112305\n",
            "Epoch: 67 Loss D.: 1.02225214959617e-06\n",
            "Epoch: 67 Loss G.: 21.696941375732422\n",
            "Epoch: 68 Loss D.: 1.5445881444975385e-06\n",
            "Epoch: 68 Loss G.: 17.834728240966797\n",
            "Epoch: 69 Loss D.: 1.1769218133395043e-07\n",
            "Epoch: 69 Loss G.: 20.168811798095703\n"
          ]
        }
      ]
    },
    {
      "cell_type": "markdown",
      "source": [
        "##Проверка сгенерированных GAN образцов\n",
        "\n",
        "\n",
        "Сгенерируем несколько образцов «рукописных цифр». Для этого передадим генератору набор случайных чисел.\n",
        "\n",
        "Чтобы построить сгенерированные выборки, нужно переместить данные обратно в центральный процессор, если их обработка происходила на графическом процессоре. Для этого достаточно вызвать метод cpu(). Как и раньше, перед построением данных необходимо вызвать .detach():"
      ],
      "metadata": {
        "id": "6PoUQNbpq62u"
      }
    },
    {
      "cell_type": "code",
      "source": [
        "atent_space_samples = torch.randn(batch_size, 100).to(device=device)\n",
        "generated_samples = generator(latent_space_samples)\n",
        "generated_samples = generated_samples.cpu().detach()\n",
        "\n",
        "for i in range(16):\n",
        "    ax = plt.subplot(4, 4, i + 1)\n",
        "    plt.imshow(generated_samples[i].reshape(28, 28), cmap=\"gray_r\")\n",
        "    plt.xticks([])\n",
        "    plt.yticks([])"
      ],
      "metadata": {
        "id": "KX9e6g05rQLQ"
      },
      "execution_count": null,
      "outputs": []
    },
    {
      "cell_type": "markdown",
      "source": [
        "В начале процесса обучения сгенерированные изображения абсолютно случайны. По мере обучения генератор изучает распределение реальных данных, и примерно через двадцать эпох некоторые сгенерированные изображения цифр уже напоминают реальные данные."
      ],
      "metadata": {
        "id": "DrsmqGGUuA-Y"
      }
    },
    {
      "cell_type": "markdown",
      "source": [
        "## Вывод:\n",
        "Выбран пример GAN с генерацией рукописных цифр.\n",
        "На данном примере взятом видно как обучается и работает, генеративная состязательная сеть (GAN).\n",
        "Удалось улучшить результат генерации рукописных цифр, увеличив количество эпох до 100, при обучении НС. Модель нейронной сети построена на PyTorch."
      ],
      "metadata": {
        "id": "Q4OUTYSCuCRt"
      }
    }
  ]
}