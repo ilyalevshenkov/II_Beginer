{
  "cells": [
    {
      "cell_type": "code",
      "execution_count": 4,
      "metadata": {
        "id": "Mrn7WhDjppOF",
        "colab": {
          "base_uri": "https://localhost:8080/",
          "height": 1000
        },
        "outputId": "83c717cd-ac7f-42ef-9b02-95ea00d52d8e"
      },
      "outputs": [
        {
          "output_type": "stream",
          "name": "stdout",
          "text": [
            "Collecting scikeras[tensorflow]\n",
            "  Downloading scikeras-0.12.0-py3-none-any.whl (27 kB)\n",
            "Requirement already satisfied: packaging>=0.21 in /usr/local/lib/python3.10/dist-packages (from scikeras[tensorflow]) (24.0)\n",
            "Requirement already satisfied: scikit-learn>=1.0.0 in /usr/local/lib/python3.10/dist-packages (from scikeras[tensorflow]) (1.2.2)\n",
            "Collecting tensorflow<2.13.0,>=2.12.0 (from scikeras[tensorflow])\n",
            "  Downloading tensorflow-2.12.1-cp310-cp310-manylinux_2_17_x86_64.manylinux2014_x86_64.whl (585.9 MB)\n",
            "\u001b[2K     \u001b[90m━━━━━━━━━━━━━━━━━━━━━━━━━━━━━━━━━━━━━━━━\u001b[0m \u001b[32m585.9/585.9 MB\u001b[0m \u001b[31m2.8 MB/s\u001b[0m eta \u001b[36m0:00:00\u001b[0m\n",
            "\u001b[?25hRequirement already satisfied: numpy>=1.17.3 in /usr/local/lib/python3.10/dist-packages (from scikit-learn>=1.0.0->scikeras[tensorflow]) (1.25.2)\n",
            "Requirement already satisfied: scipy>=1.3.2 in /usr/local/lib/python3.10/dist-packages (from scikit-learn>=1.0.0->scikeras[tensorflow]) (1.11.4)\n",
            "Requirement already satisfied: joblib>=1.1.1 in /usr/local/lib/python3.10/dist-packages (from scikit-learn>=1.0.0->scikeras[tensorflow]) (1.3.2)\n",
            "Requirement already satisfied: threadpoolctl>=2.0.0 in /usr/local/lib/python3.10/dist-packages (from scikit-learn>=1.0.0->scikeras[tensorflow]) (3.4.0)\n",
            "Requirement already satisfied: absl-py>=1.0.0 in /usr/local/lib/python3.10/dist-packages (from tensorflow<2.13.0,>=2.12.0->scikeras[tensorflow]) (1.4.0)\n",
            "Requirement already satisfied: astunparse>=1.6.0 in /usr/local/lib/python3.10/dist-packages (from tensorflow<2.13.0,>=2.12.0->scikeras[tensorflow]) (1.6.3)\n",
            "Requirement already satisfied: flatbuffers>=2.0 in /usr/local/lib/python3.10/dist-packages (from tensorflow<2.13.0,>=2.12.0->scikeras[tensorflow]) (24.3.25)\n",
            "Collecting gast<=0.4.0,>=0.2.1 (from tensorflow<2.13.0,>=2.12.0->scikeras[tensorflow])\n",
            "  Downloading gast-0.4.0-py3-none-any.whl (9.8 kB)\n",
            "Requirement already satisfied: google-pasta>=0.1.1 in /usr/local/lib/python3.10/dist-packages (from tensorflow<2.13.0,>=2.12.0->scikeras[tensorflow]) (0.2.0)\n",
            "Requirement already satisfied: grpcio<2.0,>=1.24.3 in /usr/local/lib/python3.10/dist-packages (from tensorflow<2.13.0,>=2.12.0->scikeras[tensorflow]) (1.62.1)\n",
            "Requirement already satisfied: h5py>=2.9.0 in /usr/local/lib/python3.10/dist-packages (from tensorflow<2.13.0,>=2.12.0->scikeras[tensorflow]) (3.9.0)\n",
            "Requirement already satisfied: jax>=0.3.15 in /usr/local/lib/python3.10/dist-packages (from tensorflow<2.13.0,>=2.12.0->scikeras[tensorflow]) (0.4.23)\n",
            "Collecting keras<2.13,>=2.12.0 (from tensorflow<2.13.0,>=2.12.0->scikeras[tensorflow])\n",
            "  Downloading keras-2.12.0-py2.py3-none-any.whl (1.7 MB)\n",
            "\u001b[2K     \u001b[90m━━━━━━━━━━━━━━━━━━━━━━━━━━━━━━━━━━━━━━━━\u001b[0m \u001b[32m1.7/1.7 MB\u001b[0m \u001b[31m85.7 MB/s\u001b[0m eta \u001b[36m0:00:00\u001b[0m\n",
            "\u001b[?25hRequirement already satisfied: libclang>=13.0.0 in /usr/local/lib/python3.10/dist-packages (from tensorflow<2.13.0,>=2.12.0->scikeras[tensorflow]) (18.1.1)\n",
            "Collecting numpy>=1.17.3 (from scikit-learn>=1.0.0->scikeras[tensorflow])\n",
            "  Downloading numpy-1.24.3-cp310-cp310-manylinux_2_17_x86_64.manylinux2014_x86_64.whl (17.3 MB)\n",
            "\u001b[2K     \u001b[90m━━━━━━━━━━━━━━━━━━━━━━━━━━━━━━━━━━━━━━━━\u001b[0m \u001b[32m17.3/17.3 MB\u001b[0m \u001b[31m61.5 MB/s\u001b[0m eta \u001b[36m0:00:00\u001b[0m\n",
            "\u001b[?25hRequirement already satisfied: opt-einsum>=2.3.2 in /usr/local/lib/python3.10/dist-packages (from tensorflow<2.13.0,>=2.12.0->scikeras[tensorflow]) (3.3.0)\n",
            "Requirement already satisfied: protobuf!=4.21.0,!=4.21.1,!=4.21.2,!=4.21.3,!=4.21.4,!=4.21.5,<5.0.0dev,>=3.20.3 in /usr/local/lib/python3.10/dist-packages (from tensorflow<2.13.0,>=2.12.0->scikeras[tensorflow]) (3.20.3)\n",
            "Requirement already satisfied: setuptools in /usr/local/lib/python3.10/dist-packages (from tensorflow<2.13.0,>=2.12.0->scikeras[tensorflow]) (67.7.2)\n",
            "Requirement already satisfied: six>=1.12.0 in /usr/local/lib/python3.10/dist-packages (from tensorflow<2.13.0,>=2.12.0->scikeras[tensorflow]) (1.16.0)\n",
            "Collecting tensorboard<2.13,>=2.12 (from tensorflow<2.13.0,>=2.12.0->scikeras[tensorflow])\n",
            "  Downloading tensorboard-2.12.3-py3-none-any.whl (5.6 MB)\n",
            "\u001b[2K     \u001b[90m━━━━━━━━━━━━━━━━━━━━━━━━━━━━━━━━━━━━━━━━\u001b[0m \u001b[32m5.6/5.6 MB\u001b[0m \u001b[31m50.9 MB/s\u001b[0m eta \u001b[36m0:00:00\u001b[0m\n",
            "\u001b[?25hCollecting tensorflow-estimator<2.13,>=2.12.0 (from tensorflow<2.13.0,>=2.12.0->scikeras[tensorflow])\n",
            "  Downloading tensorflow_estimator-2.12.0-py2.py3-none-any.whl (440 kB)\n",
            "\u001b[2K     \u001b[90m━━━━━━━━━━━━━━━━━━━━━━━━━━━━━━━━━━━━━━━━\u001b[0m \u001b[32m440.7/440.7 kB\u001b[0m \u001b[31m44.4 MB/s\u001b[0m eta \u001b[36m0:00:00\u001b[0m\n",
            "\u001b[?25hRequirement already satisfied: termcolor>=1.1.0 in /usr/local/lib/python3.10/dist-packages (from tensorflow<2.13.0,>=2.12.0->scikeras[tensorflow]) (2.4.0)\n",
            "Collecting typing-extensions<4.6.0,>=3.6.6 (from tensorflow<2.13.0,>=2.12.0->scikeras[tensorflow])\n",
            "  Downloading typing_extensions-4.5.0-py3-none-any.whl (27 kB)\n",
            "Requirement already satisfied: wrapt<1.15,>=1.11.0 in /usr/local/lib/python3.10/dist-packages (from tensorflow<2.13.0,>=2.12.0->scikeras[tensorflow]) (1.14.1)\n",
            "Requirement already satisfied: tensorflow-io-gcs-filesystem>=0.23.1 in /usr/local/lib/python3.10/dist-packages (from tensorflow<2.13.0,>=2.12.0->scikeras[tensorflow]) (0.36.0)\n",
            "Requirement already satisfied: wheel<1.0,>=0.23.0 in /usr/local/lib/python3.10/dist-packages (from astunparse>=1.6.0->tensorflow<2.13.0,>=2.12.0->scikeras[tensorflow]) (0.43.0)\n",
            "Requirement already satisfied: ml-dtypes>=0.2.0 in /usr/local/lib/python3.10/dist-packages (from jax>=0.3.15->tensorflow<2.13.0,>=2.12.0->scikeras[tensorflow]) (0.2.0)\n",
            "Requirement already satisfied: google-auth<3,>=1.6.3 in /usr/local/lib/python3.10/dist-packages (from tensorboard<2.13,>=2.12->tensorflow<2.13.0,>=2.12.0->scikeras[tensorflow]) (2.27.0)\n",
            "Collecting google-auth-oauthlib<1.1,>=0.5 (from tensorboard<2.13,>=2.12->tensorflow<2.13.0,>=2.12.0->scikeras[tensorflow])\n",
            "  Downloading google_auth_oauthlib-1.0.0-py2.py3-none-any.whl (18 kB)\n",
            "Requirement already satisfied: markdown>=2.6.8 in /usr/local/lib/python3.10/dist-packages (from tensorboard<2.13,>=2.12->tensorflow<2.13.0,>=2.12.0->scikeras[tensorflow]) (3.6)\n",
            "Requirement already satisfied: requests<3,>=2.21.0 in /usr/local/lib/python3.10/dist-packages (from tensorboard<2.13,>=2.12->tensorflow<2.13.0,>=2.12.0->scikeras[tensorflow]) (2.31.0)\n",
            "Requirement already satisfied: tensorboard-data-server<0.8.0,>=0.7.0 in /usr/local/lib/python3.10/dist-packages (from tensorboard<2.13,>=2.12->tensorflow<2.13.0,>=2.12.0->scikeras[tensorflow]) (0.7.2)\n",
            "Requirement already satisfied: werkzeug>=1.0.1 in /usr/local/lib/python3.10/dist-packages (from tensorboard<2.13,>=2.12->tensorflow<2.13.0,>=2.12.0->scikeras[tensorflow]) (3.0.1)\n",
            "Requirement already satisfied: cachetools<6.0,>=2.0.0 in /usr/local/lib/python3.10/dist-packages (from google-auth<3,>=1.6.3->tensorboard<2.13,>=2.12->tensorflow<2.13.0,>=2.12.0->scikeras[tensorflow]) (5.3.3)\n",
            "Requirement already satisfied: pyasn1-modules>=0.2.1 in /usr/local/lib/python3.10/dist-packages (from google-auth<3,>=1.6.3->tensorboard<2.13,>=2.12->tensorflow<2.13.0,>=2.12.0->scikeras[tensorflow]) (0.4.0)\n",
            "Requirement already satisfied: rsa<5,>=3.1.4 in /usr/local/lib/python3.10/dist-packages (from google-auth<3,>=1.6.3->tensorboard<2.13,>=2.12->tensorflow<2.13.0,>=2.12.0->scikeras[tensorflow]) (4.9)\n",
            "Requirement already satisfied: requests-oauthlib>=0.7.0 in /usr/local/lib/python3.10/dist-packages (from google-auth-oauthlib<1.1,>=0.5->tensorboard<2.13,>=2.12->tensorflow<2.13.0,>=2.12.0->scikeras[tensorflow]) (1.4.1)\n",
            "Requirement already satisfied: charset-normalizer<4,>=2 in /usr/local/lib/python3.10/dist-packages (from requests<3,>=2.21.0->tensorboard<2.13,>=2.12->tensorflow<2.13.0,>=2.12.0->scikeras[tensorflow]) (3.3.2)\n",
            "Requirement already satisfied: idna<4,>=2.5 in /usr/local/lib/python3.10/dist-packages (from requests<3,>=2.21.0->tensorboard<2.13,>=2.12->tensorflow<2.13.0,>=2.12.0->scikeras[tensorflow]) (3.6)\n",
            "Requirement already satisfied: urllib3<3,>=1.21.1 in /usr/local/lib/python3.10/dist-packages (from requests<3,>=2.21.0->tensorboard<2.13,>=2.12->tensorflow<2.13.0,>=2.12.0->scikeras[tensorflow]) (2.0.7)\n",
            "Requirement already satisfied: certifi>=2017.4.17 in /usr/local/lib/python3.10/dist-packages (from requests<3,>=2.21.0->tensorboard<2.13,>=2.12->tensorflow<2.13.0,>=2.12.0->scikeras[tensorflow]) (2024.2.2)\n",
            "Requirement already satisfied: MarkupSafe>=2.1.1 in /usr/local/lib/python3.10/dist-packages (from werkzeug>=1.0.1->tensorboard<2.13,>=2.12->tensorflow<2.13.0,>=2.12.0->scikeras[tensorflow]) (2.1.5)\n",
            "Requirement already satisfied: pyasn1<0.7.0,>=0.4.6 in /usr/local/lib/python3.10/dist-packages (from pyasn1-modules>=0.2.1->google-auth<3,>=1.6.3->tensorboard<2.13,>=2.12->tensorflow<2.13.0,>=2.12.0->scikeras[tensorflow]) (0.6.0)\n",
            "Requirement already satisfied: oauthlib>=3.0.0 in /usr/local/lib/python3.10/dist-packages (from requests-oauthlib>=0.7.0->google-auth-oauthlib<1.1,>=0.5->tensorboard<2.13,>=2.12->tensorflow<2.13.0,>=2.12.0->scikeras[tensorflow]) (3.2.2)\n",
            "Installing collected packages: typing-extensions, tensorflow-estimator, numpy, keras, gast, google-auth-oauthlib, tensorboard, scikeras, tensorflow\n",
            "  Attempting uninstall: typing-extensions\n",
            "    Found existing installation: typing_extensions 4.10.0\n",
            "    Uninstalling typing_extensions-4.10.0:\n",
            "      Successfully uninstalled typing_extensions-4.10.0\n",
            "  Attempting uninstall: tensorflow-estimator\n",
            "    Found existing installation: tensorflow-estimator 2.15.0\n",
            "    Uninstalling tensorflow-estimator-2.15.0:\n",
            "      Successfully uninstalled tensorflow-estimator-2.15.0\n",
            "  Attempting uninstall: numpy\n",
            "    Found existing installation: numpy 1.25.2\n",
            "    Uninstalling numpy-1.25.2:\n",
            "      Successfully uninstalled numpy-1.25.2\n",
            "  Attempting uninstall: keras\n",
            "    Found existing installation: keras 2.15.0\n",
            "    Uninstalling keras-2.15.0:\n",
            "      Successfully uninstalled keras-2.15.0\n",
            "  Attempting uninstall: gast\n",
            "    Found existing installation: gast 0.5.4\n",
            "    Uninstalling gast-0.5.4:\n",
            "      Successfully uninstalled gast-0.5.4\n",
            "  Attempting uninstall: google-auth-oauthlib\n",
            "    Found existing installation: google-auth-oauthlib 1.2.0\n",
            "    Uninstalling google-auth-oauthlib-1.2.0:\n",
            "      Successfully uninstalled google-auth-oauthlib-1.2.0\n",
            "  Attempting uninstall: tensorboard\n",
            "    Found existing installation: tensorboard 2.15.2\n",
            "    Uninstalling tensorboard-2.15.2:\n",
            "      Successfully uninstalled tensorboard-2.15.2\n",
            "  Attempting uninstall: tensorflow\n",
            "    Found existing installation: tensorflow 2.15.0\n",
            "    Uninstalling tensorflow-2.15.0:\n",
            "      Successfully uninstalled tensorflow-2.15.0\n",
            "\u001b[31mERROR: pip's dependency resolver does not currently take into account all the packages that are installed. This behaviour is the source of the following dependency conflicts.\n",
            "torch 2.2.1+cu121 requires nvidia-cublas-cu12==12.1.3.1; platform_system == \"Linux\" and platform_machine == \"x86_64\", which is not installed.\n",
            "torch 2.2.1+cu121 requires nvidia-cuda-cupti-cu12==12.1.105; platform_system == \"Linux\" and platform_machine == \"x86_64\", which is not installed.\n",
            "torch 2.2.1+cu121 requires nvidia-cuda-nvrtc-cu12==12.1.105; platform_system == \"Linux\" and platform_machine == \"x86_64\", which is not installed.\n",
            "torch 2.2.1+cu121 requires nvidia-cuda-runtime-cu12==12.1.105; platform_system == \"Linux\" and platform_machine == \"x86_64\", which is not installed.\n",
            "torch 2.2.1+cu121 requires nvidia-cudnn-cu12==8.9.2.26; platform_system == \"Linux\" and platform_machine == \"x86_64\", which is not installed.\n",
            "torch 2.2.1+cu121 requires nvidia-cufft-cu12==11.0.2.54; platform_system == \"Linux\" and platform_machine == \"x86_64\", which is not installed.\n",
            "torch 2.2.1+cu121 requires nvidia-curand-cu12==10.3.2.106; platform_system == \"Linux\" and platform_machine == \"x86_64\", which is not installed.\n",
            "torch 2.2.1+cu121 requires nvidia-cusolver-cu12==11.4.5.107; platform_system == \"Linux\" and platform_machine == \"x86_64\", which is not installed.\n",
            "torch 2.2.1+cu121 requires nvidia-cusparse-cu12==12.1.0.106; platform_system == \"Linux\" and platform_machine == \"x86_64\", which is not installed.\n",
            "torch 2.2.1+cu121 requires nvidia-nccl-cu12==2.19.3; platform_system == \"Linux\" and platform_machine == \"x86_64\", which is not installed.\n",
            "torch 2.2.1+cu121 requires nvidia-nvtx-cu12==12.1.105; platform_system == \"Linux\" and platform_machine == \"x86_64\", which is not installed.\n",
            "sqlalchemy 2.0.29 requires typing-extensions>=4.6.0, but you have typing-extensions 4.5.0 which is incompatible.\n",
            "pydantic 2.6.4 requires typing-extensions>=4.6.1, but you have typing-extensions 4.5.0 which is incompatible.\n",
            "pydantic-core 2.16.3 requires typing-extensions!=4.7.0,>=4.6.0, but you have typing-extensions 4.5.0 which is incompatible.\n",
            "tf-keras 2.15.1 requires tensorflow<2.16,>=2.15, but you have tensorflow 2.12.1 which is incompatible.\n",
            "torch 2.2.1+cu121 requires typing-extensions>=4.8.0, but you have typing-extensions 4.5.0 which is incompatible.\u001b[0m\u001b[31m\n",
            "\u001b[0mSuccessfully installed gast-0.4.0 google-auth-oauthlib-1.0.0 keras-2.12.0 numpy-1.24.3 scikeras-0.12.0 tensorboard-2.12.3 tensorflow-2.12.1 tensorflow-estimator-2.12.0 typing-extensions-4.5.0\n"
          ]
        },
        {
          "output_type": "display_data",
          "data": {
            "application/vnd.colab-display-data+json": {
              "pip_warning": {
                "packages": [
                  "numpy"
                ]
              },
              "id": "37f26cd69cb54a009d2c38e925f0866a"
            }
          },
          "metadata": {}
        }
      ],
      "source": [
        "!pip install scikeras[tensorflow] # уже установлен"
      ]
    },
    {
      "cell_type": "code",
      "source": [],
      "metadata": {
        "id": "MpjV1xhJaB0_"
      },
      "execution_count": null,
      "outputs": []
    },
    {
      "cell_type": "code",
      "execution_count": null,
      "metadata": {
        "id": "ULBgiDvquZKv",
        "colab": {
          "base_uri": "https://localhost:8080/"
        },
        "outputId": "2e1d337b-38b9-4d71-ff15-aecfc51c5ca3"
      },
      "outputs": [
        {
          "output_type": "stream",
          "name": "stdout",
          "text": [
            "Collecting mnist\n",
            "  Downloading mnist-0.2.2-py2.py3-none-any.whl (3.5 kB)\n",
            "Requirement already satisfied: numpy in /usr/local/lib/python3.10/dist-packages (from mnist) (1.24.3)\n",
            "Installing collected packages: mnist\n",
            "Successfully installed mnist-0.2.2\n"
          ]
        }
      ],
      "source": [
        "!pip install mnist"
      ]
    },
    {
      "cell_type": "code",
      "execution_count": null,
      "metadata": {
        "id": "BdtNDP-W6TJi"
      },
      "outputs": [],
      "source": [
        "import numpy as np\n",
        "import pandas as pd\n",
        "import mnist\n",
        "import keras\n",
        "from keras.datasets import fashion_mnist\n",
        "from keras.models import Sequential\n",
        "from keras.layers import Dense, Flatten\n",
        "from keras.utils import to_categorical\n",
        "from scikeras.wrappers import KerasClassifier\n",
        "from sklearn.model_selection import GridSearchCV"
      ]
    },
    {
      "cell_type": "markdown",
      "metadata": {
        "id": "4nVS-PJkBfmC"
      },
      "source": []
    },
    {
      "cell_type": "code",
      "execution_count": null,
      "metadata": {
        "id": "pf6Pmdodye4q"
      },
      "outputs": [],
      "source": [
        "from scikeras.wrappers import KerasClassifier"
      ]
    },
    {
      "cell_type": "markdown",
      "metadata": {
        "id": "7mUHxbyoIDyA"
      },
      "source": [
        "### Building model for digit recognition"
      ]
    },
    {
      "cell_type": "code",
      "execution_count": null,
      "metadata": {
        "id": "AGaj-oayW29B"
      },
      "outputs": [],
      "source": [
        "#import images\n",
        "train_images = mnist.train_images()\n",
        "train_labels = mnist.train_labels()\n",
        "test_images = mnist.test_images()\n",
        "test_labels = mnist.test_labels()\n",
        "\n",
        "# Normalize the images.\n",
        "train_images = (train_images / 255)\n",
        "test_images = (test_images / 255)\n",
        "\n",
        "# Flatten the images.\n",
        "train_images = train_images.reshape((-1, 784))\n",
        "test_images = test_images.reshape((-1, 784))"
      ]
    },
    {
      "cell_type": "code",
      "execution_count": null,
      "metadata": {
        "id": "Zg4q7nst6lva",
        "colab": {
          "base_uri": "https://localhost:8080/",
          "height": 549
        },
        "outputId": "7f8a668b-4be4-47aa-9096-563059ca0596"
      },
      "outputs": [
        {
          "output_type": "execute_result",
          "data": {
            "text/plain": [
              "array([[0., 0., 0., ..., 0., 0., 0.],\n",
              "       [1., 0., 0., ..., 0., 0., 0.],\n",
              "       [0., 0., 0., ..., 0., 0., 0.],\n",
              "       ...,\n",
              "       [0., 0., 0., ..., 0., 0., 0.],\n",
              "       [0., 0., 0., ..., 0., 0., 0.],\n",
              "       [0., 0., 0., ..., 0., 1., 0.]], dtype=float32)"
            ]
          },
          "metadata": {},
          "execution_count": 5
        },
        {
          "output_type": "display_data",
          "data": {
            "text/plain": [
              "<Figure size 640x480 with 1 Axes>"
            ],
            "image/png": "[encoded data removed]"
          },
          "metadata": {}
        }
      ],
      "source": [
        "import matplotlib.pyplot as plt\n",
        "plt.imshow(mnist.train_images()[0]/255)\n",
        "mnist.train_images()[1]/255\n",
        "to_categorical(train_labels)\n",
        "#train_labels"
      ]
    },
    {
      "cell_type": "code",
      "execution_count": null,
      "metadata": {
        "id": "z_EEVFIRcupN"
      },
      "outputs": [],
      "source": [
        "input_shape = (28, 28, 1)"
      ]
    },
    {
      "cell_type": "code",
      "execution_count": null,
      "metadata": {
        "id": "h2z59k90iFdD",
        "colab": {
          "base_uri": "https://localhost:8080/"
        },
        "outputId": "3ebd8b25-038a-4858-f1ae-9ffdbe37af98"
      },
      "outputs": [
        {
          "output_type": "stream",
          "name": "stdout",
          "text": [
            "Downloading data from https://storage.googleapis.com/tensorflow/tf-keras-datasets/mnist.npz\n",
            "11490434/11490434 [==============================] - 0s 0us/step\n"
          ]
        }
      ],
      "source": [
        "(x_train, y_train), (x_test, y_test) = keras.datasets.mnist.load_data()"
      ]
    },
    {
      "cell_type": "code",
      "execution_count": null,
      "metadata": {
        "id": "suqW3jfOjcqg"
      },
      "outputs": [],
      "source": [
        "x_train = x_train / 255\n",
        "x_test = x_test / 255"
      ]
    },
    {
      "cell_type": "code",
      "execution_count": null,
      "metadata": {
        "id": "cPfcJTy6k1by"
      },
      "outputs": [],
      "source": [
        "y_train_cat = keras.utils.to_categorical(y_train, 10)\n",
        "y_test_cat = keras.utils.to_categorical(y_test, 10)"
      ]
    },
    {
      "cell_type": "markdown",
      "metadata": {
        "id": "x--iwIAFGIOp"
      },
      "source": []
    },
    {
      "cell_type": "code",
      "execution_count": null,
      "metadata": {
        "id": "p9Jhmk5SjnAF"
      },
      "outputs": [],
      "source": [
        "model_2 = keras.Sequential([\n",
        "\n",
        "    keras.Input(shape=input_shape),\n",
        "    Flatten(),\n",
        "    Dense(90, activation = 'relu'),\n",
        "    Dense(60, activation = 'relu'),\n",
        "    Dense(10, activation = 'softmax')\n",
        "    ] )"
      ]
    },
    {
      "cell_type": "code",
      "execution_count": null,
      "metadata": {
        "id": "Md6Uo7mUjsOZ"
      },
      "outputs": [],
      "source": [
        "model_2.compile(optimizer='RMSprop',\n",
        "             loss='categorical_crossentropy',\n",
        "             metrics=['accuracy'])"
      ]
    },
    {
      "cell_type": "code",
      "execution_count": null,
      "metadata": {
        "id": "Yx0YHJ6xjwqg",
        "colab": {
          "base_uri": "https://localhost:8080/"
        },
        "outputId": "e5d55c99-2022-4d01-c65a-b67254165d22"
      },
      "outputs": [
        {
          "output_type": "stream",
          "name": "stdout",
          "text": [
            "Epoch 1/10\n",
            "120/120 [==============================] - 1s 6ms/step - loss: 0.5386 - accuracy: 0.8566\n",
            "Epoch 2/10\n",
            "120/120 [==============================] - 1s 5ms/step - loss: 0.2349 - accuracy: 0.9324\n",
            "Epoch 3/10\n",
            "120/120 [==============================] - 1s 5ms/step - loss: 0.1766 - accuracy: 0.9486\n",
            "Epoch 4/10\n",
            "120/120 [==============================] - 1s 5ms/step - loss: 0.1435 - accuracy: 0.9583\n",
            "Epoch 5/10\n",
            "120/120 [==============================] - 1s 5ms/step - loss: 0.1209 - accuracy: 0.9646\n",
            "Epoch 6/10\n",
            "120/120 [==============================] - 1s 6ms/step - loss: 0.1007 - accuracy: 0.9703\n",
            "Epoch 7/10\n",
            "120/120 [==============================] - 1s 8ms/step - loss: 0.0883 - accuracy: 0.9736\n",
            "Epoch 8/10\n",
            "120/120 [==============================] - 1s 9ms/step - loss: 0.0771 - accuracy: 0.9773\n",
            "Epoch 9/10\n",
            "120/120 [==============================] - 1s 8ms/step - loss: 0.0692 - accuracy: 0.9796\n",
            "Epoch 10/10\n",
            "120/120 [==============================] - 1s 6ms/step - loss: 0.0611 - accuracy: 0.9819\n",
            "CPU times: user 11.1 s, sys: 559 ms, total: 11.7 s\n",
            "Wall time: 8.39 s\n"
          ]
        }
      ],
      "source": [
        "%%time\n",
        "\n",
        "history = model_2.fit(x_train, y_train_cat, batch_size=500, epochs=10)"
      ]
    },
    {
      "cell_type": "code",
      "execution_count": null,
      "metadata": {
        "id": "jDJppettvbY9",
        "colab": {
          "base_uri": "https://localhost:8080/",
          "height": 472
        },
        "outputId": "44ae066e-2c07-409b-fffd-05f093695e12"
      },
      "outputs": [
        {
          "output_type": "display_data",
          "data": {
            "text/plain": [
              "<Figure size 640x480 with 1 Axes>"
            ],
            "image/png": "[encoded data removed]"
          },
          "metadata": {}
        }
      ],
      "source": [
        "plt.plot(history.history['accuracy'])\n",
        "plt.title('Точность модели')\n",
        "plt.ylabel('точность')\n",
        "plt.xlabel('количество эпох')\n",
        "plt.show()"
      ]
    },
    {
      "cell_type": "code",
      "execution_count": null,
      "metadata": {
        "id": "m5yR5Fk9vrn_",
        "colab": {
          "base_uri": "https://localhost:8080/",
          "height": 472
        },
        "outputId": "00bca62d-245b-4290-8d0c-a87ef3071436"
      },
      "outputs": [
        {
          "output_type": "display_data",
          "data": {
            "text/plain": [
              "<Figure size 640x480 with 1 Axes>"
            ],
            "image/png": "[encoded data removed]"
          },
          "metadata": {}
        }
      ],
      "source": [
        "plt.plot(history.history['loss'])\n",
        "plt.title('Потери модели')\n",
        "plt.ylabel('Потери')\n",
        "plt.xlabel('количество эпох')\n",
        "plt.show()"
      ]
    },
    {
      "cell_type": "code",
      "execution_count": null,
      "metadata": {
        "id": "ac-jdgFDv1P5",
        "colab": {
          "base_uri": "https://localhost:8080/"
        },
        "outputId": "6b0a86b8-e852-43b5-96c2-35730d65080f"
      },
      "outputs": [
        {
          "output_type": "stream",
          "name": "stdout",
          "text": [
            "313/313 [==============================] - 1s 1ms/step - loss: 0.0855 - accuracy: 0.9767\n"
          ]
        },
        {
          "output_type": "execute_result",
          "data": {
            "text/plain": [
              "[0.08547921478748322, 0.9767000079154968]"
            ]
          },
          "metadata": {},
          "execution_count": 15
        }
      ],
      "source": [
        "model_2.evaluate(x_test, y_test_cat)"
      ]
    },
    {
      "cell_type": "code",
      "execution_count": null,
      "metadata": {
        "id": "cVWER4a0wPFW",
        "colab": {
          "base_uri": "https://localhost:8080/"
        },
        "outputId": "829f9c5b-1e3a-4e90-986c-b2d06559fd90"
      },
      "outputs": [
        {
          "output_type": "stream",
          "name": "stdout",
          "text": [
            "Epoch 1/5\n",
            "1875/1875 [==============================] - 5s 2ms/step - loss: 0.0804 - accuracy: 0.9751 - val_loss: 0.1200 - val_accuracy: 0.9642\n",
            "Epoch 2/5\n",
            "1875/1875 [==============================] - 5s 3ms/step - loss: 0.0687 - accuracy: 0.9794 - val_loss: 0.1027 - val_accuracy: 0.9716\n",
            "Epoch 3/5\n",
            "1875/1875 [==============================] - 5s 3ms/step - loss: 0.0585 - accuracy: 0.9828 - val_loss: 0.1027 - val_accuracy: 0.9738\n",
            "Epoch 4/5\n",
            "1875/1875 [==============================] - 4s 2ms/step - loss: 0.0528 - accuracy: 0.9847 - val_loss: 0.0914 - val_accuracy: 0.9772\n",
            "Epoch 5/5\n",
            "1875/1875 [==============================] - 5s 3ms/step - loss: 0.0452 - accuracy: 0.9870 - val_loss: 0.1051 - val_accuracy: 0.9760\n",
            "CPU times: user 28.3 s, sys: 1.67 s, total: 29.9 s\n",
            "Wall time: 41.5 s\n"
          ]
        }
      ],
      "source": [
        "%%time\n",
        "\n",
        "history = model_2.fit(x_train, y_train_cat, batch_size=32, epochs=5, validation_data =(x_test, y_test_cat) )"
      ]
    },
    {
      "cell_type": "code",
      "execution_count": null,
      "metadata": {
        "id": "E_G9rNJ9wbJ8",
        "colab": {
          "base_uri": "https://localhost:8080/",
          "height": 472
        },
        "outputId": "564515d6-ee66-4f2d-cae4-b7cdcae3ae02"
      },
      "outputs": [
        {
          "output_type": "display_data",
          "data": {
            "text/plain": [
              "<Figure size 640x480 with 1 Axes>"
            ],
            "image/png": "[encoded data removed]"
          },
          "metadata": {}
        }
      ],
      "source": [
        "plt.plot(history.history['accuracy'])\n",
        "plt.plot(history.history['val_accuracy'])\n",
        "plt.title('Точность модели')\n",
        "plt.ylabel('точность')\n",
        "plt.xlabel('количество эпох')\n",
        "plt.legend(['train', 'test'], loc='upper left')\n",
        "plt.show()"
      ]
    },
    {
      "cell_type": "code",
      "execution_count": null,
      "metadata": {
        "id": "LTT06XMpwg7k",
        "colab": {
          "base_uri": "https://localhost:8080/",
          "height": 472
        },
        "outputId": "7cbf623c-87d9-4498-a760-5e86e78efa57"
      },
      "outputs": [
        {
          "output_type": "display_data",
          "data": {
            "text/plain": [
              "<Figure size 640x480 with 1 Axes>"
            ],
            "image/png": "[encoded data removed]"
          },
          "metadata": {}
        }
      ],
      "source": [
        "plt.plot(history.history['loss'])\n",
        "plt.plot(history.history['val_loss'])\n",
        "plt.title('Потери модели')\n",
        "plt.ylabel('Потери')\n",
        "plt.xlabel('количество эпох')\n",
        "plt.legend(['train', 'test'], loc='upper left')\n",
        "plt.show()"
      ]
    },
    {
      "cell_type": "code",
      "execution_count": null,
      "metadata": {
        "id": "NV4rUD5OwpD1",
        "colab": {
          "base_uri": "https://localhost:8080/",
          "height": 464
        },
        "outputId": "a0ed6ae8-829a-42ba-b0bf-9997ddb3c12a"
      },
      "outputs": [
        {
          "output_type": "display_data",
          "data": {
            "text/plain": [
              "<Figure size 640x480 with 1 Axes>"
            ],
            "image/png": "[encoded data removed]"
          },
          "metadata": {}
        },
        {
          "output_type": "stream",
          "name": "stdout",
          "text": [
            "1/1 [==============================] - 0s 76ms/step\n",
            "1: 2\n"
          ]
        }
      ],
      "source": [
        "n_rec=35\n",
        "plt.imshow(x_test[n_rec].reshape(28, 28), cmap=plt.cm.binary)\n",
        "plt.show()\n",
        "x = x_test[n_rec]\n",
        "x = np.expand_dims(x, axis=0)\n",
        "\n",
        "prediction = model_2.predict(x)\n",
        "prediction = np.argmax(prediction[0])\n",
        "print(\"1:\", prediction)"
      ]
    },
    {
      "cell_type": "code",
      "execution_count": 2,
      "metadata": {
        "id": "TyAghDELZOVL"
      },
      "outputs": [],
      "source": [
        "# Build the model.\n",
        "def create_model(optimizer='adam'):\n",
        "    model = Sequential([\n",
        "      Dense(64, input_shape=(784,), activation='relu'),\n",
        "      Dense(32, activation='relu'),\n",
        "      Dense(10, activation='softmax')\n",
        "    ])\n",
        "\n",
        "    # Compile the model.\n",
        "    model.compile(\n",
        "      optimizer=optimizer,\n",
        "      loss='categorical_crossentropy',\n",
        "      metrics=['accuracy'],\n",
        "    )\n",
        "    return model"
      ]
    },
    {
      "cell_type": "code",
      "execution_count": 3,
      "metadata": {
        "id": "FQOY8_8mb_ZI",
        "colab": {
          "base_uri": "https://localhost:8080/",
          "height": 326
        },
        "outputId": "a5737d92-3426-4401-a4a7-b3ea63a3148d"
      },
      "outputs": [
        {
          "output_type": "error",
          "ename": "NameError",
          "evalue": "name 'Sequential' is not defined",
          "traceback": [
            "\u001b[0;31m---------------------------------------------------------------------------\u001b[0m",
            "\u001b[0;31mNameError\u001b[0m                                 Traceback (most recent call last)",
            "\u001b[0;32m<ipython-input-3-2fbf8913e12a>\u001b[0m in \u001b[0;36m<cell line: 1>\u001b[0;34m()\u001b[0m\n\u001b[0;32m----> 1\u001b[0;31m \u001b[0mmodel\u001b[0m \u001b[0;34m=\u001b[0m \u001b[0mcreate_model\u001b[0m\u001b[0;34m(\u001b[0m\u001b[0;34m)\u001b[0m\u001b[0;34m\u001b[0m\u001b[0;34m\u001b[0m\u001b[0m\n\u001b[0m\u001b[1;32m      2\u001b[0m \u001b[0;34m\u001b[0m\u001b[0m\n\u001b[1;32m      3\u001b[0m \u001b[0;31m# Train the model.\u001b[0m\u001b[0;34m\u001b[0m\u001b[0;34m\u001b[0m\u001b[0m\n\u001b[1;32m      4\u001b[0m \u001b[0mmodel\u001b[0m\u001b[0;34m.\u001b[0m\u001b[0mfit\u001b[0m\u001b[0;34m(\u001b[0m\u001b[0mtrain_images\u001b[0m\u001b[0;34m,\u001b[0m \u001b[0mto_categorical\u001b[0m\u001b[0;34m(\u001b[0m\u001b[0mtrain_labels\u001b[0m\u001b[0;34m)\u001b[0m\u001b[0;34m,\u001b[0m \u001b[0mepochs\u001b[0m\u001b[0;34m=\u001b[0m\u001b[0;36m5\u001b[0m\u001b[0;34m,\u001b[0m \u001b[0mbatch_size\u001b[0m\u001b[0;34m=\u001b[0m\u001b[0;36m32\u001b[0m\u001b[0;34m)\u001b[0m\u001b[0;34m\u001b[0m\u001b[0;34m\u001b[0m\u001b[0m\n\u001b[1;32m      5\u001b[0m \u001b[0;34m\u001b[0m\u001b[0m\n",
            "\u001b[0;32m<ipython-input-2-36ba86b606fb>\u001b[0m in \u001b[0;36mcreate_model\u001b[0;34m(optimizer)\u001b[0m\n\u001b[1;32m      1\u001b[0m \u001b[0;31m# Build the model.\u001b[0m\u001b[0;34m\u001b[0m\u001b[0;34m\u001b[0m\u001b[0m\n\u001b[1;32m      2\u001b[0m \u001b[0;32mdef\u001b[0m \u001b[0mcreate_model\u001b[0m\u001b[0;34m(\u001b[0m\u001b[0moptimizer\u001b[0m\u001b[0;34m=\u001b[0m\u001b[0;34m'adam'\u001b[0m\u001b[0;34m)\u001b[0m\u001b[0;34m:\u001b[0m\u001b[0;34m\u001b[0m\u001b[0;34m\u001b[0m\u001b[0m\n\u001b[0;32m----> 3\u001b[0;31m     model = Sequential([\n\u001b[0m\u001b[1;32m      4\u001b[0m       \u001b[0mDense\u001b[0m\u001b[0;34m(\u001b[0m\u001b[0;36m64\u001b[0m\u001b[0;34m,\u001b[0m \u001b[0minput_shape\u001b[0m\u001b[0;34m=\u001b[0m\u001b[0;34m(\u001b[0m\u001b[0;36m784\u001b[0m\u001b[0;34m,\u001b[0m\u001b[0;34m)\u001b[0m\u001b[0;34m,\u001b[0m \u001b[0mactivation\u001b[0m\u001b[0;34m=\u001b[0m\u001b[0;34m'relu'\u001b[0m\u001b[0;34m)\u001b[0m\u001b[0;34m,\u001b[0m\u001b[0;34m\u001b[0m\u001b[0;34m\u001b[0m\u001b[0m\n\u001b[1;32m      5\u001b[0m       \u001b[0mDense\u001b[0m\u001b[0;34m(\u001b[0m\u001b[0;36m32\u001b[0m\u001b[0;34m,\u001b[0m \u001b[0mactivation\u001b[0m\u001b[0;34m=\u001b[0m\u001b[0;34m'relu'\u001b[0m\u001b[0;34m)\u001b[0m\u001b[0;34m,\u001b[0m\u001b[0;34m\u001b[0m\u001b[0;34m\u001b[0m\u001b[0m\n",
            "\u001b[0;31mNameError\u001b[0m: name 'Sequential' is not defined"
          ]
        }
      ],
      "source": [
        "model = create_model()\n",
        "\n",
        "# Train the model.\n",
        "model.fit(train_images, to_categorical(train_labels), epochs=5, batch_size=32)\n",
        "\n",
        "# Evaluate the model.\n",
        "loss,metrics = model.evaluate(test_images, to_categorical(test_labels))\n",
        "print('**************')\n",
        "print(f'Loss - {np.round(loss,2)}, Metrics - {np.round(metrics,3)}')"
      ]
    },
    {
      "cell_type": "code",
      "execution_count": null,
      "metadata": {
        "id": "o4mMjqT1IMoI",
        "colab": {
          "base_uri": "https://localhost:8080/"
        },
        "outputId": "3b2f4f77-a41e-49ae-890f-4f30e6a618e0"
      },
      "outputs": [
        {
          "output_type": "stream",
          "name": "stdout",
          "text": [
            "1/1 [==============================] - 0s 47ms/step\n",
            "Predictions: [7 2 1 0 4 1 4 9 5 9]\n",
            "True labels: [7 2 1 0 4 1 4 9 5 9]\n"
          ]
        }
      ],
      "source": [
        "# Predict on the first 10 test images.\n",
        "predictions = model.predict(test_images[:10])\n",
        "\n",
        "# Print our model's predictions.\n",
        "print(f'Predictions: {np.argmax(predictions, axis=1)}')\n",
        "\n",
        "# Check our predictions against the ground truths.\n",
        "print(f'True labels: {test_labels[:10]}')"
      ]
    },
    {
      "cell_type": "markdown",
      "metadata": {
        "id": "4wrbUL7ZrgRQ"
      },
      "source": [
        "#ДОМАШНЕЕ ЗАДАНИЕ\n"
      ]
    },
    {
      "cell_type": "code",
      "execution_count": null,
      "metadata": {
        "id": "4p4EVICPrxMx"
      },
      "outputs": [],
      "source": [
        "# меняю оптимизатор, добавляю слой с увеличенным числом нейронов"
      ]
    },
    {
      "cell_type": "markdown",
      "source": [],
      "metadata": {
        "id": "-2wx_FeW57Sx"
      }
    },
    {
      "cell_type": "code",
      "execution_count": null,
      "metadata": {
        "id": "7FMdBaCqrxvw"
      },
      "outputs": [],
      "source": [
        "\n",
        "def my_model(optimizer='RMSprop'):\n",
        "    model = Sequential([\n",
        "      Dense(128, input_shape=(784,), activation='relu'),\n",
        "      Dense(64, activation='relu'),\n",
        "      Dense(10, activation='softmax')\n",
        "    ])\n",
        "\n",
        "    # Compile the model.\n",
        "    model.compile(\n",
        "      optimizer=optimizer,\n",
        "      loss='categorical_crossentropy',\n",
        "      metrics=['accuracy'],\n",
        "    )\n",
        "    return model"
      ]
    },
    {
      "cell_type": "code",
      "execution_count": null,
      "metadata": {
        "id": "X_FGXcW4r_bn",
        "colab": {
          "base_uri": "https://localhost:8080/"
        },
        "outputId": "63cd1bb4-d75a-4b5c-8ddd-b500389c6d60"
      },
      "outputs": [
        {
          "output_type": "stream",
          "name": "stdout",
          "text": [
            "Model: \"sequential_2\"\n",
            "_________________________________________________________________\n",
            " Layer (type)                Output Shape              Param #   \n",
            "=================================================================\n",
            " dense_6 (Dense)             (None, 128)               100480    \n",
            "                                                                 \n",
            " dense_7 (Dense)             (None, 64)                8256      \n",
            "                                                                 \n",
            " dense_8 (Dense)             (None, 10)                650       \n",
            "                                                                 \n",
            "=================================================================\n",
            "Total params: 109,386\n",
            "Trainable params: 109,386\n",
            "Non-trainable params: 0\n",
            "_________________________________________________________________\n"
          ]
        }
      ],
      "source": [
        "dz_model = my_model()\n",
        "dz_model.summary()"
      ]
    },
    {
      "cell_type": "code",
      "execution_count": null,
      "metadata": {
        "id": "sZP_XxBW3xnE",
        "colab": {
          "base_uri": "https://localhost:8080/"
        },
        "outputId": "e1827a09-c3fe-40cf-beb4-cb9d5364605b"
      },
      "outputs": [
        {
          "output_type": "execute_result",
          "data": {
            "text/plain": [
              "array([[0., 0., 0., ..., 1., 0., 0.],\n",
              "       [0., 0., 1., ..., 0., 0., 0.],\n",
              "       [0., 1., 0., ..., 0., 0., 0.],\n",
              "       ...,\n",
              "       [0., 0., 0., ..., 0., 0., 0.],\n",
              "       [0., 0., 0., ..., 0., 0., 0.],\n",
              "       [0., 0., 0., ..., 0., 0., 0.]], dtype=float32)"
            ]
          },
          "metadata": {},
          "execution_count": 25
        }
      ],
      "source": [
        "to_categorical(test_labels)"
      ]
    },
    {
      "cell_type": "code",
      "execution_count": null,
      "metadata": {
        "id": "yNvvg9f_sAGv",
        "colab": {
          "base_uri": "https://localhost:8080/"
        },
        "outputId": "76239a53-4bba-4e9c-bb69-134eaee823c0"
      },
      "outputs": [
        {
          "output_type": "stream",
          "name": "stdout",
          "text": [
            "Epoch 1/5\n",
            "1500/1500 [==============================] - 6s 3ms/step - loss: 0.2648 - accuracy: 0.9219 - val_loss: 0.1400 - val_accuracy: 0.9589\n",
            "Epoch 2/5\n",
            "1500/1500 [==============================] - 4s 3ms/step - loss: 0.1120 - accuracy: 0.9658 - val_loss: 0.1110 - val_accuracy: 0.9667\n",
            "Epoch 3/5\n",
            "1500/1500 [==============================] - 5s 4ms/step - loss: 0.0820 - accuracy: 0.9752 - val_loss: 0.1362 - val_accuracy: 0.9629\n",
            "Epoch 4/5\n",
            "1500/1500 [==============================] - 4s 3ms/step - loss: 0.0647 - accuracy: 0.9808 - val_loss: 0.1083 - val_accuracy: 0.9731\n",
            "Epoch 5/5\n",
            "1500/1500 [==============================] - 4s 3ms/step - loss: 0.0539 - accuracy: 0.9837 - val_loss: 0.1072 - val_accuracy: 0.9736\n",
            "313/313 [==============================] - 1s 1ms/step - loss: 0.0887 - accuracy: 0.9755\n",
            "**************\n",
            "Loss - 0.09, Metrics - 0.975\n"
          ]
        }
      ],
      "source": [
        "\n",
        "dz_model.fit(train_images, to_categorical(train_labels), epochs=5, batch_size=32, validation_split=0.2)\n",
        "\n",
        "# Evaluate the model.\n",
        "loss,metrics = dz_model.evaluate(test_images, to_categorical(test_labels))\n",
        "print('**************')\n",
        "print(f'Loss - {np.round(loss,2)}, Metrics - {np.round(metrics,3)}')"
      ]
    },
    {
      "cell_type": "code",
      "execution_count": null,
      "metadata": {
        "id": "-iqSKKLpD92n",
        "colab": {
          "base_uri": "https://localhost:8080/"
        },
        "outputId": "480d284a-a482-4e42-a273-6c5001504cdf"
      },
      "outputs": [
        {
          "output_type": "stream",
          "name": "stdout",
          "text": [
            "Epoch 1/3\n",
            "750/750 [==============================] - 2s 3ms/step - loss: 0.0397 - accuracy: 0.9877 - val_loss: 0.0400 - val_accuracy: 0.9875\n",
            "Epoch 2/3\n",
            "750/750 [==============================] - 3s 4ms/step - loss: 0.0335 - accuracy: 0.9899 - val_loss: 0.0438 - val_accuracy: 0.9861\n",
            "Epoch 3/3\n",
            "750/750 [==============================] - 2s 3ms/step - loss: 0.0298 - accuracy: 0.9910 - val_loss: 0.0441 - val_accuracy: 0.9866\n",
            "313/313 [==============================] - 0s 1ms/step - loss: 0.0831 - accuracy: 0.9781\n",
            "**************\n",
            "Loss - 0.08, Metrics - 0.978\n"
          ]
        }
      ],
      "source": [
        "model_2 = my_model()\n",
        "\n",
        "# Train the model.\n",
        "model.fit(train_images, to_categorical(train_labels), epochs=3, batch_size=64, validation_split=0.2)\n",
        "\n",
        "# Evaluate the model.\n",
        "loss,metrics = model.evaluate(test_images, to_categorical(test_labels))\n",
        "print('**************')\n",
        "print(f'Loss - {np.round(loss,2)}, Metrics - {np.round(metrics,3)}')"
      ]
    },
    {
      "cell_type": "code",
      "execution_count": null,
      "metadata": {
        "id": "d6-LwKj0FEBO"
      },
      "outputs": [],
      "source": []
    },
    {
      "cell_type": "code",
      "execution_count": null,
      "metadata": {
        "id": "ZE_3ezhyFE_j",
        "colab": {
          "base_uri": "https://localhost:8080/"
        },
        "outputId": "9fa0f3d0-a686-427f-f038-7b1d229ff58a"
      },
      "outputs": [
        {
          "output_type": "stream",
          "name": "stdout",
          "text": [
            "Epoch 1/7\n",
            "375/375 [==============================] - 1s 3ms/step - loss: 0.0194 - accuracy: 0.9951 - val_loss: 0.0428 - val_accuracy: 0.9869\n",
            "Epoch 2/7\n",
            "375/375 [==============================] - 1s 3ms/step - loss: 0.0158 - accuracy: 0.9965 - val_loss: 0.0445 - val_accuracy: 0.9868\n",
            "Epoch 3/7\n",
            "375/375 [==============================] - 2s 4ms/step - loss: 0.0143 - accuracy: 0.9966 - val_loss: 0.0411 - val_accuracy: 0.9875\n",
            "Epoch 4/7\n",
            "375/375 [==============================] - 2s 4ms/step - loss: 0.0129 - accuracy: 0.9969 - val_loss: 0.0408 - val_accuracy: 0.9872\n",
            "Epoch 5/7\n",
            "375/375 [==============================] - 1s 3ms/step - loss: 0.0115 - accuracy: 0.9973 - val_loss: 0.0464 - val_accuracy: 0.9862\n",
            "Epoch 6/7\n",
            "375/375 [==============================] - 1s 3ms/step - loss: 0.0110 - accuracy: 0.9974 - val_loss: 0.0490 - val_accuracy: 0.9842\n",
            "Epoch 7/7\n",
            "375/375 [==============================] - 1s 3ms/step - loss: 0.0100 - accuracy: 0.9976 - val_loss: 0.0515 - val_accuracy: 0.9853\n",
            "313/313 [==============================] - 0s 1ms/step - loss: 0.0931 - accuracy: 0.9767\n",
            "**************\n",
            "Loss - 0.09, Metrics - 0.977\n"
          ]
        }
      ],
      "source": [
        "model_3 = my_model()\n",
        "\n",
        "# Train the model.\n",
        "model.fit(train_images, to_categorical(train_labels), epochs=7, batch_size=128, validation_split=0.2)\n",
        "\n",
        "# Evaluate the model.\n",
        "loss,metrics = model.evaluate(test_images, to_categorical(test_labels))\n",
        "print('**************')\n",
        "print(f'Loss - {np.round(loss,2)}, Metrics - {np.round(metrics,3)}')"
      ]
    },
    {
      "cell_type": "code",
      "execution_count": 1,
      "metadata": {
        "id": "TIGcLJ8gsS8K",
        "colab": {
          "base_uri": "https://localhost:8080/",
          "height": 207
        },
        "outputId": "917eb5a6-3b2c-4522-c418-a56fd36eb422"
      },
      "outputs": [
        {
          "output_type": "error",
          "ename": "NameError",
          "evalue": "name 'model' is not defined",
          "traceback": [
            "\u001b[0;31m---------------------------------------------------------------------------\u001b[0m",
            "\u001b[0;31mNameError\u001b[0m                                 Traceback (most recent call last)",
            "\u001b[0;32m<ipython-input-1-8eaf0e64349a>\u001b[0m in \u001b[0;36m<cell line: 2>\u001b[0;34m()\u001b[0m\n\u001b[1;32m      1\u001b[0m \u001b[0;31m# Predict on the first 10 test images.\u001b[0m\u001b[0;34m\u001b[0m\u001b[0;34m\u001b[0m\u001b[0m\n\u001b[0;32m----> 2\u001b[0;31m \u001b[0mpredictions\u001b[0m \u001b[0;34m=\u001b[0m \u001b[0mmodel\u001b[0m\u001b[0;34m.\u001b[0m\u001b[0mpredict\u001b[0m\u001b[0;34m(\u001b[0m\u001b[0mtest_images\u001b[0m\u001b[0;34m[\u001b[0m\u001b[0;34m:\u001b[0m\u001b[0;36m20\u001b[0m\u001b[0;34m]\u001b[0m\u001b[0;34m)\u001b[0m\u001b[0;34m\u001b[0m\u001b[0;34m\u001b[0m\u001b[0m\n\u001b[0m\u001b[1;32m      3\u001b[0m \u001b[0;34m\u001b[0m\u001b[0m\n\u001b[1;32m      4\u001b[0m \u001b[0;31m# Print our model's predictions.\u001b[0m\u001b[0;34m\u001b[0m\u001b[0;34m\u001b[0m\u001b[0m\n\u001b[1;32m      5\u001b[0m \u001b[0mprint\u001b[0m\u001b[0;34m(\u001b[0m\u001b[0;34mf'Predictions: {np.argmax(predictions, axis=1)}'\u001b[0m\u001b[0;34m)\u001b[0m\u001b[0;34m\u001b[0m\u001b[0;34m\u001b[0m\u001b[0m\n",
            "\u001b[0;31mNameError\u001b[0m: name 'model' is not defined"
          ]
        }
      ],
      "source": [
        "# Predict on the first 10 test images.\n",
        "predictions = model.predict(test_images[:20])\n",
        "\n",
        "# Print our model's predictions.\n",
        "print(f'Predictions: {np.argmax(predictions, axis=1)}')\n",
        "\n",
        "# Check our predictions against the ground truths.\n",
        "print(f'True labels: {test_labels[:20]}')"
      ]
    },
    {
      "cell_type": "code",
      "execution_count": null,
      "metadata": {
        "id": "OFWSJM1NDXZo"
      },
      "outputs": [],
      "source": []
    },
    {
      "cell_type": "code",
      "execution_count": null,
      "metadata": {
        "id": "od1ewmcMDbWA"
      },
      "outputs": [],
      "source": [
        "batch_size = [70, 80, 90]\n",
        "epochs = [18, 25]\n",
        "optimizer = ['RMSprop', 'Adam']"
      ]
    },
    {
      "cell_type": "code",
      "execution_count": null,
      "metadata": {
        "id": "OC4CZrmVDcs_"
      },
      "outputs": [],
      "source": []
    },
    {
      "cell_type": "code",
      "execution_count": null,
      "metadata": {
        "id": "TQl9xR6KDgnq",
        "colab": {
          "base_uri": "https://localhost:8080/"
        },
        "outputId": "2da32fca-c3b6-42de-9df6-d02be1791d0a"
      },
      "outputs": [
        {
          "output_type": "stream",
          "name": "stdout",
          "text": [
            "Epoch 1/18\n",
            "572/572 [==============================] - 3s 4ms/step - loss: 0.3324 - accuracy: 0.9050\n",
            "Epoch 2/18\n",
            "572/572 [==============================] - 2s 3ms/step - loss: 0.1457 - accuracy: 0.9567\n",
            "Epoch 3/18\n",
            "572/572 [==============================] - 2s 3ms/step - loss: 0.1008 - accuracy: 0.9697\n",
            "Epoch 4/18\n",
            "572/572 [==============================] - 2s 3ms/step - loss: 0.0758 - accuracy: 0.9764\n",
            "Epoch 5/18\n",
            "572/572 [==============================] - 2s 3ms/step - loss: 0.0606 - accuracy: 0.9814\n",
            "Epoch 6/18\n",
            "572/572 [==============================] - 2s 3ms/step - loss: 0.0479 - accuracy: 0.9851\n",
            "Epoch 7/18\n",
            "572/572 [==============================] - 2s 3ms/step - loss: 0.0384 - accuracy: 0.9882\n",
            "Epoch 8/18\n",
            "572/572 [==============================] - 2s 3ms/step - loss: 0.0317 - accuracy: 0.9900\n",
            "Epoch 9/18\n",
            "572/572 [==============================] - 2s 4ms/step - loss: 0.0262 - accuracy: 0.9922\n",
            "Epoch 10/18\n",
            "572/572 [==============================] - 2s 3ms/step - loss: 0.0214 - accuracy: 0.9930\n",
            "Epoch 11/18\n",
            "572/572 [==============================] - 2s 3ms/step - loss: 0.0180 - accuracy: 0.9943\n",
            "Epoch 12/18\n",
            "572/572 [==============================] - 2s 3ms/step - loss: 0.0148 - accuracy: 0.9955\n",
            "Epoch 13/18\n",
            "572/572 [==============================] - 2s 3ms/step - loss: 0.0123 - accuracy: 0.9960\n",
            "Epoch 14/18\n",
            "572/572 [==============================] - 2s 3ms/step - loss: 0.0106 - accuracy: 0.9966\n",
            "Epoch 15/18\n",
            "572/572 [==============================] - 2s 3ms/step - loss: 0.0087 - accuracy: 0.9974\n",
            "Epoch 16/18\n",
            "572/572 [==============================] - 2s 4ms/step - loss: 0.0072 - accuracy: 0.9975\n",
            "Epoch 17/18\n",
            "572/572 [==============================] - 2s 3ms/step - loss: 0.0064 - accuracy: 0.9979\n",
            "Epoch 18/18\n",
            "572/572 [==============================] - 2s 3ms/step - loss: 0.0053 - accuracy: 0.9987\n",
            "286/286 [==============================] - 0s 1ms/step\n",
            "Epoch 1/18\n",
            "572/572 [==============================] - 2s 3ms/step - loss: 0.3199 - accuracy: 0.9088\n",
            "Epoch 2/18\n",
            "572/572 [==============================] - 2s 3ms/step - loss: 0.1415 - accuracy: 0.9579\n",
            "Epoch 3/18\n",
            "572/572 [==============================] - 2s 3ms/step - loss: 0.0983 - accuracy: 0.9706\n",
            "Epoch 4/18\n",
            "572/572 [==============================] - 2s 4ms/step - loss: 0.0720 - accuracy: 0.9773\n",
            "Epoch 5/18\n",
            "572/572 [==============================] - 2s 3ms/step - loss: 0.0563 - accuracy: 0.9826\n",
            "Epoch 6/18\n",
            "572/572 [==============================] - 2s 3ms/step - loss: 0.0447 - accuracy: 0.9861\n",
            "Epoch 7/18\n",
            "572/572 [==============================] - 2s 3ms/step - loss: 0.0361 - accuracy: 0.9888\n",
            "Epoch 8/18\n",
            "572/572 [==============================] - 2s 3ms/step - loss: 0.0288 - accuracy: 0.9914\n",
            "Epoch 9/18\n",
            "572/572 [==============================] - 2s 3ms/step - loss: 0.0237 - accuracy: 0.9924\n",
            "Epoch 10/18\n",
            "572/572 [==============================] - 2s 3ms/step - loss: 0.0194 - accuracy: 0.9941\n",
            "Epoch 11/18\n",
            "572/572 [==============================] - 2s 4ms/step - loss: 0.0156 - accuracy: 0.9953\n",
            "Epoch 12/18\n",
            "572/572 [==============================] - 2s 3ms/step - loss: 0.0123 - accuracy: 0.9962\n",
            "Epoch 13/18\n",
            "572/572 [==============================] - 2s 3ms/step - loss: 0.0109 - accuracy: 0.9963\n",
            "Epoch 14/18\n",
            "572/572 [==============================] - 2s 3ms/step - loss: 0.0084 - accuracy: 0.9976\n",
            "Epoch 15/18\n",
            "572/572 [==============================] - 2s 3ms/step - loss: 0.0075 - accuracy: 0.9977\n",
            "Epoch 16/18\n",
            "572/572 [==============================] - 2s 3ms/step - loss: 0.0064 - accuracy: 0.9979\n",
            "Epoch 17/18\n",
            "572/572 [==============================] - 2s 3ms/step - loss: 0.0058 - accuracy: 0.9980\n",
            "Epoch 18/18\n",
            "572/572 [==============================] - 2s 4ms/step - loss: 0.0043 - accuracy: 0.9987\n",
            "286/286 [==============================] - 1s 2ms/step\n",
            "Epoch 1/18\n",
            "572/572 [==============================] - 2s 3ms/step - loss: 0.3297 - accuracy: 0.9061\n",
            "Epoch 2/18\n",
            "572/572 [==============================] - 2s 3ms/step - loss: 0.1409 - accuracy: 0.9574\n",
            "Epoch 3/18\n",
            "572/572 [==============================] - 2s 3ms/step - loss: 0.0978 - accuracy: 0.9709\n",
            "Epoch 4/18\n",
            "572/572 [==============================] - 2s 3ms/step - loss: 0.0723 - accuracy: 0.9789\n",
            "Epoch 5/18\n",
            "572/572 [==============================] - 2s 3ms/step - loss: 0.0565 - accuracy: 0.9829\n",
            "Epoch 6/18\n",
            "572/572 [==============================] - 2s 4ms/step - loss: 0.0439 - accuracy: 0.9864\n",
            "Epoch 7/18\n",
            "572/572 [==============================] - 2s 3ms/step - loss: 0.0359 - accuracy: 0.9890\n",
            "Epoch 8/18\n",
            "572/572 [==============================] - 2s 3ms/step - loss: 0.0273 - accuracy: 0.9913\n",
            "Epoch 9/18\n",
            "572/572 [==============================] - 2s 3ms/step - loss: 0.0222 - accuracy: 0.9926\n",
            "Epoch 10/18\n",
            "572/572 [==============================] - 2s 3ms/step - loss: 0.0180 - accuracy: 0.9944\n",
            "Epoch 11/18\n",
            "572/572 [==============================] - 2s 3ms/step - loss: 0.0148 - accuracy: 0.9951\n",
            "Epoch 12/18\n",
            "572/572 [==============================] - 2s 3ms/step - loss: 0.0115 - accuracy: 0.9959\n",
            "Epoch 13/18\n",
            "572/572 [==============================] - 2s 4ms/step - loss: 0.0088 - accuracy: 0.9973\n",
            "Epoch 14/18\n",
            "572/572 [==============================] - 2s 3ms/step - loss: 0.0083 - accuracy: 0.9975\n",
            "Epoch 15/18\n",
            "572/572 [==============================] - 2s 3ms/step - loss: 0.0063 - accuracy: 0.9980\n",
            "Epoch 16/18\n",
            "572/572 [==============================] - 2s 3ms/step - loss: 0.0054 - accuracy: 0.9984\n",
            "Epoch 17/18\n",
            "572/572 [==============================] - 2s 3ms/step - loss: 0.0045 - accuracy: 0.9985\n",
            "Epoch 18/18\n",
            "572/572 [==============================] - 2s 3ms/step - loss: 0.0036 - accuracy: 0.9990\n",
            "286/286 [==============================] - 0s 1ms/step\n",
            "Epoch 1/18\n",
            "572/572 [==============================] - 2s 3ms/step - loss: 0.3262 - accuracy: 0.9054\n",
            "Epoch 2/18\n",
            "572/572 [==============================] - 2s 4ms/step - loss: 0.1450 - accuracy: 0.9568\n",
            "Epoch 3/18\n",
            "572/572 [==============================] - 2s 3ms/step - loss: 0.1024 - accuracy: 0.9690\n",
            "Epoch 4/18\n",
            "572/572 [==============================] - 2s 3ms/step - loss: 0.0774 - accuracy: 0.9771\n",
            "Epoch 5/18\n",
            "572/572 [==============================] - 2s 3ms/step - loss: 0.0614 - accuracy: 0.9815\n",
            "Epoch 6/18\n",
            "572/572 [==============================] - 2s 3ms/step - loss: 0.0477 - accuracy: 0.9854\n",
            "Epoch 7/18\n",
            "572/572 [==============================] - 2s 3ms/step - loss: 0.0398 - accuracy: 0.9877\n",
            "Epoch 8/18\n",
            "572/572 [==============================] - 2s 3ms/step - loss: 0.0315 - accuracy: 0.9900\n",
            "Epoch 9/18\n",
            "572/572 [==============================] - 2s 4ms/step - loss: 0.0257 - accuracy: 0.9920\n",
            "Epoch 10/18\n",
            "572/572 [==============================] - 2s 3ms/step - loss: 0.0206 - accuracy: 0.9938\n",
            "Epoch 11/18\n",
            "572/572 [==============================] - 2s 3ms/step - loss: 0.0168 - accuracy: 0.9946\n",
            "Epoch 12/18\n",
            "572/572 [==============================] - 2s 3ms/step - loss: 0.0146 - accuracy: 0.9957\n",
            "Epoch 13/18\n",
            "572/572 [==============================] - 2s 3ms/step - loss: 0.0122 - accuracy: 0.9962\n",
            "Epoch 14/18\n",
            "572/572 [==============================] - 2s 3ms/step - loss: 0.0088 - accuracy: 0.9973\n",
            "Epoch 15/18\n",
            "572/572 [==============================] - 2s 3ms/step - loss: 0.0083 - accuracy: 0.9974\n",
            "Epoch 16/18\n",
            "572/572 [==============================] - 2s 3ms/step - loss: 0.0069 - accuracy: 0.9976\n",
            "Epoch 17/18\n",
            "572/572 [==============================] - 2s 4ms/step - loss: 0.0060 - accuracy: 0.9981\n",
            "Epoch 18/18\n",
            "572/572 [==============================] - 2s 3ms/step - loss: 0.0055 - accuracy: 0.9984\n",
            "286/286 [==============================] - 0s 1ms/step\n",
            "Epoch 1/18\n",
            "572/572 [==============================] - 2s 3ms/step - loss: 0.3318 - accuracy: 0.9042\n",
            "Epoch 2/18\n",
            "572/572 [==============================] - 2s 3ms/step - loss: 0.1473 - accuracy: 0.9557\n",
            "Epoch 3/18\n",
            "572/572 [==============================] - 2s 3ms/step - loss: 0.1009 - accuracy: 0.9695\n",
            "Epoch 4/18\n",
            "572/572 [==============================] - 2s 3ms/step - loss: 0.0765 - accuracy: 0.9765\n",
            "Epoch 5/18\n",
            "572/572 [==============================] - 2s 3ms/step - loss: 0.0602 - accuracy: 0.9818\n",
            "Epoch 6/18\n",
            "572/572 [==============================] - 2s 4ms/step - loss: 0.0488 - accuracy: 0.9849\n",
            "Epoch 7/18\n",
            "572/572 [==============================] - 2s 3ms/step - loss: 0.0376 - accuracy: 0.9883\n",
            "Epoch 8/18\n",
            "572/572 [==============================] - 2s 3ms/step - loss: 0.0323 - accuracy: 0.9897\n",
            "Epoch 9/18\n",
            "572/572 [==============================] - 2s 3ms/step - loss: 0.0253 - accuracy: 0.9915\n",
            "Epoch 10/18\n",
            "572/572 [==============================] - 2s 3ms/step - loss: 0.0204 - accuracy: 0.9937\n",
            "Epoch 11/18\n",
            "572/572 [==============================] - 2s 3ms/step - loss: 0.0167 - accuracy: 0.9948\n",
            "Epoch 12/18\n",
            "572/572 [==============================] - 2s 3ms/step - loss: 0.0135 - accuracy: 0.9960\n",
            "Epoch 13/18\n",
            "572/572 [==============================] - 2s 4ms/step - loss: 0.0123 - accuracy: 0.9963\n",
            "Epoch 14/18\n",
            "572/572 [==============================] - 2s 3ms/step - loss: 0.0107 - accuracy: 0.9964\n",
            "Epoch 15/18\n",
            "572/572 [==============================] - 2s 3ms/step - loss: 0.0077 - accuracy: 0.9975\n",
            "Epoch 16/18\n",
            "572/572 [==============================] - 2s 3ms/step - loss: 0.0071 - accuracy: 0.9980\n",
            "Epoch 17/18\n",
            "572/572 [==============================] - 2s 3ms/step - loss: 0.0057 - accuracy: 0.9980\n",
            "Epoch 18/18\n",
            "572/572 [==============================] - 2s 3ms/step - loss: 0.0051 - accuracy: 0.9985\n",
            "286/286 [==============================] - 0s 1ms/step\n",
            "Epoch 1/18\n",
            "572/572 [==============================] - 3s 4ms/step - loss: 0.3357 - accuracy: 0.9061\n",
            "Epoch 2/18\n",
            "572/572 [==============================] - 2s 3ms/step - loss: 0.1478 - accuracy: 0.9552\n",
            "Epoch 3/18\n",
            "572/572 [==============================] - 2s 3ms/step - loss: 0.1002 - accuracy: 0.9684\n",
            "Epoch 4/18\n",
            "572/572 [==============================] - 2s 3ms/step - loss: 0.0746 - accuracy: 0.9772\n",
            "Epoch 5/18\n",
            "572/572 [==============================] - 2s 3ms/step - loss: 0.0580 - accuracy: 0.9822\n",
            "Epoch 6/18\n",
            "572/572 [==============================] - 2s 3ms/step - loss: 0.0467 - accuracy: 0.9859\n",
            "Epoch 7/18\n",
            "572/572 [==============================] - 2s 3ms/step - loss: 0.0376 - accuracy: 0.9886\n",
            "Epoch 8/18\n",
            "572/572 [==============================] - 2s 3ms/step - loss: 0.0309 - accuracy: 0.9904\n",
            "Epoch 9/18\n",
            "572/572 [==============================] - 2s 4ms/step - loss: 0.0249 - accuracy: 0.9924\n",
            "Epoch 10/18\n",
            "572/572 [==============================] - 2s 3ms/step - loss: 0.0158 - accuracy: 0.9950\n",
            "Epoch 12/18\n",
            "572/572 [==============================] - 2s 3ms/step - loss: 0.0142 - accuracy: 0.9956\n",
            "Epoch 13/18\n",
            "572/572 [==============================] - 2s 3ms/step - loss: 0.0116 - accuracy: 0.9963\n",
            "Epoch 14/18\n",
            "572/572 [==============================] - 2s 3ms/step - loss: 0.0085 - accuracy: 0.9974\n",
            "Epoch 15/18\n",
            "572/572 [==============================] - 2s 3ms/step - loss: 0.0071 - accuracy: 0.9980\n",
            "Epoch 16/18\n",
            "572/572 [==============================] - 2s 4ms/step - loss: 0.0056 - accuracy: 0.9982\n",
            "Epoch 17/18\n",
            "572/572 [==============================] - 2s 3ms/step - loss: 0.0054 - accuracy: 0.9984\n",
            "Epoch 18/18\n",
            "572/572 [==============================] - 2s 3ms/step - loss: 0.0035 - accuracy: 0.9987\n",
            "286/286 [==============================] - 0s 1ms/step\n",
            "Epoch 1/25\n",
            "572/572 [==============================] - 2s 3ms/step - loss: 0.3274 - accuracy: 0.9074\n",
            "Epoch 2/25\n",
            "572/572 [==============================] - 2s 3ms/step - loss: 0.1478 - accuracy: 0.9564\n",
            "Epoch 3/25\n",
            "572/572 [==============================] - 2s 3ms/step - loss: 0.1022 - accuracy: 0.9690\n",
            "Epoch 4/25\n",
            "572/572 [==============================] - 2s 3ms/step - loss: 0.0768 - accuracy: 0.9764\n",
            "Epoch 5/25\n",
            "572/572 [==============================] - 2s 4ms/step - loss: 0.0599 - accuracy: 0.9821\n",
            "Epoch 6/25\n",
            "572/572 [==============================] - 2s 3ms/step - loss: 0.0487 - accuracy: 0.9847\n",
            "Epoch 7/25\n",
            "572/572 [==============================] - 2s 3ms/step - loss: 0.0391 - accuracy: 0.9876\n",
            "Epoch 8/25\n",
            "572/572 [==============================] - 2s 3ms/step - loss: 0.0318 - accuracy: 0.9897\n",
            "Epoch 9/25\n",
            "572/572 [==============================] - 2s 3ms/step - loss: 0.0274 - accuracy: 0.9913\n",
            "Epoch 10/25\n",
            "572/572 [==============================] - 2s 3ms/step - loss: 0.0232 - accuracy: 0.9925\n",
            "Epoch 11/25\n",
            "572/572 [==============================] - 2s 3ms/step - loss: 0.0173 - accuracy: 0.9945\n",
            "Epoch 12/25\n",
            "572/572 [==============================] - 2s 4ms/step - loss: 0.0149 - accuracy: 0.9952\n",
            "Epoch 13/25\n",
            "572/572 [==============================] - 2s 3ms/step - loss: 0.0128 - accuracy: 0.9962\n",
            "Epoch 14/25\n",
            "572/572 [==============================] - 2s 3ms/step - loss: 0.0106 - accuracy: 0.9968\n",
            "Epoch 15/25\n",
            "572/572 [==============================] - 2s 3ms/step - loss: 0.0089 - accuracy: 0.9971\n",
            "Epoch 16/25\n",
            "572/572 [==============================] - 2s 3ms/step - loss: 0.0071 - accuracy: 0.9977\n",
            "Epoch 17/25\n",
            "572/572 [==============================] - 2s 3ms/step - loss: 0.0065 - accuracy: 0.9978\n",
            "Epoch 18/25\n",
            "572/572 [==============================] - 2s 3ms/step - loss: 0.0046 - accuracy: 0.9985\n",
            "Epoch 19/25\n",
            "572/572 [==============================] - 2s 4ms/step - loss: 0.0038 - accuracy: 0.9987\n",
            "Epoch 20/25\n",
            "572/572 [==============================] - 2s 3ms/step - loss: 0.0036 - accuracy: 0.9990\n",
            "Epoch 21/25\n",
            "572/572 [==============================] - 2s 3ms/step - loss: 0.0029 - accuracy: 0.9991\n",
            "Epoch 22/25\n",
            "572/572 [==============================] - 2s 3ms/step - loss: 0.0022 - accuracy: 0.9992\n",
            "Epoch 23/25\n",
            "572/572 [==============================] - 2s 3ms/step - loss: 0.0020 - accuracy: 0.9993\n",
            "Epoch 24/25\n",
            "572/572 [==============================] - 2s 3ms/step - loss: 0.0016 - accuracy: 0.9994\n",
            "Epoch 25/25\n",
            "572/572 [==============================] - 2s 3ms/step - loss: 0.0011 - accuracy: 0.9996\n",
            "286/286 [==============================] - 0s 1ms/step\n",
            "Epoch 1/25\n",
            "572/572 [==============================] - 2s 3ms/step - loss: 0.3239 - accuracy: 0.9071\n",
            "Epoch 2/25\n",
            "572/572 [==============================] - 2s 3ms/step - loss: 0.1465 - accuracy: 0.9563\n",
            "Epoch 3/25\n",
            "572/572 [==============================] - 2s 3ms/step - loss: 0.1013 - accuracy: 0.9696\n",
            "Epoch 4/25\n",
            "572/572 [==============================] - 2s 4ms/step - loss: 0.0769 - accuracy: 0.9757\n",
            "Epoch 5/25\n",
            "572/572 [==============================] - 2s 3ms/step - loss: 0.0593 - accuracy: 0.9811\n",
            "Epoch 6/25\n",
            "572/572 [==============================] - 2s 3ms/step - loss: 0.0484 - accuracy: 0.9847\n",
            "Epoch 7/25\n",
            "572/572 [==============================] - 2s 3ms/step - loss: 0.0387 - accuracy: 0.9879\n",
            "Epoch 8/25\n",
            "572/572 [==============================] - 2s 3ms/step - loss: 0.0311 - accuracy: 0.9900\n",
            "Epoch 9/25\n",
            "572/572 [==============================] - 2s 3ms/step - loss: 0.0251 - accuracy: 0.9923\n",
            "Epoch 10/25\n",
            "572/572 [==============================] - 2s 3ms/step - loss: 0.0212 - accuracy: 0.9937\n",
            "Epoch 11/25\n",
            "572/572 [==============================] - 2s 4ms/step - loss: 0.0176 - accuracy: 0.9943\n",
            "Epoch 12/25\n",
            "572/572 [==============================] - 2s 3ms/step - loss: 0.0144 - accuracy: 0.9955\n",
            "Epoch 13/25\n",
            "572/572 [==============================] - 2s 3ms/step - loss: 0.0109 - accuracy: 0.9964\n",
            "Epoch 14/25\n",
            "572/572 [==============================] - 2s 3ms/step - loss: 0.0101 - accuracy: 0.9968\n",
            "Epoch 15/25\n",
            "572/572 [==============================] - 2s 3ms/step - loss: 0.0084 - accuracy: 0.9971\n",
            "Epoch 16/25\n",
            "572/572 [==============================] - 2s 3ms/step - loss: 0.0072 - accuracy: 0.9976\n",
            "Epoch 17/25\n",
            "572/572 [==============================] - 2s 3ms/step - loss: 0.0063 - accuracy: 0.9978\n",
            "Epoch 18/25\n",
            "572/572 [==============================] - 2s 4ms/step - loss: 0.0047 - accuracy: 0.9986\n",
            "Epoch 19/25\n",
            "572/572 [==============================] - 2s 3ms/step - loss: 0.0043 - accuracy: 0.9985\n",
            "Epoch 20/25\n",
            "572/572 [==============================] - 2s 3ms/step - loss: 0.0034 - accuracy: 0.9988\n",
            "Epoch 21/25\n",
            "572/572 [==============================] - 2s 3ms/step - loss: 0.0034 - accuracy: 0.9990\n",
            "Epoch 22/25\n",
            "572/572 [==============================] - 2s 3ms/step - loss: 0.0016 - accuracy: 0.9997\n",
            "Epoch 23/25\n",
            "572/572 [==============================] - 2s 3ms/step - loss: 0.0025 - accuracy: 0.9992\n",
            "Epoch 24/25\n",
            "572/572 [==============================] - 2s 3ms/step - loss: 0.0021 - accuracy: 0.9992\n",
            "Epoch 25/25\n",
            "572/572 [==============================] - 2s 3ms/step - loss: 0.0011 - accuracy: 0.9997\n",
            "286/286 [==============================] - 1s 2ms/step\n",
            "Epoch 1/25\n",
            "572/572 [==============================] - 2s 3ms/step - loss: 0.3354 - accuracy: 0.9033\n",
            "Epoch 2/25\n",
            "572/572 [==============================] - 2s 3ms/step - loss: 0.1422 - accuracy: 0.9576\n",
            "Epoch 3/25\n",
            "572/572 [==============================] - 2s 3ms/step - loss: 0.0983 - accuracy: 0.9706\n",
            "Epoch 4/25\n",
            "572/572 [==============================] - 2s 3ms/step - loss: 0.0741 - accuracy: 0.9768\n",
            "Epoch 5/25\n",
            "572/572 [==============================] - 2s 3ms/step - loss: 0.0563 - accuracy: 0.9826\n",
            "Epoch 6/25\n",
            "572/572 [==============================] - 2s 4ms/step - loss: 0.0453 - accuracy: 0.9865\n",
            "Epoch 7/25\n",
            "572/572 [==============================] - 2s 3ms/step - loss: 0.0365 - accuracy: 0.9888\n",
            "Epoch 8/25\n",
            "572/572 [==============================] - 2s 3ms/step - loss: 0.0285 - accuracy: 0.9909\n",
            "Epoch 9/25\n",
            "572/572 [==============================] - 2s 3ms/step - loss: 0.0242 - accuracy: 0.9923\n",
            "Epoch 10/25\n",
            "572/572 [==============================] - 2s 3ms/step - loss: 0.0197 - accuracy: 0.9937\n",
            "Epoch 11/25\n",
            "572/572 [==============================] - 2s 3ms/step - loss: 0.0152 - accuracy: 0.9953\n",
            "Epoch 12/25\n",
            "572/572 [==============================] - 2s 3ms/step - loss: 0.0130 - accuracy: 0.9959\n",
            "Epoch 13/25\n",
            "572/572 [==============================] - 2s 3ms/step - loss: 0.0112 - accuracy: 0.9964\n",
            "Epoch 14/25\n",
            "572/572 [==============================] - 2s 4ms/step - loss: 0.0081 - accuracy: 0.9973\n",
            "Epoch 15/25\n",
            "572/572 [==============================] - 2s 3ms/step - loss: 0.0075 - accuracy: 0.9976\n",
            "Epoch 16/25\n",
            "572/572 [==============================] - 2s 3ms/step - loss: 0.0060 - accuracy: 0.9980\n",
            "Epoch 17/25\n",
            "572/572 [==============================] - 2s 3ms/step - loss: 0.0046 - accuracy: 0.9985\n",
            "Epoch 18/25\n",
            "572/572 [==============================] - 2s 3ms/step - loss: 0.0041 - accuracy: 0.9988\n",
            "Epoch 19/25\n",
            "572/572 [==============================] - 2s 3ms/step - loss: 0.0046 - accuracy: 0.9984\n",
            "Epoch 20/25\n",
            "572/572 [==============================] - 2s 3ms/step - loss: 0.0032 - accuracy: 0.9989\n",
            "Epoch 21/25\n",
            "572/572 [==============================] - 2s 4ms/step - loss: 0.0033 - accuracy: 0.9989\n",
            "Epoch 22/25\n",
            "572/572 [==============================] - 2s 3ms/step - loss: 0.0025 - accuracy: 0.9992\n",
            "Epoch 23/25\n",
            "572/572 [==============================] - 2s 3ms/step - loss: 0.0012 - accuracy: 0.9996\n",
            "Epoch 24/25\n",
            "572/572 [==============================] - 2s 3ms/step - loss: 0.0016 - accuracy: 0.9995\n",
            "Epoch 25/25\n",
            "572/572 [==============================] - 2s 3ms/step - loss: 0.0012 - accuracy: 0.9997\n",
            "286/286 [==============================] - 0s 1ms/step\n",
            "Epoch 1/25\n",
            "572/572 [==============================] - 2s 3ms/step - loss: 0.3266 - accuracy: 0.9071\n",
            "Epoch 2/25\n",
            "572/572 [==============================] - 2s 3ms/step - loss: 0.1464 - accuracy: 0.9563\n",
            "Epoch 3/25\n",
            "572/572 [==============================] - 2s 3ms/step - loss: 0.1016 - accuracy: 0.9701\n",
            "Epoch 4/25\n",
            "572/572 [==============================] - 2s 3ms/step - loss: 0.0768 - accuracy: 0.9761\n",
            "Epoch 5/25\n",
            "572/572 [==============================] - 2s 4ms/step - loss: 0.0616 - accuracy: 0.9812\n",
            "Epoch 6/25\n",
            "572/572 [==============================] - 2s 3ms/step - loss: 0.0485 - accuracy: 0.9843\n",
            "Epoch 7/25\n",
            "572/572 [==============================] - 2s 3ms/step - loss: 0.0397 - accuracy: 0.9875\n",
            "Epoch 8/25\n",
            "572/572 [==============================] - 2s 3ms/step - loss: 0.0325 - accuracy: 0.9895\n",
            "Epoch 9/25\n",
            "572/572 [==============================] - 2s 3ms/step - loss: 0.0263 - accuracy: 0.9920\n",
            "Epoch 10/25\n",
            "572/572 [==============================] - 2s 3ms/step - loss: 0.0220 - accuracy: 0.9933\n",
            "Epoch 11/25\n",
            "572/572 [==============================] - 2s 3ms/step - loss: 0.0189 - accuracy: 0.9941\n",
            "Epoch 12/25\n",
            "572/572 [==============================] - 2s 3ms/step - loss: 0.0149 - accuracy: 0.9955\n",
            "Epoch 13/25\n",
            "572/572 [==============================] - 2s 4ms/step - loss: 0.0133 - accuracy: 0.9958\n",
            "Epoch 14/25\n",
            "572/572 [==============================] - 2s 3ms/step - loss: 0.0104 - accuracy: 0.9971\n",
            "Epoch 15/25\n",
            "572/572 [==============================] - 2s 3ms/step - loss: 0.0084 - accuracy: 0.9972\n",
            "Epoch 16/25\n",
            "572/572 [==============================] - 2s 3ms/step - loss: 0.0078 - accuracy: 0.9975\n",
            "Epoch 17/25\n",
            "572/572 [==============================] - 2s 3ms/step - loss: 0.0059 - accuracy: 0.9980\n",
            "Epoch 18/25\n",
            "572/572 [==============================] - 2s 3ms/step - loss: 0.0049 - accuracy: 0.9984\n",
            "Epoch 19/25\n",
            "572/572 [==============================] - 2s 3ms/step - loss: 0.0046 - accuracy: 0.9985\n",
            "Epoch 20/25\n",
            "572/572 [==============================] - 2s 4ms/step - loss: 0.0036 - accuracy: 0.9987\n",
            "Epoch 21/25\n",
            "572/572 [==============================] - 2s 3ms/step - loss: 0.0024 - accuracy: 0.9994\n",
            "Epoch 22/25\n",
            "572/572 [==============================] - 2s 3ms/step - loss: 0.0025 - accuracy: 0.9993\n",
            "Epoch 23/25\n",
            "572/572 [==============================] - 2s 3ms/step - loss: 0.0025 - accuracy: 0.9994\n",
            "Epoch 24/25\n",
            "572/572 [==============================] - 2s 3ms/step - loss: 0.0015 - accuracy: 0.9996\n",
            "Epoch 25/25\n",
            "572/572 [==============================] - 2s 3ms/step - loss: 7.0777e-04 - accuracy: 0.9998\n",
            "286/286 [==============================] - 0s 1ms/step\n",
            "Epoch 1/25\n",
            "572/572 [==============================] - 2s 3ms/step - loss: 0.3347 - accuracy: 0.9044\n",
            "Epoch 2/25\n",
            "572/572 [==============================] - 2s 3ms/step - loss: 0.1479 - accuracy: 0.9557\n",
            "Epoch 3/25\n",
            "572/572 [==============================] - 2s 3ms/step - loss: 0.1033 - accuracy: 0.9691\n",
            "Epoch 4/25\n",
            "572/572 [==============================] - 2s 4ms/step - loss: 0.0777 - accuracy: 0.9758\n",
            "Epoch 5/25\n",
            "572/572 [==============================] - 2s 3ms/step - loss: 0.0607 - accuracy: 0.9812\n",
            "Epoch 6/25\n",
            "572/572 [==============================] - 2s 3ms/step - loss: 0.0490 - accuracy: 0.9851\n",
            "Epoch 7/25\n",
            "572/572 [==============================] - 2s 3ms/step - loss: 0.0402 - accuracy: 0.9877\n",
            "Epoch 8/25\n",
            "572/572 [==============================] - 2s 3ms/step - loss: 0.0313 - accuracy: 0.9898\n",
            "Epoch 9/25\n",
            "572/572 [==============================] - 2s 3ms/step - loss: 0.0268 - accuracy: 0.9918\n",
            "Epoch 10/25\n",
            "572/572 [==============================] - 2s 3ms/step - loss: 0.0216 - accuracy: 0.9929\n",
            "Epoch 11/25\n",
            "572/572 [==============================] - 2s 4ms/step - loss: 0.0178 - accuracy: 0.9944\n",
            "Epoch 12/25\n",
            "572/572 [==============================] - 2s 3ms/step - loss: 0.0145 - accuracy: 0.9951\n",
            "Epoch 13/25\n",
            "572/572 [==============================] - 2s 3ms/step - loss: 0.0124 - accuracy: 0.9962\n",
            "Epoch 14/25\n",
            "572/572 [==============================] - 2s 3ms/step - loss: 0.0102 - accuracy: 0.9970\n",
            "Epoch 15/25\n",
            "572/572 [==============================] - 2s 3ms/step - loss: 0.0082 - accuracy: 0.9973\n",
            "Epoch 16/25\n",
            "572/572 [==============================] - 2s 3ms/step - loss: 0.0075 - accuracy: 0.9978\n",
            "Epoch 17/25\n",
            "572/572 [==============================] - 2s 3ms/step - loss: 0.0066 - accuracy: 0.9980\n",
            "Epoch 18/25\n",
            "572/572 [==============================] - 2s 3ms/step - loss: 0.0046 - accuracy: 0.9986\n",
            "Epoch 19/25\n",
            "572/572 [==============================] - 2s 4ms/step - loss: 0.0039 - accuracy: 0.9988\n",
            "Epoch 20/25\n",
            "572/572 [==============================] - 2s 3ms/step - loss: 0.0036 - accuracy: 0.9988\n",
            "Epoch 21/25\n",
            "572/572 [==============================] - 2s 3ms/step - loss: 0.0033 - accuracy: 0.9991\n",
            "Epoch 22/25\n",
            "572/572 [==============================] - 2s 3ms/step - loss: 0.0019 - accuracy: 0.9994\n",
            "Epoch 23/25\n",
            "572/572 [==============================] - 2s 3ms/step - loss: 0.0020 - accuracy: 0.9994\n",
            "Epoch 24/25\n",
            "572/572 [==============================] - 2s 3ms/step - loss: 0.0011 - accuracy: 0.9998\n",
            "Epoch 25/25\n",
            "572/572 [==============================] - 2s 3ms/step - loss: 7.1942e-04 - accuracy: 0.9998\n",
            "286/286 [==============================] - 1s 2ms/step\n",
            "Epoch 1/25\n",
            "572/572 [==============================] - 2s 3ms/step - loss: 0.3269 - accuracy: 0.9070\n",
            "Epoch 2/25\n",
            "572/572 [==============================] - 2s 3ms/step - loss: 0.1407 - accuracy: 0.9588\n",
            "Epoch 3/25\n",
            "572/572 [==============================] - 2s 3ms/step - loss: 0.0986 - accuracy: 0.9704\n",
            "Epoch 4/25\n",
            "572/572 [==============================] - 2s 3ms/step - loss: 0.0735 - accuracy: 0.9776\n",
            "Epoch 5/25\n",
            "572/572 [==============================] - 2s 3ms/step - loss: 0.0574 - accuracy: 0.9821\n",
            "Epoch 6/25\n",
            "572/572 [==============================] - 2s 3ms/step - loss: 0.0444 - accuracy: 0.9863\n",
            "Epoch 7/25\n",
            "572/572 [==============================] - 2s 4ms/step - loss: 0.0376 - accuracy: 0.9885\n",
            "Epoch 8/25\n",
            "572/572 [==============================] - 2s 3ms/step - loss: 0.0295 - accuracy: 0.9910\n",
            "Epoch 9/25\n",
            "572/572 [==============================] - 2s 3ms/step - loss: 0.0242 - accuracy: 0.9927\n",
            "Epoch 10/25\n",
            "572/572 [==============================] - 2s 3ms/step - loss: 0.0197 - accuracy: 0.9930\n",
            "Epoch 11/25\n",
            "572/572 [==============================] - 2s 3ms/step - loss: 0.0175 - accuracy: 0.9946\n",
            "Epoch 12/25\n",
            "572/572 [==============================] - 2s 3ms/step - loss: 0.0134 - accuracy: 0.9960\n",
            "Epoch 13/25\n",
            "572/572 [==============================] - 2s 3ms/step - loss: 0.0107 - accuracy: 0.9966\n",
            "Epoch 14/25\n",
            "572/572 [==============================] - 2s 4ms/step - loss: 0.0103 - accuracy: 0.9966\n",
            "Epoch 15/25\n",
            "572/572 [==============================] - 2s 3ms/step - loss: 0.0079 - accuracy: 0.9971\n",
            "Epoch 16/25\n",
            "572/572 [==============================] - 2s 3ms/step - loss: 0.0065 - accuracy: 0.9980\n",
            "Epoch 17/25\n",
            "572/572 [==============================] - 2s 3ms/step - loss: 0.0049 - accuracy: 0.9984\n",
            "Epoch 18/25\n",
            "572/572 [==============================] - 2s 3ms/step - loss: 0.0043 - accuracy: 0.9984\n",
            "Epoch 19/25\n",
            "572/572 [==============================] - 2s 3ms/step - loss: 0.0037 - accuracy: 0.9987\n",
            "Epoch 20/25\n",
            "572/572 [==============================] - 2s 3ms/step - loss: 0.0030 - accuracy: 0.9991\n",
            "Epoch 21/25\n",
            "572/572 [==============================] - 2s 4ms/step - loss: 0.0022 - accuracy: 0.9994\n",
            "Epoch 22/25\n",
            "572/572 [==============================] - 2s 3ms/step - loss: 0.0018 - accuracy: 0.9995\n",
            "Epoch 23/25\n",
            "572/572 [==============================] - 2s 3ms/step - loss: 0.0013 - accuracy: 0.9996\n",
            "Epoch 24/25\n",
            "572/572 [==============================] - 2s 3ms/step - loss: 0.0020 - accuracy: 0.9994\n",
            "Epoch 25/25\n",
            "572/572 [==============================] - 2s 3ms/step - loss: 5.2647e-04 - accuracy: 0.9998\n",
            "286/286 [==============================] - 0s 1ms/step\n",
            "Epoch 1/18\n",
            "500/500 [==============================] - 2s 3ms/step - loss: 0.3258 - accuracy: 0.9058\n",
            "Epoch 2/18\n",
            "500/500 [==============================] - 1s 3ms/step - loss: 0.1479 - accuracy: 0.9546\n",
            "Epoch 3/18\n",
            "500/500 [==============================] - 1s 3ms/step - loss: 0.1023 - accuracy: 0.9688\n",
            "Epoch 4/18\n",
            "500/500 [==============================] - 1s 3ms/step - loss: 0.0773 - accuracy: 0.9768\n",
            "Epoch 5/18\n",
            "500/500 [==============================] - 1s 3ms/step - loss: 0.0591 - accuracy: 0.9820\n",
            "Epoch 6/18\n",
            "500/500 [==============================] - 2s 4ms/step - loss: 0.0471 - accuracy: 0.9854\n",
            "Epoch 7/18\n",
            "500/500 [==============================] - 2s 3ms/step - loss: 0.0378 - accuracy: 0.9884\n",
            "Epoch 8/18\n",
            "500/500 [==============================] - 2s 3ms/step - loss: 0.0304 - accuracy: 0.9911\n",
            "Epoch 9/18\n",
            "500/500 [==============================] - 1s 3ms/step - loss: 0.0253 - accuracy: 0.9923\n",
            "Epoch 10/18\n",
            "500/500 [==============================] - 1s 3ms/step - loss: 0.0210 - accuracy: 0.9931\n",
            "Epoch 11/18\n",
            "500/500 [==============================] - 2s 4ms/step - loss: 0.0177 - accuracy: 0.9948\n",
            "Epoch 12/18\n",
            "500/500 [==============================] - 2s 4ms/step - loss: 0.0144 - accuracy: 0.9952\n",
            "Epoch 13/18\n",
            "500/500 [==============================] - 2s 4ms/step - loss: 0.0116 - accuracy: 0.9965\n",
            "Epoch 14/18\n",
            "500/500 [==============================] - 2s 3ms/step - loss: 0.0103 - accuracy: 0.9965\n",
            "Epoch 15/18\n",
            "500/500 [==============================] - 1s 3ms/step - loss: 0.0081 - accuracy: 0.9976\n",
            "Epoch 16/18\n",
            "500/500 [==============================] - 1s 3ms/step - loss: 0.0068 - accuracy: 0.9979\n",
            "Epoch 17/18\n",
            "500/500 [==============================] - 1s 3ms/step - loss: 0.0058 - accuracy: 0.9981\n",
            "Epoch 18/18\n",
            "500/500 [==============================] - 1s 3ms/step - loss: 0.0045 - accuracy: 0.9988\n",
            "250/250 [==============================] - 0s 2ms/step\n",
            "Epoch 1/18\n",
            "500/500 [==============================] - 2s 3ms/step - loss: 0.3325 - accuracy: 0.9048\n",
            "Epoch 2/18\n",
            "500/500 [==============================] - 2s 4ms/step - loss: 0.1468 - accuracy: 0.9565\n",
            "Epoch 3/18\n",
            "500/500 [==============================] - 1s 3ms/step - loss: 0.1012 - accuracy: 0.9686\n",
            "Epoch 4/18\n",
            "500/500 [==============================] - 1s 3ms/step - loss: 0.0739 - accuracy: 0.9774\n",
            "Epoch 5/18\n",
            "500/500 [==============================] - 1s 3ms/step - loss: 0.0592 - accuracy: 0.9814\n",
            "Epoch 6/18\n",
            "500/500 [==============================] - 1s 3ms/step - loss: 0.0462 - accuracy: 0.9863\n",
            "Epoch 7/18\n",
            "500/500 [==============================] - 1s 3ms/step - loss: 0.0379 - accuracy: 0.9881\n",
            "Epoch 8/18\n",
            "500/500 [==============================] - 1s 3ms/step - loss: 0.0296 - accuracy: 0.9901\n",
            "Epoch 9/18\n",
            "500/500 [==============================] - 2s 3ms/step - loss: 0.0252 - accuracy: 0.9919\n",
            "Epoch 10/18\n",
            "500/500 [==============================] - 2s 5ms/step - loss: 0.0202 - accuracy: 0.9937\n",
            "Epoch 11/18\n",
            "500/500 [==============================] - 2s 3ms/step - loss: 0.0162 - accuracy: 0.9953\n",
            "Epoch 12/18\n",
            "500/500 [==============================] - 1s 3ms/step - loss: 0.0136 - accuracy: 0.9956\n",
            "Epoch 13/18\n",
            "500/500 [==============================] - 1s 3ms/step - loss: 0.0113 - accuracy: 0.9963\n",
            "Epoch 14/18\n",
            "500/500 [==============================] - 1s 3ms/step - loss: 0.0094 - accuracy: 0.9971\n",
            "Epoch 15/18\n",
            "500/500 [==============================] - 1s 3ms/step - loss: 0.0068 - accuracy: 0.9982\n",
            "Epoch 16/18\n",
            "500/500 [==============================] - 1s 3ms/step - loss: 0.0057 - accuracy: 0.9983\n",
            "Epoch 17/18\n",
            "500/500 [==============================] - 1s 3ms/step - loss: 0.0049 - accuracy: 0.9985\n",
            "Epoch 18/18\n",
            "500/500 [==============================] - 2s 4ms/step - loss: 0.0043 - accuracy: 0.9986\n",
            "250/250 [==============================] - 0s 1ms/step\n",
            "Epoch 1/18\n",
            "500/500 [==============================] - 2s 3ms/step - loss: 0.3381 - accuracy: 0.9046\n",
            "Epoch 2/18\n",
            "500/500 [==============================] - 1s 3ms/step - loss: 0.1511 - accuracy: 0.9552\n",
            "Epoch 3/18\n",
            "500/500 [==============================] - 2s 3ms/step - loss: 0.1050 - accuracy: 0.9685\n",
            "Epoch 4/18\n",
            "500/500 [==============================] - 1s 3ms/step - loss: 0.0783 - accuracy: 0.9768\n",
            "Epoch 5/18\n",
            "500/500 [==============================] - 1s 3ms/step - loss: 0.0617 - accuracy: 0.9811\n",
            "Epoch 6/18\n",
            "500/500 [==============================] - 2s 4ms/step - loss: 0.0498 - accuracy: 0.9844\n",
            "Epoch 7/18\n",
            "500/500 [==============================] - 2s 3ms/step - loss: 0.0389 - accuracy: 0.9880\n",
            "Epoch 8/18\n",
            "500/500 [==============================] - 1s 3ms/step - loss: 0.0333 - accuracy: 0.9900\n",
            "Epoch 9/18\n",
            "500/500 [==============================] - 1s 3ms/step - loss: 0.0258 - accuracy: 0.9920\n",
            "Epoch 10/18\n",
            "500/500 [==============================] - 1s 3ms/step - loss: 0.0213 - accuracy: 0.9937\n",
            "Epoch 11/18\n",
            "500/500 [==============================] - 1s 3ms/step - loss: 0.0178 - accuracy: 0.9944\n",
            "Epoch 12/18\n",
            "500/500 [==============================] - 1s 3ms/step - loss: 0.0144 - accuracy: 0.9954\n",
            "Epoch 13/18\n",
            "500/500 [==============================] - 2s 3ms/step - loss: 0.0123 - accuracy: 0.9962\n",
            "Epoch 14/18\n",
            "500/500 [==============================] - 2s 4ms/step - loss: 0.0101 - accuracy: 0.9972\n",
            "Epoch 15/18\n",
            "500/500 [==============================] - 2s 3ms/step - loss: 0.0080 - accuracy: 0.9977\n",
            "Epoch 16/18\n",
            "500/500 [==============================] - 1s 3ms/step - loss: 0.0066 - accuracy: 0.9979\n",
            "Epoch 17/18\n",
            "500/500 [==============================] - 1s 3ms/step - loss: 0.0054 - accuracy: 0.9984\n",
            "Epoch 18/18\n",
            "500/500 [==============================] - 2s 3ms/step - loss: 0.0048 - accuracy: 0.9985\n",
            "250/250 [==============================] - 0s 2ms/step\n",
            "Epoch 1/18\n",
            "500/500 [==============================] - 2s 3ms/step - loss: 0.3406 - accuracy: 0.9032\n",
            "Epoch 2/18\n",
            "500/500 [==============================] - 2s 4ms/step - loss: 0.1498 - accuracy: 0.9553\n",
            "Epoch 3/18\n",
            "500/500 [==============================] - 2s 4ms/step - loss: 0.1027 - accuracy: 0.9682\n",
            "Epoch 4/18\n",
            "500/500 [==============================] - 1s 3ms/step - loss: 0.0780 - accuracy: 0.9753\n",
            "Epoch 5/18\n",
            "500/500 [==============================] - 1s 3ms/step - loss: 0.0597 - accuracy: 0.9812\n",
            "Epoch 6/18\n",
            "500/500 [==============================] - 1s 3ms/step - loss: 0.0479 - accuracy: 0.9847\n",
            "Epoch 7/18\n",
            "500/500 [==============================] - 1s 3ms/step - loss: 0.0382 - accuracy: 0.9878\n",
            "Epoch 8/18\n",
            "500/500 [==============================] - 2s 3ms/step - loss: 0.0319 - accuracy: 0.9898\n",
            "Epoch 9/18\n",
            "500/500 [==============================] - 1s 3ms/step - loss: 0.0258 - accuracy: 0.9920\n",
            "Epoch 10/18\n",
            "500/500 [==============================] - 2s 4ms/step - loss: 0.0200 - accuracy: 0.9939\n",
            "Epoch 11/18\n",
            "500/500 [==============================] - 2s 4ms/step - loss: 0.0163 - accuracy: 0.9947\n",
            "Epoch 12/18\n",
            "500/500 [==============================] - 2s 3ms/step - loss: 0.0142 - accuracy: 0.9956\n",
            "Epoch 13/18\n",
            "500/500 [==============================] - 2s 3ms/step - loss: 0.0110 - accuracy: 0.9966\n",
            "Epoch 14/18\n",
            "500/500 [==============================] - 1s 3ms/step - loss: 0.0096 - accuracy: 0.9970\n",
            "Epoch 15/18\n",
            "500/500 [==============================] - 1s 3ms/step - loss: 0.0069 - accuracy: 0.9980\n",
            "Epoch 16/18\n",
            "500/500 [==============================] - 1s 3ms/step - loss: 0.0067 - accuracy: 0.9976\n",
            "Epoch 17/18\n",
            "500/500 [==============================] - 2s 3ms/step - loss: 0.0062 - accuracy: 0.9979\n",
            "Epoch 18/18\n",
            "231/500 [============>.................] - ETA: 0s - loss: 0.0040 - accuracy: 0.9989"
          ]
        }
      ],
      "source": [
        "model = KerasClassifier(my_model)\n",
        "params= dict(batch_size=batch_size, epochs=epochs, optimizer=optimizer)\n",
        "grid = GridSearchCV(model, params, refit=False, cv=3, scoring='accuracy')\n",
        "grid_result = grid.fit(train_images, to_categorical(train_labels))\n",
        "print(grid_result.best_score_, grid_result.best_params_)"
      ]
    },
    {
      "cell_type": "code",
      "execution_count": null,
      "metadata": {
        "id": "vY7bhe-cJTJy"
      },
      "outputs": [],
      "source": [
        "print(grid_result.best_score_, grid_result.best_params_)"
      ]
    },
    {
      "cell_type": "code",
      "execution_count": null,
      "metadata": {
        "id": "NJ8qDuFLJdxZ"
      },
      "outputs": [],
      "source": [
        "df = pd.DataFrame(grid_result.cv_results_)"
      ]
    },
    {
      "cell_type": "code",
      "execution_count": null,
      "metadata": {
        "id": "w4Mn0o-_Jl4d"
      },
      "outputs": [],
      "source": [
        "df.sort_values(['mean_test_score'],ascending=False)[['param_batch_size','param_epochs','param_optimizer','mean_test_score']].head(10)"
      ]
    },
    {
      "cell_type": "markdown",
      "metadata": {
        "id": "slal29tMKhpf"
      },
      "source": [
        "# Вывод:\n",
        "1 Введение дополнительного скрытого слоя улучшает показатель метрики.   \n",
        "2 Умеренное увеличение количества эпох улучшает показатель метрики.   \n",
        "3 Умеренное увеличение batch_size ускоряет обучение.      \n",
        "4 Наличие валидационной выборки препятствует переобучению.\n",
        "\n",
        "\n",
        "\n"
      ]
    },
    {
      "cell_type": "code",
      "execution_count": null,
      "metadata": {
        "id": "xd59o3f31Dr2"
      },
      "outputs": [],
      "source": [
        "from google.colab import drive\n",
        "drive.mount('/content/drive')"
      ]
    }
  ],
  "metadata": {
    "accelerator": "GPU",
    "colab": {
      "provenance": [],
      "toc_visible": true
    },
    "kernelspec": {
      "display_name": "Python 3",
      "name": "python3"
    },
    "language_info": {
      "codemirror_mode": {
        "name": "ipython",
        "version": 3
      },
      "file_extension": ".py",
      "mimetype": "text/x-python",
      "name": "python",
      "nbconvert_exporter": "python",
      "pygments_lexer": "ipython3",
      "version": "3.7.7"
    }
  },
  "nbformat": 4,
  "nbformat_minor": 0
}